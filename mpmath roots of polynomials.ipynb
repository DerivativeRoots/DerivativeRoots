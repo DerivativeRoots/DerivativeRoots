{
 "cells": [
  {
   "cell_type": "markdown",
   "metadata": {},
   "source": [
    "# Fundamentals"
   ]
  },
  {
   "cell_type": "markdown",
   "metadata": {},
   "source": [
    "**Note:**\n",
    "> The author is not at all an expert in numerical analysis, and perhaps because of this he has not been able to find any similar algorithm in the literature.  Nevertheless, the described algorithm works, as shown by the various tests included here. If you do know a similar algorithm, please communicate this to the author."
   ]
  },
  {
   "cell_type": "markdown",
   "metadata": {},
   "source": [
    " ## Introduction"
   ]
  },
  {
   "cell_type": "markdown",
   "metadata": {},
   "source": [
    "Consider the problem of finding all real roots of a polynomial as\n",
    "$$p(x) = x^4 - 3 x^3 - 21 x^2 + 43 x + 60$$\n",
    "This is a fundamental problem in mathematics, and has been studied since the third millenium B.C. <cite data-cite=\"336701/MIW42KL9\"></cite>. \n",
    "\n",
    "As <cite data-cite=\"336701/XFQXXT7W\"></cite> says, \"The first, and in many cases the most expensive, step in most methods for computing the real roots of a polynomial is to isolate them. That is, to compute a set of disjoint\n",
    "intervals containing them (exactly one root on each interval and all roots contained in disjoint intervals)\".  After root isolation, any bracketing method<cite data-cite=\"336701/XGYD5TB9\"></cite> can be applied to aproximate the roots with arbitrary precision. Descartes (1637), Lagrange(1798), Budan (1800), Fourier (1820), Sturm (1829) gave important contributions to the area. Even with such heavy weight precursors, polynomial real root isolation is, until today, an active area of research, and very efficient methods have been proposed (see, for instance, <cite data-cite=\"336701/I4VDBIQD\"></cite>).\n",
    "\n",
    "Here we propose a new method which is much simpler than all algorithms we have seen. The central idea is to  define isolating intervals from the roots of the derivative of the polynomial. Roots of the derivative are found applying recursively the algorithm; recursion finishes when we arrive at a first degree polynomial. A pseudo code for the main function of the algorithm is as simple as this:\n",
    "\n",
    "```python\n",
    "# pseudo code\n",
    "def find_real_roots(p):\n",
    "    if degree(p) == 1:\n",
    "        return \"-b/a\" # for a first degree polynomial written as p(x) = ax + b\n",
    "    else:\n",
    "        return roots_from_derivative_roots(find_real_roots(p.diff()))\n",
    "        # p.diff() is the derivative of polynomial p\n",
    "```\n",
    "\n",
    "Remark the recursive call on this function. Root isolation is done by function roots_from_derivative_roots.\n",
    "\n"
   ]
  },
  {
   "cell_type": "markdown",
   "metadata": {},
   "source": [
    "## Root isolation\n",
    "Root isolation from roots of derivative is based on the following theorem, which is a direct application of the Mean Value Theorem<cite data-cite=\"336701/KP26TM8C\"></cite>:\n",
    "\n",
    "\n",
    "> If $r$ and $s$, $r < s$, are real roots of a polynomial $p$, there exists at least one point $v$, $r < v < s$ such that $p'(v) = 0$\n",
    "\n",
    "\n",
    "If $p'$ has at least one root, let $v_0 < v_1 < \\ldots < v_d$ where $d \\geq 0$ denote all $d+1$ distinct real roots of $p'$. The algorithm considers the following intervals, which are disjoint and cover the hole real line. For each of these intervals  with simple tests we can decide if the interval contains zero or one root of the polynomial. None of these intervals can contain more than one root.\n",
    "\n",
    "Case I. Interval $(-\\infty, v_0]$. Here, \n",
    "\n",
    "- if $p(v_0) = 0$: the interval contains one root, $v_0$\n",
    "\n",
    "- if $p(-\\infty)$ and $p(v_0)$ have equal signs,  we have no roots\n",
    "\n",
    "- if $p(-\\infty)$ and $p(v_0)$ have opposite signs,  we have exactly one root. In order to apply a bracketing algorithm, we need to find a point $x < v_0$ such that $p(x)$ and $p(v_0)$ have opposite signs\n",
    "\n",
    "Case II. Interval $(v_i, v_{i+1}]$ for $0 \\leq i < d$. In those intervals,\n",
    "- if $p(v_i) = 0$, we have no roots (since $v_i$ do not belong to this interval)\n",
    "- if $p(v_{i+1}) = 0$, $v_{i+1}$ is the only root\n",
    "- if $p(v_i)$ and $p(v_{i+1})$ have equal signs, we have no roots\n",
    "- if $p(v_i)$ and $p(v_{i+1})$ have opposite signs, we have exactly one root. A bracketing algorithm may be directly applied.\n",
    "\n",
    "Case III. Interval $(v_d, \\infty)$. Here,\n",
    "- if $p(v_d) = 0$, we have no roots (since $v_d$ do not belong to this interval)\n",
    "- if $p(v_d)$ and $p(\\infty)$ have equal signs, we have no roots\n",
    "- if $p(v_d)$ and $p(\\infty)$ have opposite signs, we have exactly one root. In order to apply a bracketing algorithm, we need to find a point $x > v_d$ such that $p(x)$ and $p(v_d)$ have opposite signs.\n",
    "\n",
    "If derivative $p'$ has no roots, we shall consider the following disjoint intervals. We take 0 as a reference, but any other point would do. \n",
    "\n",
    "Case IV. Interval $(-\\infty, 0]$. Here, \n",
    "- if $p(0) = 0$,  $0$ is the only root\n",
    "- if $p(-\\infty)$ and $p(0)$ have equal signs,  we have no roots\n",
    "- if $p(-\\infty)$ and $p(0)$ have opposite signs,  we have exactly one root. In order to apply a bracketing algorithm, we need to find a point $x < 0$ such that $p(x)$ and $p(0)$ have opposite signs\n",
    "    \n",
    "Case V. Interval  $(0, \\infty)$. Here,\n",
    "- if $p(0) = 0$, we have no roots (since $0$ do not belong to this interval)\n",
    "- if $p(0)$ and $p(\\infty)$ have equal signs, we have no roots\n",
    "- if $p(0)$ and $p(\\infty)$ have opposite signs, we have exactly one root. In order to apply a bracketing algorithm, we need to find a point $x > 0$ such that $p(x)$ and $p(0)$ have opposite signs.\n",
    "    \n",
    "The algorithm we propose deals with each of these cases. When it is known that an interval like $(-\\infty, v_0]$ contains a root $r < v_0$, the algorithm will look for a point $x$ such that $p(x)$ and $p(v_0)$ have opposite signs, walking towards $-\\infty$ with increasingly larger steps. Similar actions are taken in order to deal with all other infinite intervals.\n",
    "\n"
   ]
  },
  {
   "cell_type": "markdown",
   "metadata": {},
   "source": [
    "### Examples\n",
    "In all examples bellow, $v_0$ is the smallest root of derivative, $v_1$ the second smallest root of derivative, and so on. "
   ]
  },
  {
   "cell_type": "code",
   "execution_count": 1,
   "metadata": {},
   "outputs": [
    {
     "name": "stdout",
     "output_type": "stream",
     "text": [
      "IPython console for SymPy 1.3 (Python 3.7.1-64-bit) (ground types: python)\n",
      "\n",
      "These commands were executed:\n",
      ">>> from __future__ import division\n",
      ">>> from sympy import *\n",
      ">>> x, y, z, t = symbols('x y z t')\n",
      ">>> k, m, n = symbols('k m n', integer=True)\n",
      ">>> f, g, h = symbols('f g h', cls=Function)\n",
      ">>> init_printing()\n",
      "\n",
      "Documentation can be found at http://docs.sympy.org/1.3/\n",
      "\n"
     ]
    }
   ],
   "source": [
    "import mpmath\n",
    "from mpmath import mp, mpf, nstr, findroot\n",
    "import matplotlib.pyplot as plt\n",
    "%matplotlib inline\n",
    "import numpy as np\n",
    "from sympy import init_session\n",
    "    # We use sympy just to facilitate the construction of examples and to pretty print polynomials\n",
    "init_session()"
   ]
  },
  {
   "cell_type": "code",
   "execution_count": 108,
   "metadata": {},
   "outputs": [],
   "source": [
    "def plot_p(p, xlim):\n",
    "    \"\"\"\n",
    "    Plots a polynomial\n",
    "    \"\"\"\n",
    "    v = np.linspace(xlim[0], xlim[1], 200)\n",
    "    #print(f'v = {v}')\n",
    "    func_p = lambdify(x, p, 'numpy')\n",
    "    \n",
    "    ax = plt.gca()\n",
    "    y_p = func_p(v)\n",
    "    plt.gcf().text(0.02, -0.1, '$' + latex(p) + '$', fontsize=11)\n",
    "    \n",
    "\n",
    "    ax.plot(v, y_p, 'b')\n",
    "\n",
    "    ax.spines['left'].set_position('zero')\n",
    "    ax.spines['right'].set_color('none')\n",
    "    ax.spines['bottom'].set_position('zero')\n",
    "    ax.spines['top'].set_color('none')\n",
    "    \n",
    "    plt.show()"
   ]
  },
  {
   "cell_type": "code",
   "execution_count": 150,
   "metadata": {},
   "outputs": [],
   "source": [
    "def plot_p_pdiff(p, xlim, textstr=\"\"):\n",
    "    \"\"\"\n",
    "    Plots a polynomial and its derivative\n",
    "    \"\"\"\n",
    "    v = np.linspace(xlim[0], xlim[1], 200)\n",
    "    #print(f'v = {v}')\n",
    "    func_p = lambdify(x, p, 'numpy')\n",
    "    pdiff = p.diff()\n",
    "    func_pdiff = lambdify(x, pdiff, 'numpy')\n",
    "    \n",
    "    ax = plt.gca()\n",
    "    y_p = func_p(v)\n",
    "    plt.gcf().text(0.02, -0.25, textstr, fontsize=11)\n",
    "    \n",
    "    y_pdiff = func_pdiff(v)\n",
    "    ax.plot(v, y_p, 'b', label='$' + latex(p) + '$')\n",
    "    ax.plot(v, y_pdiff, 'r', label='$' + latex(pdiff) + '$')\n",
    "    ax.legend()\n",
    "    \n",
    "    ax.spines['left'].set_position('zero')\n",
    "    ax.spines['right'].set_color('none')\n",
    "    ax.spines['bottom'].set_position('zero')\n",
    "    ax.spines['top'].set_color('none')\n",
    "    \n",
    "    plt.show()"
   ]
  },
  {
   "cell_type": "code",
   "execution_count": 151,
   "metadata": {},
   "outputs": [
    {
     "data": {
      "image/png": "[encoded data removed]",
      "text/plain": [
       "<Figure size 432x288 with 1 Axes>"
      ]
     },
     "metadata": {
      "needs_background": "light"
     },
     "output_type": "display_data"
    }
   ],
   "source": [
    "textstr = '''\n",
    "$(-\\infty, v_0]$: since $p(v_0) < 0$ and $p(-\\infty) > 0$, this interval contains one root\n",
    "$(v_0, v_1]$: since $p(v_0) < 0$ and $p(v_1) > 0$, this interval contains one root\n",
    "$(v_1, v_2]$: since $p(v_1) > 0$ and $p(v_2)  > 0$, this interval contains no roots\n",
    "$(v_2, \\infty)$: since $p(v_2) > 0$  and $p(\\infty) > 0$, this interval contains no roots\n",
    "'''\n",
    "\n",
    "p = ((x + 4)*(x + 1)*(x - 3)*(x - 5) + 50).expand()\n",
    "p_diff = p.diff()\n",
    "\n",
    "plot_p_pdiff(p, (-4, 5), textstr)"
   ]
  },
  {
   "cell_type": "code",
   "execution_count": 4,
   "metadata": {},
   "outputs": [
    {
     "data": {
      "image/png": "[encoded data removed]",
      "text/plain": [
       "<Figure size 432x288 with 1 Axes>"
      ]
     },
     "metadata": {
      "needs_background": "light"
     },
     "output_type": "display_data"
    }
   ],
   "source": [
    "p = ((x + 1)**2 * (x - 3)).expand()\n",
    "p_diff = p.diff()\n",
    "\n",
    "textstr = '''\n",
    "$(-\\infty, v_0]$: since $p(v_0) = 0$, this interval contains one root, $v_0$\n",
    "$(v_0, v_1]$:  since $p(v_0) = 0$, this interval contains no roots\n",
    "$(v_1, \\infty)$: since $p(v_1) < 0$ and $p(\\infty) > 0$, this interval contains one root\n",
    "'''\n",
    "\n",
    "plot_p_pdiff(p, (-3,4), textstr)"
   ]
  },
  {
   "cell_type": "code",
   "execution_count": 5,
   "metadata": {},
   "outputs": [
    {
     "data": {
      "image/png": "[encoded data removed]",
      "text/plain": [
       "<Figure size 432x288 with 1 Axes>"
      ]
     },
     "metadata": {
      "needs_background": "light"
     },
     "output_type": "display_data"
    }
   ],
   "source": [
    "textstr = '''\n",
    "$(-\\infty, v_0]$: since $p(v_0) = 0$, this interval contains one root, $v_0$\n",
    "$(v_0, v_1]$: since $p(v_0) = 0$, this interval contains no roots\n",
    "$(v_1, v_2]$: since $p(v_2) = 0$, this interval contains one root, $v_2$\n",
    "$(v_2, v_3]$: since $p(v_2) = 0$, this interval contains no roots\n",
    "$(v_3, v_4]$: since $p(v_4) = 0$, this interrval contains one root, $v_4$\n",
    "$(v_4, \\infty)$: since $p(v_4) = 0$, this interval contains no roots\n",
    "'''\n",
    "\n",
    "p = ((x+1)**3 * (x - 1)**2 * (x - 3)**2).expand()\n",
    "p_diff = p.diff()\n",
    "\n",
    "plot_p_pdiff(p, (-1.5, 3.15), textstr)"
   ]
  },
  {
   "cell_type": "code",
   "execution_count": 6,
   "metadata": {},
   "outputs": [
    {
     "data": {
      "image/png": "[encoded data removed]",
      "text/plain": [
       "<Figure size 432x288 with 1 Axes>"
      ]
     },
     "metadata": {
      "needs_background": "light"
     },
     "output_type": "display_data"
    }
   ],
   "source": [
    "textstr = '''\n",
    "$(-\\infty, v_0]$: since $p(-\\infty) > 0$ and $p(v_0) > 0$, this interval contains no roots\n",
    "$(v_0, \\infty)$: since $p(v_0) > 0$ and $p(\\infty) > 0$, this interval contains no roots\n",
    "'''\n",
    "p = (x**2 + 5).expand()\n",
    "pdiff = p.diff()\n",
    "\n",
    "plot_p_pdiff(p, [-1.5, 3.2], textstr)"
   ]
  },
  {
   "cell_type": "code",
   "execution_count": 8,
   "metadata": {},
   "outputs": [
    {
     "data": {
      "image/png": "[encoded data removed]",
      "text/plain": [
       "<Figure size 432x288 with 1 Axes>"
      ]
     },
     "metadata": {
      "needs_background": "light"
     },
     "output_type": "display_data"
    }
   ],
   "source": [
    "textstr = '''\n",
    "Derivative has no roots;\n",
    "$(-\\infty, 0]$: since $p(-\\infty) < 0$ and $p(0) > 0$, this interval contains one root\n",
    "$(0, \\infty)$: since $p(0) > 0$ and $p(\\infty) > 0$, this interval contains no roots\n",
    "'''\n",
    "\n",
    "p_diff = ((x + 4)*(x + 1)*(x - 3)*(x - 5) + 200).expand().subs(x, x-3)\n",
    "p = integrate(p_diff, x) + 300\n",
    "\n",
    "plot_p_pdiff(p, (-3, 10), textstr)"
   ]
  },
  {
   "cell_type": "markdown",
   "metadata": {},
   "source": [
    "# Code\n",
    "Notes:\n",
    "- We use mpmath to get arbitrary precision numbers.\n",
    "- Global variables are used to control verbosity\n",
    "- Sympy polynomials and some associated functions are used for the sake of clarity."
   ]
  },
  {
   "cell_type": "code",
   "execution_count": 148,
   "metadata": {},
   "outputs": [],
   "source": [
    "def mp_roots(p, tolerance, solver):\n",
    "    \"\"\"\n",
    "    Returns a list of all real roots of (sympy) polynomial p.\n",
    "    \n",
    "    Parameters\n",
    "    ----------\n",
    "    p : sympy polynomial\n",
    "    tolerance : mpmath mpf number\n",
    "        A number x is considered a root of p if abs(p(x)) < tolerance\n",
    "    solver : function\n",
    "        A root-finding function such as bisection, newton, brent or hibrid\n",
    "    ----------\n",
    "    \n",
    "    \"\"\"\n",
    "    \n",
    "    global verbose_main_loop\n",
    "    \n",
    "    todo = [] # to do stack\n",
    "    \n",
    "    while degree(p) > 1: # push derivatives\n",
    "        todo.append(p)\n",
    "        p = diff(p)\n",
    "        \n",
    "    # p is a first degree polynomial\n",
    "    cfs = Poly(p).all_coeffs()\n",
    "    roots = [-mpf(cfs[1]) / mpf(cfs[0])]\n",
    "    \n",
    "    if verbose_main_loop:\n",
    "        print(f'\\nSolving {p}')\n",
    "    \n",
    "    pdiff = p\n",
    "    func_pdiff = lambdify(x, pdiff, 'mpmath')\n",
    "    \n",
    "    while len(todo) > 0: # pop derivatives\n",
    "        derivative_roots = roots\n",
    "        p = todo.pop()\n",
    "        if verbose_main_loop:\n",
    "            print(f'\\nSolving {p}')\n",
    "        p_as_function = lambdify(x, p, 'mpmath')\n",
    "        roots = real_roots_from_derivative_roots(p, p_as_function, func_pdiff, \n",
    "                                                 derivative_roots, tolerance, solver)\n",
    "        func_pdiff = p_as_function\n",
    "    \n",
    "    return roots"
   ]
  },
  {
   "cell_type": "code",
   "execution_count": 10,
   "metadata": {},
   "outputs": [],
   "source": [
    "def real_roots_from_derivative_roots(p, p_as_function, func_pdiff, derivative_roots, tolerance, solver):\n",
    "    \"\"\"\n",
    "    This function finds the real roots of polynomial p, using the roots of the derivative of p\n",
    "    \n",
    "    Parameters\n",
    "    ----------\n",
    "    p : sympy polynomial\n",
    "    p_as_function : function\n",
    "        Calculates p(x)\n",
    "    func_pdiff : function\n",
    "        Calculates p'(x), where p' is the derivative of p. Used by solvers like newton or hibrid\n",
    "    derivative_roots : list\n",
    "        List of all roots of p'. Must be in ascending order\n",
    "    tolerance : mpmath mpf number\n",
    "        A number x is considered a root of p if abs(p(x)) < tolerance\n",
    "    solver : function\n",
    "        A bracketing root-finding function such as bisection    \n",
    "    ----------\n",
    "    \"\"\"\n",
    "    \n",
    "    \n",
    "    n_derivative_roots = len(derivative_roots)\n",
    "    \n",
    "    roots = []\n",
    "    \n",
    "    #print(f'rrfdr: derivative_roots = {derivative_roots}, {type(derivative_roots)}----\\n')\n",
    "    if n_derivative_roots == 0:\n",
    "        # I took 0, but any point should work\n",
    "        left_extremity = mpf(0)\n",
    "        right_extremity = mpf(0)\n",
    "    else:\n",
    "        left_extremity = derivative_roots[0]\n",
    "        right_extremity = derivative_roots[-1]\n",
    "    #print(f'left_extremity = {left_extremity}, {type(left_extremity)}')\n",
    "    #print(f'right_extremity = {right_extremity}, {type(right_extremity)}')\n",
    "    \n",
    "    right_limit_sign = sign(LC(p)) # LC: Leading Coefficient\n",
    "    \n",
    "    if degree(p) % 2 == 0:\n",
    "        left_limit_sign = sign(LC(p))\n",
    "    else:\n",
    "        left_limit_sign = -sign(LC(p)) \n",
    "    \n",
    "    roots = roots + external_root(p, p_as_function, func_pdiff, left_extremity, left_limit_sign, mpf(-1), tolerance, solver)\n",
    "    #print(f'After left external root, roots = {roots}')\n",
    "    \n",
    "    for i in range(n_derivative_roots - 1): \n",
    "\n",
    "        roots = roots + internal_root(p, p_as_function, func_pdiff, derivative_roots[i], derivative_roots[i+1], tolerance, solver)\n",
    "        #print(f'After internal root, roots = {roots}')\n",
    "        \n",
    "    roots = roots + external_root(p, p_as_function, func_pdiff, right_extremity, right_limit_sign, mpf(1), tolerance, solver)\n",
    "    #print(f'After right external root, roots = {roots}')\n",
    "    \n",
    "    return roots"
   ]
  },
  {
   "cell_type": "code",
   "execution_count": 11,
   "metadata": {},
   "outputs": [],
   "source": [
    "def external_root(p, p_as_function, func_pdiff, extremity, limit_sign, initial_step, tolerance, solver):\n",
    "    \"\"\"\n",
    "    Look for a root in intervals where one of its limits is -infinity or infinity\n",
    "    \n",
    "    Parameters\n",
    "    ----------\n",
    "    p : sympy polynomial\n",
    "    p_as_function : function\n",
    "        Calculates p(x)\n",
    "    func_pdiff : function\n",
    "        Calculates p'(x), where p' is the derivative of p. Used by solvers like newton or hibrid\n",
    "    extremity : number\n",
    "        Interval is either (-infinity, extremity] or (extremity, infinity), depending on initial_step\n",
    "    limit_sign : number sign\n",
    "        Sign of polynomial at -infinity or at infinity, depending on initial_step\n",
    "    initial_step :\n",
    "        number\n",
    "        initial_step must be a nonzero value; normally, initial_step == mpf(1). \n",
    "        If initial_step < 0, the function will start by looking for a bracketing\n",
    "        interval testing values from extremity towards -infinity.\n",
    "        If initial_step > 0, the function will start by looking for a bracketing\n",
    "        interval testing values from extremity towards infinity.\n",
    "    tolerance : mpmath mpf number\n",
    "        A number x is considered a root of p if abs(p(x)) < tolerance\n",
    "    solver : function\n",
    "        A bracketing root-finding function such as bisection \n",
    "    ----------\n",
    "    \"\"\"\n",
    "    global verbose_solver\n",
    "    \n",
    "    #print(f'external_root: extremity = {extremity}')\n",
    "    value_at_extremity = p_as_function(extremity)\n",
    "    \n",
    "    if abs(value_at_extremity) <= tolerance:\n",
    "        if initial_step < 0:\n",
    "            root_found = [extremity]\n",
    "        else:\n",
    "            root_found = []\n",
    "    else:\n",
    "    \n",
    "        sign_at_extremity = sign(value_at_extremity)\n",
    "\n",
    "        if limit_sign == sign_at_extremity:\n",
    "            root_found = []\n",
    "        else:\n",
    "\n",
    "            if initial_step > 0:\n",
    "                a = extremity\n",
    "                b = point_with_sign_inversion(p_as_function, extremity, sign_at_extremity, initial_step)\n",
    "            else:\n",
    "                a = point_with_sign_inversion(p_as_function, extremity, sign_at_extremity, initial_step)\n",
    "                b = extremity\n",
    "            #print(f'left_external_root: calling findroot for {p}')\n",
    "            #print(f'a = {a}, left_extremity = {left_extremity}')\n",
    "            #root_found = [findroot(p_as_function, [a, b], solver='anderson', tol=tolerance,\n",
    "            #                      maxsteps=MAXSTEPS)]\n",
    "        #    root_found = [bisection(p, p_as_function, a, b, tolerance)]\n",
    "            if verbose_solver:\n",
    "                print(f'external_root: calling solver for p = {p}')\n",
    "            root_found = [solver(a, b, tolerance, p_as_function, func_pdiff)]\n",
    "        \n",
    "    #print(f'{p}: {root_found} added by external_root')\n",
    "    return root_found"
   ]
  },
  {
   "cell_type": "code",
   "execution_count": 12,
   "metadata": {},
   "outputs": [],
   "source": [
    "def point_with_sign_inversion(p_as_function, extremity, sign_at_extremity, initial_step):\n",
    "    \"\"\"\n",
    "    Finds a bracketing interval starting from an interval with one of its limits equal to infinity or -infinity\n",
    "    \n",
    "    Parameters\n",
    "    ----------\n",
    "    p_as_function : function\n",
    "        Calculates p(x)\n",
    "    extremity : number\n",
    "        Interval is either (-infinity, extremity] or (extremity, infinity), \n",
    "        and extremity is either the smallest or the greatest root of derivative, depending on initial_step.  \n",
    "    sign_at_extremity : number sign\n",
    "        Sign of p(extremity)\n",
    "    initial_step :\n",
    "        number\n",
    "        initial_step must be a nonzero value; normally, initial_step == mpf(1). \n",
    "        If initial_step < 0, the function will start by looking for a bracketing\n",
    "        interval testing values from extremity towards -infinity.\n",
    "        If initial_step > 0, the function will start by looking for a bracketing\n",
    "        interval testing values from extremity towards infinity.    \n",
    "    ----------\n",
    "    \"\"\"\n",
    "\n",
    "    #print(f'Looking for {p} sign inversion from x = {extremity} with initial step = {initial_step}')\n",
    "    step = initial_step\n",
    "    x = extremity + step\n",
    "    p_x = p_as_function(x)\n",
    "    sign_at_x = sign(p_x)\n",
    "    \n",
    "    while sign_at_x == sign_at_extremity:\n",
    "        step = 2*step # Double step length\n",
    "        x = x + step\n",
    "        p_x = p_as_function(x)\n",
    "        #print(f'x = {x}, p_x = {p_x}, step = {step}')\n",
    "        sign_at_x = sign(p_x)\n",
    "        \n",
    "    return x"
   ]
  },
  {
   "cell_type": "code",
   "execution_count": 45,
   "metadata": {},
   "outputs": [],
   "source": [
    "def internal_root(p, p_as_function, func_pdiff, a, b, tolerance, solver):\n",
    "    \"\"\"\n",
    "    Looks for a root in intervals where both limits are finite numbers\n",
    "    \n",
    "    Parameters\n",
    "    ----------\n",
    "    p : sympy polynomial\n",
    "    p_as_function : function\n",
    "        Calculates p(x)\n",
    "    func_pdiff : function\n",
    "        Calculates p'(x), where p' is the derivative of p. Used by solvers like newton or hibrid \n",
    "    a : number\n",
    "        Left limit of interval\n",
    "    b : number\n",
    "        Right limit of interval\n",
    "    tolerance : mpmath mpf number\n",
    "        A number x is considered a root of p if abs(p(x)) < tolerance\n",
    "    solver : function\n",
    "        A bracketing root-finding function such as bisection         \n",
    "    ----------\n",
    "    \"\"\"\n",
    "    global verbose_solver\n",
    "    #print(f'Approximating root of {p}, {a} <= root <= {b}')\n",
    "    p_a = p_as_function(a)\n",
    "    #print(f'internal_root: p_a = {p_a}')\n",
    "    if abs(p_a) <= tolerance:\n",
    "        root_found = []\n",
    "    else:\n",
    "        p_b = p_as_function(b)\n",
    "        if abs(p_b) < tolerance:\n",
    "            root_found = [b]\n",
    "        else:\n",
    "            sign_at_a = sign(p_a)\n",
    "            sign_at_b = sign(p_b)\n",
    "            if sign_at_a == sign_at_b:\n",
    "                root_found = []\n",
    "            else:\n",
    "                if verbose_solver:\n",
    "                    print(f'internal_root: calling solver for p = {p}')\n",
    "                root_found = [solver(a, b, tolerance, p_as_function, func_pdiff)]\n",
    "    #print(f'{p}: {root_found} added by internal_root')\n",
    "    return root_found"
   ]
  },
  {
   "cell_type": "code",
   "execution_count": 256,
   "metadata": {},
   "outputs": [],
   "source": [
    "def bisection(a, b, tolerance, p_as_function, func_pdiff):\n",
    "\n",
    "    global verbose_solver\n",
    "    if verbose_solver:\n",
    "        print('bisection: starting')\n",
    "\n",
    "    p_a = p_as_function(a)\n",
    "    p_b = p_as_function(b)\n",
    "    m = (a + b) / 2\n",
    "    p_m = p_as_function(m)\n",
    "    progress = True\n",
    "    \n",
    "    iter = 0\n",
    "    while abs(p_m) > tolerance and progress:\n",
    "        iter += 1\n",
    "        old_a, old_b = a, b\n",
    "        if p_a * p_m <= 0:\n",
    "            b = m\n",
    "            p_b = p_m\n",
    "        else:\n",
    "            if p_b * p_m <= 0:\n",
    "                a = m\n",
    "                p_a = p_m\n",
    "        m = (a + b) / 2\n",
    "        p_m = p_as_function(m)\n",
    "        if old_a == a and old_b == b:\n",
    "            progress = False\n",
    "            raise ValueError(f'bissection: no progress after {iter} iterations, with \\na = {a} \\nb = {b}')\n",
    "    if verbose_solver:\n",
    "        print(f'bisection: finishing after {iter} iterations')\n",
    "    return m"
   ]
  },
  {
   "cell_type": "code",
   "execution_count": 259,
   "metadata": {},
   "outputs": [
    {
     "name": "stdout",
     "output_type": "stream",
     "text": [
      "p = x**3 - 5.4142135623730950488016887242096980785696718753769*x**2 + 8.6568542494923801952067548968387923142786875015078*x - 4.2426406871192851464050661726290942357090156261308\n",
      "bisection: starting\n",
      "bisection: finishing after 97 iterations\n",
      "1.4142135623730950488016887242105194110828816440373 2.0000000000000000000000000000023230791587984681689\n"
     ]
    }
   ],
   "source": [
    "# Testing bisection\n",
    "global verbose_solver\n",
    "verbose_solver = True\n",
    "mp.dps = 50\n",
    "\n",
    "p = ((x-1)*(x-mpmath.sqrt(2))*(x-3)).expand()\n",
    "print(f'p = {p}')\n",
    "pdiff = p.diff()\n",
    "\n",
    "p_as_function = lambdify(x, p, 'mpmath')\n",
    "func_pdiff = lambdify(x, pdiff, 'mpmath')\n",
    "r = bisection(mpf(1.1), mpf(2.0), mpf('1.0e-30'), p_as_function, func_pdiff)\n",
    "print(r, r*r)"
   ]
  },
  {
   "cell_type": "code",
   "execution_count": null,
   "metadata": {},
   "outputs": [],
   "source": [
    "def mpmath_solver ( a, b, tol, f, func_pdiff):\n",
    "    global verbose_solver\n",
    "    if verbose_solver:\n",
    "        print(f'mpmath_solver: calling mpmath.findroot')\n",
    "    return findroot(f, (a + b)/mpf(2), solver='anewton', tol = tol, maxsteps = 10000)"
   ]
  },
  {
   "cell_type": "code",
   "execution_count": 303,
   "metadata": {},
   "outputs": [],
   "source": [
    "def hibrid( a, b, tolerance, f, fdiff):\n",
    "    \"\"\"\n",
    "    Solver that mixes Newton-Raphson and Bisection methods.\n",
    "    Adapted from https://doi.org/10.12988/ams.2017.710302   \n",
    "    \"\"\"\n",
    "    \n",
    "    global verbose_solver\n",
    "    if verbose_solver:\n",
    "        print('hibrid: starting')\n",
    "        \n",
    "    iter = 0\n",
    "    f_a = f(a)\n",
    "    f_b = f(b)\n",
    "    if f_a * f_b > 0:\n",
    "        raise ValueError(f'f(a) and f(b) must have opposite signs')\n",
    "    n_bisec = 0\n",
    "    n_newton = 0\n",
    "    m = (a + b)/2\n",
    "    f_m = f(m)\n",
    "    \n",
    "    while abs(f_m) > tolerance:\n",
    "        old_a, old_b = a, b\n",
    "        # print(f'a = {a}\\nb = {b}\\nm={m}')\n",
    "        iter += 1\n",
    "        f_m = f(m)\n",
    "        fdiff_m = fdiff(m)\n",
    "        next_x_newton = m - f_m / fdiff_m\n",
    "        \n",
    "        if (a < next_x_newton < b): # and (iter % 10 != 0):\n",
    "            # Take newton guess\n",
    "            m = next_x_newton\n",
    "            n_newton += 1\n",
    "        else:\n",
    "            # Take bisection guess\n",
    "            m = (a + b)/2\n",
    "            n_bisec += 1           \n",
    "        f_m = f(m)\n",
    "        if f_a * f_m <= 0:\n",
    "            b = m\n",
    "            f_b = f_m\n",
    "        if f_b * f_m <= 0:\n",
    "            a = m\n",
    "            f_a = f_m\n",
    "        if a == old_a and b == old_b:\n",
    "            raise ValueError(f'hibrid: no progress after {iter} iterations, '\n",
    "                             f'with \\na = {a}\\nb = {b}\\nm={m} \\nb - a = {b - a}'\n",
    "                             f'\\nold_a = {old_a}\\nold_b = {old_b}')\n",
    "            break\n",
    "    if verbose_solver:\n",
    "        print(f'hibrid: finishing after {iter} iterations,'\n",
    "              f' n_newton = {n_newton}, n_bisec = {n_bisec}')\n",
    "        print(f'root found: {m}')\n",
    "        print(f'abs(f_m) = {abs(f_m)}')\n",
    "    return m\n",
    "        \n",
    "    "
   ]
  },
  {
   "cell_type": "code",
   "execution_count": 255,
   "metadata": {},
   "outputs": [
    {
     "name": "stdout",
     "output_type": "stream",
     "text": [
      "hibrid: starting\n",
      "hibrid: finishing after 754 iterations, n_newton = 754, n_bisec = 0\n"
     ]
    },
    {
     "data": {
      "text/plain": [
       "mpf('1.9999999999999999999999999999999999999999999999999999999999999999999999999999999999999999999999999999999999999999999999999999999999999670846202267260327688953076598305821051946334314907387112831806606846709292209445683779038220939872779048522608194639990470129216316055014958996759133774986055555109050150975758956979711853546257918946317720004739693256076676179858297713253555535711937811650228859289403387241692575302855561777746546510799775608283177814496999903122548595380218728641219330661638082169727932310663536450808421716762866895938262561102136493911354048721255072149213831913788466424450348699231651378265413411452484337770065610844066576176191482748192424677193358720318595073509150897618460160115293561508584313711459921568777660872974119649769214509772821403901432805416826517401802316524')"
      ]
     },
     "execution_count": 255,
     "metadata": {},
     "output_type": "execute_result"
    }
   ],
   "source": [
    "# Testing hibrid\n",
    "global verbose_solver\n",
    "verbose_solver = True\n",
    "mp.dps = 800\n",
    "p = ((x-1) * (x-2)**3 * (x-3)).expand()\n",
    "func_p = lambdify(x, p, 'mpmath')\n",
    "pdiff = p.diff()\n",
    "func_pdiff = lambdify(x, pdiff, 'mpmath')\n",
    "\n",
    "hibrid(mpf(1.1), mpf(2.5), mpf('1.0e-400'), func_p, func_pdiff)"
   ]
  },
  {
   "cell_type": "code",
   "execution_count": 40,
   "metadata": {},
   "outputs": [],
   "source": [
    "def newton(a, b, tolerance, f, fdiff, maxiter=2000):\n",
    "    #convergence not guaranteed\n",
    "    global verbose_solver\n",
    "    if verbose_solver:\n",
    "        print('newton: starting...')\n",
    "    iter = 0\n",
    "    x_newton = (a + b)/2\n",
    "    while abs(f(x_newton)) > tolerance:\n",
    "        iter += 1\n",
    "        if iter >= maxiter:\n",
    "            raise ValueError(f'newton: no convergence after {iter} iterations')\n",
    "            break\n",
    "        x_newton = x_newton - f(x_newton)/fdiff(x_newton)\n",
    "    if verbose_solver:\n",
    "        print(f'newton: ending after {iter} iterations')\n",
    "    return x_newton"
   ]
  },
  {
   "cell_type": "code",
   "execution_count": 222,
   "metadata": {},
   "outputs": [
    {
     "name": "stdout",
     "output_type": "stream",
     "text": [
      "newton: starting...\n",
      "newton: ending after 29 iterations\n"
     ]
    },
    {
     "data": {
      "text/plain": [
       "mpf('1.990624636514708775895562498996600726322196')"
      ]
     },
     "execution_count": 222,
     "metadata": {},
     "output_type": "execute_result"
    }
   ],
   "source": [
    "# Testing newton\n",
    "global verbose_solver\n",
    "mp.dps = 40\n",
    "p = ((x-1) * (x-2)**10 * (x-3)).expand()\n",
    "func_p = lambdify(x, p, 'mpmath')\n",
    "pdiff = p.diff()\n",
    "func_pdiff = lambdify(x, pdiff, 'mpmath')\n",
    "verbose_solver = True\n",
    "newton(mpf(1.1), mpf(2.5), mpf(1.0e-20), func_p, func_pdiff)"
   ]
  },
  {
   "cell_type": "markdown",
   "metadata": {},
   "source": [
    "# Tests\n",
    "For the construction of tests, sympy is a fundamental tool."
   ]
  },
  {
   "cell_type": "markdown",
   "metadata": {},
   "source": [
    "## Check roots"
   ]
  },
  {
   "cell_type": "code",
   "execution_count": 177,
   "metadata": {},
   "outputs": [],
   "source": [
    "def sign_at_minus_inf(p):\n",
    "    #print(f'sign_at_minus_inf: p = {p}')\n",
    "    if degree(p) % 2 == 0:\n",
    "        s = sign(LC(p, x))\n",
    "    else:\n",
    "        s = sign(-LC(p, x))\n",
    "    #print(f's = {s}')\n",
    "    return s\n",
    "    \n",
    "def sign_at_plus_inf(p):\n",
    "    #print(f'sign_at_plus_inf: p = {p}')\n",
    "    s = sign(LC(p, x))\n",
    "    #print(f's = {s}')\n",
    "    return s"
   ]
  },
  {
   "cell_type": "code",
   "execution_count": 173,
   "metadata": {},
   "outputs": [],
   "source": [
    "def Sturm(p):\n",
    "    \"\"\"\n",
    "    Returns total number of distinct real roots of p, based on Sturm's theorem\n",
    "    https://en.wikipedia.org/wiki/Sturm%27s_theorem\n",
    "    \"\"\"\n",
    "    minus_inf_sign_inversions = 0\n",
    "    plus_inf_sign_inversions = 0\n",
    "    \n",
    "    last_p = p.diff()\n",
    "\n",
    "    if sign_at_minus_inf(p) != sign_at_minus_inf(last_p):\n",
    "        minus_inf_sign_inversions += 1\n",
    "    if sign_at_plus_inf(p) != sign_at_plus_inf(last_p):\n",
    "        plus_inf_sign_inversions += 1\n",
    "        \n",
    "    last_sign_at_minus_inf = sign_at_minus_inf(last_p)\n",
    "    last_sign_at_plus_inf = sign_at_plus_inf(last_p)\n",
    "\n",
    "    while degree(last_p) > 0:\n",
    "        next_p = -rem(p, last_p)\n",
    "        #print(f'p = {p}, last_p = {last_p}, next_p = {next_p}')\n",
    "        if sign_at_minus_inf(next_p) != last_sign_at_minus_inf:\n",
    "            minus_inf_sign_inversions += 1\n",
    "        if sign_at_plus_inf(next_p) != last_sign_at_plus_inf:\n",
    "            plus_inf_sign_inversions += 1\n",
    "        p = last_p\n",
    "        last_p = next_p\n",
    "        last_sign_at_minus_inf = sign_at_minus_inf(last_p)\n",
    "        last_sign_at_plus_inf = sign_at_plus_inf(last_p)        \n",
    "        \n",
    "    return minus_inf_sign_inversions - plus_inf_sign_inversions"
   ]
  },
  {
   "cell_type": "code",
   "execution_count": 299,
   "metadata": {},
   "outputs": [],
   "source": [
    "def check_roots(p, roots, tolerance):\n",
    "    \n",
    "    # Are all elements of roots distinct and in ascending order?\n",
    "    for i in range(len(roots) - 1):\n",
    "        if roots[i] >= roots[i + 1]:\n",
    "            raise ValueError(f'roots[{i}] is >= roots[{i + 1}]')\n",
    "    print(f'\\ncheck_roots: all roots are distinct and in order')\n",
    "    # For all r in roots, abs(p(r)) <= tolerance?\n",
    "    p_as_function = lambdify(x, p, 'mpmath')\n",
    "    for r in roots:\n",
    "        abs_p_r = abs(p_as_function(r))\n",
    "        if abs_p_r > tolerance:\n",
    "            raise ValueError(f'abs(p({r})) = {abs_p_r} > {tolerance}')\n",
    "    print(f'check_roots: all roots are roots within tolerance')\n",
    "    # Number of elements of roots equals Sturm(p)?\n",
    "    n_roots_Sturm = Sturm(p)\n",
    "    if len(roots) != n_roots_Sturm:\n",
    "        raise ValueError(f\"We have {len(roots)} roots;\"\n",
    "                         f\"{n_roots_Sturm} were expected by Sturm's theorem.\")\n",
    "    print(f\"check_roots: number of roots, {n_roots_Sturm},\"\n",
    "          \" as expected by Sturm's theorem\")"
   ]
  },
  {
   "cell_type": "code",
   "execution_count": 261,
   "metadata": {},
   "outputs": [],
   "source": [
    "def print_roots(p, roots):\n",
    "    print(f'\\nReal roots of p(x) =\\n{p}')\n",
    "    for i, r in enumerate(roots):\n",
    "        print(f'Root[{i}] = \\n{r}')"
   ]
  },
  {
   "cell_type": "markdown",
   "metadata": {},
   "source": [
    "## Choose your roots"
   ]
  },
  {
   "cell_type": "code",
   "execution_count": 171,
   "metadata": {},
   "outputs": [],
   "source": [
    "def poly_from_roots(poly_roots, constant=Rational(1)):\n",
    "    \"\"\"\n",
    "    Constructs a polynomial from a list of is roots. \n",
    "    If a complex number is included in list, its conjugate will be included too.\n",
    "    \"\"\"\n",
    "    x = Symbol('x')\n",
    "    W = constant\n",
    "    for r in poly_roots:\n",
    "        if isinstance(r, complex):\n",
    "            a = Rational(r.real)\n",
    "            b = Rational(r.imag)\n",
    "            W = W * (a**2 - 2*a*x + b**2 + x**2)\n",
    "        else:\n",
    "            W = W * (x - Rational(r))\n",
    "    return W.expand()"
   ]
  },
  {
   "cell_type": "code",
   "execution_count": 297,
   "metadata": {},
   "outputs": [
    {
     "name": "stdout",
     "output_type": "stream",
     "text": [
      "\n",
      "Real roots of p(x) =\n",
      "x**6 - 23*x**5 + 121*x**4 + 167*x**3 - 3350*x**2 + 9900*x - 9000\n",
      "Root[0] = \n",
      "-5.000000000000000000000000501595455822748\n",
      "Root[1] = \n",
      "1.999999999999999999999999999999995688763\n",
      "Root[2] = \n",
      "3.000000000000000000000000000000023369982\n",
      "Root[3] = \n",
      "15.00000000000000000000000000000000021189\n",
      "\n",
      "check_roots: all roots are distinct and in order\n",
      "check_roots: all roots are roots within tolerance\n",
      "check_roots: number of roots, 4, as expected by Sturm's theorem\n"
     ]
    }
   ],
   "source": [
    "global verbose_solver, verbose_main_loop\n",
    "mp.dps = 40 # number of digits\n",
    "tolerance = mp.mpf('1.0e-15')\n",
    "solver = hibrid\n",
    "verbose_solver = False\n",
    "verbose_main_loop = False\n",
    "\n",
    "p = poly_from_roots([3, 2, -5, 4 + 2j, 15])\n",
    "\n",
    "roots = mp_roots(p, tolerance, solver)\n",
    "\n",
    "# try to uncomment one or more of these lines\n",
    "# bug roots[2] = roots[0]\n",
    "# bug roots[2] = 2.4\n",
    "# bug roots = roots[:-1]\n",
    "\n",
    "print_roots(p, roots)\n",
    "check_roots(p, roots, tolerance)"
   ]
  },
  {
   "cell_type": "code",
   "execution_count": 263,
   "metadata": {},
   "outputs": [
    {
     "name": "stdout",
     "output_type": "stream",
     "text": [
      "\n",
      "Real roots of p(x) =\n",
      "x**18 - 79*x**17 + 2919*x**16 - 67007*x**15 + 1070489*x**14 - 12633813*x**13 + 114097765*x**12 - 805804477*x**11 + 4508665146*x**10 - 20121250256*x**9 + 71733544256*x**8 - 203613831696*x**7 + 456245326624*x**6 - 795086764672*x**5 + 1052328652800*x**4 - 1018907648000*x**3 + 678179840000*x**2 - 276172800000*x + 51609600000\n",
      "Root[0] = \n",
      "0.9999999999999999999999999999996766890358\n",
      "Root[1] = \n",
      "1.999999999999999999999999999998512898563\n",
      "Root[2] = \n",
      "4.000000000000000000000000000001539657522\n",
      "Root[3] = \n",
      "5.000000000000000000000000000069256759081\n",
      "Root[4] = \n",
      "6.000000000000000000000000056398167613971\n",
      "Root[5] = \n",
      "7.000000000000000000000002749774652321272\n",
      "Root[6] = \n",
      "8.000000000000000000000000000000000878629\n",
      "\n",
      "check_roots: all roots are distinct and in order\n",
      "check_roots: all roots are roots within tolerance\n",
      "check_roots: number of roots, 7, as expected by Sturm's theorem\n"
     ]
    }
   ],
   "source": [
    "N_DIGITS = 40\n",
    "mp.dps = N_DIGITS\n",
    "tolerance = mp.mpf('1.0e-15')\n",
    "solver = newton\n",
    "global verbose_solver, verbose_main_loop\n",
    "verbose_solver = False\n",
    "verbose_main_loop = False\n",
    "\n",
    "p = poly_from_roots([1] + [2]*3 + [4, 5]*5 + [6]*2 + [7, 8])\n",
    "\n",
    "roots = mp_roots(p, tolerance, solver)\n",
    "print_roots(p, roots)\n",
    "check_roots(p, roots, tolerance)"
   ]
  },
  {
   "cell_type": "code",
   "execution_count": 155,
   "metadata": {},
   "outputs": [
    {
     "name": "stdout",
     "output_type": "stream",
     "text": [
      "[7.99999839+0.j         7.00003959+0.j         6.04621223+0.j\n",
      " 5.92832335+0.j         5.53076489+0.j         5.18659628+0.43163598j\n",
      " 5.18659628-0.43163598j 4.70616934+0.47168465j 4.70616934-0.47168465j\n",
      " 4.15697898+0.38787049j 4.15697898-0.38787049j 3.83408005+0.2476275j\n",
      " 3.83408005-0.2476275j  3.72701188+0.j         2.00212984+0.j\n",
      " 1.99893526+0.00182131j 1.99893526-0.00182131j 1.        +0.j        ]\n"
     ]
    },
    {
     "ename": "NoConvergence",
     "evalue": "Didn't converge in maxsteps=500 steps.",
     "output_type": "error",
     "traceback": [
      "\u001b[1;31m---------------------------------------------------------------------------\u001b[0m",
      "\u001b[1;31mNoConvergence\u001b[0m                             Traceback (most recent call last)",
      "\u001b[1;32m<ipython-input-155-695614dc87bf>\u001b[0m in \u001b[0;36m<module>\u001b[1;34m()\u001b[0m\n\u001b[0;32m      4\u001b[0m \u001b[0mcoefs\u001b[0m \u001b[1;33m=\u001b[0m \u001b[0mPoly\u001b[0m\u001b[1;33m(\u001b[0m\u001b[0mp\u001b[0m\u001b[1;33m)\u001b[0m\u001b[1;33m.\u001b[0m\u001b[0mall_coeffs\u001b[0m\u001b[1;33m(\u001b[0m\u001b[1;33m)\u001b[0m\u001b[1;33m\u001b[0m\u001b[1;33m\u001b[0m\u001b[0m\n\u001b[0;32m      5\u001b[0m \u001b[0mprint\u001b[0m\u001b[1;33m(\u001b[0m\u001b[0mnp\u001b[0m\u001b[1;33m.\u001b[0m\u001b[0mroots\u001b[0m\u001b[1;33m(\u001b[0m\u001b[0mcoefs\u001b[0m\u001b[1;33m)\u001b[0m\u001b[1;33m)\u001b[0m\u001b[1;33m\u001b[0m\u001b[1;33m\u001b[0m\u001b[0m\n\u001b[1;32m----> 6\u001b[1;33m \u001b[0mprint\u001b[0m\u001b[1;33m(\u001b[0m\u001b[0mmpmath\u001b[0m\u001b[1;33m.\u001b[0m\u001b[0mpolyroots\u001b[0m\u001b[1;33m(\u001b[0m\u001b[0mcoefs\u001b[0m\u001b[1;33m,\u001b[0m \u001b[0mmaxsteps\u001b[0m\u001b[1;33m=\u001b[0m\u001b[1;36m500\u001b[0m\u001b[1;33m)\u001b[0m\u001b[1;33m)\u001b[0m\u001b[1;33m\u001b[0m\u001b[1;33m\u001b[0m\u001b[0m\n\u001b[0m",
      "\u001b[1;32mC:\\ProgramData\\Anaconda3\\lib\\site-packages\\mpmath\\calculus\\polynomials.py\u001b[0m in \u001b[0;36mpolyroots\u001b[1;34m(ctx, coeffs, maxsteps, cleanup, extraprec, error, roots_init)\u001b[0m\n\u001b[0;32m    194\u001b[0m         \u001b[1;32mif\u001b[0m \u001b[0mabs\u001b[0m\u001b[1;33m(\u001b[0m\u001b[0mmax\u001b[0m\u001b[1;33m(\u001b[0m\u001b[0merr\u001b[0m\u001b[1;33m)\u001b[0m\u001b[1;33m)\u001b[0m \u001b[1;33m>=\u001b[0m \u001b[0mtol\u001b[0m\u001b[1;33m:\u001b[0m\u001b[1;33m\u001b[0m\u001b[1;33m\u001b[0m\u001b[0m\n\u001b[0;32m    195\u001b[0m             raise ctx.NoConvergence(\"Didn't converge in maxsteps=%d steps.\" \\\n\u001b[1;32m--> 196\u001b[1;33m                     % maxsteps)\n\u001b[0m\u001b[0;32m    197\u001b[0m         \u001b[1;31m# Remove small real or imaginary parts\u001b[0m\u001b[1;33m\u001b[0m\u001b[1;33m\u001b[0m\u001b[1;33m\u001b[0m\u001b[0m\n\u001b[0;32m    198\u001b[0m         \u001b[1;32mif\u001b[0m \u001b[0mcleanup\u001b[0m\u001b[1;33m:\u001b[0m\u001b[1;33m\u001b[0m\u001b[1;33m\u001b[0m\u001b[0m\n",
      "\u001b[1;31mNoConvergence\u001b[0m: Didn't converge in maxsteps=500 steps."
     ]
    }
   ],
   "source": [
    "# Just to show how numpy.roots and mpmath.polyroots both fail in this case.\n",
    "\n",
    "p = poly_from_roots([1] + [2]*3 + [4, 5]*5 + [6]*2 + [7, 8])\n",
    "coefs = Poly(p).all_coeffs()\n",
    "print(np.roots(coefs))\n",
    "print(mpmath.polyroots(coefs, maxsteps=500))"
   ]
  },
  {
   "cell_type": "markdown",
   "metadata": {},
   "source": [
    "## Wilkinson polynomials"
   ]
  },
  {
   "cell_type": "code",
   "execution_count": 156,
   "metadata": {},
   "outputs": [],
   "source": [
    "def Wilkinson(n):\n",
    "    return poly_from_roots(list(range(1,n+1)))"
   ]
  },
  {
   "cell_type": "code",
   "execution_count": 164,
   "metadata": {},
   "outputs": [
    {
     "name": "stdout",
     "output_type": "stream",
     "text": [
      "p = x**7 - 28*x**6 + 322*x**5 - 1960*x**4 + 6769*x**3 - 13132*x**2 + 13068*x - 5040\n",
      "sign inversions: 7\n"
     ]
    },
    {
     "data": {
      "image/png": "[encoded data removed]",
      "text/plain": [
       "<Figure size 432x288 with 1 Axes>"
      ]
     },
     "metadata": {
      "needs_background": "light"
     },
     "output_type": "display_data"
    }
   ],
   "source": [
    "p = Wilkinson(7)\n",
    "\n",
    "plot_p(p, (0.90, 7.10))"
   ]
  },
  {
   "cell_type": "code",
   "execution_count": 310,
   "metadata": {},
   "outputs": [
    {
     "name": "stdout",
     "output_type": "stream",
     "text": [
      "\n",
      "Real roots of p(x) =\n",
      "x**50 - 1275*x**49 + 791350*x**48 - 318622500*x**47 + 93570498490*x**46 - 21366198225750*x**45 + 3949131291964600*x**44 - 607317906105487500*x**43 + 79274383168492884295*x**42 - 8916311500907225617125*x**41 + 874274440470458637491350*x**40 - 75430949131153796097540000*x**39 + 5769557497517595816762422380*x**38 - 393625378247020213038955570500*x**37 + 24074634262098477202456261501600*x**36 - 1325513314288519699308436238355000*x**35 + 65926306456751344865378122278650335*x**34 - 2970483623265905855449410614694043125*x**33 + 121537997067927371629961551678685914850*x**32 - 4524229387507572623070958774667674282500*x**31 + 153457012425237702675940309806097247177498*x**30 - 4748411888781425210165280179331840887560950*x**29 + 134153032410638239369309397211318138160939400*x**28 - 3462458978207366446890224680162408296258877500*x**27 + 81661954970720573655661780303655361431161958585*x**26 - 1759975170237895559117007667844300114185022044875*x**25 + 34652078765044198452095090589463630638929867781650*x**24 - 622954025102273770045632622121644740051085765875000*x**23 + 10217297271367563021376459886512004721472442416486880*x**22 - 152719956592931681273776991727487749957964934948706000*x**21 + 2077456572999271411780195287601622801504954917649122400*x**20 - 25674503027583263140245049650089911892130421780961760000*x**19 + 287681510456288967305472324934106343384946693054660401920*x**18 - 2915410238088374287308480243262839885616373612457690912000*x**17 + 26644926572075096083148238618984385847884240529010940198400*x**16 - 218872142848277667164714027535286926039317470428353944320000*x**15 + 1609578146670076404332423437897298592489203458499059076874240*x**14 - 10548002159482240692664043366538929906734975613031337827840000*x**13 + 61263921790865468343839418571823409266633338824655665334886400*x**12 - 313349124628526821497617106938217759752262787021919928238080000*x**11 + 1400632296755724718076996853034613831665891143377334756315365376*x**10 - 5421299830686960097788787120721257875468259479300212239525478400*x**9 + 17968291458361430782020246122299560311802074147902210076049408000*x**8 - 50293361153311185534392570196926631029364162024577328008396800000*x**7 + 116810370081193509813324333425667493275348323581096549448417280000*x**6 - 220018442610520054866603342183765018372267333550041961857024000000*x**5 + 325782615226898331344792689581720011457017982075779804037120000000*x**4 - 362662903615406490840003569437241864800516157064075018240000000000*x**3 + 283120473944135438730015746189396884754965326844332186009600000000*x**2 - 136839250493597505643457826872702521913187810543371550720000000000*x + 30414093201713378043612608166064768844377641568960512000000000000\n",
      "Root[0] = \n",
      "0.999999999999999999999999999999999999999999999999999999999999999999999999999999999999999999999999999999999999999999999999999999999999999999999999999999999957158406157417864433997761476813724353807652363477090594394415736838304511978156196867893670411937077167370510712618714878577037210412774450364315\n",
      "Root[1] = \n",
      "1.99999999999999999999999999999999999999999999999999999999999999999999999999999999999999999999999999999999999999999999999999999967540833340416475288137909382180017430932831974533281185829949512902243123180177321096821024701202878736177669216055833875896941822540304226929035505517425638541274082059855\n",
      "Root[2] = \n",
      "2.99999999999999999999999999999999999999999999999999999999999999999999999999999999999998589352892589003896335067063893115033614813751307409114106209646194587480614231890808923597721771855005522404578365999672848337134606886509422413296311825046953294016503864440387990052629493154845317201322794093767\n",
      "Root[3] = \n",
      "3.99999999999999999999999999999999999999999999999999999999999999999999999999999999999999999999999999999999919316264699394194534201235557382182041784032557865843235824939743557951087171816096937134414121834525405130682054060784285030103301083647236624700542932175189317211259206429729041988065558237935\n",
      "Root[4] = \n",
      "4.99999999999999999999999999999999999999999999999999999999999999999999999999999999999999999999999999999999999999999999999999871572530352491436842403463582473026671830004404211448912907184955787185578525586185412628847318617357680855259372884952842384985910627685454181056374875104075958674682625022305\n",
      "Root[5] = \n",
      "5.99999999999999999999999999999999999999999999999999999999999999999999999999999999999999999999999999999999999999999999999999999999999999999998906034455647610129746021591619435296795017796239384337653149609041852592930913293784183069890440872312701862847620434532785586663516040995717512982788156614373\n",
      "Root[6] = \n",
      "6.99999999999999999999999999999999999999999999999999999999999999999999999999999967996098866926545593504574433618742300146421427610906977917356812637763899923337346714813902256962351887993895345173509789478219278909550394750282591486748512724727884034564404842319965750453082168869776165473537603330718\n",
      "Root[7] = \n",
      "7.99999999999999999999999999999999999999999999999999999999999999999999999999999999999999851646939060709171047933441696040342077445367549094773042509535445210229859859709855089797966429615954025218066014101799742932366322695196162958074653782094571850721850990282305811675418997046993115428692269362119\n",
      "Root[8] = \n",
      "8.99999999999999999999999999999999999999999999999999999999999999999999999999999999999999999999999437189212594351504770134884690220751876883766106798880364069601275957972875858832956327137384499869977412557378760567260737009631357619166464792478166051804020697738650719910378748758890969415673729571851\n",
      "Root[9] = \n",
      "9.99999999999999999999999999999999999999999999999999999999999999999999999999999999999999999999999999999998590658778247040442345534548987099865106833360172736398166239715828632418685738535275781441621185758484744479416822643195989551528269366624345735942988688775021739090917678731873169334253532963766\n",
      "Root[10] = \n",
      "10.9999999999999999999999999999999999999999999999999999999999999999999999999999999999999999999999999999999999999999810311508814589441492605525719842337586996469947847794495950631147198145313359882012056587139157755371946960582397670277812859996869748780021959297911932409609835674943571207277018817679\n",
      "Root[11] = \n",
      "11.9999999999999999999999999999999999999999999999999999999999999999999999999999999999999999999999999999999999999999999999999889004494191164086518708029680285701162435722057836787703918520870129939790156262311602072690835972293746592606241152810612032752266854235096586575079408536951831015534771913115\n",
      "Root[12] = \n",
      "12.999999999999999999999999999999999999999999999999999999999999999999999999999999999999999999999999999999999999999999999999999999999997764051749455458192991053022081159102551893771437906448494528673765030102993057213630398484514439740815004088312588925095318476217117611218059367497533921599788118844\n",
      "Root[13] = \n",
      "13.9999999999999999999999999999999999999999999999999999999999999999999999890911608202224612990508873323065060394614128475198025910946717167791983910564492123839676266157617656960385018664884827744221927804486228004059173345793289550866152944309273125826273336181600786570161069483673573640700857012619\n",
      "Root[14] = \n",
      "14.9999999999999999999999999999999999999999999999999999999999999999999999999999635916748247990152418971234601589806320171901214894354603737820546105036018407826694313207496488479836734813563229905016102342253923931338442116570692407091136935479042506821782990550201308746207609288510333066939482251356\n",
      "Root[15] = \n",
      "15.9999999999999999999999999999999999999999999999999999999999999999999999999999999999567746781821935960933606046370665050246960456315604206425593240481835522332815907487665511367441890675817919728079982707649507427861419296786232417575673804102871383222442192711265260810544313266647534096395218421333\n",
      "Root[16] = \n",
      "16.9999999999999999999999999999999999999999999999999999999999999999999999999999999999999999860242660801872257038723173968430509634848904543174254387217447266514393057412824561849694564283225865142637549669358097266113353797713783828045208853321042164318647919402648674033249561822272179972737595622617\n",
      "Root[17] = \n",
      "17.9999999999999999999999999999999999999999999999999999999999999999999999999999999999999999999999991436409029201103221237549175209213160311067310949983912172038532808148628591570772719719963483304567549424814743412014804546390751645549529054779498612985589466679206508009455707890177260761099726584874\n",
      "Root[18] = \n",
      "18.9999999999999999999999999999999999999999999999999999999999999999999999999999999999999999999999999999999940532491037793094932305817441416863974935742892725328861960346572429856210118890519211034528562237535962378107503229282295755375137174629589501486533898274480543129770003933872330511417580637255\n",
      "Root[19] = \n",
      "19.9999999999999999999999999999999999999999999999999999999999999999999999999999999999999999999999999999999999999999978308573369192751743152054176338224913272593340655168548339119710664113613191082155788075251691019953141800266458197357012222335632301026391719426844961299447515308450352359092075076779\n",
      "Root[20] = \n",
      "20.999999999999999999999999999999999999999999999999999999999999999999999999999999999999999999999999999999999999999999999999999987867533350182776304438188322195357822667893672101702860410417526071834162661769613126942852197659892861874541908907404162826912648957647438937802497000375438275479549588346\n",
      "Root[21] = \n",
      "21.9999999999999999999999999999999999999999999999999999999999999999999993492823136916877168531658984502809416973290465611736861862075152085799715597746388144676195630556343240441208391421775323065827008174763903023005731635475944245850878013818300118043026961297450545557215530745803110303389272055339\n",
      "Root[22] = \n",
      "22.9999999999999999999999999999999999999999999999999999999999999999999999999999996420867399013968951664205498422405890734277750075008023541617364662357339265745339286557330268794887642055837329590306679631324416529087905282206946249940314319755796044429475351320508400796944709207329800717257375222535\n",
      "Root[23] = \n",
      "23.9999999999999999999999999999999999999999999999999999999999999999999999999999999999999999999965181325451598930293225143529648296501035218633448528956465094240901508054811414450631625832453764231074346172202309671569511188293773813262310840348289002994002933010427516056494167672873557725472842369088\n",
      "Root[24] = \n",
      "24.9999999999999999999999999999999999999999999999999999999999999999999999999999999999999999999999999999999999999999999999999970793012146719245457878712997124157247956314750169544783161451550144548044892235659088016918178376369232889324664088632705859633875385335693186189823297133069909252568168201829\n",
      "Root[25] = \n",
      "26.0000000000000000000000000000000000000000000000000000000000000000000000000000000000000000000000000000000000000000000000000029206987853280754542121287002875842752043685249830455216838548449855451955107764340911983081821623630767110675335911367294140366124614664306813694587029720614580712137033185104\n",
      "Root[26] = \n",
      "27.0000000000000000000000000000000000000000000000000000000000000000000000000000000000000000000034818674548401069706774856470351703498964781366551471043534905759098491945188585549368374167546235768925653827797690328430488811706226186737689159651710997005997066989572483785467809755598727269620494122185\n",
      "Root[27] = \n",
      "28.0000000000000000000000000000000000000000000000000000000000000000000000000000003579132600986031048335794501577594109265722249924991976458382635337642660734254660713442669731205112357944162670409693320368675583470912094717793053750059685680244203955570524648679491599833929877141723139133048343509414\n",
      "Root[28] = \n",
      "29.0000000000000000000000000000000000000000000000000000000000000000000006507176863083122831468341015497190583026709534388263138137924847914200284402253611855323804369443656759558791608578224676934172991825236096976994268364524055754149121986181699881956973038702549454310991049156513619561636963948346\n",
      "Root[29] = \n",
      "30.0000000000000000000000000000000000000000000000000000000000000000000000000000000000000000000000000000000000000000000000000000121324666498172236955618116778046421773321063278982971395895824739281658373382303868730571478023401071381254580910925958371730873510423525613545839149796791980492164248871167\n",
      "Root[30] = \n",
      "31.0000000000000000000000000000000000000000000000000000000000000000000000000000000000000000000000000000000000000000021691426630807248256847945823661775086727406659344831451660880289335886386808917844211924748308980046858199733541802642987777664367698973608280573155042480478333578116658402488711505858\n",
      "Root[31] = \n",
      "32.0000000000000000000000000000000000000000000000000000000000000000000000000000000000000000000000000000000059467508962206905067694182558583136025064257107274671138039653427570143789881109480788965471437762464037621892496770717704244624862825370410498513466101725519455266339035265639601889912307109139\n",
      "Root[32] = \n",
      "33.0000000000000000000000000000000000000000000000000000000000000000000000000000000000000000000000008563590970798896778762450824790786839688932689050016087827961467191851371408429227280280036516695432450575185256587985195453609248354450470945220501387014410533320793492991753367640072804907093469342622\n",
      "Root[33] = \n",
      "34.0000000000000000000000000000000000000000000000000000000000000000000000000000000000000000139757339198127742961276826031569490365151095456825745612782552733485606942587175438150305435716774134857362450330641902733886646202286216171954791146678957835681352080597351332492156802562713783154542263558079\n",
      "Root[34] = \n",
      "35.0000000000000000000000000000000000000000000000000000000000000000000000000000000000432253218178064039066393953629334949753039543684395793574406759518164477667184092512334488632558109324182080271920017292350492572138580703213767582424326195897128616777557807288734717074673650022038156781541611413432\n",
      "Root[35] = \n",
      "36.0000000000000000000000000000000000000000000000000000000000000000000000000000364083251752009847581028765398410193679828098785105645396262179453894963981592173305686792503511520163265186436770094983897657746076068661557883429307592908863064520957493178217009449798692473505755973296242251587815233051\n",
      "Root[36] = \n",
      "37.0000000000000000000000000000000000000000000000000000000000000000000000109088391797775387009491126676934939605385871524801974089053282832208016089435507876160323733842382343039614981335115172255778072195513771995940826654206710449133847055690726874173726663818399218044796445251100561286689457429447\n",
      "Root[37] = \n",
      "38.000000000000000000000000000000000000000000000000000000000000000000000000000000000000000000000000000000000000000000000000000000000002235948250544541807008946977918840897448106228562093551505471326234969897006942786369601515485560259184995911687411074904681523782882417241280440956297389598453582852\n",
      "Root[38] = \n",
      "39.0000000000000000000000000000000000000000000000000000000000000000000000000000000000000000000000000000000000000000000000000110995505808835913481291970319714298837564277942163212296081479129870060209843737688397927309164027706253407393758847189387967247733145764903414595169876835189880236436332250848\n",
      "Root[39] = \n",
      "40.0000000000000000000000000000000000000000000000000000000000000000000000000000000000000000000000000000000000000000189688491185410558507394474280157662413003530052152205504049368852801854686640117987943412860842244628053039417602329722187140003130251219978040702088067232847074264192877585688275514936\n",
      "Root[40] = \n",
      "41.0000000000000000000000000000000000000000000000000000000000000000000000000000000000000000000000000000000140934122175295955765446545101290013489316663982726360183376028417136758131426146472421855837881424151525552058317735680401044847173063337565426405701131122497824366212349913250374713787657467357\n",
      "Root[41] = \n",
      "42.0000000000000000000000000000000000000000000000000000000000000000000000000000000000000000000000056281078740564849522986511530977924812311623389320111963593039872404202712414116704367286261550013002258744262123943273926299036864238083353520752183394819597930226134928564716507883266720677689980869645\n",
      "Root[42] = \n",
      "43.0000000000000000000000000000000000000000000000000000000000000000000000000000000000000014835306093929082895206655830395965792255463245090522695749046455478977014014029014491020203357038404597478193398589820025706763367730480383704192534621790542814927814900971769419598926439905246663456085200001471\n",
      "Root[43] = \n",
      "44.0000000000000000000000000000000000000000000000000000000000000000000000000000003200390113307345440649542556638125769985357857238909302208264318736223610007666265328518609774303764811200610465482649021052178072109044960524971740851325148727527211596543559515768003424933670512120572227497222925961069\n",
      "Root[44] = \n",
      "45.000000000000000000000000000000000000000000000000000000000000000000000000000000000000000000000000000000000000000000000000000000000000000000010939655443523898702539784083805647032049822037606156623468503909581474070690867062158169301095591276872981371523795654672144132465459573873561488447129533062\n",
      "Root[45] = \n",
      "46.0000000000000000000000000000000000000000000000000000000000000000000000000000000000000000000000000000000000000000000000000012842746964750856315759653641752697332816999559578855108709281504421281442147441381458737115268138264231914474062711504715761501408937231454581894556537033381734916395825532751\n",
      "Root[46] = \n",
      "47.0000000000000000000000000000000000000000000000000000000000000000000000000000000000000000000000000000000008068373530060580546579876444261781795821596744213415676417506025644204891282818390306286558587816547459486931794593921571496989669891635276337529945706782481068276872390031508738904483583399407\n",
      "Root[47] = \n",
      "48.0000000000000000000000000000000000000000000000000000000000000000000000000000000000000141064710741099610366493293610688496638518624869259088589379035380541251938576810919107640227822814499447759542163400032715166286539311349057758670368817495304670598349613555961200994873495389392950015975775780575\n",
      "Root[48] = \n",
      "49.0000000000000000000000000000000000000000000000000000000000000000000000000000000000000000000000000000000000000000000000000000003245916665958352471186209061781998256906716802546671881417005048709775687681982267890317897529879712126382233078394416612410305817745969577307139150738171539959487487384731\n",
      "Root[49] = \n",
      "50.0000000000000000000000000000000000000000000000000000000000000000000000000000000000000000000000000000000000000000000000000000000000000000000000000000000000428415938425821355660022385231862756461923476365229094056055842631616954880218438031321063295880629228326294892873812966551287733263103988759206\n",
      "\n",
      "check_roots: all roots are distinct and in order\n"
     ]
    },
    {
     "name": "stdout",
     "output_type": "stream",
     "text": [
      "check_roots: all roots are roots within tolerance\n",
      "check_roots: number of roots, 50, as expected by Sturm's theorem\n"
     ]
    }
   ],
   "source": [
    "global verbose_main_loop, verbose_solver\n",
    "mp.dps = 300\n",
    "tolerance = mpf('1.0e-15')\n",
    "solver = hibrid\n",
    "verbose_solver = False\n",
    "verbose_main_loop = False\n",
    "p = Wilkinson(50)\n",
    "\n",
    "#%prun -s cumulative mp_roots(p, tolerance, solver)\n",
    "\n",
    "# Uncomment line above and comment lines bellow if you want time measures\n",
    "\n",
    "roots = mp_roots(p, tolerance, solver)\n",
    "print_roots(p, roots)\n",
    "check_roots(p, roots, tolerance)"
   ]
  },
  {
   "cell_type": "markdown",
   "metadata": {},
   "source": [
    "## Mignotte polynomials"
   ]
  },
  {
   "cell_type": "code",
   "execution_count": 65,
   "metadata": {},
   "outputs": [],
   "source": [
    "def Mignotte(n, tau):\n",
    "    x = Symbol('x')\n",
    "    return (x**n - ((2**(tau//2) - 1)*x - 1)**2).expand()"
   ]
  },
  {
   "cell_type": "code",
   "execution_count": 165,
   "metadata": {},
   "outputs": [
    {
     "name": "stdout",
     "output_type": "stream",
     "text": [
      "p = x**11 - 16129*x**2 + 254*x - 1\n",
      "sign inversions: 3\n"
     ]
    },
    {
     "data": {
      "image/png": "[encoded data removed]",
      "text/plain": [
       "<Figure size 432x288 with 1 Axes>"
      ]
     },
     "metadata": {
      "needs_background": "light"
     },
     "output_type": "display_data"
    }
   ],
   "source": [
    "p = Mignotte(11, 14)\n",
    "\n",
    "plot_p(p, (-2.8, 3.1))"
   ]
  },
  {
   "cell_type": "code",
   "execution_count": 270,
   "metadata": {
    "scrolled": true
   },
   "outputs": [
    {
     "name": "stdout",
     "output_type": "stream",
     "text": [
      "p = x**11 - 16129*x**2 + 254*x - 1\n",
      "\n",
      "Real roots of p(x) =\n",
      "x**11 - 16129*x**2 + 254*x - 1\n",
      "Root[0] = \n",
      "0.007874015748010347745885177169100414301856999738898600429183668811990442115613708149642596204966677218\n",
      "Root[1] = \n",
      "0.007874015748052644380099699609492630286802608763568883587778986309427034769276692292318418470146594349\n",
      "Root[2] = \n",
      "2.932597504867591260413736197248257937238803306869364995154576393894643530487726692606350724481769108\n",
      "\n",
      "check_roots: all roots are distinct and in order\n",
      "check_roots: all roots are roots within tolerance\n",
      "check_roots: number of roots, 3, as expected by Sturm's theorem\n"
     ]
    }
   ],
   "source": [
    "solver = newton\n",
    "verbose_solver = False\n",
    "verbose_main_loop = False\n",
    "mp.dps = 100\n",
    "n = 11\n",
    "tau = 14\n",
    "p = Mignotte(n, tau)\n",
    "print(f'p = {p}')\n",
    "\n",
    "tolerance = mpf('1.0e-50')\n",
    "\n",
    "#%prun -s cumulative mp_roots(p, tolerance, solver)\n",
    "\n",
    "# Uncomment line above and comment lines bellow if you want time measures\n",
    "\n",
    "roots = mp_roots(p, tolerance, solver)\n",
    "print_roots(p, roots)\n",
    "check_roots(p, roots, tolerance)"
   ]
  },
  {
   "cell_type": "code",
   "execution_count": 314,
   "metadata": {},
   "outputs": [
    {
     "name": "stdout",
     "output_type": "stream",
     "text": [
      "p = x**513 - 16129*x**2 + 254*x - 1\n",
      "\n",
      "Real roots of p(x) =\n",
      "x**513 - 16129*x**2 + 254*x - 1\n",
      "Root[0] = \n",
      "0.007874015748031496062992125984251968503937007874015748031496062992125984251968503937007874015748031496062992125984251968503937007874015748031496062992125984251968503937007874015748031496062992125984251968503937007874015748031496062992125984251968503937007874015748031496062992125984251968503937007874015748031496062992125984251968503937007874015748031496062992125984251968503937007874015748031496062992125984251968503937007874015748031496062992125984251968503937007874015748031496062992125984251968503937007874015748031496062992125984251968485292889406511429285447724222228392024104189585194694680181892021393552271333062542142159688999522569271044515160041009802275162597377129412543852956934870290286297974422131733299758238994611222213117738707833357694993353879687170348676165803126879910228099830464766520619910665957452237768673452774958019274182661611947829301706689207945239855212286300513866131903823856298862750898049736331460484503077489027375089663919748431647930349456019320023821119808161655982072366432121834078972625439393042058697201991993952169052689394160775041346905903278458663654417745796941429295121259432993951455484394936675408276686357361791271046756533261672739004753325568085189647401307796853131185435575863581192938373094536329508361788508633161814238755422908192562141846747718946172280596607991576046206830183600089285298948001009363197761218245040774173711623922086305035261726874670183612534194249577804124330914109454397918942734376335436403344410225019906772676339786839199254324215499308893896602522599026687861066258625138828661509834490299173447526512678629428624466201508528617795316139934357365777840915663407185482397658820909255697429425867464227874410969108394616143838792517370610097152478892542995977111198\n",
      "Root[1] = \n",
      "0.007874015748031496062992125984251968503937007874015748031496062992125984251968503937007874015748031496062992125984251968503937007874015748031496062992125984251968503937007874015748031496062992125984251968503937007874015748031496062992125984251968503937007874015748031496062992125984251968503937007874015748031496062992125984251968503937007874015748031496062992125984251968503937007874015748031496062992125984251968503937007874015748031496062992125984251968503937007874015748031496062992125984251968503937007874015748031496062992125984251968522581126341520066777544401762023576479832818288821053351314170970732431980635441394865714326748508926791947610824210958701661845276638618618952210035191113961682205962585742282448273257068380903771134229796103650179022394151808892643449818448841624026779774185283264975443081460026799730735263555099057728757313401380178154950261814729062634160535745195549125994080428112205074256975966011700035578489048495224593414273088125584100101146606972805960430848695775351891943381599374228913153358812575461878310672023754079327010302731823476949803724153735350911851951893547443661283000724396413012422013731389013059571924581863472932667420735283547880004635759481865356204457140951468616350796686381067512757019919819247271303655858392331796357451577188619498890729768559936579423158699540933021566492081906375085564852163934903944689803604290855923718446492956673357297613148743883503529980115958550804370059143677690355270374272427422919886454791866900139044780978393059034519378988380103821494324358651194950062103823040488421073541787487483033660112414266923958748010301937408327822029443390006197339283545361460204403242915533136870354366666287316257463793776427751518657680860511149423704811634562549992694749\n",
      "Root[2] = \n",
      "1.019109573344593700908255302552757870556045908375083625371836328257926984925505100064808037505954392506905473845800847536960095850214308204331601382846956923963791959491728443837666786668295882608985182384805432290386794241649997048694316124942134326965116528016012323154460161128871708195591117154331840299614000206891256312785332586074945640903315283301174047340971687463631756076375555598762838814737281354922062200369139794290012271262131598988100953982137173769317933985561827519174413903449112281451058488182996996588869261149526873477857621034264052295717602953898850549497475171166741883011999365845646267211366497274231635895618989786131813174618106469283289978147909912730900489280657613566982009058231278239609900903408694917645325687124362717991383661501578562120106826052509750553799300172848912734385356766697717840694924583647321790048220157767368227089839411717058510505467969016277197988489394019201047372469682138100759499028301087565218021509417641913518347860225555368154342068465298146546526922346333136108746646604654909206076990015675033679386565304868521418516126754402068071184263637793044764920664546376070670430477207721480034229979068065457460638907778241096854111249121625729345481592421402192958211678562613815056164520006881095042525528092707966824420302803411765531817746090011075862893187885019519328104770870682843864231777984550434104780924470342811382149739730595073123421614959336830429412660450018317040711877938869991157301842332337060131098942216865163593019245881045647424314076775021499829091450625082035942657301383402082083643805257394326319741214670071688436339596981486083837759236853093223248989760785601799207606585977764317479477899798244494174474289586371648059519777965501131144545887210054688967061\n",
      "\n",
      "check_roots: all roots are distinct and in order\n",
      "check_roots: all roots are roots within tolerance\n",
      "check_roots: number of roots, 3, as expected by Sturm's theorem\n"
     ]
    }
   ],
   "source": [
    "solver = hibrid\n",
    "verbose_solver = False\n",
    "verbose_main_loop = False\n",
    "\n",
    "n = 513\n",
    "tau = 14\n",
    "p = Mignotte(n, tau)\n",
    "\n",
    "mp.dps = 1750 # number of digits in mpmath\n",
    "# try mp.dps = 1000\n",
    "tolerance = mpf('1.0e-1500')\n",
    "# try tolerance = mpf('1.0e-150')\n",
    "\n",
    "#%prun -s cumulative mp_roots(p, tolerance, solver)\n",
    "\n",
    "# Uncomment line above and comment lines bellow if you want time measures\n",
    "\n",
    "roots = mp_roots(p, tolerance, solver)\n",
    "print_roots(p, roots)\n",
    "check_roots(p, roots, tolerance)"
   ]
  },
  {
   "cell_type": "markdown",
   "metadata": {},
   "source": [
    "## Nested Mignotte polynomials"
   ]
  },
  {
   "cell_type": "code",
   "execution_count": 282,
   "metadata": {},
   "outputs": [],
   "source": [
    "def nested_Mignotte(n, tau):\n",
    "    x = symbols('x')\n",
    "    p = 1\n",
    "    for i in range(1, 5):\n",
    "        p = p * (x**(n//4) - ((2**(tau//8) - 1)*x**2 - 1)**(2*i))\n",
    "    return p.expand()"
   ]
  },
  {
   "cell_type": "code",
   "execution_count": 315,
   "metadata": {},
   "outputs": [
    {
     "data": {
      "image/png": "[encoded data removed]",
      "text/latex": [
       "$$x^{40} - 20 x^{38} - x^{37} + 190 x^{36} + 18 x^{35} - 1140 x^{34} - 154 x^{33} + 4845 x^{32} + 832 x^{31} - 15503 x^{30} - 3181 x^{29} + 38746 x^{28} + 9142 x^{27} - 77428 x^{26} - 20476 x^{25} + 125594 x^{24} + 36568 x^{23} - 166891 x^{22} - 52833 x^{21} + 182514 x^{20} + 62281 x^{19} - 164371 x^{18} - 60118 x^{17} + 121498 x^{16} + 47459 x^{15} - 73144 x^{14} - 30437 x^{13} + 35400 x^{12} + 15644 x^{11} - 13503 x^{10} - 6296 x^{9} + 3945 x^{8} + 1910 x^{7} - 850 x^{6} - 410 x^{5} + 131 x^{4} + 56 x^{3} - 14 x^{2} - 4 x + 1$$"
      ],
      "text/plain": [
       " 40       38    37        36       35         34        33         32        3\n",
       "x   - 20⋅x   - x   + 190⋅x   + 18⋅x   - 1140⋅x   - 154⋅x   + 4845⋅x   + 832⋅x \n",
       "\n",
       "1          30         29          28         27          26          25       \n",
       "  - 15503⋅x   - 3181⋅x   + 38746⋅x   + 9142⋅x   - 77428⋅x   - 20476⋅x   + 1255\n",
       "\n",
       "    24          23           22          21           20          19          \n",
       "94⋅x   + 36568⋅x   - 166891⋅x   - 52833⋅x   + 182514⋅x   + 62281⋅x   - 164371⋅\n",
       "\n",
       " 18          17           16          15          14          13          12  \n",
       "x   - 60118⋅x   + 121498⋅x   + 47459⋅x   - 73144⋅x   - 30437⋅x   + 35400⋅x   +\n",
       "\n",
       "        11          10         9         8         7        6        5        \n",
       " 15644⋅x   - 13503⋅x   - 6296⋅x  + 3945⋅x  + 1910⋅x  - 850⋅x  - 410⋅x  + 131⋅x\n",
       "\n",
       "4       3       2          \n",
       "  + 56⋅x  - 14⋅x  - 4⋅x + 1"
      ]
     },
     "execution_count": 315,
     "metadata": {},
     "output_type": "execute_result"
    }
   ],
   "source": [
    "nested_Mignotte(4, 8)"
   ]
  },
  {
   "cell_type": "code",
   "execution_count": 316,
   "metadata": {},
   "outputs": [
    {
     "name": "stdout",
     "output_type": "stream",
     "text": [
      "\n",
      "Real roots of p(x) =\n",
      "8*x**62 - 28*x**60 + 48*x**58 + 6*x**56 - 296*x**54 + 1018*x**52 - 2204*x**50 + 3431*x**48 - 3640*x**46 + 1195*x**44 + 5782*x**42 - 18474*x**40 + 35648*x**38 - 52353*x**36 + 61082*x**34 - 55275*x**32 + 31984*x**30 + 8261*x**28 - 61790*x**26 + 119594*x**24 - 166000*x**22 + 184326*x**20 - 167900*x**18 + 125966*x**16 - 77520*x**14 + 38760*x**12 - 15504*x**10 + 4845*x**8 - 1140*x**6 + 190*x**4 - 20*x**2 + 1\n",
      "Root[0] = \n",
      "-0.85117093406701547892839654212806696054076915457816011364738004495864302623100603057655869910635266481456271777496481830096917400958841550093958508615931762807777416957545507336831085124331792814184666909177032697971852312671025185791258915789482319598333576397841200621262256847808433426178373048812162930857822426663197504356820788973154624143625167028898947452667724729258290396550762763956403464983430892162150240583979040397448408276547564245189334059002792394766563642610271436035169285686602656602634896678589928393782007728357052313137614019961384009969661559682842211832489310932223314683171619720508950170236373453109848487702481044525842335987657887180868720381940652812959991231822697055978920763334201633233469668299767508613182532882467842619249512333830890153410370498615791203197432941333372189191703900430982789073755409052600491338031350119967898037987552718555489252947634579165757982881595822811578061957586568186840866771745451437749178957032679046432413007399551761069860148759490208753566283788238894990259120031011994456816692935846793444361119232827531864125008376871655603266445686991772812607880421894742262864222383139626675987458744574866153627149035863800174227772937670732445883520834621334815904656551697781723471348085993156243625115208898169646527972562043282744187044268776136090841799408825556885200933412989231568263827354086880298327200708048411172197661638277542295008206727916890357036993915853125780585352949198364482921249641284829497271451677594535429612669139643541912568636006826072697978241900018901332943681195218849214671270689684892259946781997169602987877453633208648759230888612613708814280361547216251655457623250416675319034003022499378206754456419864115464432599788013744742592332269804636258789355777116654889144884716010947911460595928052479270604370491208842499659402261683469275220628438302195551136599470064824417003357139238198965555372172409986247632705850928979733646838438894457304945972504073720953017493656849943734519606738647111132417\n",
      "Root[1] = \n",
      "-0.78615137775742328606955858584295892952312205783772323766490197010118204762231091371191288915850813556487901224414461130587546037047119302536450028096133829149924907809861535827239006118060034628432828754941283125422216796561759468283398587404569058562211049824240388462430925139345888058672268634104245035510924102359543658173634431658488535997259274369810622894723244505834766104417710430672068788451480434992566057559627985605610204981713933593749144969861528097277540268878468018395704143930454708208790840347897559980884236725062112925111292481954963634404150876299302001797426610178524171894571093116583047567055850063519313384553816594806675924634771369041131092304883080268327611838814874505779134150540168011909434524481481395587192002713377968673348038778685251688798200719925577453270174754331378247903412246332697663064914003346129837817793968487160718009129632981848150020823307220165472254262584323361448999454818890681737985644332311515753551493633226421800292010448525598803902303887193679942333147426453100336587345742229143030178814009779709676562504356879838140864589054221944171508641703715206857287474825111953470646200859418819855960050267097174433097896149900362887402904620696764349670122265916518868842349171284620573976869371968317402938733499676778790475797901447873870577365548201372795833508834524983187729649900951288295728348704439949451089230711622356392016081470886194981768613360916281666774973329007994489872397900392644618542546699376099234662805012579205729050347361766154079003419136696890230859166832889188919463976018551853492276510385204679711521743277066804107026614293223004896099409301329063389822446070095152956155528285125279301788650612216592832734082891517806782873560564765572465762815063588746895214840862022403262578405671762487566571368669006379752184565291649148557719905876143431047962216385366574299128173564893595456753963773235803184433342350991152673981207288804957156609083583540612217752959908286567273191787295779879001150688459390585956426\n",
      "Root[2] = \n",
      "-0.74141788345168088948082067582826759928123466103866386784594701064975415129275358077001212914996553996875921990731415690770798768254780468408268532162411007181292679960908800211662812521301181101149290855217347635916318652052149104552691705536548868269640346107238071548364499061823903914685088414905548869422106109363084681692707852822653230161326047428375777474412830908740451978490342854904012139192451375415636458111042183037393849418167982507242314796767503904184805177968469070301994539438445764155947429961181055082910194478179624245223024292067068332709511185022986133333764713552364697966729664638443686835392945977979240651662616322650637001407048611173642411214968104191251405344824794570814704850753737968032049775860690954795363800553711501863926501000340323541947682450547606690985797164862162649968798144232495529991569004446898773067258534629877459515163696403511740866133750694844369850129098296506127396589071763177630261522463551492333457556362058503809102589649534266685760169692275910728896254088985242749268415094663832808105126527933572493797433850828707003185767121275708625404662885681349141378019168487969004795559842016519386547147324476366111602109317818334655288605281882377084515249515232082097245120208946261571220999136214681046903002663755819572287123786518796694291612795714667609481915022590854771140099736363325361401885334893770731268200186581170795925738878576694229852783014239752249223114433344093728082062600547560245834377108153732284201098602844952792300938805135919785100065425720582872516993606584803826991703285330662309069714223946725652808729024807533853172604755407167062957472645401185945793688635015580512528964050622411047119184168842152568125276827326141598000076054231354495883141090871890536471683916838167975142284969185113161988526701014253374290592780437723107295508287741527334067329823345145386473418835217888450789016767913785928559464725858601022378242270576151048461054243198106225713451308021462738604992994282239595804423251100067327913\n",
      "Root[3] = \n",
      "-0.70710678118654752440084436210484903928483593768847403658833986899536623923105351942519376716382078636750692311545614851246241802792536860632206074854996791570661133296375279637789997525057639103028573505477998580298513726729843100736425870932044459930477616461524215435716072541988130181399762570399484362669827316590441482031030762917619752737287514387998086491778761016876592850567718730170424942358019344998534950240751527201389515822712391153424646845931079028923155579833435650650780928449361861764425463243062474885771091671021428430300734123603857154019191145145708648273838919955262133558773637054234930583772755712846226742683775783437249287978888969514523162900836099012093871439652873714160962075132393024512861692286174469179646582380196138964204438265282053286644168588821036844556641412278256187001664231411500986816041429745102008335451841733384928258877373712037472220579649516176594655742146054610650239734255410017578984142213610522633739667552477696701105322824609790288391512161630723123115413968427654010311589807920279320042065898489525063836423391415013383931499718864747795597307181397566495314603311937859672776152277246104821969723867917057462545566059616227309570849149408747525391598213690089444003920014599521168908056178952914936619326723303538680812019052809958083078914700397166483107442568290516703265163604313141149876883399556244798301922072091947132772896218649087315494509239904177784681271567793157207184549707591484140117564544566199069757661511528221006876234439081399446388672209019760201299101001055690591349429270279778055025298113821147270801531439384875486443633803779895368695796012277482145884247940106076976226699714521239766030161610826747179622942312040294688393706504027081272962679217080846258907712505916665219691412938149451875969744665983414646580334901359021684314009505041095128769253932432522826260244759782462944233598706300038609600405308008948293410770231010193091013584429859498026961068173585590858705450155229135562027412750962362746484\n",
      "Root[4] = \n",
      "0.70710678118654752440084436210484903928483593768847403658833986899536623923105351942519376716382078636750692311545614851246241802792536860632206074854996791570661133296375279637789997525057639103028573505477998580298513726729843100736425870932044459930477616461524215435716072541988130181399762570399484362669827316590441482031030762917619752737287514387998086491778761016876592850567718730170424942358019344998534950240751527201389515822712391153424646845931079028923155579833435650650780928449361861764425463243062474885771091671021428430300734123603857154019191145145708648273838919955262133558773637054234930583772755712846226742683775783437249287978888969514523162900836099012093871439652873714160962075132393024512861692286174469179646582380196138964204438265282053286644168588821036844556641412278256187001664231411500986816041429745102008335451841733384928258877373712037472220579649516176594655742146054610650239734255410017578984142213610522633739667552477696701105322824609790288391512161630723123115413968427654010311589807920279320042065898489525063836423391415013383931499718864747795597307181397566495314603311937859672776152277246104821969723867917057462545566059616227309570849149408747525391598213690089444003920014599521168908056178952914936619326723303538680812019052809958083078914700397166483107442568290516703265163604313141149876883399556244798301922072091947132772896218649087315494509239904177784681271567793157207184549707591484140117564544566199069757661511528221006876234439081399446388672209019760201299101001055690591349429270279778055025298113821147270801531439384875486443633803779895368695796012277482145884247940106076976226699714521239766030161610826747179622942312040294688393706504027081272962679217080846258907712505916665219691412938149451875969744665983414646580334901359021684314009505041095128769253932432522826260244759782462944233598706300038609600405308008948293410770231010193091013584429859498026961068173585590858705450155229135562027412750962362746484\n",
      "Root[5] = \n",
      "0.74141788345168088948082067582826759928123466103866386784594701064975415129275358077001212914996553996875921990731415690770798768254780468408268532162411007181292679960908800211662812521301181101149290855217347635916318652052149104552691705536548868269640346107238071548364499061823903914685088414905548869422106109363084681692707852822653230161326047428375777474412830908740451978490342854904012139192451375415636458111042183037393849418167982507242314796767503904184805177968469070301994539438445764155947429961181055082910194478179624245223024292067068332709511185022986133333764713552364697966729664638443686835392945977979240651662616322650637001407048611173642411214968104191251405344824794570814704850753737968032049775860690954795363800553711501863926501000340323541947682450547606690985797164862162649968798144232495529991569004446898773067258534629877459515163696403511740866133750694844369850129098296506127396589071763177630261522463551492333457556362058503809102589649534266685760169692275910728896254088985242749268415094663832808105126527933572493797433850828707003185767121275708625404662885681349141378019168487969004795559842016519386547147324476366111602109317818334655288605281882377084515249515232082097245120208946261571220999136214681046903002663755819572287123786518796694291612795714667609481915022590854771140099736363325361401885334893770731268200186581170795925738878576694229852783014239752249223114433344093728082062600547560245834377108153732284201098602844952792300938805135919785100065425720582872516993606584803826991703285330662309069714223946725652808729024807533853172604755407167062957472645401185945793688635015580512528964050622411047119184168842152568125276827326141598000076054231354495883141090871890536471683916838167975142284969185113161988526701014253374290592780437723107295508287741527334067329823345145386473418835217888450789016767913785928559464725858601022378242270576151048461054243198106225713451308021462738604992994282239595804423251100067327913\n",
      "Root[6] = \n",
      "0.78615137775742328606955858584295892952312205783772323766490197010118204762231091371191288915850813556487901224414461130587546037047119302536450028096133829149924907809861535827239006118060034628432828754941283125422216796561759468283398587404569058562211049824240388462430925139345888058672268634104245035510924102359543658173634431658488535997259274369810622894723244505834766104417710430672068788451480434992566057559627985605610204981713933593749144969861528097277540268878468018395704143930454708208790840347897559980884236725062112925111292481954963634404150876299302001797426610178524171894571093116583047567055850063519313384553816594806675924634771369041131092304883080268327611838814874505779134150540168011909434524481481395587192002713377968673348038778685251688798200719925577453270174754331378247903412246332697663064914003346129837817793968487160718009129632981848150020823307220165472254262584323361448999454818890681737985644332311515753551493633226421800292010448525598803902303887193679942333147426453100336587345742229143030178814009779709676562504356879838140864589054221944171508641703715206857287474825111953470646200859418819855960050267097174433097896149900362887402904620696764349670122265916518868842349171284620573976869371968317402938733499676778790475797901447873870577365548201372795833508834524983187729649900951288295728348704439949451089230711622356392016081470886194981768613360916281666774973329007994489872397900392644618542546699376099234662805012579205729050347361766154079003419136696890230859166832889188919463976018551853492276510385204679711521743277066804107026614293223004896099409301329063389822446070095152956155528285125279301788650612216592832734082891517806782873560564765572465762815063588746895214840862022403262578405671762487566571368669006379752184565291649148557719905876143431047962216385366574299128173564893595456753963773235803184433342350991152673981207288804957156609083583540612217752959908286567273191787295779879001150688459390585956426\n",
      "Root[7] = \n",
      "0.85117093406701547892839654212806696054076915457816011364738004495864302623100603057655869910635266481456271777496481830096917400958841550093958508615931762807777416957545507336831085124331792814184666909177032697971852312671025185791258915789482319598333576397841200621262256847808433426178373048812162930857822426663197504356820788973154624143625167028898947452667724729258290396550762763956403464983430892162150240583979040397448408276547564245189334059002792394766563642610271436035169285686602656602634896678589928393782007728357052313137614019961384009969661559682842211832489310932223314683171619720508950170236373453109848487702481044525842335987657887180868720381940652812959991231822697055978920763334201633233469668299767508613182532882467842619249512333830890153410370498615791203197432941333372189191703900430982789073755409052600491338031350119967898037987552718555489252947634579165757982881595822811578061957586568186840866771745451437749178957032679046432413007399551761069860148759490208753566283788238894990259120031011994456816692935846793444361119232827531864125008376871655603266445686991772812607880421894742262864222383139626675987458744574866153627149035863800174227772937670732445883520834621334815904656551697781723471348085993156243625115208898169646527972562043282744187044268776136090841799408825556885200933412989231568263827354086880298327200708048411172197661638277542295008206727916890357036993915853125780585352949198364482921249641284829497271451677594535429612669139643541912568636006826072697978241900018901332943681195218849214671270689684892259946781997169602987877453633208648759230888612613708814280361547216251655457623250416675319034003022499378206754456419864115464432599788013744742592332269804636258789355777116654889144884716010947911460595928052479270604370491208842499659402261683469275220628438302195551136599470064824417003357139238198965555372172409986247632705850928979733646838438894457304945972504073720953017493656849943734519606738647111132417\n",
      "\n",
      "check_roots: all roots are distinct and in order\n",
      "check_roots: all roots are roots within tolerance\n"
     ]
    },
    {
     "name": "stdout",
     "output_type": "stream",
     "text": [
      "check_roots: number of roots, 8, as expected by Sturm's theorem\n"
     ]
    }
   ],
   "source": [
    "solver = hibrid\n",
    "verbose_solver = False\n",
    "verbose_main_loop = False\n",
    "mp.dps = 2000\n",
    "n = 64\n",
    "tau = 14\n",
    "p = nested_Mignotte(n, tau)\n",
    "\n",
    "tolerance = mpf('1.0e-500')\n",
    "#%prun -s cumulative mp_roots(p, tolerance, solver)\n",
    "\n",
    "roots = mp_roots(p, tolerance, solver)\n",
    "print_roots(p, roots)\n",
    "check_roots(p, roots, tolerance)"
   ]
  },
  {
   "cell_type": "markdown",
   "metadata": {},
   "source": [
    "## Chebyshev polynomials of first kind"
   ]
  },
  {
   "cell_type": "code",
   "execution_count": 78,
   "metadata": {},
   "outputs": [],
   "source": [
    "def memoize(f):\n",
    "    memo = {}\n",
    "    def helper(x):\n",
    "        if x not in memo:            \n",
    "            memo[x] = f(x)\n",
    "        return memo[x]\n",
    "    return helper\n",
    "\n",
    "@memoize\n",
    "def Chebyshev(n):\n",
    "    x = symbols('x')\n",
    "    if n == 0:\n",
    "        return 1\n",
    "    elif n == 1:\n",
    "        return x\n",
    "    else:\n",
    "        return (2*x*Chebyshev(n-1) - Chebyshev(n-2)).expand()"
   ]
  },
  {
   "cell_type": "code",
   "execution_count": 170,
   "metadata": {},
   "outputs": [
    {
     "data": {
      "image/png": "[encoded data removed]",
      "text/plain": [
       "<Figure size 432x288 with 1 Axes>"
      ]
     },
     "metadata": {
      "needs_background": "light"
     },
     "output_type": "display_data"
    }
   ],
   "source": [
    "p = Chebyshev(13)\n",
    "plot_p(p, [-1.005, 1.005])"
   ]
  },
  {
   "cell_type": "code",
   "execution_count": 317,
   "metadata": {
    "scrolled": false
   },
   "outputs": [
    {
     "name": "stdout",
     "output_type": "stream",
     "text": [
      "\n",
      "Real roots of p(x) =\n",
      "18446744073709551616*x**65 - 299759591197780213760*x**63 + 2323136831782796656640*x**61 - 11428334414415370649600*x**59 + 40069426604640777011200*x**57 - 106584674768344466849792*x**55 + 223556839026824199536640*x**53 - 379385867215472594780160*x**51 + 530391426205841620992000*x**49 - 618789997240148557824000*x**47 + 608101806378727810007040*x**45 - 506751505315606508339200*x**43 + 359745762028296129740800*x**41 - 218188997679883747328000*x**39 + 113219921064981692416000*x**37 - 50269644952851871432704*x**35 + 19075534915144683356160*x**33 - 6171496590193868144640*x**31 + 1696067325319236812800*x**29 - 393937834141653401600*x**27 + 76817877657622413312*x**25 - 12470434684678963200*x**23 + 1667558126439628800*x**21 - 181256318091264000*x**19 + 15749405687808000*x**17 - 1070959586770944*x**15 + 55449091031040*x**13 - 2107713986560*x**11 + 55948006400*x**9 - 964620800*x**7 + 9646208*x**5 - 45760*x**3 + 65*x\n",
      "Root[0] = \n",
      "-0.99970801408019296428380834045678748933791139943120751779253359115490867768263750459349067145443643219534835231781398605194617409180190475610799018349237440736368460896123001419853332775066584768937189345728682947337866902654086908007554605431817712530150106376496667318313655914449397428614526344384300834588367615601561982860195276413628428299301232343040450443845484247076368659224130553766378802314580862041739171860140831440847513418320791512324402568087635255499309641804811952915095197425601966060442689276199307204217729480051014280543652778972224351791601420461481322314202107707339003150582198876536527442885669651450871431742206710429542585434583339078717430457950898115301564793469608805145325928816005361534074339519401324254755722868592293114400072975434581022088352759463071966771583823\n",
      "Root[1] = \n",
      "-0.99737314969149111899079269287439735641064435023716005764172268408118954915144373906784914103687037881973550010789668120004388063325131856752723716538739014713423669403925335476123515829579856767389170427243268750634215158988199213526065240420634465892754805448527606630337556845857665350801164684312782523510475915967193260613665375304097029669996568053082434939993468919225273978780639768936264400611632047483036213517293542608935590449587375501808956304362012303722473628163165561413873671431819527896565320843729890368824137998443426433799850993438840118323733434187563539389476838890611927463979507827333602836142925029489500774580537186590394456370367476133942840276566875681027000371719601107618435635994833559335563346923393405556830773067721797033014585092307418107133019863869420306252066065\n",
      "Root[2] = \n",
      "-0.99270887409805399280075164949252017934367563297016685577099758421383216909593341317431761785591071792879908817367634668029369971887045557346523024341175116288575652931922002744514947979671868904060384101756272609149844069889119911470116533484473049869355951070152451850669091301194981096243773607471570918807534413971977921735715034649875450540446271165286929411494819543906069226559233026202197379717610537272146173751728478840292472378365494931622517426127044233609135064487525515968929565904874481546188821444941484126871189811771152869453511355375759371708337738575307439760921858203608421985989492580017042373285041324468415250886945027258261158941905335847315138253950846839550646620210229067499787186404712681368398045233084282889295829280207192986049850291142993512435065948965360152040594575\n",
      "Root[3] = \n",
      "-0.98572608093165088542413584010300226413402485681108658637637133926003463207765443157605619965597355427317635857280185635795050085922280859747647880971473036795941494162975505841000444534197144925660629722767314819061511939893673826169823668447344389553746836108262228032239085120203079080941795324827462219703162713813139243491092383261976337196686876308184273384174850752364677341213070696905051645921062378224974503062785220243180706455305231091388397412279172990907592699257718670058418110784752930685005796791278173477569858317898529433739954359867824315231859227390741895485833291420279482017653108244222569211585755233343824617577236860828388426978347381893920680033647192694745709222288576746571758980716835944553592394411419871172067089723327744242790157989704923455146826104528312235620037565\n",
      "Root[4] = \n",
      "-0.97644107882927207448018465921880649675736256182095329530334097236271885715699034538254761994815856355915905525306138266035838402813943821795332007181252187273527448058621661958530336871400688318025848138587873685905735229592754725105016409982252425780859983750199785061853638633164397473026910418589330735695393879621505104031744594873510313671907350356229590563099012750008652413476656333618072178458594066362261946269022435111737826733248341981485306817586147093391965189756538807535145735847176771364380040638777016752572545448210833108091304094146462510141894493896151590851103899663173654548891590457681494335000625523278611382435906497114285088644383851446713875078847508686318725177166702601572910297828618923500897573105370865029778060145241610322691372665437695789282876609037727492793022545\n",
      "Root[5] = \n",
      "-0.96487555334355145835238367363434387243527010969135105984278757199635728722797061957934300017261410747823111035615741517031971796171554760781127547552086026534773403127646059984552151714879497085018211273490981408310561527122959838920501048573172674449212225682164678616930947638094060059176443793256542557437105302161135667158762059040008556495886180934893746487964997890304085821314652680909000469657528379513336953617077840705701111867911393578671689078216383766830297010201335012768765205644440889370307163498994176011411853356259043400548739351800946537698519454214116289511880621671607186065278473190341382570285884597518200507258121044915415521732741622773222733308181393422135118957035356964455257836068004141935413617289796638133415457037325651592436737258210692547208544644957048440327049274\n",
      "Root[6] = \n",
      "-0.95105651629515357211643933337938214340569863412575022244730564443015317008519350171879290209941189485075651898890166377514659472637005680915138771090258725520390689160755773267237597844507855971752278333228096222735927335638024289897946746924849388571855129605707452549276830519650648563454263491858355208552018205860531314275748974510110499905950996554745194687228048986787987474149984145460390902113511000732120418026371248124988699347994819345839816661374017819183150152680112012819023228922978433737303578652705575544915656483126399722615786856352642294648362019243117148206740566489534228297659856420019195192112918644047633332928338103238198814375296409811105541747170084895941319444907713163962690434718960411644487598829760121366456011088387400330273072347117485157420933440094009164093128514\n",
      "Root[7] = \n",
      "-0.93501624268541482343978459983783072905051746957843187069638027009183054288001194863399549470267756059786039206690399602014949986123543394544651300244282414124857465969038652777576875448012779092211431161250113595988514768025939934283306189115806297200066723014852426359288771946707929552389841116592347316928456211868071507082608474253876147346505129221289547878421452110824812795201743710508312822411504928254677599078531037667480669880898210498366274125119343498612367495265395039050315511111673495872584932744154274184140424941734082624064687442536032561699781650605677572619706131540040201725686507483295544895653800699239817129965206753164388808391834081272802576144717384379696693550910955055150751053623933310017719762811061012999166845817257523929022687451989003508245319798417526846830061576\n",
      "Root[8] = \n",
      "-0.91679219531658239802082070797067219343111525742695251991805381833191392214598502424955013359944692649809276374381538869903903267604668701642441550613997576230001442727124235670172022000625580290970311569617739830820478104741080356216603081955943823703104697226280050097970935252421776807299964252179890580228268823965806342281621007992722431939259654453302583497926591691737386256227937517235263992444489638762751315736780960443762765400724350177358962294629371689538479061201157883252243394266291938174246934956318308176352899625432712339250571356984739491556818072726165589231915675952161769378693106349580287790840820805681674581602256951422452515257391984841734246370636738142863583850390008150517297212223209349995437609948690140540095354731945010842737920292614824160501719888219552294260201433\n",
      "Root[9] = \n",
      "-0.89642693729570375935161550155440019387587324899821203586406169529695069703102248699934713945285301044739558362264659678148422221970340418725618154763789972533530646362953397560303246001826460237821143570731853612638499360494721343751221046528211055794485106680160522806204169506596495319477135860531507020378008027659824967600552490129213982987870331854726527342651893999514143135326166112844543866053573726140118103977698779778072782845597494581985675689918497910578742102009600803693809858762331399107384424445153698620259302535893945050808984238218847612974537040753978413549345748788289972536444607146386984897035862794493161595057465179404263830063007057913354359193770847155729381064727479780662537880968484055422407922898724201295477105434416581586595438802848694758959914871831418940885304807\n",
      "Root[10] = \n",
      "-0.87396803262651796303998829409042078786828943759515654696096453561626298953183410642520246118340788036581499315284523487346306274477938622276077045125283259859325540692838314541343699822448554914767603900124878735156455561689014765477468427677940363814351055480955601676264884273712244076986959301197101784986121686444092697192227920593631063346534710412075628847228427192040959027546384599377500669586150439118226263746136453632953170997598959509964451883756884277230926917835469939263679215204136038039218618843176481846121297226009085320110383083494210389445472367980501678056506367793731768401737734682572291169342660780352389960010638897990458982663712986838511005252643492286823405817909630417350062909051125762772911767616858013511644651730280253662302968203250643599238210516252313129958133131\n",
      "Root[11] = \n",
      "-0.84946793512152102963557504394600296594569327887109854988487778524146238999967927334953870808683068846227209408763660817106871413009129397834051870320729175896992060836132257646681285603383628872215498633304027498615289363314710613219552984019465053956187850896046741778784171889237037835055687578614845295551755077534088277974552612748478175992850500323118972654882901194341002279929465598578367075958223658543319042463651978252402256022676458290258048146311997030362687124719539790411342724159826938084882991791054182759206578978558504225028894172365322200506951191740301236232795540978496418436829958060895760691794778792324743600716809067307430631613885566512635756391005098344803783582413831705550225336490261418005073591368690587099193493631922008928024374960553336152738254870436838109245796627\n",
      "Root[12] = \n",
      "-0.82298386589365639457961742343938199065506769308757380640032091435633653187847482172468618049317282970668257927557011451733007394426272925395468335195279974594390808894222164495037172346996037492095073132417473052451276610112094951511766105555066122753796135851268926049522299496158499230603718950486859387729137730619082947573243183537701247070733493567579713476485668102192677404038694972857707242730315899608495611824268828487682028654592914490615847210887764706771657569747363923294320481106706838866763813872820657828543783850232033147659046259935920825457306102076287343300122189210565274368588696389580867780307496941739725514659435455191864148290127177911909117332649873378429344307576513955293730745549910066631523945922885647602509351420456065720672742200258098318415544663441203768977775336\n",
      "Root[13] = \n",
      "-0.79457767971375426869762981015047695392492500097169854182003377064011173923783500481957066797427974721758529399329685762276251942857249026467651010852634223140916632697087324817081515371267560359012022867633889829436281289996188780393036710018217069861711636754248207722534879667623600285961933631728785439165710307896470686668175024943511726687697261699872764260962762061046549836427579614207944112811654341018572100175600866738856938940583763598708733398632626930617519993734802664091976735845354755076005849219740167607806001829708050707474103322470224611721146125228297971787730581991879147190450005851774981658497587900757831554821287814701906078057464084584648473023885326370061015864499264136154817688293443788173620141568136253448815488875524869036411709906813146824138658294796160699272469373\n",
      "Root[14] = \n",
      "-0.7643157205458483019829111871324356574580523847400562788653286971408273021146758553337069317512269026505442096613261927631071394853882940736744261525744204996299715458558695002650023011029704313794701408938453790710134503501318859731467284172976534378288773030040792892998171960359616260523526673192113841938534337187794382232151625676924413978082912496979161130805242456627841690242646095345228538856819862378948393106157487186644099421268049862496263475475206710883831526642450385518711216591716575832511868576075379967911716534378971429790093972771188243822003778308481524038238506288467084486526670483371911734801936657465473538993791253491076354566115735115430526667669177880920276493094551537485810860682876900660331068982328593029006061507743194844075348298797342800066265625643782061374784713\n",
      "Root[15] = \n",
      "-0.73226866659777351242384168876105024268520038939326757444574914328880562192505050016564371935581120690745187642235040937336032275670564783384221184537202720104014389277822599169187811756140680027030138290241605843678482322336787676380146336849563318267461678011718532288209267323625716693975649922018296146280128296883275696132721075266068081551535872371868423890945708521453189438142658980754031461553660522133740661850912300934128265780935417058210625992154433632287800357236864281566537704729621335917311590413699004419263586038893291346104667506670192096752197126152029934658318232616658540475561861579614538630196644494653753232523410048676500350111025336279334599759277636522070939181588688649627886513189268450467324929214851843891194128500826135768059607839365543116047176445342316081758475717\n",
      "Root[16] = \n",
      "-0.69851136524893698804647270082484190554121222279489349241939489672517703803818931569416491603166426751126564066712147475762702639122097881082221880051084222112904877268616299757361400505943998739624315584633719334572428845914026519735723351582258203896070688124658918694712307142632360543910834772992546273816958295570206298845018209702642842383426291522052325393200863244697310470406098064592748445172717669094121463225447353168016855692378244741936508699756228401318682694993514576328208167486875669372274804477041487362108859982121077742116626729224768571206560319081556203847184662346105519465254689697516612025207335547013381688095423027185108858591200038271814462629327834686655336350723336350415477416709372095735153585232442875602246517023466747772633274236080881410272897859355118704455868519\n",
      "Root[17] = \n",
      "-0.66312265824079520237678549266676627952476410704410618818078651080889875987039844289996063772516157162449317234987593202143003012779226336510313971903004042937008956221652815412854399517360021250587455389060069312384022053120094560194794971813631908314477362678962296109597889939312422446765477942529411750283113897339210176865370678204427897244202184647087430945939298884534940032249841198760409788356641608750857170395289381917083041278168739699393944653789317084208369873977204258614745592456651367084296709776863748076420304634748101121142322011124249314744178381415179749281751491488566258739120089653592591340818112902450171556919086095338783059649173500771728115245152928042610666778204551675468947373932158742281927880553755923797008521275144793928031636358748421210731512366576559075883190678\n",
      "Root[18] = \n",
      "-0.62618519753831368341221791257552681434626876357247492130972975249398974892428256289762358131398817699587714588551078540846917084468119875481235724550239412505677143467973384384423986865787282299068254421801089327290064601271165223019884482007000981251218834007123860597287352070892945285360141696913598552543784302483815728391304837475601578502561088964205154477320671766235557144318792493601635236384770818893299438781747236740398675192387142682295537600236553158062002036705569297084480140218562426112858461801353750917407954468683519594791749144237773609879909832921047315773822123103559964145774620988290511658243956467811475179577807070699875125970819187474820793414006919748106780330228472382086302900301853713769539210952608910526688906581796351635434192198771691086166507128708600837422564718\n",
      "Root[19] = \n",
      "-0.58778525229247312916870595463907276859765243764314599107227248117580662640052553056764316383659763960288895249894636306194601040371848363870853596915567244841786526808165172123771934761874568898271289515975850413487598366716975651538174926642487891830262042688229887933301047095574706342521268403379121802672834713882246144177054906474732447873158386122810460040547030752884715915806125345698770897902455878666641574146849310411187417297950526380412530522476220526168636603101785300011281545422099685479995321859706265675529368610613082786611072252990751723835333388203829215165320179190685426951208031634010943936870337156952930512473462007200307071776706590173580152060461117277912286007922610775904985911962035942503772824046013046476253641714416500230141926061876392426521838988957374684267418247\n",
      "Root[20] = \n",
      "-0.54801250735466998122960915431403190072504242748836099770757413077098622623605779544799384133891157673136796332489714600494808685223263598528764839801274512990883715324580263716032363542136720553350506576187358078037395864266580928417484811660661086891736838950541538724544933491526932890250242234012115087371173609067472415573904117950425004766401751374513925487559245577825232692406161025928666041519686463509203253105112076414357337784217249837708159111433633839453007242906706307246838758297190283925362423892716714642760058077355424120433757700866335116786045558159765343142411732809745834418767208969033365197378948668467183055388426245955734832863348589311555103326064667933006512440666554248822113815951366642615096192966489258473916199591628595460621206752446214852062237257779823860459375333\n",
      "Root[21] = \n",
      "-0.50695985381359040966212566018620585820704469026592609847385270949098291615571257790169520749240497237687982731660478258911940347399475783680129653026853916695007603324413838878116395610599178604298517784125338272037443665120797326511692334978226408122658667306903964357975740631600476518973144166788108256319367731112956230457005250284983935766212761693175340810676922185564958733962758408620964501472545980158764859003285286353983174967313100851387986799320661930833914286806098707624158533305749286499248480285067154705200885056832094771381181587590600622201094494078747270822516256773379495041817099225469710886809585505401434049130386054080653471482970782023720038557529752422230098642965242454310581306787516238488185058516701107647461746093164310604609487291167572334705180384940289439196668366\n",
      "Root[22] = \n",
      "-0.46472317204376854565601533513310477755773586533246897695402468501668689749380794307415079845721126766883099813243192339652252575586358201536097679629248042975481321311327403369826998739399399263728893881109900331562576722365810704055352087052250166999244330069439232245104736039805756215939693246594850573764602265692700794287318414794842965563634275117270757925197845589135690295260603592614132506656698478551762115002340524035554984459138270016006611036318609989834621264468060507137834502377555599265743915694482057162024346102879097834871309677848022552557153563219857357423810288358943687463350740835657390398441600228813833208875749982114634530235527558819255316057078694817018020256811205668054528953357769328656662633008761423680392288597079919274773000651645052468940821644664081416864994607\n",
      "Root[23] = \n",
      "-0.42140110777252910665260129526288588126743214897003293845912577093151259105384887275581957664905512576310603335860903564236456961474211971891922183707899699266964624287038414112821792876878269811071708128597384752269106706278752643163524680366690179807706981268662417996381646145404743460685607220995684970244784766812085303068553696778190206601492248286079642377607327686895665905269555009062020244832886787166796872224142877519338759578600010605155273534354781449829224692002847221953968558896837599519703160443599013218761055018735017727639984086516818416458997945130118764380294575214098518348623736479930244003353243529851873775553984464100873885744792041787845089101918157408395402230613202851333428393870418653974277098591331707116674224951511499450060393393582954408498618140940629714645123751\n",
      "Root[24] = \n",
      "-0.37709484168832044547893981194382937178992829063568874375110754446869464073565706189984980343343895967594561123236908399183605583408864860563490759268292545532847600952049120465049601441414996946786352035875788435182947212771238293103305694423570155711138149050593299661754987639404578077402736937666354482188607833198592345872073216436739408942800422314298080354604483797139622535775583351062089695343367747755213945064183737574060251133236459756056029376456156424253483539699427986274155264574713619022057829757139122272214075190950177827498064106326499245327755571353194525750396989063030830883300555004867468235496996812076100598917036996420558303610549520295509405459102257485860439912715846536542803418229543580539853627576297861741925534199457428086441691643260314678218197051107053568173138781\n",
      "Root[25] = \n",
      "-0.33190785312852843692869913273980867499575207690849541646493019374990787392370686610927451742564518690400039587313154159554441856021939563681953207922289217506091356055674870733794814054716837008218926298584021755594269857661998143153809212425708622396087239393598324102908564777791526445501625689160862405980662135460267589560654432782531489762082893424032962981561767167299946109689922113125656689522216190438217283364352886645086136584168826355182223100002583712818795986278172795351639037422780053702191739942700940603575652125898832020429021567128426324395569594319474155252278048635927154127253709264626232974840043228677263378959222792914038329736117679541050756879511256807400568506973499349037955153418321537780671420041781978232334852219425189948831365390395148045471537608169480401826887173\n",
      "Root[26] = \n",
      "-0.28594567839868926206473976039326278024632921771956941336357806246765094386270176438486072539588448700459466916562953556682374268283696978247871003612539231234855844812367652554413360187888373859765495913150426146435765206371651440960651289689130760081050573866065655752217129243030405942970305807819998374535209531085802117634896433566639649995424043303718453428381764066635076597179100025128266762915092023978881760017790982453896076647236700433178859281474271922646719507989868006662378829404461802348919944835103949305321729966450916832427825428196041653115148730368064838970232064103035414089912951459251047002581851724923040652911268603217601278263098715358173957164205990015461030216893618149231720431034090919265181404512471955757189498567076861695797252135102093474456505283244216447567161961\n",
      "Root[27] = \n",
      "-0.23931566428755776714875372626021189520317302273830601335515971866183156285075327613957788552570744602291093327590779628778812260271656410524990466596269040623940824692038297723742668599923739396876615273205685022285378342347380836497684958363132229516921118219894292911543332084115269597934557948722367219261592842965082027169801317368574806369444281681109829891087006443846913984589310268530853328148881798112369030941570433702917657678527176431274971078924915232594029858483532255375797135897995549665301135484005002859492478999391396917580359855120136560690675597200459454620846750355130183238694229750452977434727740799352097086262317153855321382332245602134390248205978341677442637263918293769297946853020123059465977440506456506730102613232565585711802875482381875781902337366933346731923045132\n",
      "Root[28] = \n",
      "-0.19212671735370837601047703809606496994238204504822432717652364344736031328626909485839227990843778531241753890983536856188923857966265328156134031779302291397741773774508362927225938790792223496331530173315472108198727689611469485188476124456723773827512204134702778484747252024479421836772922919449354861372544731942500690047661353730426174938909674650598298181806552178409301151305366599741446480107540152775911651599177902857880343491691244310665402977133363508224478480741880279105306208181402596558778491920509643725012571572590530802013904233517648176344684174165499872134865652999477311920561611210857398866026867753012927751895809572325803230049706361316368223486722170391087968920007809666107458429352866451108432275873424621120538294948816852629302399102012888444250770448224213621701893645\n",
      "Root[29] = \n",
      "-0.14448904956922131631793702714313505772532474964954996495305707181774616442974618525543682142056683301628759217490521179013664006827870875089802989829222490337185709469652136237957080459129181770572392337835652581783896653987106386283709399126025342566865053479783568550712009984189436853379428308219104083466374987366936691640394146253093521764680303110103600913536356186504069034493175662320846560141108051098098309539200732308119794388246499982172756838559754962052645030146221553159653872818699874712141422305678025233470974770275722509164721844817904697911630238919485210222891037039027636857215142712681559189860486185497907204649545929152161906458370454095535203531456729159779571369687602165890804880449962602547022096129455565655015944920961106481741531482106541096063670083341177196541270878\n",
      "Root[30] = \n",
      "-0.096513920914515116255295881232426117991472112384179314321646466194575548689615001096956397630115734589610857433060612730226024641063409974600454567787599425897951169460776924465298807164102547066441027530266793129812035470874154133354895214991093213779168048234273964731219708371140806685279298164660938963263070354016492209310683656979657227276795698532910942983882801686703949662978168704878148876082388502718073241892809639662407143085387405156411568171419258539982682221890754026381563454748326591528853495510422997009969218439437449826828733611551048888839088439598230850421677288867728430429097356370829967346560321276779275095421476941060338504893711855598764238341637979401914516605431268609644529095299489003963470953546414175919228577698681804176500157699939428138844993699434833653546118204\n",
      "Root[31] = \n",
      "-0.048313379525507067270009684464981770236473695971194734455748310821250114540593849707403873144303475652462016124552408301550421016332843697296166673350730431035857002352511398827526989350738744987426127602696083004204773070733274751017511743171098680608511818160975591621971865585460970639579491759424340873573903002072425226876067783569513682023811389190161527552411133348808543403163212315240755062663032266403290740188810136681195663950252256310065819504208835821978962538101710073461586747246631216917588034127324176270048229268444563700137643486830363907701079897439390361823590511262166367774484279027005118783666285709255871585866591805169214194145468018089560266890568781719610513425663850854709982934286329333922653955976262124566871481917488842736182405931637324364904980074340662649879608341\n",
      "Root[32] = \n",
      "0.0\n",
      "Root[33] = \n",
      "0.048313379525507067270009684464981770236473695971194734455748310821250114540593849707403873144303475652462016124552408301550421016332843697296166673350730431035857002352511398827526989350738744987426127602696083004204773070733274751017511743171098680608511818160975591621971865585460970639579491759424340873573903002072425226876067783569513682023811389190161527552411133348808543403163212315240755062663032266403290740188810136681195663950252256310065819504208835821978962538101710073461586747246631216917588034127324176270048229268444563700137643486830363907701079897439390361823590511262166367774484279027005118783666285709255871585866591805169214194145468018089560266890568781719610513425663850854709982934286329333922653955976262124566871481917488842736182405931637324364904980074340662649879608341\n",
      "Root[34] = \n",
      "0.096513920914515116255295881232426117991472112384179314321646466194575548689615001096956397630115734589610857433060612730226024641063409974600454567787599425897951169460776924465298807164102547066441027530266793129812035470874154133354895214991093213779168048234273964731219708371140806685279298164660938963263070354016492209310683656979657227276795698532910942983882801686703949662978168704878148876082388502718073241892809639662407143085387405156411568171419258539982682221890754026381563454748326591528853495510422997009969218439437449826828733611551048888839088439598230850421677288867728430429097356370829967346560321276779275095421476941060338504893711855598764238341637979401914516605431268609644529095299489003963470953546414175919228577698681804176500157699939428138844993699434833653546118204\n",
      "Root[35] = \n",
      "0.14448904956922131631793702714313505772532474964954996495305707181774616442974618525543682142056683301628759217490521179013664006827870875089802989829222490337185709469652136237957080459129181770572392337835652581783896653987106386283709399126025342566865053479783568550712009984189436853379428308219104083466374987366936691640394146253093521764680303110103600913536356186504069034493175662320846560141108051098098309539200732308119794388246499982172756838559754962052645030146221553159653872818699874712141422305678025233470974770275722509164721844817904697911630238919485210222891037039027636857215142712681559189860486185497907204649545929152161906458370454095535203531456729159779571369687602165890804880449962602547022096129455565655015944920961106481741531482106541096063670083341177196541270878\n",
      "Root[36] = \n",
      "0.19212671735370837601047703809606496994238204504822432717652364344736031328626909485839227990843778531241753890983536856188923857966265328156134031779302291397741773774508362927225938790792223496331530173315472108198727689611469485188476124456723773827512204134702778484747252024479421836772922919449354861372544731942500690047661353730426174938909674650598298181806552178409301151305366599741446480107540152775911651599177902857880343491691244310665402977133363508224478480741880279105306208181402596558778491920509643725012571572590530802013904233517648176344684174165499872134865652999477311920561611210857398866026867753012927751895809572325803230049706361316368223486722170391087968920007809666107458429352866451108432275873424621120538294948816852629302399102012888444250770448224213621701893645\n",
      "Root[37] = \n",
      "0.23931566428755776714875372626021189520317302273830601335515971866183156285075327613957788552570744602291093327590779628778812260271656410524990466596269040623940824692038297723742668599923739396876615273205685022285378342347380836497684958363132229516921118219894292911543332084115269597934557948722367219261592842965082027169801317368574806369444281681109829891087006443846913984589310268530853328148881798112369030941570433702917657678527176431274971078924915232594029858483532255375797135897995549665301135484005002859492478999391396917580359855120136560690675597200459454620846750355130183238694229750452977434727740799352097086262317153855321382332245602134390248205978341677442637263918293769297946853020123059465977440506456506730102613232565585711802875482381875781902337366933346731923045132\n",
      "Root[38] = \n",
      "0.28594567839868926206473976039326278024632921771956941336357806246765094386270176438486072539588448700459466916562953556682374268283696978247871003612539231234855844812367652554413360187888373859765495913150426146435765206371651440960651289689130760081050573866065655752217129243030405942970305807819998374535209531085802117634896433566639649995424043303718453428381764066635076597179100025128266762915092023978881760017790982453896076647236700433178859281474271922646719507989868006662378829404461802348919944835103949305321729966450916832427825428196041653115148730368064838970232064103035414089912951459251047002581851724923040652911268603217601278263098715358173957164205990015461030216893618149231720431034090919265181404512471955757189498567076861695797252135102093474456505283244216447567161961\n",
      "Root[39] = \n",
      "0.33190785312852843692869913273980867499575207690849541646493019374990787392370686610927451742564518690400039587313154159554441856021939563681953207922289217506091356055674870733794814054716837008218926298584021755594269857661998143153809212425708622396087239393598324102908564777791526445501625689160862405980662135460267589560654432782531489762082893424032962981561767167299946109689922113125656689522216190438217283364352886645086136584168826355182223100002583712818795986278172795351639037422780053702191739942700940603575652125898832020429021567128426324395569594319474155252278048635927154127253709264626232974840043228677263378959222792914038329736117679541050756879511256807400568506973499349037955153418321537780671420041781978232334852219425189948831365390395148045471537608169480401826887173\n",
      "Root[40] = \n",
      "0.37709484168832044547893981194382937178992829063568874375110754446869464073565706189984980343343895967594561123236908399183605583408864860563490759268292545532847600952049120465049601441414996946786352035875788435182947212771238293103305694423570155711138149050593299661754987639404578077402736937666354482188607833198592345872073216436739408942800422314298080354604483797139622535775583351062089695343367747755213945064183737574060251133236459756056029376456156424253483539699427986274155264574713619022057829757139122272214075190950177827498064106326499245327755571353194525750396989063030830883300555004867468235496996812076100598917036996420558303610549520295509405459102257485860439912715846536542803418229543580539853627576297861741925534199457428086441691643260314678218197051107053568173138781\n",
      "Root[41] = \n",
      "0.42140110777252910665260129526288588126743214897003293845912577093151259105384887275581957664905512576310603335860903564236456961474211971891922183707899699266964624287038414112821792876878269811071708128597384752269106706278752643163524680366690179807706981268662417996381646145404743460685607220995684970244784766812085303068553696778190206601492248286079642377607327686895665905269555009062020244832886787166796872224142877519338759578600010605155273534354781449829224692002847221953968558896837599519703160443599013218761055018735017727639984086516818416458997945130118764380294575214098518348623736479930244003353243529851873775553984464100873885744792041787845089101918157408395402230613202851333428393870418653974277098591331707116674224951511499450060393393582954408498618140940629714645123751\n",
      "Root[42] = \n",
      "0.46472317204376854565601533513310477755773586533246897695402468501668689749380794307415079845721126766883099813243192339652252575586358201536097679629248042975481321311327403369826998739399399263728893881109900331562576722365810704055352087052250166999244330069439232245104736039805756215939693246594850573764602265692700794287318414794842965563634275117270757925197845589135690295260603592614132506656698478551762115002340524035554984459138270016006611036318609989834621264468060507137834502377555599265743915694482057162024346102879097834871309677848022552557153563219857357423810288358943687463350740835657390398441600228813833208875749982114634530235527558819255316057078694817018020256811205668054528953357769328656662633008761423680392288597079919274773000651645052468940821644664081416864994607\n",
      "Root[43] = \n",
      "0.50695985381359040966212566018620585820704469026592609847385270949098291615571257790169520749240497237687982731660478258911940347399475783680129653026853916695007603324413838878116395610599178604298517784125338272037443665120797326511692334978226408122658667306903964357975740631600476518973144166788108256319367731112956230457005250284983935766212761693175340810676922185564958733962758408620964501472545980158764859003285286353983174967313100851387986799320661930833914286806098707624158533305749286499248480285067154705200885056832094771381181587590600622201094494078747270822516256773379495041817099225469710886809585505401434049130386054080653471482970782023720038557529752422230098642965242454310581306787516238488185058516701107647461746093164310604609487291167572334705180384940289439196668366\n",
      "Root[44] = \n",
      "0.54801250735466998122960915431403190072504242748836099770757413077098622623605779544799384133891157673136796332489714600494808685223263598528764839801274512990883715324580263716032363542136720553350506576187358078037395864266580928417484811660661086891736838950541538724544933491526932890250242234012115087371173609067472415573904117950425004766401751374513925487559245577825232692406161025928666041519686463509203253105112076414357337784217249837708159111433633839453007242906706307246838758297190283925362423892716714642760058077355424120433757700866335116786045558159765343142411732809745834418767208969033365197378948668467183055388426245955734832863348589311555103326064667933006512440666554248822113815951366642615096192966489258473916199591628595460621206752446214852062237257779823860459375333\n",
      "Root[45] = \n",
      "0.58778525229247312916870595463907276859765243764314599107227248117580662640052553056764316383659763960288895249894636306194601040371848363870853596915567244841786526808165172123771934761874568898271289515975850413487598366716975651538174926642487891830262042688229887933301047095574706342521268403379121802672834713882246144177054906474732447873158386122810460040547030752884715915806125345698770897902455878666641574146849310411187417297950526380412530522476220526168636603101785300011281545422099685479995321859706265675529368610613082786611072252990751723835333388203829215165320179190685426951208031634010943936870337156952930512473462007200307071776706590173580152060461117277912286007922610775904985911962035942503772824046013046476253641714416500230141926061876392426521838988957374684267418247\n",
      "Root[46] = \n",
      "0.62618519753831368341221791257552681434626876357247492130972975249398974892428256289762358131398817699587714588551078540846917084468119875481235724550239412505677143467973384384423986865787282299068254421801089327290064601271165223019884482007000981251218834007123860597287352070892945285360141696913598552543784302483815728391304837475601578502561088964205154477320671766235557144318792493601635236384770818893299438781747236740398675192387142682295537600236553158062002036705569297084480140218562426112858461801353750917407954468683519594791749144237773609879909832921047315773822123103559964145774620988290511658243956467811475179577807070699875125970819187474820793414006919748106780330228472382086302900301853713769539210952608910526688906581796351635434192198771691086166507128708600837422564718\n",
      "Root[47] = \n",
      "0.66312265824079520237678549266676627952476410704410618818078651080889875987039844289996063772516157162449317234987593202143003012779226336510313971903004042937008956221652815412854399517360021250587455389060069312384022053120094560194794971813631908314477362678962296109597889939312422446765477942529411750283113897339210176865370678204427897244202184647087430945939298884534940032249841198760409788356641608750857170395289381917083041278168739699393944653789317084208369873977204258614745592456651367084296709776863748076420304634748101121142322011124249314744178381415179749281751491488566258739120089653592591340818112902450171556919086095338783059649173500771728115245152928042610666778204551675468947373932158742281927880553755923797008521275144793928031636358748421210731512366576559075883190678\n",
      "Root[48] = \n",
      "0.69851136524893698804647270082484190554121222279489349241939489672517703803818931569416491603166426751126564066712147475762702639122097881082221880051084222112904877268616299757361400505943998739624315584633719334572428845914026519735723351582258203896070688124658918694712307142632360543910834772992546273816958295570206298845018209702642842383426291522052325393200863244697310470406098064592748445172717669094121463225447353168016855692378244741936508699756228401318682694993514576328208167486875669372274804477041487362108859982121077742116626729224768571206560319081556203847184662346105519465254689697516612025207335547013381688095423027185108858591200038271814462629327834686655336350723336350415477416709372095735153585232442875602246517023466747772633274236080881410272897859355118704455868519\n",
      "Root[49] = \n",
      "0.73226866659777351242384168876105024268520038939326757444574914328880562192505050016564371935581120690745187642235040937336032275670564783384221184537202720104014389277822599169187811756140680027030138290241605843678482322336787676380146336849563318267461678011718532288209267323625716693975649922018296146280128296883275696132721075266068081551535872371868423890945708521453189438142658980754031461553660522133740661850912300934128265780935417058210625992154433632287800357236864281566537704729621335917311590413699004419263586038893291346104667506670192096752197126152029934658318232616658540475561861579614538630196644494653753232523410048676500350111025336279334599759277636522070939181588688649627886513189268450467324929214851843891194128500826135768059607839365543116047176445342316081758475717\n",
      "Root[50] = \n",
      "0.7643157205458483019829111871324356574580523847400562788653286971408273021146758553337069317512269026505442096613261927631071394853882940736744261525744204996299715458558695002650023011029704313794701408938453790710134503501318859731467284172976534378288773030040792892998171960359616260523526673192113841938534337187794382232151625676924413978082912496979161130805242456627841690242646095345228538856819862378948393106157487186644099421268049862496263475475206710883831526642450385518711216591716575832511868576075379967911716534378971429790093972771188243822003778308481524038238506288467084486526670483371911734801936657465473538993791253491076354566115735115430526667669177880920276493094551537485810860682876900660331068982328593029006061507743194844075348298797342800066265625643782061374784713\n",
      "Root[51] = \n",
      "0.79457767971375426869762981015047695392492500097169854182003377064011173923783500481957066797427974721758529399329685762276251942857249026467651010852634223140916632697087324817081515371267560359012022867633889829436281289996188780393036710018217069861711636754248207722534879667623600285961933631728785439165710307896470686668175024943511726687697261699872764260962762061046549836427579614207944112811654341018572100175600866738856938940583763598708733398632626930617519993734802664091976735845354755076005849219740167607806001829708050707474103322470224611721146125228297971787730581991879147190450005851774981658497587900757831554821287814701906078057464084584648473023885326370061015864499264136154817688293443788173620141568136253448815488875524869036411709906813146824138658294796160699272469373\n",
      "Root[52] = \n",
      "0.82298386589365639457961742343938199065506769308757380640032091435633653187847482172468618049317282970668257927557011451733007394426272925395468335195279974594390808894222164495037172346996037492095073132417473052451276610112094951511766105555066122753796135851268926049522299496158499230603718950486859387729137730619082947573243183537701247070733493567579713476485668102192677404038694972857707242730315899608495611824268828487682028654592914490615847210887764706771657569747363923294320481106706838866763813872820657828543783850232033147659046259935920825457306102076287343300122189210565274368588696389580867780307496941739725514659435455191864148290127177911909117332649873378429344307576513955293730745549910066631523945922885647602509351420456065720672742200258098318415544663441203768977775336\n",
      "Root[53] = \n",
      "0.84946793512152102963557504394600296594569327887109854988487778524146238999967927334953870808683068846227209408763660817106871413009129397834051870320729175896992060836132257646681285603383628872215498633304027498615289363314710613219552984019465053956187850896046741778784171889237037835055687578614845295551755077534088277974552612748478175992850500323118972654882901194341002279929465598578367075958223658543319042463651978252402256022676458290258048146311997030362687124719539790411342724159826938084882991791054182759206578978558504225028894172365322200506951191740301236232795540978496418436829958060895760691794778792324743600716809067307430631613885566512635756391005098344803783582413831705550225336490261418005073591368690587099193493631922008928024374960553336152738254870436838109245796627\n",
      "Root[54] = \n",
      "0.87396803262651796303998829409042078786828943759515654696096453561626298953183410642520246118340788036581499315284523487346306274477938622276077045125283259859325540692838314541343699822448554914767603900124878735156455561689014765477468427677940363814351055480955601676264884273712244076986959301197101784986121686444092697192227920593631063346534710412075628847228427192040959027546384599377500669586150439118226263746136453632953170997598959509964451883756884277230926917835469939263679215204136038039218618843176481846121297226009085320110383083494210389445472367980501678056506367793731768401737734682572291169342660780352389960010638897990458982663712986838511005252643492286823405817909630417350062909051125762772911767616858013511644651730280253662302968203250643599238210516252313129958133131\n",
      "Root[55] = \n",
      "0.89642693729570375935161550155440019387587324899821203586406169529695069703102248699934713945285301044739558362264659678148422221970340418725618154763789972533530646362953397560303246001826460237821143570731853612638499360494721343751221046528211055794485106680160522806204169506596495319477135860531507020378008027659824967600552490129213982987870331854726527342651893999514143135326166112844543866053573726140118103977698779778072782845597494581985675689918497910578742102009600803693809858762331399107384424445153698620259302535893945050808984238218847612974537040753978413549345748788289972536444607146386984897035862794493161595057465179404263830063007057913354359193770847155729381064727479780662537880968484055422407922898724201295477105434416581586595438802848694758959914871831418940885304807\n",
      "Root[56] = \n",
      "0.91679219531658239802082070797067219343111525742695251991805381833191392214598502424955013359944692649809276374381538869903903267604668701642441550613997576230001442727124235670172022000625580290970311569617739830820478104741080356216603081955943823703104697226280050097970935252421776807299964252179890580228268823965806342281621007992722431939259654453302583497926591691737386256227937517235263992444489638762751315736780960443762765400724350177358962294629371689538479061201157883252243394266291938174246934956318308176352899625432712339250571356984739491556818072726165589231915675952161769378693106349580287790840820805681674581602256951422452515257391984841734246370636738142863583850390008150517297212223209349995437609948690140540095354731945010842737920292614824160501719888219552294260201433\n",
      "Root[57] = \n",
      "0.93501624268541482343978459983783072905051746957843187069638027009183054288001194863399549470267756059786039206690399602014949986123543394544651300244282414124857465969038652777576875448012779092211431161250113595988514768025939934283306189115806297200066723014852426359288771946707929552389841116592347316928456211868071507082608474253876147346505129221289547878421452110824812795201743710508312822411504928254677599078531037667480669880898210498366274125119343498612367495265395039050315511111673495872584932744154274184140424941734082624064687442536032561699781650605677572619706131540040201725686507483295544895653800699239817129965206753164388808391834081272802576144717384379696693550910955055150751053623933310017719762811061012999166845817257523929022687451989003508245319798417526846830061576\n",
      "Root[58] = \n",
      "0.95105651629515357211643933337938214340569863412575022244730564443015317008519350171879290209941189485075651898890166377514659472637005680915138771090258725520390689160755773267237597844507855971752278333228096222735927335638024289897946746924849388571855129605707452549276830519650648563454263491858355208552018205860531314275748974510110499905950996554745194687228048986787987474149984145460390902113511000732120418026371248124988699347994819345839816661374017819183150152680112012819023228922978433737303578652705575544915656483126399722615786856352642294648362019243117148206740566489534228297659856420019195192112918644047633332928338103238198814375296409811105541747170084895941319444907713163962690434718960411644487598829760121366456011088387400330273072347117485157420933440094009164093128514\n",
      "Root[59] = \n",
      "0.96487555334355145835238367363434387243527010969135105984278757199635728722797061957934300017261410747823111035615741517031971796171554760781127547552086026534773403127646059984552151714879497085018211273490981408310561527122959838920501048573172674449212225682164678616930947638094060059176443793256542557437105302161135667158762059040008556495886180934893746487964997890304085821314652680909000469657528379513336953617077840705701111867911393578671689078216383766830297010201335012768765205644440889370307163498994176011411853356259043400548739351800946537698519454214116289511880621671607186065278473190341382570285884597518200507258121044915415521732741622773222733308181393422135118957035356964455257836068004141935413617289796638133415457037325651592436737258210692547208544644957048440327049274\n",
      "Root[60] = \n",
      "0.97644107882927207448018465921880649675736256182095329530334097236271885715699034538254761994815856355915905525306138266035838402813943821795332007181252187273527448058621661958530336871400688318025848138587873685905735229592754725105016409982252425780859983750199785061853638633164397473026910418589330735695393879621505104031744594873510313671907350356229590563099012750008652413476656333618072178458594066362261946269022435111737826733248341981485306817586147093391965189756538807535145735847176771364380040638777016752572545448210833108091304094146462510141894493896151590851103899663173654548891590457681494335000625523278611382435906497114285088644383851446713875078847508686318725177166702601572910297828618923500897573105370865029778060145241610322691372665437695789282876609037727492793022545\n",
      "Root[61] = \n",
      "0.98572608093165088542413584010300226413402485681108658637637133926003463207765443157605619965597355427317635857280185635795050085922280859747647880971473036795941494162975505841000444534197144925660629722767314819061511939893673826169823668447344389553746836108262228032239085120203079080941795324827462219703162713813139243491092383261976337196686876308184273384174850752364677341213070696905051645921062378224974503062785220243180706455305231091388397412279172990907592699257718670058418110784752930685005796791278173477569858317898529433739954359867824315231859227390741895485833291420279482017653108244222569211585755233343824617577236860828388426978347381893920680033647192694745709222288576746571758980716835944553592394411419871172067089723327744242790157989704923455146826104528312235620037565\n",
      "Root[62] = \n",
      "0.99270887409805399280075164949252017934367563297016685577099758421383216909593341317431761785591071792879908817367634668029369971887045557346523024341175116288575652931922002744514947979671868904060384101756272609149844069889119911470116533484473049869355951070152451850669091301194981096243773607471570918807534413971977921735715034649875450540446271165286929411494819543906069226559233026202197379717610537272146173751728478840292472378365494931622517426127044233609135064487525515968929565904874481546188821444941484126871189811771152869453511355375759371708337738575307439760921858203608421985989492580017042373285041324468415250886945027258261158941905335847315138253950846839550646620210229067499787186404712681368398045233084282889295829280207192986049850291142993512435065948965360152040594575\n",
      "Root[63] = \n",
      "0.99737314969149111899079269287439735641064435023716005764172268408118954915144373906784914103687037881973550010789668120004388063325131856752723716538739014713423669403925335476123515829579856767389170427243268750634215158988199213526065240420634465892754805448527606630337556845857665350801164684312782523510475915967193260613665375304097029669996568053082434939993468919225273978780639768936264400611632047483036213517293542608935590449587375501808956304362012303722473628163165561413873671431819527896565320843729890368824137998443426433799850993438840118323733434187563539389476838890611927463979507827333602836142925029489500774580537186590394456370367476133942840276566875681027000371719601107618435635994833559335563346923393405556830773067721797033014585092307418107133019863869420306252066065\n",
      "Root[64] = \n",
      "0.99970801408019296428380834045678748933791139943120751779253359115490867768263750459349067145443643219534835231781398605194617409180190475610799018349237440736368460896123001419853332775066584768937189345728682947337866902654086908007554605431817712530150106376496667318313655914449397428614526344384300834588367615601561982860195276413628428299301232343040450443845484247076368659224130553766378802314580862041739171860140831440847513418320791512324402568087635255499309641804811952915095197425601966060442689276199307204217729480051014280543652778972224351791601420461481322314202107707339003150582198876536527442885669651450871431742206710429542585434583339078717430457950898115301564793469608805145325928816005361534074339519401324254755722868592293114400072975434581022088352759463071966771583823\n",
      "\n",
      "check_roots: all roots are distinct and in order\n"
     ]
    },
    {
     "name": "stdout",
     "output_type": "stream",
     "text": [
      "check_roots: all roots are roots within tolerance\n",
      "check_roots: number of roots, 65, as expected by Sturm's theorem\n"
     ]
    }
   ],
   "source": [
    "n = 65\n",
    "mp.dps = 800\n",
    "solver = hibrid\n",
    "p = Chebyshev(n)\n",
    "tolerance = mpf('1.0e-50')\n",
    "verbose_main_loop = False\n",
    "verbose_solver = False\n",
    "roots = mp_roots(p, tolerance, solver)\n",
    "print_roots(p, roots)\n",
    "check_roots(p, roots, tolerance)"
   ]
  },
  {
   "cell_type": "markdown",
   "metadata": {},
   "source": [
    "## Random coefficients"
   ]
  },
  {
   "cell_type": "code",
   "execution_count": 293,
   "metadata": {},
   "outputs": [],
   "source": [
    "def randomPoly(n, tau):\n",
    "    from random import choices\n",
    "    c = np.arange(-(2**tau), 2**tau + 1)\n",
    "    coefs = choices(c, k=n+1)\n",
    "    p = 1\n",
    "    for i in range(n+1):\n",
    "        p = p + coefs[i]*x**i\n",
    "    return p"
   ]
  },
  {
   "cell_type": "code",
   "execution_count": 295,
   "metadata": {},
   "outputs": [
    {
     "data": {
      "image/png": "[encoded data removed]",
      "text/latex": [
       "$$3 x^{4} + 5 x^{3} - 2 x^{2} - 6 x + 3$$"
      ],
      "text/plain": [
       "   4      3      2          \n",
       "3⋅x  + 5⋅x  - 2⋅x  - 6⋅x + 3"
      ]
     },
     "execution_count": 295,
     "metadata": {},
     "output_type": "execute_result"
    }
   ],
   "source": [
    "randomPoly(4, 3)"
   ]
  },
  {
   "cell_type": "code",
   "execution_count": 318,
   "metadata": {},
   "outputs": [
    {
     "name": "stdout",
     "output_type": "stream",
     "text": [
      "\n",
      "Real roots of p(x) =\n",
      "-110083*x**64 - 381592*x**63 + 466696*x**62 - 405175*x**61 - 914972*x**60 - 97198*x**59 + 1020689*x**58 + 961214*x**57 + 255042*x**56 - 778645*x**55 + 15240*x**54 + 151842*x**53 - 543588*x**52 - 881771*x**51 - 500409*x**50 - 781195*x**49 - 469882*x**48 + 709605*x**47 + 412644*x**46 - 481275*x**45 - 654216*x**44 + 34811*x**43 + 800482*x**42 + 1007482*x**41 - 897247*x**40 + 848653*x**39 - 392963*x**38 - 433837*x**37 - 46221*x**36 - 629336*x**35 + 72808*x**34 + 720148*x**33 - 690266*x**32 + 452723*x**31 - 545483*x**30 - 841571*x**29 - 856002*x**28 + 479453*x**27 - 221225*x**26 - 229526*x**25 - 567035*x**24 + 146401*x**23 - 593075*x**22 - 236683*x**21 - 185796*x**20 - 799773*x**19 - 150155*x**18 + 312427*x**17 - 131113*x**16 + 136776*x**15 - 953214*x**14 + 966439*x**13 - 1025116*x**12 - 865164*x**11 + 606589*x**10 - 781416*x**9 + 376683*x**8 + 371083*x**7 - 779921*x**6 - 400585*x**5 + 618201*x**4 + 852032*x**3 - 349061*x**2 - 132857*x - 739060\n",
      "Root[0] = \n",
      "-4.5042820633856368033295716743081359510680603914448955521820677170418580996895058024868399703820619267929255362200544791278673181999768367176864660797543909766193860267203829613036254815556690046539835958639506974613922765679601779864750802616171629118722159840936325168993422180814454013378787444536476316178924436009494004839410726025141471546681664962779466886119625307605592820706237246044324708057564654453777180295794415179698359886792561174521813294907912581714876272685411370229952072683504500083764579399540151294724762948872709526755091193267544417836032146290774516878717135403080051093042636834439221304723676758013403639753955201888310965992157554906408197804455440644993670089583597271579510613833944999786305776136557799558399701772057715437412081197370185058018902086709832301295318245\n",
      "Root[1] = \n",
      "-1.0632094985028024466007560705122092572753475348482638799536808694251194443418726419046032169668396696156327019006178663762858638381399603476322784722752051355604691703185562106126869515338704254390650001433386443514478950364303451626076457902244862833946344520022833406495165469460931900869097705076450012994735612829599785858222979867536210058266587294850882078697928765207796829033887223260931302363865644245733061201225949419748873812838463163423215106261637926898606922160216668267402160781863941552576946959425752657806272610171172994710226751230243426370803915670718024290940113239171413696822052270694836768808917201574866452290459799578193662380133090091259398837909807155552788523861769023644637494489761330001252679903931459969908981288133351277355323563976487685258977696816414490048548075\n",
      "\n",
      "check_roots: all roots are distinct and in order\n",
      "check_roots: all roots are roots within tolerance\n",
      "check_roots: number of roots, 2, as expected by Sturm's theorem\n"
     ]
    }
   ],
   "source": [
    "n = 64\n",
    "tau = 20\n",
    "mp.dps = 800\n",
    "solver = hibrid\n",
    "p = randomPoly(n, tau)\n",
    "tolerance = mpf('1.0e-50')\n",
    "verbose_main_loop = False\n",
    "verbose_solver = False\n",
    "roots = mp_roots(p, tolerance, solver)\n",
    "print_roots(p, roots)\n",
    "check_roots(p, roots, tolerance)"
   ]
  },
  {
   "cell_type": "code",
   "execution_count": 200,
   "metadata": {},
   "outputs": [],
   "source": [
    "def horner(p):\n",
    "    coeffs = Poly(p).all_coeffs()\n",
    "    n = len(coeffs)\n",
    "    def evaluate(x):\n",
    "        result = coeffs[0]\n",
    "        for i in range(1, n):\n",
    "            result = result*x + coeffs[i]\n",
    "        return result\n",
    "    return evaluate"
   ]
  },
  {
   "cell_type": "code",
   "execution_count": 210,
   "metadata": {},
   "outputs": [
    {
     "data": {
      "image/png": "[encoded data removed]",
      "text/latex": [
       "$$\\left ( x^{2} + 3 x + 2, \\quad x^{4} - 4 x^{3} + 6 x^{2} - 4 x + 1\\right )$$"
      ],
      "text/plain": [
       "⎛ 2             4      3      2          ⎞\n",
       "⎝x  + 3⋅x + 2, x  - 4⋅x  + 6⋅x  - 4⋅x + 1⎠"
      ]
     },
     "execution_count": 210,
     "metadata": {},
     "output_type": "execute_result"
    }
   ],
   "source": [
    "p = ((x + 1)*(x + 2)).expand()\n",
    "q = ((x - 1)**4).expand()\n",
    "p, q"
   ]
  },
  {
   "cell_type": "code",
   "execution_count": 211,
   "metadata": {},
   "outputs": [],
   "source": [
    "p_as_function = horner(p)\n",
    "q_as_function = horner(q)"
   ]
  },
  {
   "cell_type": "code",
   "execution_count": 212,
   "metadata": {},
   "outputs": [
    {
     "data": {
      "image/png": "[encoded data removed]",
      "text/latex": [
       "$$\\left ( 20, \\quad 20\\right )$$"
      ],
      "text/plain": [
       "(20, 20)"
      ]
     },
     "execution_count": 212,
     "metadata": {},
     "output_type": "execute_result"
    }
   ],
   "source": [
    "p_as_function(3), p.subs(x, 3)"
   ]
  },
  {
   "cell_type": "code",
   "execution_count": 213,
   "metadata": {},
   "outputs": [
    {
     "data": {
      "image/png": "[encoded data removed]",
      "text/latex": [
       "$$\\left ( 16, \\quad 16\\right )$$"
      ],
      "text/plain": [
       "(16, 16)"
      ]
     },
     "execution_count": 213,
     "metadata": {},
     "output_type": "execute_result"
    }
   ],
   "source": [
    "q_as_function(3), q.subs(x, 3)"
   ]
  },
  {
   "cell_type": "code",
   "execution_count": 320,
   "metadata": {},
   "outputs": [],
   "source": [
    "mp.dps = 8000\n",
    "p = Wilkinson(100)\n",
    "p_lambda = lambdify(x, p, 'mpmath')\n",
    "p_horner = horner(p)"
   ]
  },
  {
   "cell_type": "code",
   "execution_count": 321,
   "metadata": {},
   "outputs": [
    {
     "data": {
      "text/plain": [
       "mpf('3.1396255244183707607912127784618572387782836377860994330270599863021428467246636654447504675448462942696572834720503818067063569956530367574377408576639800965390032161810788388231437177137901911766923481797640842160447567133023095103207229845329006545150506018374068148798642561330211697270049126471366050745666024119163783789352077372310837980362659569386125837955100432627715543474348463940665860205766734323972467694564594987688890406990437570379447241258395491200886974967823827579232642644247952859487037756266033758380892908757491818275103491705608280884470986161222341891461463134310860646821218745981390496972321179123572611571295659706511153689633096786917810841742444900026916982935378015630713031197010821696611821732960728380391194294240128909278796103456377771622305649039589021205225939097972292463470031883196736061112490220756641528218857932887125826871189423421809484142103978716242395980752107366944592970983713813326631610695355136067141118244495752879062398233928089164492734020566258809388902460767062762956881012195892183261878214808350972979527402012755815160298788941092377198617331025555598766718697508894586003979455126927234053222376259607780914060161948126599130517859377201139575294063434452022478160216289002255900937121647672953724211547296178964019363913272236391688788442237505046109206133392258038861230808220940433627168378674732826553841397607720652226350955942611094116042274801884728670034102946905551656472398044032411437732239296124381144857237493645068805324381445142990183443894726179523763960787433402195535719293986038803656859437065894853480417051627827923544193339366067079012597925843860251483562769356277429021232244194135731193244199926150267997563613555696855671635375742256967550932470900727693574175094319029381918920821837075601376322484775828553876501685598930036562211820293217445258629999863399630411886289068710268651302485936648321625514583787266392151663091177001182702047422333774469695320036034690251923356888141333474011169046960579374808743860436604494548730433036125268314807880221294107971829975813066957333665708734701661278427940994020892217719281433096382935077793522904396727646935503977834834036138767753972319769543751972253014157858495021106382348844521170251320695733960900776466331554597616614148589440861727208159922102640196945132564786050593761100521741032024162464057127576678792812413971402389113399755173016425128343861091680249744665578465986078178608568924320648835516470072768947136886202897431597042181331586636978095068082458524112469504169372930226636150034188748146250704234681277666654239754543281152713168027682547639776991632958014060902707148933833113006955144100781471289650262382980919983642113584104440589961917072199934441118953474697854421127007945098791040384782406089613512937178250616973069518376605277913385343936862919161548965453212528937401529173753318953484870853186218983340455050455769212650084139191542431275136819815258747394227897721209588942590995867978335398100248396444007707025825056127408188719262937352241316866866451117739835488035550800886901279748036105044399206810774456611754153025772245300935640000883035501927328488327764215139863314977761767628869956812206350737814004326877901202171826900491022512870660249334431913502175674780515005561604396639856487899953592322754819162852712726952569463716444208458277564769018074260839968305588061039946129349364542156083401874180029526962588132157601982613665294577327307322554030481752276760729385320329789115683410553234420095672223715695324693685280773811346746651310749199513757403659618519913951680226638632693868887243704816443177151214557668725216375835068725195185221400007771022320296699865869250612182074601544589944103975800085378706433260938106458866806701878279721308077348709832591667260248151289152905635786790196626929801010537560829010093317612510222403305409047941780026300951264550642624200621812515692400164006974224249330644203583898304482904317802154601202946604945042994648422082062259573616560588482201356856977209057097625345676550940830244226820333998655781495184954775103627522687695825742291621227258793955772264582554784186376681372122528684978125218188244695527742476947631280083216566080534031871654615045473284451676536176771220552131468173274586559784968032820129756024245105465484897545165101196508659824140918278455217261045374192704557639838723091630025171774596471135966626027577818519535738001509767462832640601340867383549294461514516019317975606452435858456020200078382494211219784520670126299628034551953353217567462129915180300166119439049741352429269315390288527303247651692360969711829615520944692674551176835012642336496578005178988870775485193811687127867342216700185445614907819290617397632522349362938106784530716730623552970869523418102712168643310220092363447313909633966126727568467545586002928484658652890444243104991636249338121343924022000852015507415137813875942373864010978796790947454462225166820584516259109645063709660088627023354064253812545206905668638243431721467376092594430301777744824422030244426860238530468769134183447295798638484124931137569989310375191339235440320160852089237365185729949413457163395528284346062020817215391393385123502570325026730941643267320395151932440285545568667703248222997052884401161020132464602021197099734296058641063187366747426089121829180529620458420114502390540588509543644797547970184800312340396257469412593822907930194177562617177520770900912646909236801803091255711225063156462625318854184179730906515428469760959081464965029792451368335616342837219604848418460413196982256563902712149694422877580231855055317515639667910349838655123767548939250305191946101946107359329113083548298054723251901468535060315055269499377693896337536565822555176407688338213087065661606730828326028680032318382487292411448523843637165819578233132505919241123579960317413966487985519088856119978082434106956280757783779481542281363984964535996262873246403620417873293520896732862626788853435381610165952910436299858285003357237522868073806079069241027665612633368260800413055118083788050389184531023547210438415078862077178800013443604587354017296765360355908246331260390355526004765266135717241943310223483195575011823397100445529680187936271480418024636741371479508738834858274271668425987682261394621870666115491151604667323298364344742756990399839564579477308126220017901779383803887099392121145956293327118152554956323783500853296268841486547006174160700397005926971287361205192403881295288169288443387564935235218271828274901102606082451629484331942066125205169445454429636457711197951821647666701790231541126292754186622219096435811641844183167860443629715435795759203839048924446500723951806599498580578903630009586612744186856340704341112173941379015261376789246491420819372826842660131031401652751548079776807936652925949461695406156171317069827683901483421146511958578844918557751301651819385317210138593380080087031903430452676074959871567207345215626758691107243259618018592675344335480910206653693796635386121817913628299477807580385279718188883945968056032084616988438735445525315148155071229126820368314301105886647618998830979115463935802491648750298203365313222974368617319752364971255840410280494738688906064405580697984870138543092579534901586056001270605591907793822889295061381509855358106565636144886679547631828641886029068830439434998385626081059609477185456143834403662770042379088772676072396880453506124552091072255266846886765035995734282574179868993519112774890924727471673670392130318719984614728862869672789493467802722220047369591151241982433701452525991527306100447501364627492134958263614175106552497983902588123003827096106407458784968672778581460642813144180123685504101487114611046943262616570339857463796523812062038689620196195262340227866004031988460171947160545407593207170526614177591220496498804244496603271196444869091255267949577486538193696855393169117910158065457887413518650031426034202644980713974595608335974502057879110942909076001491021651951888784664136760091654391296762784329495410153018782112794996848e-7839')"
      ]
     },
     "execution_count": 321,
     "metadata": {},
     "output_type": "execute_result"
    }
   ],
   "source": [
    "v = mpmath.pi\n",
    "p_lambda(v) - p_horner(v)"
   ]
  },
  {
   "cell_type": "code",
   "execution_count": 322,
   "metadata": {},
   "outputs": [
    {
     "name": "stdout",
     "output_type": "stream",
     "text": [
      "236 ms ± 41.7 ms per loop (mean ± std. dev. of 7 runs, 1 loop each)\n"
     ]
    }
   ],
   "source": [
    "%timeit p_lambda(v)"
   ]
  },
  {
   "cell_type": "code",
   "execution_count": 323,
   "metadata": {},
   "outputs": [
    {
     "name": "stdout",
     "output_type": "stream",
     "text": [
      "49.8 ms ± 1.95 ms per loop (mean ± std. dev. of 7 runs, 10 loops each)\n"
     ]
    }
   ],
   "source": [
    "%timeit p_horner(v)"
   ]
  },
  {
   "cell_type": "code",
   "execution_count": 324,
   "metadata": {},
   "outputs": [],
   "source": [
    "p_M = Mignotte(257, 14)\n",
    "p_M_lambda = lambdify(x, p_M, 'mpmath')\n",
    "p_M_horner = horner(p_M)"
   ]
  },
  {
   "cell_type": "code",
   "execution_count": 325,
   "metadata": {},
   "outputs": [
    {
     "data": {
      "text/plain": [
       "mpf('2.9077254359985557951944396562010689340317771845500264738548504391442003467282677197817344423703102786926687478683940587733673074962883598410549880453753634042713861800753140617120414382459939403892355603708284275439869949214651669244958805462740877429447113150070435204964585902473315095116486528627729640605348972188119624228260037766733070438434012931388926756801924329749658293005993183023461056127752578090960099372906653237489336760649205041441524971978984117263371532802348894440579485857841816442046833563591732015426438833968841568430233663398983809710915932341564754782421516838814837591629562368398888454556907727937022851481162815526001791749959044529872756503949265864097574241383115555964885984833718836319261832098377737189720881735895729667784802249630169683145025638093029635866935145334749683740406859298524102909879208381698717608151219714333295145145009642576330885761431033640333522935069399886250535854631642555659035363786839156283314901261429246953724250217046909740979549029148886076418408691995343426311830510037429891545830628112768459435472560707141935846832795428129333011590597706513111924093596820613679446582149690629035337633915514412007634675195125680716906359216789523693903583210703535890979965180940231034360152597622333010221445544952343713394368595927477200850985575256723914692889138150243677029192722852896861962142213262053317144743369753740677753129447585700740512897262651986758915223195208743135371163536573942373666242008112808278440000201688402361257821873076357155579181484684069880940922409637869521495786116252568422921008058025493053961219379841322276063757295737745380600193866498468353652790488987989767587951501836997451734664383195444366894314540451555121454603926373327465725203115123605608949192271436240580302630955296397208405452845674166185105284875383252632681559440572768976306566790607006975249338325788103994561510011446445962890830078956253182380377483609164623267304928434165033120609923955251346643543678853082070007821382305743218212331952068308678655012430509625183903782904117587001928405107379619031701638722020846260064891649820646026724031896575148277754746537434960325600177033895120589749108404969446608669639447575935986213564592784908897700798408870159771293547159233930702812972609636919952263419946191014825597000456338635036932398010034489280284848502168202259286514799199280161111587759849620977590238375291011591235283943281471790201743946661351160417560244590274365315462067978611008873549972929574757239933044938784932530181692061184564403628885391984937486407979850220696287697398572705588592847696473860838233493270260946305837332390502158623145560572639698794928072388608825404867667059528598501696225538552540905125150921797530680815703952073780247783962687073471342342234348003106120084170124902424570870592041084662005364512606211668102700924551244669961451207367124858187606896894200528727494353506066897097571312567146202575980307166087975584918986120655959138621879375889101553830822863448776755141968620914632092724417331437871690408216635262754269416117303745062234625408062501261135060210461537373302535556149660522657550390398852817338983821353523697415447543001309301597103606483066690171646482404392990557687021992865404566403055609112841030490803911953280419917941326622612922534528551984474074668057692776640021009972701580676395034032209295708310758093914394415494064432647833886789126017346172752087735906001469988174518667738919952529154332688864509918317633059786363454995618578173176746713872621369268909488194919415775207472037479631128719545625299473340339539064502933958388401027507685913214282991696798432978451985103174237948399166137793612205504827815242411526720742264450871790095814097181866495261684284611897492445621970694949510079520022378738872978364733231515729250252448603704336068319356885430441016872557468834444044732681317459509287975998218632733213939768213003814340442463496047032150829157713095312177409341090647818401198756298308695938414533958787134575868460455487570642097172074214553465755121275054494094996424065155880465435420734185429624788743299385345401633456863950052368921056121837876986155169868736743893983332324622046063768689600742937483588389356075433917139679472523886097836618887447730625267216472680556382934347807618210272195332293586076821326403976455825324645984881744782164704227991764297497373080536181058717325530415605713761271580174661178604245416742494369191840664782208923059464650056078435766941494565248258719794766975392806288269615326568180603131776747935730770876239119622451498748357775971999533319910825088535720194542384160192625691806319630641440697947328224413973943761026421898734710215482076790333508036792934800885908727559404669456233938908377559225886829227679225496032579051409209107382422783300371051778993664106862380798884068390219137213655795103482769757545560939796930484525952479052115103366520645182380516749782630679728241406623265248378329399932249508118808125148644772645253173215399804044019618200759583473316425286122700705523127946968890808066151042290695303918272371020171424943922091496897847887501502981322638601800351562045179021779371721440739066911789061940525053664429455759460977924499184074078135447865505070908520443072820060913358935424630318654771824163319148329991725308435446169934748221616091048314656622510726901976842904922229975879038470451829450535984276041952426654207965132406112126282765190581496962315479685685009654650601506531535868303769460051900883201678206824982540266687375774774441313807000688195478109420405930747285585029273583063060810036488608822364189998540802221538456288019689327660469901577185489653435702296721464711561039448695028644954525210655615222292413979061012972769815929491018068190309706578385399252890750752858995059073467127279453515209779860250728600299105209679364155078525402543469803716588001251457233438596294176833946719321790506051235983283229902074242532234966924455435777573081308890479461870235197307859398073185209210851894561177723385137274810424515376529547234961370722474433546496651539703738324354523025424743414146800013841037140927314725977169126654461110331113682732872320647239504954333391149722067773859735175131415172334372596776488894772260983488002611690388427368509969097110904596020455474826878256362884762199632260819495486202784324265238586347363252503761758166604310105138617535332875468967726591370064082702808485870705321506961342448875202175045232664628377629623304138689887116199221095947907893504649739964301766068384059934995825080061287776649480260077719600058806723103508095981832678855570004403291646967697423774730298762503447743535411912272859529553303162250597293798514047362450001343291673490963474543883703174623356612237146927760854908562091462880957108401213982977666786764046960422506775270713442737671787731409915553894973984859391666130212869145758419905429847164891837698878777444413174453126822117600875548919049062493656538253117774941867561339723802320054103106466821032545484648021187956619907762125924314990756830427385030819719468163055039171375826948262690755967914434578973143258690999371581729091683926276435657116068581916838504108195311386940884292125098910868823014349831811866587467978987770781624951372992940139628233011136004343736418658154694570073401438933143703711304677523706191564803543170503311009123037550982528666308161488327998267559970282669495306523387435438255974693996852319261653177390463473177377481735512652233732564870935735622893928946367101696849356559867826105256805477999639604280303137828711524838234439468995615513223414879009837191574896118732650078592959596511971462562099099226643886004343414137116158520259314349063829347855359550765494014344410832336000185394634577885222982683224758618070341600312995938345528045002492543897178716149577025765447234749581008532529706928371213675378202544738083554902908305609344952592993111671653951408694695524021842816294053713289848549235430460908900792604948934598270849181447942603280909891266541985652917524866135491188529546657664286413e-7873')"
      ]
     },
     "execution_count": 325,
     "metadata": {},
     "output_type": "execute_result"
    }
   ],
   "source": [
    "p_M_lambda(v) - p_M_horner(v)"
   ]
  },
  {
   "cell_type": "code",
   "execution_count": 326,
   "metadata": {},
   "outputs": [
    {
     "name": "stdout",
     "output_type": "stream",
     "text": [
      "2.79 ms ± 45.6 µs per loop (mean ± std. dev. of 7 runs, 100 loops each)\n"
     ]
    }
   ],
   "source": [
    "%timeit p_M_lambda(v)"
   ]
  },
  {
   "cell_type": "code",
   "execution_count": 327,
   "metadata": {},
   "outputs": [
    {
     "name": "stdout",
     "output_type": "stream",
     "text": [
      "122 ms ± 1.32 ms per loop (mean ± std. dev. of 7 runs, 10 loops each)\n"
     ]
    }
   ],
   "source": [
    "%timeit p_M_horner(v)"
   ]
  },
  {
   "cell_type": "code",
   "execution_count": null,
   "metadata": {},
   "outputs": [],
   "source": []
  },
  {
   "cell_type": "markdown",
   "metadata": {},
   "source": [
    "# References\n",
    "<div class=\"cite2c-biblio\"></div>"
   ]
  },
  {
   "cell_type": "code",
   "execution_count": null,
   "metadata": {},
   "outputs": [],
   "source": []
  }
 ],
 "metadata": {
  "cite2c": {
   "citations": {
    "336701/I4VDBIQD": {
     "DOI": "10.1145/2930889.2930937",
     "ISBN": "978-1-4503-4380-0",
     "URL": "https://doi.org/10.1145/2930889.2930937",
     "abstract": "Very recent work introduces an asymptotically fast subdivision algorithm, denoted ANewDsc, for isolating the real roots of a univariate real polynomial. The method combines Descartes? Rule of Signs to test intervals for the existence of roots, Newton iteration to speed up convergence against clusters of roots, and approximate computation to decrease the required precision. It achieves record bounds on the worst-case complexity for the considered problem, matching the complexity of Pan's method for computing all complex roots and improving upon the complexity of other subdivision methods by several magnitudes. In the article at hand, we report on an implementation of ANewDsc on top of the RS root isolator. RS is a highly efficient realization of the classical Descartes method and currently serves as the default real root solver in Maple. We describe crucial design changes within ANewDsc and RS that led to a high-performance implementation without harming the theoretical complexity of the underlying algorithm. With an excerpt of our extensive collection of benchmarks, available online at http://anewdsc.mpi-inf.mpg.de/, we illustrate that the theoretical gain in performance of ANewDsc over other subdivision methods also transfers into practice. These experiments also show that our new implementation outperforms both RS and mature competitors by magnitudes for notoriously hard instances with clustered roots. For all other instances, we avoid almost any overhead by integrating additional optimizations and heuristics.",
     "accessed": {
      "day": 8,
      "month": 2,
      "year": 2020
     },
     "author": [
      {
       "family": "Kobel",
       "given": "Alexander"
      },
      {
       "family": "Rouillier",
       "given": "Fabrice"
      },
      {
       "family": "Sagraloff",
       "given": "Michael"
      }
     ],
     "collection-title": "ISSAC '16",
     "container-title": "Proceedings of the ACM on International Symposium on Symbolic and Algebraic Computation",
     "event-place": "Waterloo, ON, Canada",
     "id": "336701/I4VDBIQD",
     "issued": {
      "day": 20,
      "month": 7,
      "year": 2016
     },
     "page": "303–310",
     "page-first": "303",
     "publisher": "Association for Computing Machinery",
     "publisher-place": "Waterloo, ON, Canada",
     "title": "Computing Real Roots of Real Polynomials ... and now For Real!",
     "type": "paper-conference"
    },
    "336701/KP26TM8C": {
     "URL": "https://en.wikipedia.org/w/index.php?title=Mean_value_theorem&oldid=925870016",
     "abstract": "In mathematics, the mean value theorem states, roughly, that for a given planar arc between two endpoints, there is at least one point at which the tangent to the arc is parallel to the secant through its endpoints.\nThis theorem is used to prove statements about a function on an interval starting from local hypotheses about derivatives at points of the interval.\nMore precisely, if \n  \n    \n      \n        f\n      \n    \n    {\\displaystyle f}\n   is a continuous function on the closed interval \n  \n    \n      \n        [\n        a\n        ,\n        b\n        ]\n      \n    \n    {\\displaystyle [a,b]}\n  , and differentiable on the open interval \n  \n    \n      \n        (\n        a\n        ,\n        b\n        )\n      \n    \n    {\\displaystyle (a,b)}\n  , then there exists a point \n  \n    \n      \n        c\n      \n    \n    {\\displaystyle c}\n   in \n  \n    \n      \n        (\n        a\n        ,\n        b\n        )\n      \n    \n    {\\displaystyle (a,b)}\n   such that:\n\n  \n    \n      \n        \n          f\n          ′\n        \n        (\n        c\n        )\n        =\n        \n          \n            \n              f\n              (\n              b\n              )\n              −\n              f\n              (\n              a\n              )\n            \n            \n              b\n              −\n              a\n            \n          \n        \n        .\n      \n    \n    {\\displaystyle f'(c)={\\frac {f(b)-f(a)}{b-a}}.}\n  It is one of the most important results in real analysis.",
     "accessed": {
      "day": 10,
      "month": 2,
      "year": 2020
     },
     "container-title": "Wikipedia",
     "id": "336701/KP26TM8C",
     "issued": {
      "day": 12,
      "month": 11,
      "year": 2019
     },
     "language": "en",
     "note": "Page Version ID: 925870016",
     "title": "Mean value theorem",
     "type": "entry-encyclopedia"
    },
    "336701/MIW42KL9": {
     "URL": "https://www.imsc.res.in/~vikram/pap/pan-history%20and%20progress.pdf",
     "accessed": {
      "day": 9,
      "month": 2,
      "year": 2020
     },
     "id": "336701/MIW42KL9",
     "title": "Pan - 1997 - Solving a Polynomial Equation Some History and Re.pdf",
     "type": "article"
    },
    "336701/XFQXXT7W": {
     "URL": "http://w3.impa.br/~eric/tesis.pdf",
     "accessed": {
      "day": 8,
      "month": 2,
      "year": 2020
     },
     "id": "336701/XFQXXT7W",
     "title": "Biagioli - Methods for bounding and isolating the real roots .pdf",
     "type": "article"
    },
    "336701/XGYD5TB9": {
     "URL": "https://en.wikipedia.org/w/index.php?title=Root-finding_algorithm&oldid=934432137",
     "abstract": "In mathematics and computing, a root-finding algorithm is an algorithm for finding zeroes, also called \"roots\", of continuous functions.   A zero of a function f, from the real numbers to real numbers or from the complex numbers to the complex numbers, is a number x such that f(x) = 0. As, generally, the zeroes of a function cannot be computed exactly nor expressed in closed form, root-finding algorithms provide approximations to zeroes, expressed either as floating point numbers or as small isolating intervals,  or disks for complex roots (an interval or disk output being equivalent to an approximate output together with an error bound).\nSolving an equation f(x) = g(x) is the same as finding the roots of the function h(x) = f(x) – g(x). Thus root-finding algorithms allow solving any equation defined by continuous functions. However, most root-finding algorithms do not guarantee that they will find all the roots; in particular, if such an algorithm does not find any root, that does not mean that no root exists. \nMost numerical root-finding methods use iteration, producing a sequence of numbers that hopefully converge towards the root as a  limit. They require one or more initial guesses of the root as starting values, then each iteration of the algorithm produces a successively more accurate approximation to the root.   Since the iteration must be stopped at some point these methods produce an approximation to the root, not an exact solution.    Many methods compute subsequent values by evaluating an auxiliary function on the preceding values. The limit is thus a fixed point of the auxiliary function, which is chosen for having the roots of the original equation as fixed points, and for converging rapidly to these fixed points.\nThe behaviour of general root-finding algorithms is studied in numerical analysis. However, for polynomials, root-finding study belongs generally to computer algebra, since algebraic properties of polynomials are fundamental for the most efficient algorithms. The efficiency of an algorithm may depend dramatically on the characteristics of the given functions. For example, many algorithms use the derivative of the input function, while others work on every continuous function. In general, numerical algorithms are not guaranteed to find all the roots of a function, so failing to find a root does not prove that there is no root. However, for polynomials, there are specific algorithms that use algebraic properties for certifying that no root is missed, and locating the roots in separate intervals (or disks for complex roots) that are small enough to ensure the convergence of numerical methods (typically Newton's method) to the unique root so located.",
     "accessed": {
      "day": 10,
      "month": 2,
      "year": 2020
     },
     "container-title": "Wikipedia",
     "id": "336701/XGYD5TB9",
     "issued": {
      "day": 6,
      "month": 1,
      "year": 2020
     },
     "language": "en",
     "note": "Page Version ID: 934432137",
     "title": "Root-finding algorithm",
     "type": "entry-encyclopedia"
    }
   }
  },
  "kernelspec": {
   "display_name": "Python 3",
   "language": "python",
   "name": "python3"
  },
  "language_info": {
   "codemirror_mode": {
    "name": "ipython",
    "version": 3
   },
   "file_extension": ".py",
   "mimetype": "text/x-python",
   "name": "python",
   "nbconvert_exporter": "python",
   "pygments_lexer": "ipython3",
   "version": "3.7.1"
  },
  "toc": {
   "base_numbering": 1,
   "nav_menu": {
    "height": "211px",
    "width": "210px"
   },
   "number_sections": true,
   "sideBar": true,
   "skip_h1_title": false,
   "title_cell": "Table of Contents",
   "title_sidebar": "Contents",
   "toc_cell": false,
   "toc_position": {
    "height": "calc(100% - 180px)",
    "left": "10px",
    "top": "150px",
    "width": "336px"
   },
   "toc_section_display": true,
   "toc_window_display": true
  }
 },
 "nbformat": 4,
 "nbformat_minor": 2
}
