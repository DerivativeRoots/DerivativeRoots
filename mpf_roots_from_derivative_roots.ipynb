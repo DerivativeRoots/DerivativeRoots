{
 "cells": [
  {
   "cell_type": "markdown",
   "id": "ba29df04",
   "metadata": {},
   "source": [
    "# Introduction\n",
    "- This notebook presents Python code for the algorithm described in https://www.researchgate.net/publication/320864673_A_simple_algorithm_to_find_all_real_roots_of_a_polynomial. Please cite this paper if you use this code or part of it.\n",
    "- The code finds all real roots of a polynomial and its multiplicities, using standard floating point arithmetics.\n",
    "- A companion notebook presents Python code for the same algorithm, using standard floating point arithmetics.\n",
    "- This notebook contains code and tests using some notorious polynomials"
   ]
  },
  {
   "cell_type": "markdown",
   "id": "28d89a55",
   "metadata": {},
   "source": [
    "# Code\n",
    "Notes:\n",
    "- Sympy polynomials and some associated functions are used only for the construction of polynomials for testing, and also for checking correctness of the number or roots found."
   ]
  },
  {
   "cell_type": "markdown",
   "id": "1482049f",
   "metadata": {},
   "source": [
    "## Solver"
   ]
  },
  {
   "cell_type": "code",
   "execution_count": 1,
   "id": "f7b179d8",
   "metadata": {},
   "outputs": [],
   "source": [
    "from collections import OrderedDict\n",
    "\n",
    "from mpmath import mp, mpf\n",
    "\n",
    "def sign(value):\n",
    "    if value < 0:\n",
    "        return -1\n",
    "    elif value == 0:\n",
    "        return 0\n",
    "    return 1\n",
    "\n",
    "def degree(p):\n",
    "    return len(p) - 1\n",
    "\n",
    "def p_to_str(p):\n",
    "    \n",
    "    n = len(p) - 1\n",
    "    s = str(p[0]) + '*x^' + str(n)\n",
    "\n",
    "    for i in range(1, n+1):\n",
    "        if p[i] > 0:\n",
    "            s += ' + ' + str(p[i]) + '*x^' + str(n-i)\n",
    "        elif p[i] < 0:\n",
    "            s += ' - ' + str(-p[i]) + '*x^' + str(n-i)\n",
    "    \n",
    "    return s\n",
    "\n",
    "def derivative(p):\n",
    "    n = len(p)\n",
    "    return [p[i]*(n-i-1) for i in range(n-1)]\n",
    "\n",
    "def evaluate(p, x_value):\n",
    "    # Using Horner method\n",
    "    result = mpf(p[0])\n",
    "    for coef in p[1:]:\n",
    "        result = result*x_value + mpf(coef)\n",
    "    return result\n",
    "\n",
    "def bisection(a, b, tolerance, p, pdiff):\n",
    "    '''\n",
    "    Classical bisection method. \n",
    "    Raises ValueError when a no progress situation is detected\n",
    "    pdiff parameter exists only to keep the same signature as other bracketing\n",
    "    methods, such as Newton-Raphson, that uses the derivative of p\n",
    "    '''    \n",
    "    p_a = evaluate(p, a)\n",
    "    p_b = evaluate(p, b)\n",
    "    m = (a + b) / 2\n",
    "    p_m = evaluate(p, m)\n",
    "    progress = True\n",
    "    \n",
    "    iter = 0\n",
    "    while abs(p_m) > tolerance and progress:\n",
    "        iter += 1\n",
    "        old_a, old_b = a, b\n",
    "        if p_a * p_m <= 0:\n",
    "            b = m\n",
    "            p_b = p_m\n",
    "        elif p_b * p_m <= 0:\n",
    "            a = m\n",
    "            p_a = p_m\n",
    "        m = (a + b) / 2\n",
    "        p_m = evaluate(p, m)\n",
    "        if old_a == a and old_b == b:\n",
    "            progress = False\n",
    "            raise ValueError(f'bissection: no progress after {iter} iterations\\n' \n",
    "                             f'while isolating a root of {p_to_str(p)} \\nwith \\na = {a} \\nb = {b}')\n",
    "    return m\n",
    "\n",
    "def newton(a, b, tolerance, p, pdiff, maxiter=5000):\n",
    "    #convergence not guaranteed\n",
    "\n",
    "    iter = 0\n",
    "    x_newton = (a + b)/2\n",
    "    while abs(evaluate(p, x_newton)) > tolerance:\n",
    "        iter += 1\n",
    "        if iter >= maxiter:\n",
    "            raise ValueError(f'newton: no convergence after {iter} iterations')\n",
    "            break\n",
    "        x_newton = x_newton - evaluate(p, x_newton)/evaluate(pdiff, x_newton)\n",
    "\n",
    "    return x_newton\n",
    "\n",
    "def hibrid( a, b, tolerance, p, pdiff):\n",
    "    \"\"\"\n",
    "    bracketing that mixes Newton-Raphson and Bisection methods.\n",
    "    Adapted from https://doi.org/10.12988/ams.2017.710302   \n",
    "    \"\"\"\n",
    "\n",
    "    iter = 0\n",
    "    p_a = evaluate(p, a)\n",
    "    p_b = evaluate(p, b)\n",
    "    if p_a * p_b > 0:\n",
    "        raise ValueError(f'p(a) and p(b) must have opposite signs')\n",
    "    n_bisec = 0\n",
    "    n_newton = 0\n",
    "    m = (a + b)/2\n",
    "    p_m = evaluate(p, m)\n",
    "    \n",
    "    while abs(p_m) > tolerance:\n",
    "        old_a, old_b = a, b\n",
    "\n",
    "        iter += 1\n",
    "        p_m = evaluate(p, m)\n",
    "        pdiff_m = evaluate(pdiff, m)\n",
    "        next_x_newton = m - p_m / pdiff_m\n",
    "        \n",
    "        if (a < next_x_newton < b): \n",
    "            # Take newton guess\n",
    "            m = next_x_newton\n",
    "            n_newton += 1\n",
    "        else:\n",
    "            # Take bisection guess\n",
    "            m = (a + b)/2\n",
    "            n_bisec += 1           \n",
    "        p_m = evaluate(p, m)\n",
    "        if p_a * p_m <= 0:\n",
    "            b = m\n",
    "            p_b = p_m\n",
    "        if p_b * p_m <= 0:\n",
    "            a = m\n",
    "            p_a = p_m\n",
    "        if a == old_a and b == old_b:\n",
    "            raise ValueError(f'hibrid: no progress after {iter} iterations, '\n",
    "                             f'with \\na = {a}\\nb = {b}\\nm={m} \\nb - a = {b - a}'\n",
    "                             f'\\nold_a = {old_a}\\nold_b = {old_b}')\n",
    "            break\n",
    "    return m\n",
    "\n",
    "def mpf_internal_root(p, pdiff, roots_dict, derivative_roots_dict,\n",
    "                      a, b, tolerance, bracketing):\n",
    "\n",
    "    p_a = evaluate(p, a)\n",
    "    if abs(p_a) <= tolerance:\n",
    "        pass\n",
    "    else:\n",
    "        p_b = evaluate(p, b)\n",
    "        if abs(p_b) < tolerance:\n",
    "            roots_dict[b] = derivative_roots_dict[b] + 1\n",
    "            # Increment multiplicity\n",
    "        else:\n",
    "            sign_at_a = sign(p_a)\n",
    "            sign_at_b = sign(p_b)\n",
    "            if sign_at_a == sign_at_b:\n",
    "                pass\n",
    "            else:\n",
    "                roots_dict[bracketing(a, b, tolerance, p, pdiff)] = 1\n",
    "\n",
    "\n",
    "def mpf_external_root(p, pdiff, roots_dict, derivative_roots_dict,\n",
    "                  extremity, limit_sign, initial_step, tolerance, bracketing):\n",
    "    '''\n",
    "    extremity is the smallest or largest root of pdiff.\n",
    "    If initial_step < 0, this function will look for a root in interval (-inf, extremity];\n",
    "    If initial_step > 0, this function will look for a root in interval (extremity, inf)\n",
    "    '''\n",
    "    def point_with_sign_inversion(p, extremity, sign_at_extremity, initial_step):\n",
    "\n",
    "        step = initial_step\n",
    "        x = extremity + step\n",
    "        p_x = evaluate(p, x)\n",
    "        sign_at_x = sign(p_x)\n",
    "\n",
    "        while sign_at_x == sign_at_extremity:\n",
    "            step = 2*step # Double step length\n",
    "            x = x + step\n",
    "            p_x = evaluate(p, x)\n",
    "            sign_at_x = sign(p_x)\n",
    "\n",
    "        return x \n",
    "\n",
    "    value_at_extremity = evaluate(p, extremity)\n",
    "    \n",
    "    if abs(value_at_extremity) <= tolerance:\n",
    "        if initial_step < 0:\n",
    "            roots_dict[extremity] = derivative_roots_dict[extremity] + 1\n",
    "    else:\n",
    "        sign_at_extremity = sign(value_at_extremity)\n",
    "        if limit_sign != sign_at_extremity:\n",
    "            if initial_step > 0:\n",
    "                a = extremity\n",
    "                b = point_with_sign_inversion(p, extremity, \n",
    "                                              sign_at_extremity, initial_step)\n",
    "            else:\n",
    "                a = point_with_sign_inversion(p, extremity, \n",
    "                                              sign_at_extremity, initial_step)\n",
    "                b = extremity\n",
    "\n",
    "            roots_dict[bracketing(a, b, tolerance, p, pdiff)] = 1\n",
    "            # multiplicity = 1\n",
    "\n",
    "def mpf_roots_from_derivative_roots(p, derivative_roots_dict, tolerance, bracketing):\n",
    "    '''\n",
    "    Returns an OrderedDict, with roots as keys and multiplicity as values\n",
    "    '''\n",
    "    roots_dict = OrderedDict()\n",
    "    \n",
    "    derivative_roots = [r[0] for r in derivative_roots_dict.items()]\n",
    "    n_derivative_roots = len(derivative_roots)\n",
    "    pdiff = derivative(p)\n",
    "       \n",
    "    if n_derivative_roots == 0:\n",
    "        # I took 0, but any point should work\n",
    "        left_extremity = mpf(0)\n",
    "        right_extremity = mpf(0)\n",
    "    else:\n",
    "        left_extremity = derivative_roots[0]\n",
    "        right_extremity = derivative_roots[-1]\n",
    "    \n",
    "    right_limit_sign = sign(p[0]) # p[0]: Leading Coefficient\n",
    "       \n",
    "    if degree(p) % 2 == 0:\n",
    "        left_limit_sign = sign(p[0])\n",
    "    else:\n",
    "        left_limit_sign = -sign(p[0]) \n",
    "    \n",
    "    mpf_external_root(p, pdiff, roots_dict, derivative_roots_dict,\n",
    "                  left_extremity, left_limit_sign, mpf(-1), \n",
    "                  tolerance, bracketing)\n",
    "    \n",
    "    for i in range(n_derivative_roots - 1): \n",
    "        mpf_internal_root(p, pdiff, roots_dict, derivative_roots_dict,\n",
    "                      derivative_roots[i], derivative_roots[i+1], \n",
    "                      tolerance, bracketing)\n",
    "         \n",
    "    mpf_external_root(p, pdiff, roots_dict, derivative_roots_dict,\n",
    "                  right_extremity, right_limit_sign, mpf(1), \n",
    "                  tolerance, bracketing)\n",
    "    \n",
    "    return roots_dict \n",
    "\n",
    "def mpf_find_real_roots(p, tolerance=1.0e-5, bracketing=bisection):\n",
    "    '''\n",
    "     Find real roots of polynomial defined by list p\n",
    "     If the length of p is n+1 then the polynomial is described by:\n",
    "       p[0] * x**n + p[1] * x**(n-1) + ... + p[n-1]*x + p[n]\n",
    "    '''\n",
    "    roots_dict = OrderedDict()\n",
    "    \n",
    "    # print(f'Solving {p_to_str(p)} = 0')\n",
    "\n",
    "    if len(p) == 2: \n",
    "        # first degree polynomial\n",
    "        roots_dict[-mpf(p[1])/mpf(p[0])] = 1\n",
    "    else:\n",
    "        roots_dict = mpf_roots_from_derivative_roots(\n",
    "            p, mpf_find_real_roots(derivative(p), tolerance, bracketing),\n",
    "            tolerance, bracketing)\n",
    "\n",
    "    # print(f'Roots of {p_to_str(p)}: {roots}')\n",
    "    return roots_dict"
   ]
  },
  {
   "cell_type": "markdown",
   "id": "a89201fb",
   "metadata": {},
   "source": [
    "## Checking roots"
   ]
  },
  {
   "cell_type": "code",
   "execution_count": 2,
   "id": "5c1cc70f",
   "metadata": {},
   "outputs": [],
   "source": [
    "from sympy import Symbol, Poly, rem, LC, Rational\n",
    "from sympy import degree as sp_degree\n",
    "\n",
    "x = Symbol('x')\n",
    "\n",
    "def sign_at_minus_inf(poly):\n",
    "\n",
    "    if sp_degree(poly) % 2 == 0:\n",
    "        s = sign(LC(poly, x))\n",
    "    else:\n",
    "        s = sign(-LC(poly, x))\n",
    "        \n",
    "    return s\n",
    "    \n",
    "def sign_at_plus_inf(poly):\n",
    "\n",
    "    s = sign(LC(poly, x))\n",
    "\n",
    "    return s"
   ]
  },
  {
   "cell_type": "code",
   "execution_count": 3,
   "id": "9f35301c",
   "metadata": {},
   "outputs": [],
   "source": [
    "def Sturm(p):\n",
    "    \"\"\"\n",
    "    Returns total number of distinct real roots of p, based on Sturm's theorem\n",
    "    https://en.wikipedia.org/wiki/Sturm%27s_theorem\n",
    "    \"\"\"\n",
    "    x = Symbol('x')\n",
    "    poly = Poly(p, x)\n",
    "    \n",
    "    minus_inf_sign_inversions = 0\n",
    "    plus_inf_sign_inversions = 0\n",
    "    \n",
    "    last_p = poly.diff()\n",
    "\n",
    "    if sign_at_minus_inf(poly) != sign_at_minus_inf(last_p):\n",
    "        minus_inf_sign_inversions += 1\n",
    "    if sign_at_plus_inf(poly) != sign_at_plus_inf(last_p):\n",
    "        plus_inf_sign_inversions += 1\n",
    "        \n",
    "    last_sign_at_minus_inf = sign_at_minus_inf(last_p)\n",
    "    last_sign_at_plus_inf = sign_at_plus_inf(last_p)\n",
    "\n",
    "    while sp_degree(last_p) > 0:\n",
    "        next_p = -rem(poly, last_p)\n",
    "\n",
    "        if sign_at_minus_inf(next_p) != last_sign_at_minus_inf:\n",
    "            minus_inf_sign_inversions += 1\n",
    "        if sign_at_plus_inf(next_p) != last_sign_at_plus_inf:\n",
    "            plus_inf_sign_inversions += 1\n",
    "        poly = last_p\n",
    "        last_p = next_p\n",
    "        last_sign_at_minus_inf = sign_at_minus_inf(last_p)\n",
    "        last_sign_at_plus_inf = sign_at_plus_inf(last_p)        \n",
    "        \n",
    "    return minus_inf_sign_inversions - plus_inf_sign_inversions"
   ]
  },
  {
   "cell_type": "code",
   "execution_count": 4,
   "id": "f5fd60fc",
   "metadata": {},
   "outputs": [],
   "source": [
    "def check_roots(p, roots_dict, tolerance):\n",
    "    \n",
    "    roots = [r[0] for r in roots_dict.items()]\n",
    "    \n",
    "    # Are all elements of roots distinct and in ascending order?\n",
    "    for i in range(len(roots) - 1):\n",
    "        if roots[i] >= roots[i + 1]:\n",
    "            raise ValueError(f'roots[{i}] is >= roots[{i + 1}]')\n",
    "    print(f'\\ncheck_roots: all roots are distinct and in order')\n",
    "    # For all r in roots, abs(p(r)) <= tolerance?\n",
    "\n",
    "    for r in roots:\n",
    "        if abs(evaluate(p, r)) > tolerance:\n",
    "            raise ValueError(f'abs(p({r})) = {abs(evaluate(p, r))} > {tolerance}')\n",
    "    print(f'check_roots: all roots are roots within tolerance')\n",
    "    # Number of elements of roots equals Sturm(p)?\n",
    "    n_roots_Sturm = Sturm(p)\n",
    "    if len(roots) != n_roots_Sturm:\n",
    "        print(f\">>> ERROR: Only {len(roots)} real roots found; \"\n",
    "                         f\"{n_roots_Sturm} real roots were expected by Sturm's theorem.\")\n",
    "    else:\n",
    "        print(f\"check_roots: number of real roots, {n_roots_Sturm},\"\n",
    "              \" as expected by Sturm's theorem\")"
   ]
  },
  {
   "cell_type": "markdown",
   "id": "22d23ceb",
   "metadata": {},
   "source": [
    "## Ploting polynomials and printing roots dict"
   ]
  },
  {
   "cell_type": "code",
   "execution_count": 5,
   "id": "d2ab7580",
   "metadata": {},
   "outputs": [],
   "source": [
    "%matplotlib inline\n",
    "import matplotlib.pyplot as plt\n",
    "import numpy as np\n",
    "\n",
    "def plot_p(p, xlim):\n",
    "    \"\"\"\n",
    "    Plots a polynomial\n",
    "    \"\"\"\n",
    "    x_values = np.linspace(xlim[0], xlim[1], 200)\n",
    "    #print(f'v = {v}')\n",
    "    y_p = [evaluate(p, v) for v in x_values]\n",
    "    \n",
    "    ax = plt.gca()\n",
    "\n",
    "    plt.gcf().text(0.02, -0.1, '$' + p_to_str(p) + '$', fontsize=11)\n",
    "    \n",
    "\n",
    "    ax.plot(x_values, y_p, 'b')\n",
    "\n",
    "    ax.spines['left'].set_position('zero')\n",
    "    ax.spines['right'].set_color('none')\n",
    "    ax.spines['bottom'].set_position('zero')\n",
    "    ax.spines['top'].set_color('none')\n",
    "    \n",
    "    plt.show()"
   ]
  },
  {
   "cell_type": "code",
   "execution_count": 6,
   "id": "fe7694c7",
   "metadata": {},
   "outputs": [],
   "source": [
    "def print_roots_dict(p, roots_dict):\n",
    "    print(f'\\nReal roots of p(x) =\\n{p_to_str(p)}')\n",
    "    roots = [r[0] for r in roots_dict.items()]\n",
    "    for i, r in enumerate(roots):\n",
    "        print(f'Root[{i}] (x {roots_dict[r]}) = \\n  {r}')"
   ]
  },
  {
   "cell_type": "markdown",
   "id": "de2de925",
   "metadata": {},
   "source": [
    "# Tests"
   ]
  },
  {
   "cell_type": "code",
   "execution_count": 7,
   "id": "56b24683",
   "metadata": {},
   "outputs": [],
   "source": [
    "import time"
   ]
  },
  {
   "cell_type": "markdown",
   "id": "28c1cfc5",
   "metadata": {},
   "source": [
    "## Polynomials with known roots\n",
    "- Knowing the roots makes testing easier"
   ]
  },
  {
   "cell_type": "code",
   "execution_count": 8,
   "id": "1e24cc52",
   "metadata": {},
   "outputs": [],
   "source": [
    "def poly_from_roots(poly_roots, constant=Rational(1)):\n",
    "    \"\"\"\n",
    "    Constructs a polynomial from a list of is roots. \n",
    "    If poly_roots contains a complex number, its conjugate will be included too.\n",
    "    \"\"\"\n",
    "    x = Symbol('x')\n",
    "    W = constant\n",
    "    for r in poly_roots:\n",
    "        if isinstance(r, complex):\n",
    "            a = Rational(r.real)\n",
    "            b = Rational(r.imag)\n",
    "            W = W * (a**2 - 2*a*x + b**2 + x**2)\n",
    "        else:\n",
    "            W = W * (x - Rational(r))\n",
    "    return [int(coef) for coef in Poly(W).all_coeffs()]"
   ]
  },
  {
   "cell_type": "markdown",
   "id": "623e9a3e",
   "metadata": {},
   "source": [
    "### A polynomial with 4 real roots"
   ]
  },
  {
   "cell_type": "code",
   "execution_count": 9,
   "id": "3eb31358",
   "metadata": {},
   "outputs": [
    {
     "name": "stdout",
     "output_type": "stream",
     "text": [
      "1*x^4 - 10*x^3 + 17*x^2 + 40*x^1 - 84*x^0\n"
     ]
    },
    {
     "data": {
      "image/png": "[encoded data removed]",
      "text/plain": [
       "<Figure size 432x288 with 1 Axes>"
      ]
     },
     "metadata": {
      "needs_background": "light"
     },
     "output_type": "display_data"
    }
   ],
   "source": [
    "p = poly_from_roots([3, 2, -2, 7])\n",
    "print(p_to_str(p))\n",
    "plot_p(p, [-2.1, 7.1])"
   ]
  },
  {
   "cell_type": "code",
   "execution_count": 10,
   "id": "30781a49",
   "metadata": {},
   "outputs": [
    {
     "name": "stdout",
     "output_type": "stream",
     "text": [
      "\n",
      "Real roots of p(x) =\n",
      "1*x^4 - 10*x^3 + 17*x^2 + 40*x^1 - 84*x^0\n",
      "Root[0] (x 1) = \n",
      "  -2.0\n",
      "Root[1] (x 1) = \n",
      "  2.0000000000000000000000000000000000000043500843738\n",
      "Root[2] (x 1) = \n",
      "  2.9999999999999999999999999999999999999956499156262\n",
      "Root[3] (x 1) = \n",
      "  7.0\n"
     ]
    }
   ],
   "source": [
    "tolerance = mp.mpf('1.0e-37')\n",
    "mp.dps = 50\n",
    "roots_dict = mpf_find_real_roots(p, tolerance=tolerance, bracketing=bisection)\n",
    "print_roots_dict(p, roots_dict)"
   ]
  },
  {
   "cell_type": "code",
   "execution_count": 11,
   "id": "9aa252c1",
   "metadata": {},
   "outputs": [
    {
     "name": "stdout",
     "output_type": "stream",
     "text": [
      "\n",
      "Real roots of p(x) =\n",
      "1*x^4 - 10*x^3 + 17*x^2 + 40*x^1 - 84*x^0\n",
      "Root[0] (x 1) = \n",
      "  -2.0\n",
      "Root[1] (x 1) = \n",
      "  1.9999999999999999999999999999999999999999999988336\n",
      "Root[2] (x 1) = \n",
      "  3.0000000000000000000000000000000000000000000011664\n",
      "Root[3] (x 1) = \n",
      "  7.0\n"
     ]
    }
   ],
   "source": [
    "tolerance = mp.mpf('1.0e-37')\n",
    "mp.dps = 50\n",
    "roots_dict = mpf_find_real_roots(p, tolerance=tolerance, bracketing=newton)\n",
    "print_roots_dict(p, roots_dict)"
   ]
  },
  {
   "cell_type": "code",
   "execution_count": 12,
   "id": "830c2372",
   "metadata": {},
   "outputs": [
    {
     "name": "stdout",
     "output_type": "stream",
     "text": [
      "\n",
      "Real roots of p(x) =\n",
      "1*x^4 - 10*x^3 + 17*x^2 + 40*x^1 - 84*x^0\n",
      "Root[0] (x 1) = \n",
      "  -2.0\n",
      "Root[1] (x 1) = \n",
      "  1.9999999999999999999999999999999999999999999988336\n",
      "Root[2] (x 1) = \n",
      "  3.0000000000000000000000000000000000000000000011664\n",
      "Root[3] (x 1) = \n",
      "  7.0\n"
     ]
    }
   ],
   "source": [
    "tolerance = mp.mpf('1.0e-37')\n",
    "mp.dps = 50\n",
    "roots_dict = mpf_find_real_roots(p, tolerance=tolerance, bracketing=hibrid)\n",
    "print_roots_dict(p, roots_dict)"
   ]
  },
  {
   "cell_type": "code",
   "execution_count": 13,
   "id": "d71623d5",
   "metadata": {},
   "outputs": [
    {
     "name": "stdout",
     "output_type": "stream",
     "text": [
      "\n",
      "check_roots: all roots are distinct and in order\n",
      "check_roots: all roots are roots within tolerance\n",
      "check_roots: number of real roots, 4, as expected by Sturm's theorem\n"
     ]
    }
   ],
   "source": [
    "check_roots(p, roots_dict, tolerance)"
   ]
  },
  {
   "cell_type": "markdown",
   "id": "fdc6a245",
   "metadata": {},
   "source": [
    "### A polynomial with real  and complex roots"
   ]
  },
  {
   "cell_type": "code",
   "execution_count": 14,
   "id": "19271095",
   "metadata": {},
   "outputs": [
    {
     "name": "stdout",
     "output_type": "stream",
     "text": [
      "1*x^8 - 70*x^7 + 1126*x^6 + 25210*x^5 - 88631*x^4 - 1622840*x^3 + 4914444*x^2 + 6092480*x^1 - 18312000*x^0\n"
     ]
    },
    {
     "data": {
      "image/png": "[encoded data removed]",
      "text/plain": [
       "<Figure size 432x288 with 1 Axes>"
      ]
     },
     "metadata": {
      "needs_background": "light"
     },
     "output_type": "display_data"
    }
   ],
   "source": [
    "p = poly_from_roots([3, 2, -2, 7, 40 + 20j, -10 -3j])\n",
    "print(p_to_str(p))\n",
    "plot_p(p, [-2.1, 7.1])"
   ]
  },
  {
   "cell_type": "code",
   "execution_count": 15,
   "id": "e1e24b59",
   "metadata": {},
   "outputs": [
    {
     "name": "stdout",
     "output_type": "stream",
     "text": [
      "\n",
      "Real roots of p(x) =\n",
      "1*x^8 - 70*x^7 + 1126*x^6 + 25210*x^5 - 88631*x^4 - 1622840*x^3 + 4914444*x^2 + 6092480*x^1 - 18312000*x^0\n",
      "Root[0] (x 1) = \n",
      "  -1.9999999999999999999999999999999999999999999972017\n",
      "Root[1] (x 1) = \n",
      "  2.0000000000000000000000000000000000000000000086273\n",
      "Root[2] (x 1) = \n",
      "  2.9999999999999999999999999999999999999999999878341\n",
      "Root[3] (x 1) = \n",
      "  7.0000000000000000000000000000000000000000000003787\n"
     ]
    }
   ],
   "source": [
    "tolerance = mp.mpf('1.0e-37')\n",
    "mp.dps = 50\n",
    "roots_dict = mpf_find_real_roots(p, tolerance=tolerance, bracketing=bisection)\n",
    "print_roots_dict(p, roots_dict)"
   ]
  },
  {
   "cell_type": "code",
   "execution_count": 16,
   "id": "30e8a4d4",
   "metadata": {},
   "outputs": [
    {
     "name": "stdout",
     "output_type": "stream",
     "text": [
      "\n",
      "check_roots: all roots are distinct and in order\n",
      "check_roots: all roots are roots within tolerance\n",
      "check_roots: number of real roots, 4, as expected by Sturm's theorem\n"
     ]
    }
   ],
   "source": [
    "check_roots(p, roots_dict, tolerance)"
   ]
  },
  {
   "cell_type": "markdown",
   "id": "a0215d8c",
   "metadata": {},
   "source": [
    "### A polynomial with only complex roots"
   ]
  },
  {
   "cell_type": "code",
   "execution_count": 17,
   "id": "99bbc55c",
   "metadata": {},
   "outputs": [
    {
     "name": "stdout",
     "output_type": "stream",
     "text": [
      "1*x^8 - 20*x^7 + 200*x^6 - 1200*x^5 + 4708*x^4 - 12080*x^3 + 20000*x^2 - 19200*x^1 + 9216*x^0\n"
     ]
    },
    {
     "data": {
      "image/png": "[encoded data removed]",
      "text/plain": [
       "<Figure size 432x288 with 1 Axes>"
      ]
     },
     "metadata": {
      "needs_background": "light"
     },
     "output_type": "display_data"
    }
   ],
   "source": [
    "p = poly_from_roots([1 + 1j, 2 + 2j, 3 + 3j, 4 + 4j])\n",
    "print(p_to_str(p))\n",
    "plot_p(p, [-0.1, 4])"
   ]
  },
  {
   "cell_type": "code",
   "execution_count": 18,
   "id": "041398cb",
   "metadata": {},
   "outputs": [
    {
     "name": "stdout",
     "output_type": "stream",
     "text": [
      "\n",
      "Real roots of p(x) =\n",
      "1*x^8 - 20*x^7 + 200*x^6 - 1200*x^5 + 4708*x^4 - 12080*x^3 + 20000*x^2 - 19200*x^1 + 9216*x^0\n"
     ]
    }
   ],
   "source": [
    "tolerance = mp.mpf('1.0e-37')\n",
    "mp.dps = 50\n",
    "roots_dict = mpf_find_real_roots(p, tolerance=tolerance, bracketing=bisection)\n",
    "print_roots_dict(p, roots_dict)"
   ]
  },
  {
   "cell_type": "code",
   "execution_count": 19,
   "id": "8744d350",
   "metadata": {},
   "outputs": [
    {
     "name": "stdout",
     "output_type": "stream",
     "text": [
      "\n",
      "check_roots: all roots are distinct and in order\n",
      "check_roots: all roots are roots within tolerance\n",
      "check_roots: number of real roots, 0, as expected by Sturm's theorem\n"
     ]
    }
   ],
   "source": [
    "check_roots(p, roots_dict, tolerance)"
   ]
  },
  {
   "cell_type": "markdown",
   "id": "098ff08e",
   "metadata": {},
   "source": [
    "### A polynomial with roots with multiplicity"
   ]
  },
  {
   "cell_type": "code",
   "execution_count": 20,
   "id": "829af972",
   "metadata": {},
   "outputs": [
    {
     "name": "stdout",
     "output_type": "stream",
     "text": [
      "1*x^10 - 38*x^9 + 637*x^8 - 6188*x^7 + 38452*x^6 - 159008*x^5 + 440512*x^4 - 800768*x^3 + 904192*x^2 - 565248*x^1 + 147456*x^0\n"
     ]
    },
    {
     "data": {
      "image/png": "[encoded data removed]",
      "text/plain": [
       "<Figure size 432x288 with 1 Axes>"
      ]
     },
     "metadata": {
      "needs_background": "light"
     },
     "output_type": "display_data"
    }
   ],
   "source": [
    "p = poly_from_roots([1]*2 + [4]*6 + [6]*2)\n",
    "print(p_to_str(p))\n",
    "plot_p(p, [0.85, 6.2])"
   ]
  },
  {
   "cell_type": "code",
   "execution_count": 21,
   "id": "ee6714f0",
   "metadata": {},
   "outputs": [
    {
     "name": "stdout",
     "output_type": "stream",
     "text": [
      "\n",
      "Real roots of p(x) =\n",
      "1*x^10 - 38*x^9 + 637*x^8 - 6188*x^7 + 38452*x^6 - 159008*x^5 + 440512*x^4 - 800768*x^3 + 904192*x^2 - 565248*x^1 + 147456*x^0\n",
      "Root[0] (x 2) = \n",
      "  0.99999999999999999999999999999999999999999860094361\n",
      "Root[1] (x 6) = \n",
      "  4.000000000000000000000000000000000000000000540153\n",
      "Root[2] (x 2) = \n",
      "  5.9999999999999999999999999999999999999999788706612\n"
     ]
    }
   ],
   "source": [
    "tolerance = mp.mpf('1.0e-37')\n",
    "mp.dps = 50\n",
    "roots_dict = mpf_find_real_roots(p, tolerance=tolerance, bracketing=bisection)\n",
    "print_roots_dict(p, roots_dict)"
   ]
  },
  {
   "cell_type": "code",
   "execution_count": null,
   "id": "d90e7cdd",
   "metadata": {},
   "outputs": [],
   "source": [
    "check_roots(p, roots_dict, tolerance)"
   ]
  },
  {
   "cell_type": "markdown",
   "id": "45c11a04",
   "metadata": {},
   "source": [
    "### Wilkinson polynomials"
   ]
  },
  {
   "cell_type": "code",
   "execution_count": null,
   "id": "faa2d9d8",
   "metadata": {},
   "outputs": [],
   "source": [
    "def Wilkinson(n):\n",
    "    return poly_from_roots(list(range(1,n+1)))"
   ]
  },
  {
   "cell_type": "code",
   "execution_count": null,
   "id": "9d85b2a7",
   "metadata": {},
   "outputs": [],
   "source": [
    "p = Wilkinson(10)\n",
    "print(p_to_str(p))\n",
    "plot_p(p, [0.95, 10.05])"
   ]
  },
  {
   "cell_type": "code",
   "execution_count": null,
   "id": "9d62c7e8",
   "metadata": {},
   "outputs": [],
   "source": [
    "tolerance = mp.mpf('1.0e-37')\n",
    "mp.dps = 50\n",
    "roots_dict = mpf_find_real_roots(p, tolerance=tolerance)\n",
    "print_roots_dict(p, roots_dict)"
   ]
  },
  {
   "cell_type": "code",
   "execution_count": null,
   "id": "95dbfb4f",
   "metadata": {},
   "outputs": [],
   "source": [
    "check_roots(p, roots_dict, tolerance)"
   ]
  },
  {
   "cell_type": "code",
   "execution_count": null,
   "id": "75b7206a",
   "metadata": {},
   "outputs": [],
   "source": [
    "tolerance = mp.mpf('1.0e-37')\n",
    "mp.dps = 200\n",
    "p = Wilkinson(50)\n",
    "start = time.perf_counter()\n",
    "roots_dict = mpf_find_real_roots(p, tolerance=tolerance, bracketing=bisection)\n",
    "end = time.perf_counter()\n",
    "print(f'Time elapsed: {end - start}')\n",
    "print_roots_dict(p, roots_dict)"
   ]
  },
  {
   "cell_type": "code",
   "execution_count": null,
   "id": "90ccdf21",
   "metadata": {},
   "outputs": [],
   "source": [
    "tolerance = mp.mpf('1.0e-37')\n",
    "mp.dps = 200\n",
    "p = Wilkinson(50)\n",
    "start = time.perf_counter()\n",
    "roots_dict = mpf_find_real_roots(p, tolerance=tolerance, bracketing=newton)\n",
    "end = time.perf_counter()\n",
    "print(f'Time elapsed: {end - start}')\n",
    "print_roots_dict(p, roots_dict)"
   ]
  },
  {
   "cell_type": "code",
   "execution_count": null,
   "id": "9cd52df0",
   "metadata": {},
   "outputs": [],
   "source": [
    "tolerance = mp.mpf('1.0e-37')\n",
    "mp.dps = 200\n",
    "p = Wilkinson(50)\n",
    "start = time.perf_counter()\n",
    "roots_dict = mpf_find_real_roots(p, tolerance=tolerance, bracketing=hibrid)\n",
    "end = time.perf_counter()\n",
    "print(f'Time elapsed: {end - start}')\n",
    "print_roots_dict(p, roots_dict)"
   ]
  },
  {
   "cell_type": "code",
   "execution_count": null,
   "id": "119de8d3",
   "metadata": {},
   "outputs": [],
   "source": [
    "check_roots(p, roots_dict, tolerance)"
   ]
  },
  {
   "cell_type": "markdown",
   "id": "3054dd34",
   "metadata": {},
   "source": [
    "##  Mignotte polynomials"
   ]
  },
  {
   "cell_type": "code",
   "execution_count": null,
   "id": "ca342d5e",
   "metadata": {},
   "outputs": [],
   "source": [
    "def Mignotte(n, tau):\n",
    "    x = Symbol('x')\n",
    "    return [int(coef) for coef in Poly((x**n - ((2**(tau//2) - 1)*x - 1)**2)).all_coeffs()]"
   ]
  },
  {
   "cell_type": "code",
   "execution_count": null,
   "id": "b19b87fc",
   "metadata": {},
   "outputs": [],
   "source": [
    "p = Mignotte(7, 4)\n",
    "print(p_to_str(p))\n",
    "plot_p(p, (-1, 1.5))"
   ]
  },
  {
   "cell_type": "code",
   "execution_count": null,
   "id": "05fd5a99",
   "metadata": {},
   "outputs": [],
   "source": [
    "tolerance = mp.mpf('1.0e-37')\n",
    "mp.dps = 200\n",
    "roots_dict = mpf_find_real_roots(p, tolerance=tolerance)\n",
    "print_roots_dict(p, roots_dict)"
   ]
  },
  {
   "cell_type": "code",
   "execution_count": null,
   "id": "153c5b92",
   "metadata": {},
   "outputs": [],
   "source": [
    "check_roots(p, roots_dict, tolerance)"
   ]
  },
  {
   "cell_type": "code",
   "execution_count": null,
   "id": "36da110e",
   "metadata": {},
   "outputs": [],
   "source": [
    "n = 513\n",
    "tau = 14\n",
    "p = Mignotte(n, tau)\n",
    "tolerance = mp.mpf('1.0e-1500')\n",
    "mp.dps = 1750\n",
    "start = time.perf_counter()\n",
    "roots_dict = mpf_find_real_roots(p, tolerance=tolerance, bracketing=bisection)\n",
    "end = time.perf_counter()\n",
    "print(f'Time elapsed: {end - start}')\n",
    "print_roots_dict(p, roots_dict)"
   ]
  },
  {
   "cell_type": "code",
   "execution_count": null,
   "id": "79475bbc",
   "metadata": {},
   "outputs": [],
   "source": [
    "n = 513\n",
    "tau = 14\n",
    "p = Mignotte(n, tau)\n",
    "tolerance = mp.mpf('1.0e-1500')\n",
    "mp.dps = 1750\n",
    "start = time.perf_counter()\n",
    "roots_dict = mpf_find_real_roots(p, tolerance=tolerance, bracketing=hibrid)\n",
    "end = time.perf_counter()\n",
    "print(f'Time elapsed: {end - start}')\n",
    "print_roots_dict(p, roots_dict)"
   ]
  },
  {
   "cell_type": "code",
   "execution_count": null,
   "id": "9c973eb9",
   "metadata": {},
   "outputs": [],
   "source": [
    "check_roots(p, roots_dict, tolerance)"
   ]
  },
  {
   "cell_type": "markdown",
   "id": "05e6a9a1",
   "metadata": {},
   "source": [
    "## Chebyshev polynomials of first kind"
   ]
  },
  {
   "cell_type": "code",
   "execution_count": null,
   "id": "b6d86b4d",
   "metadata": {},
   "outputs": [],
   "source": [
    "def memoize(f):\n",
    "    memo = {}\n",
    "    def helper(x):\n",
    "        if x not in memo:            \n",
    "            memo[x] = f(x)\n",
    "        return memo[x]\n",
    "    return helper\n",
    "\n",
    "@memoize\n",
    "def Chebyshev(n):\n",
    "    x = Symbol('x')\n",
    "    if n == 0:\n",
    "        return 1\n",
    "    elif n == 1:\n",
    "        return x\n",
    "    else:\n",
    "        return (2*x*Chebyshev(n-1) - Chebyshev(n-2)).expand()"
   ]
  },
  {
   "cell_type": "code",
   "execution_count": null,
   "id": "ba0d6625",
   "metadata": {},
   "outputs": [],
   "source": [
    "p = [int(coef) for coef in Poly(Chebyshev(20)).all_coeffs()]\n",
    "plot_p(p, (-1.01, 1.01))\n",
    "tolerance = mp.mpf('1.0e-37')\n",
    "mp.dps = 200\n",
    "roots_dict = mpf_find_real_roots(p, tolerance=tolerance)\n",
    "roots_dict"
   ]
  },
  {
   "cell_type": "code",
   "execution_count": null,
   "id": "cc75e06a",
   "metadata": {},
   "outputs": [],
   "source": [
    "check_roots(p, roots_dict, tolerance)"
   ]
  },
  {
   "cell_type": "code",
   "execution_count": null,
   "id": "d783a501",
   "metadata": {},
   "outputs": [],
   "source": []
  }
 ],
 "metadata": {
  "kernelspec": {
   "display_name": "Python 3 (ipykernel)",
   "language": "python",
   "name": "python3"
  },
  "language_info": {
   "codemirror_mode": {
    "name": "ipython",
    "version": 3
   },
   "file_extension": ".py",
   "mimetype": "text/x-python",
   "name": "python",
   "nbconvert_exporter": "python",
   "pygments_lexer": "ipython3",
   "version": "3.9.12"
  },
  "toc": {
   "base_numbering": 1,
   "nav_menu": {},
   "number_sections": true,
   "sideBar": true,
   "skip_h1_title": false,
   "title_cell": "Table of Contents",
   "title_sidebar": "Contents",
   "toc_cell": false,
   "toc_position": {
    "height": "calc(100% - 180px)",
    "left": "10px",
    "top": "150px",
    "width": "256px"
   },
   "toc_section_display": true,
   "toc_window_display": true
  }
 },
 "nbformat": 4,
 "nbformat_minor": 5
}
