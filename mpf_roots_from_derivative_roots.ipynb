{
 "cells": [
  {
   "cell_type": "markdown",
   "id": "ba29df04",
   "metadata": {},
   "source": [
    "# Introduction\n",
    "- This notebook presents Python code for the algorithm described in https://www.researchgate.net/publication/320864673_A_simple_algorithm_to_find_all_real_roots_of_a_polynomial. Please cite this paper if you use this code or part of it.\n",
    "- The code finds all real roots of a polynomial and its multiplicities, using standard floating point arithmetics.\n",
    "- A companion notebook presents Python code for the same algorithm, using mpmath for arbitrary precision arithmetics.\n",
    "- You may also read the *Fundamentals* notebook in this repository.\n",
    "- This notebook contains code and tests using some notorious polynomials"
   ]
  },
  {
   "cell_type": "markdown",
   "id": "28d89a55",
   "metadata": {},
   "source": [
    "# Code\n",
    "Notes:\n",
    "- Sympy polynomials and some associated functions are used only for the construction of polynomials for testing, and also for checking correctness of the number or roots found."
   ]
  },
  {
   "cell_type": "markdown",
   "id": "1482049f",
   "metadata": {},
   "source": [
    "## Solver"
   ]
  },
  {
   "cell_type": "code",
   "execution_count": 101,
   "id": "f7b179d8",
   "metadata": {},
   "outputs": [],
   "source": [
    "from collections import OrderedDict\n",
    "\n",
    "from mpmath import mp, mpf\n",
    "\n",
    "def sign(value):\n",
    "    if value < 0:\n",
    "        return -1\n",
    "    elif value == 0:\n",
    "        return 0\n",
    "    return 1\n",
    "\n",
    "def degree(p):\n",
    "    return len(p) - 1\n",
    "\n",
    "def p_to_str(p):\n",
    "    \n",
    "    n = len(p) - 1\n",
    "    s = str(p[0]) + '*x^' + str(n)\n",
    "\n",
    "    for i in range(1, n+1):\n",
    "        if p[i] > 0:\n",
    "            s += ' + ' + str(p[i]) + '*x^' + str(n-i)\n",
    "        elif p[i] < 0:\n",
    "            s += ' - ' + str(-p[i]) + '*x^' + str(n-i)\n",
    "    \n",
    "    return s\n",
    "\n",
    "def derivative(p):\n",
    "    n = len(p)\n",
    "    return [p[i]*(n-i-1) for i in range(n-1)]\n",
    "\n",
    "def evaluate(p, x_value):\n",
    "    # Using Horner method\n",
    "    result = mpf(p[0])\n",
    "    for coef in p[1:]:\n",
    "        result = result*x_value + mpf(coef)\n",
    "    return result\n",
    "\n",
    "def bisection(a, b, tolerance, p, pdiff):\n",
    "    '''\n",
    "    Classical bisection method. \n",
    "    Raises ValueError when a no progress situation is detected\n",
    "    pdiff parameter exists only to keep the same signature as other bracketing\n",
    "    methods, such as Newton-Raphson, that uses the derivative of p\n",
    "    '''    \n",
    "    p_a = evaluate(p, a)\n",
    "    p_b = evaluate(p, b)\n",
    "    m = (a + b) / 2\n",
    "    p_m = evaluate(p, m)\n",
    "    progress = True\n",
    "    \n",
    "    iter = 0\n",
    "    while abs(p_m) > tolerance and progress:\n",
    "        iter += 1\n",
    "        old_a, old_b = a, b\n",
    "        if p_a * p_m <= 0:\n",
    "            b = m\n",
    "            p_b = p_m\n",
    "        elif p_b * p_m <= 0:\n",
    "            a = m\n",
    "            p_a = p_m\n",
    "        m = (a + b) / 2\n",
    "        p_m = evaluate(p, m)\n",
    "        if old_a == a and old_b == b:\n",
    "            progress = False\n",
    "            raise ValueError(f'bissection: no progress after {iter} iterations\\n' \n",
    "                             f'while isolating a root of {p_to_str(p)} \\nwith \\na = {a} \\nb = {b}')\n",
    "    return m\n",
    "\n",
    "def newton(a, b, tolerance, p, pdiff, maxiter=5000):\n",
    "    #convergence not guaranteed\n",
    "\n",
    "    iter = 0\n",
    "    x_newton = (a + b)/2\n",
    "    while abs(evaluate(p, x_newton)) > tolerance:\n",
    "        iter += 1\n",
    "        if iter >= maxiter:\n",
    "            raise ValueError(f'newton: no convergence after {iter} iterations')\n",
    "            break\n",
    "        x_newton = x_newton - evaluate(p, x_newton)/evaluate(pdiff, x_newton)\n",
    "\n",
    "    return x_newton\n",
    "\n",
    "def hibrid( a, b, tolerance, p, pdiff):\n",
    "    \"\"\"\n",
    "    bracketing that mixes Newton-Raphson and Bisection methods.\n",
    "    Adapted from https://doi.org/10.12988/ams.2017.710302   \n",
    "    \"\"\"\n",
    "\n",
    "    iter = 0\n",
    "    p_a = evaluate(p, a)\n",
    "    p_b = evaluate(p, b)\n",
    "    if p_a * p_b > 0:\n",
    "        raise ValueError(f'p(a) and p(b) must have opposite signs')\n",
    "    n_bisec = 0\n",
    "    n_newton = 0\n",
    "    m = (a + b)/2\n",
    "    p_m = evaluate(p, m)\n",
    "    \n",
    "    while abs(p_m) > tolerance:\n",
    "        old_a, old_b = a, b\n",
    "\n",
    "        iter += 1\n",
    "        p_m = evaluate(p, m)\n",
    "        pdiff_m = evaluate(pdiff, m)\n",
    "        next_x_newton = m - p_m / pdiff_m\n",
    "        \n",
    "        if (a < next_x_newton < b): \n",
    "            # Take newton guess\n",
    "            m = next_x_newton\n",
    "            n_newton += 1\n",
    "        else:\n",
    "            # Take bisection guess\n",
    "            m = (a + b)/2\n",
    "            n_bisec += 1           \n",
    "        p_m = evaluate(p, m)\n",
    "        if p_a * p_m <= 0:\n",
    "            b = m\n",
    "            p_b = p_m\n",
    "        if p_b * p_m <= 0:\n",
    "            a = m\n",
    "            p_a = p_m\n",
    "        if a == old_a and b == old_b:\n",
    "            raise ValueError(f'hibrid: no progress after {iter} iterations, '\n",
    "                             f'with \\na = {a}\\nb = {b}\\nm={m} \\nb - a = {b - a}'\n",
    "                             f'\\nold_a = {old_a}\\nold_b = {old_b}')\n",
    "            break\n",
    "    return m\n",
    "\n",
    "def mpf_internal_root(p, pdiff, roots_dict, derivative_roots_dict,\n",
    "                      a, b, tolerance, bracketing):\n",
    "\n",
    "    p_a = evaluate(p, a)\n",
    "    if abs(p_a) <= tolerance:\n",
    "        pass\n",
    "    else:\n",
    "        p_b = evaluate(p, b)\n",
    "        if abs(p_b) < tolerance:\n",
    "            roots_dict[b] = derivative_roots_dict[b] + 1\n",
    "            # Increment multiplicity\n",
    "        else:\n",
    "            sign_at_a = sign(p_a)\n",
    "            sign_at_b = sign(p_b)\n",
    "            if sign_at_a == sign_at_b:\n",
    "                pass\n",
    "            else:\n",
    "                roots_dict[bracketing(a, b, tolerance, p, pdiff)] = 1\n",
    "\n",
    "\n",
    "def mpf_external_root(p, pdiff, roots_dict, derivative_roots_dict,\n",
    "                  extremity, limit_sign, initial_step, tolerance, bracketing):\n",
    "    '''\n",
    "    extremity is the smallest or largest root of pdiff.\n",
    "    If initial_step < 0, this function will look for a root in interval (-inf, extremity];\n",
    "    If initial_step > 0, this function will look for a root in interval (extremity, inf)\n",
    "    '''\n",
    "    def point_with_sign_inversion(p, extremity, sign_at_extremity, initial_step):\n",
    "\n",
    "        step = initial_step\n",
    "        x = extremity + step\n",
    "        p_x = evaluate(p, x)\n",
    "        sign_at_x = sign(p_x)\n",
    "\n",
    "        while sign_at_x == sign_at_extremity:\n",
    "            step = 2*step # Double step length\n",
    "            x = x + step\n",
    "            p_x = evaluate(p, x)\n",
    "            sign_at_x = sign(p_x)\n",
    "\n",
    "        return x \n",
    "\n",
    "    value_at_extremity = evaluate(p, extremity)\n",
    "    \n",
    "    if abs(value_at_extremity) <= tolerance:\n",
    "        if initial_step < 0:\n",
    "            roots_dict[extremity] = derivative_roots_dict[extremity] + 1\n",
    "    else:\n",
    "        sign_at_extremity = sign(value_at_extremity)\n",
    "        if limit_sign != sign_at_extremity:\n",
    "            if initial_step > 0:\n",
    "                a = extremity\n",
    "                b = point_with_sign_inversion(p, extremity, \n",
    "                                              sign_at_extremity, initial_step)\n",
    "            else:\n",
    "                a = point_with_sign_inversion(p, extremity, \n",
    "                                              sign_at_extremity, initial_step)\n",
    "                b = extremity\n",
    "\n",
    "            roots_dict[bracketing(a, b, tolerance, p, pdiff)] = 1\n",
    "            # multiplicity = 1\n",
    "\n",
    "def mpf_roots_from_derivative_roots(p, derivative_roots_dict, tolerance, bracketing):\n",
    "    '''\n",
    "    Returns an OrderedDict, with roots as keys and multiplicity as values\n",
    "    '''\n",
    "    roots_dict = OrderedDict()\n",
    "    \n",
    "    derivative_roots = [r[0] for r in derivative_roots_dict.items()]\n",
    "    n_derivative_roots = len(derivative_roots)\n",
    "    pdiff = derivative(p)\n",
    "       \n",
    "    if n_derivative_roots == 0:\n",
    "        # I took 0, but any point should work\n",
    "        left_extremity = mpf(0)\n",
    "        right_extremity = mpf(0)\n",
    "    else:\n",
    "        left_extremity = derivative_roots[0]\n",
    "        right_extremity = derivative_roots[-1]\n",
    "    \n",
    "    right_limit_sign = sign(p[0]) # p[0]: Leading Coefficient\n",
    "       \n",
    "    if degree(p) % 2 == 0:\n",
    "        left_limit_sign = sign(p[0])\n",
    "    else:\n",
    "        left_limit_sign = -sign(p[0]) \n",
    "    \n",
    "    mpf_external_root(p, pdiff, roots_dict, derivative_roots_dict,\n",
    "                  left_extremity, left_limit_sign, mpf(-1), \n",
    "                  tolerance, bracketing)\n",
    "    \n",
    "    for i in range(n_derivative_roots - 1): \n",
    "        mpf_internal_root(p, pdiff, roots_dict, derivative_roots_dict,\n",
    "                      derivative_roots[i], derivative_roots[i+1], \n",
    "                      tolerance, bracketing)\n",
    "         \n",
    "    mpf_external_root(p, pdiff, roots_dict, derivative_roots_dict,\n",
    "                  right_extremity, right_limit_sign, mpf(1), \n",
    "                  tolerance, bracketing)\n",
    "    \n",
    "    return roots_dict \n",
    "\n",
    "def mpf_find_real_roots(p, tolerance=1.0e-5, bracketing=bisection):\n",
    "    '''\n",
    "     Find real roots of polynomial defined by list p\n",
    "     If the length of p is n+1 then the polynomial is described by:\n",
    "       p[0] * x**n + p[1] * x**(n-1) + ... + p[n-1]*x + p[n]\n",
    "    '''\n",
    "    roots_dict = OrderedDict()\n",
    "    \n",
    "    # print(f'Solving {p_to_str(p)} = 0')\n",
    "\n",
    "    if len(p) == 2: \n",
    "        # first degree polynomial\n",
    "        roots_dict[-mpf(p[1])/mpf(p[0])] = 1\n",
    "    else:\n",
    "        roots_dict = mpf_roots_from_derivative_roots(\n",
    "            p, mpf_find_real_roots(derivative(p), tolerance, bracketing),\n",
    "            tolerance, bracketing)\n",
    "\n",
    "    # print(f'Roots of {p_to_str(p)}: {roots}')\n",
    "    return roots_dict"
   ]
  },
  {
   "cell_type": "markdown",
   "id": "a89201fb",
   "metadata": {},
   "source": [
    "## Checking roots"
   ]
  },
  {
   "cell_type": "code",
   "execution_count": 2,
   "id": "5c1cc70f",
   "metadata": {},
   "outputs": [],
   "source": [
    "from sympy import Symbol, Poly, rem, LC, Rational\n",
    "from sympy import degree as sp_degree\n",
    "\n",
    "x = Symbol('x')\n",
    "\n",
    "def sign_at_minus_inf(poly):\n",
    "\n",
    "    if sp_degree(poly) % 2 == 0:\n",
    "        s = sign(LC(poly, x))\n",
    "    else:\n",
    "        s = sign(-LC(poly, x))\n",
    "        \n",
    "    return s\n",
    "    \n",
    "def sign_at_plus_inf(poly):\n",
    "\n",
    "    s = sign(LC(poly, x))\n",
    "\n",
    "    return s"
   ]
  },
  {
   "cell_type": "code",
   "execution_count": 3,
   "id": "9f35301c",
   "metadata": {},
   "outputs": [],
   "source": [
    "def Sturm(p):\n",
    "    \"\"\"\n",
    "    Returns total number of distinct real roots of p, based on Sturm's theorem\n",
    "    https://en.wikipedia.org/wiki/Sturm%27s_theorem\n",
    "    \"\"\"\n",
    "    x = Symbol('x')\n",
    "    poly = Poly(p, x)\n",
    "    \n",
    "    minus_inf_sign_inversions = 0\n",
    "    plus_inf_sign_inversions = 0\n",
    "    \n",
    "    last_p = poly.diff()\n",
    "\n",
    "    if sign_at_minus_inf(poly) != sign_at_minus_inf(last_p):\n",
    "        minus_inf_sign_inversions += 1\n",
    "    if sign_at_plus_inf(poly) != sign_at_plus_inf(last_p):\n",
    "        plus_inf_sign_inversions += 1\n",
    "        \n",
    "    last_sign_at_minus_inf = sign_at_minus_inf(last_p)\n",
    "    last_sign_at_plus_inf = sign_at_plus_inf(last_p)\n",
    "\n",
    "    while sp_degree(last_p) > 0:\n",
    "        next_p = -rem(poly, last_p)\n",
    "\n",
    "        if sign_at_minus_inf(next_p) != last_sign_at_minus_inf:\n",
    "            minus_inf_sign_inversions += 1\n",
    "        if sign_at_plus_inf(next_p) != last_sign_at_plus_inf:\n",
    "            plus_inf_sign_inversions += 1\n",
    "        poly = last_p\n",
    "        last_p = next_p\n",
    "        last_sign_at_minus_inf = sign_at_minus_inf(last_p)\n",
    "        last_sign_at_plus_inf = sign_at_plus_inf(last_p)        \n",
    "        \n",
    "    return minus_inf_sign_inversions - plus_inf_sign_inversions"
   ]
  },
  {
   "cell_type": "code",
   "execution_count": 4,
   "id": "f5fd60fc",
   "metadata": {},
   "outputs": [],
   "source": [
    "def check_roots(p, roots_dict, tolerance):\n",
    "    \n",
    "    roots = [r[0] for r in roots_dict.items()]\n",
    "    \n",
    "    # Are all elements of roots distinct and in ascending order?\n",
    "    for i in range(len(roots) - 1):\n",
    "        if roots[i] >= roots[i + 1]:\n",
    "            raise ValueError(f'roots[{i}] is >= roots[{i + 1}]')\n",
    "    print(f'\\ncheck_roots: all roots are distinct and in order')\n",
    "    # For all r in roots, abs(p(r)) <= tolerance?\n",
    "\n",
    "    for r in roots:\n",
    "        if abs(evaluate(p, r)) > tolerance:\n",
    "            raise ValueError(f'abs(p({r})) = {abs(evaluate(p, r))} > {tolerance}')\n",
    "    print(f'check_roots: all roots are roots within tolerance')\n",
    "    # Number of elements of roots equals Sturm(p)?\n",
    "    n_roots_Sturm = Sturm(p)\n",
    "    if len(roots) != n_roots_Sturm:\n",
    "        print(f\">>> ERROR: Only {len(roots)} real roots found; \"\n",
    "                         f\"{n_roots_Sturm} real roots were expected by Sturm's theorem.\")\n",
    "    else:\n",
    "        print(f\"check_roots: number of real roots, {n_roots_Sturm},\"\n",
    "              \" as expected by Sturm's theorem\")"
   ]
  },
  {
   "cell_type": "markdown",
   "id": "22d23ceb",
   "metadata": {},
   "source": [
    "## Ploting polynomials and printing roots dict"
   ]
  },
  {
   "cell_type": "code",
   "execution_count": 5,
   "id": "d2ab7580",
   "metadata": {},
   "outputs": [],
   "source": [
    "%matplotlib inline\n",
    "import matplotlib.pyplot as plt\n",
    "import numpy as np\n",
    "\n",
    "def plot_p(p, xlim):\n",
    "    \"\"\"\n",
    "    Plots a polynomial\n",
    "    \"\"\"\n",
    "    x_values = np.linspace(xlim[0], xlim[1], 200)\n",
    "    #print(f'v = {v}')\n",
    "    y_p = [evaluate(p, v) for v in x_values]\n",
    "    \n",
    "    ax = plt.gca()\n",
    "\n",
    "    plt.gcf().text(0.02, -0.1, '$' + p_to_str(p) + '$', fontsize=11)\n",
    "    \n",
    "\n",
    "    ax.plot(x_values, y_p, 'b')\n",
    "\n",
    "    ax.spines['left'].set_position('zero')\n",
    "    ax.spines['right'].set_color('none')\n",
    "    ax.spines['bottom'].set_position('zero')\n",
    "    ax.spines['top'].set_color('none')\n",
    "    \n",
    "    plt.show()"
   ]
  },
  {
   "cell_type": "code",
   "execution_count": 58,
   "id": "fe7694c7",
   "metadata": {},
   "outputs": [],
   "source": [
    "def print_roots_dict(p, roots_dict):\n",
    "    print(f'\\nReal roots of p(x) =\\n{p_to_str(p)}')\n",
    "    roots = [r[0] for r in roots_dict.items()]\n",
    "    for i, r in enumerate(roots):\n",
    "        print(f'Root[{i}] (x {roots_dict[r]}) = \\n  {r}')"
   ]
  },
  {
   "cell_type": "markdown",
   "id": "de2de925",
   "metadata": {},
   "source": [
    "# Tests"
   ]
  },
  {
   "cell_type": "code",
   "execution_count": 105,
   "id": "56b24683",
   "metadata": {},
   "outputs": [],
   "source": [
    "import time"
   ]
  },
  {
   "cell_type": "markdown",
   "id": "28c1cfc5",
   "metadata": {},
   "source": [
    "## Polynomials with known roots\n",
    "- Knowing the roots makes testing easier"
   ]
  },
  {
   "cell_type": "code",
   "execution_count": 6,
   "id": "1e24cc52",
   "metadata": {},
   "outputs": [],
   "source": [
    "def poly_from_roots(poly_roots, constant=Rational(1)):\n",
    "    \"\"\"\n",
    "    Constructs a polynomial from a list of is roots. \n",
    "    If poly_roots contains a complex number, its conjugate will be included too.\n",
    "    \"\"\"\n",
    "    x = Symbol('x')\n",
    "    W = constant\n",
    "    for r in poly_roots:\n",
    "        if isinstance(r, complex):\n",
    "            a = Rational(r.real)\n",
    "            b = Rational(r.imag)\n",
    "            W = W * (a**2 - 2*a*x + b**2 + x**2)\n",
    "        else:\n",
    "            W = W * (x - Rational(r))\n",
    "    return [int(coef) for coef in Poly(W).all_coeffs()]"
   ]
  },
  {
   "cell_type": "markdown",
   "id": "623e9a3e",
   "metadata": {},
   "source": [
    "### A polynomial with 4 real roots"
   ]
  },
  {
   "cell_type": "code",
   "execution_count": 102,
   "id": "3eb31358",
   "metadata": {},
   "outputs": [
    {
     "name": "stdout",
     "output_type": "stream",
     "text": [
      "1*x^4 - 10*x^3 + 17*x^2 + 40*x^1 - 84*x^0\n"
     ]
    },
    {
     "data": {
      "image/png": "[encoded data removed]",
      "text/plain": [
       "<Figure size 432x288 with 1 Axes>"
      ]
     },
     "metadata": {
      "needs_background": "light"
     },
     "output_type": "display_data"
    }
   ],
   "source": [
    "p = poly_from_roots([3, 2, -2, 7])\n",
    "print(p_to_str(p))\n",
    "plot_p(p, [-2.1, 7.1])"
   ]
  },
  {
   "cell_type": "code",
   "execution_count": 91,
   "id": "30781a49",
   "metadata": {},
   "outputs": [
    {
     "name": "stdout",
     "output_type": "stream",
     "text": [
      "\n",
      "Real roots of p(x) =\n",
      "1*x^4 - 10*x^3 + 17*x^2 + 40*x^1 - 84*x^0\n",
      "Root[0] (x 1) = \n",
      "  -2.0\n",
      "Root[1] (x 1) = \n",
      "  2.0000000000000000000000000000000000000043500843738\n",
      "Root[2] (x 1) = \n",
      "  2.9999999999999999999999999999999999999956499156262\n",
      "Root[3] (x 1) = \n",
      "  7.0\n"
     ]
    }
   ],
   "source": [
    "tolerance = mp.mpf('1.0e-37')\n",
    "mp.dps = 50\n",
    "roots_dict = mpf_find_real_roots(p, tolerance=tolerance, bracketing=bisection)\n",
    "print_roots_dict(p, roots_dict)"
   ]
  },
  {
   "cell_type": "code",
   "execution_count": 94,
   "id": "9aa252c1",
   "metadata": {},
   "outputs": [
    {
     "name": "stdout",
     "output_type": "stream",
     "text": [
      "\n",
      "Real roots of p(x) =\n",
      "1*x^4 - 10*x^3 + 17*x^2 + 40*x^1 - 84*x^0\n",
      "Root[0] (x 1) = \n",
      "  -2.0\n",
      "Root[1] (x 1) = \n",
      "  1.9999999999999999999999999999999999999999999988336\n",
      "Root[2] (x 1) = \n",
      "  3.0000000000000000000000000000000000000000000011664\n",
      "Root[3] (x 1) = \n",
      "  7.0\n"
     ]
    }
   ],
   "source": [
    "tolerance = mp.mpf('1.0e-37')\n",
    "mp.dps = 50\n",
    "roots_dict = mpf_find_real_roots(p, tolerance=tolerance, bracketing=newton)\n",
    "print_roots_dict(p, roots_dict)"
   ]
  },
  {
   "cell_type": "code",
   "execution_count": 103,
   "id": "830c2372",
   "metadata": {},
   "outputs": [
    {
     "name": "stdout",
     "output_type": "stream",
     "text": [
      "\n",
      "Real roots of p(x) =\n",
      "1*x^4 - 10*x^3 + 17*x^2 + 40*x^1 - 84*x^0\n",
      "Root[0] (x 1) = \n",
      "  -2.0\n",
      "Root[1] (x 1) = \n",
      "  1.9999999999999999999999999999999999999999999988336\n",
      "Root[2] (x 1) = \n",
      "  3.0000000000000000000000000000000000000000000011664\n",
      "Root[3] (x 1) = \n",
      "  7.0\n"
     ]
    }
   ],
   "source": [
    "tolerance = mp.mpf('1.0e-37')\n",
    "mp.dps = 50\n",
    "roots_dict = mpf_find_real_roots(p, tolerance=tolerance, bracketing=hibrid)\n",
    "print_roots_dict(p, roots_dict)"
   ]
  },
  {
   "cell_type": "code",
   "execution_count": 12,
   "id": "d71623d5",
   "metadata": {},
   "outputs": [
    {
     "name": "stdout",
     "output_type": "stream",
     "text": [
      "\n",
      "check_roots: all roots are distinct and in order\n",
      "check_roots: all roots are roots within tolerance\n",
      "check_roots: number of real roots, 4, as expected by Sturm's theorem\n"
     ]
    }
   ],
   "source": [
    "check_roots(p, roots_dict, tolerance)"
   ]
  },
  {
   "cell_type": "markdown",
   "id": "fdc6a245",
   "metadata": {},
   "source": [
    "### A polynomial with real  and complex roots"
   ]
  },
  {
   "cell_type": "code",
   "execution_count": 56,
   "id": "19271095",
   "metadata": {},
   "outputs": [
    {
     "name": "stdout",
     "output_type": "stream",
     "text": [
      "1*x^8 + -70*x^7 + 1126*x^6 + 25210*x^5 + -88631*x^4 + -1622840*x^3 + 4914444*x^2 + 6092480*x^1 + -18312000\n"
     ]
    },
    {
     "data": {
      "image/png": "[encoded data removed]",
      "text/plain": [
       "<Figure size 432x288 with 1 Axes>"
      ]
     },
     "metadata": {
      "needs_background": "light"
     },
     "output_type": "display_data"
    }
   ],
   "source": [
    "p = poly_from_roots([3, 2, -2, 7, 40 + 20j, -10 -3j])\n",
    "print(p_to_str(p))\n",
    "plot_p(p, [-2.1, 7.1])"
   ]
  },
  {
   "cell_type": "code",
   "execution_count": 59,
   "id": "e1e24b59",
   "metadata": {},
   "outputs": [
    {
     "name": "stdout",
     "output_type": "stream",
     "text": [
      "\n",
      "Real roots of p(x) =\n",
      "1*x^8 + -70*x^7 + 1126*x^6 + 25210*x^5 + -88631*x^4 + -1622840*x^3 + 4914444*x^2 + 6092480*x^1 + -18312000\n",
      "Root[0] (x 1) = \n",
      "  -1.9999999999999999999999999999999999999999999972017\n",
      "Root[1] (x 1) = \n",
      "  2.0000000000000000000000000000000000000000000086273\n",
      "Root[2] (x 1) = \n",
      "  2.9999999999999999999999999999999999999999999878341\n",
      "Root[3] (x 1) = \n",
      "  7.0000000000000000000000000000000000000000000003787\n"
     ]
    }
   ],
   "source": [
    "tolerance = mp.mpf('1.0e-37')\n",
    "mp.dps = 50\n",
    "roots_dict = mpf_find_real_roots(p, tolerance=tolerance, bracketing=bisection)\n",
    "print_roots_dict(p, roots_dict)"
   ]
  },
  {
   "cell_type": "code",
   "execution_count": 16,
   "id": "30e8a4d4",
   "metadata": {},
   "outputs": [
    {
     "name": "stdout",
     "output_type": "stream",
     "text": [
      "\n",
      "check_roots: all roots are distinct and in order\n",
      "check_roots: all roots are roots within tolerance\n",
      "check_roots: number of real roots, 4, as expected by Sturm's theorem\n"
     ]
    }
   ],
   "source": [
    "check_roots(p, roots_dict, tolerance)"
   ]
  },
  {
   "cell_type": "markdown",
   "id": "a0215d8c",
   "metadata": {},
   "source": [
    "### A polynomial with only complex roots"
   ]
  },
  {
   "cell_type": "code",
   "execution_count": 60,
   "id": "99bbc55c",
   "metadata": {},
   "outputs": [
    {
     "name": "stdout",
     "output_type": "stream",
     "text": [
      "1*x^8 + -20*x^7 + 200*x^6 + -1200*x^5 + 4708*x^4 + -12080*x^3 + 20000*x^2 + -19200*x^1 + 9216\n"
     ]
    },
    {
     "data": {
      "image/png": "[encoded data removed]",
      "text/plain": [
       "<Figure size 432x288 with 1 Axes>"
      ]
     },
     "metadata": {
      "needs_background": "light"
     },
     "output_type": "display_data"
    }
   ],
   "source": [
    "p = poly_from_roots([1 + 1j, 2 + 2j, 3 + 3j, 4 + 4j])\n",
    "print(p_to_str(p))\n",
    "plot_p(p, [-0.1, 4])"
   ]
  },
  {
   "cell_type": "code",
   "execution_count": 62,
   "id": "041398cb",
   "metadata": {},
   "outputs": [
    {
     "name": "stdout",
     "output_type": "stream",
     "text": [
      "\n",
      "Real roots of p(x) =\n",
      "1*x^8 + -20*x^7 + 200*x^6 + -1200*x^5 + 4708*x^4 + -12080*x^3 + 20000*x^2 + -19200*x^1 + 9216\n"
     ]
    }
   ],
   "source": [
    "tolerance = mp.mpf('1.0e-37')\n",
    "mp.dps = 50\n",
    "roots_dict = mpf_find_real_roots(p, tolerance=tolerance, bracketing=bisection)\n",
    "print_roots_dict(p, roots_dict)"
   ]
  },
  {
   "cell_type": "code",
   "execution_count": 63,
   "id": "8744d350",
   "metadata": {},
   "outputs": [
    {
     "name": "stdout",
     "output_type": "stream",
     "text": [
      "\n",
      "check_roots: all roots are distinct and in order\n",
      "check_roots: all roots are roots within tolerance\n",
      "check_roots: number of real roots, 0, as expected by Sturm's theorem\n"
     ]
    }
   ],
   "source": [
    "check_roots(p, roots_dict, tolerance)"
   ]
  },
  {
   "cell_type": "markdown",
   "id": "098ff08e",
   "metadata": {},
   "source": [
    "### A polynomial with roots with multiplicity"
   ]
  },
  {
   "cell_type": "code",
   "execution_count": 66,
   "id": "829af972",
   "metadata": {},
   "outputs": [
    {
     "name": "stdout",
     "output_type": "stream",
     "text": [
      "1*x^9 + -25*x^8 + 258*x^7 + -1430*x^6 + 4661*x^5 + -9261*x^4 + 11320*x^3 + -8308*x^2 + 3360*x^1 + -576\n"
     ]
    },
    {
     "data": {
      "image/png": "[encoded data removed]",
      "text/plain": [
       "<Figure size 432x288 with 1 Axes>"
      ]
     },
     "metadata": {
      "needs_background": "light"
     },
     "output_type": "display_data"
    }
   ],
   "source": [
    "p = poly_from_roots([1]*5  + [4, 6]*2)\n",
    "print(p_to_str(p))\n",
    "plot_p(p, [0.85, 6.2])"
   ]
  },
  {
   "cell_type": "code",
   "execution_count": 65,
   "id": "ee6714f0",
   "metadata": {},
   "outputs": [
    {
     "name": "stdout",
     "output_type": "stream",
     "text": [
      "\n",
      "Real roots of p(x) =\n",
      "1*x^9 + -25*x^8 + 258*x^7 + -1430*x^6 + 4661*x^5 + -9261*x^4 + 11320*x^3 + -8308*x^2 + 3360*x^1 + -576\n",
      "Root[0] (x 5) = \n",
      "  1.0000000000000000000000000000000000000000007971831\n",
      "Root[1] (x 2) = \n",
      "  3.9999999999999999999999999999999999999999746206026\n",
      "Root[2] (x 2) = \n",
      "  6.0000000000000000000000000000000000000000007971831\n"
     ]
    }
   ],
   "source": [
    "tolerance = mp.mpf('1.0e-37')\n",
    "mp.dps = 50\n",
    "roots_dict = mpf_find_real_roots(p, tolerance=tolerance, bracketing=bisection)\n",
    "print_roots_dict(p, roots_dict)"
   ]
  },
  {
   "cell_type": "code",
   "execution_count": 67,
   "id": "d90e7cdd",
   "metadata": {},
   "outputs": [
    {
     "name": "stdout",
     "output_type": "stream",
     "text": [
      "\n",
      "check_roots: all roots are distinct and in order\n",
      "check_roots: all roots are roots within tolerance\n",
      "check_roots: number of real roots, 3, as expected by Sturm's theorem\n"
     ]
    }
   ],
   "source": [
    "check_roots(p, roots_dict, tolerance)"
   ]
  },
  {
   "cell_type": "markdown",
   "id": "45c11a04",
   "metadata": {},
   "source": [
    "### Wilkinson polynomials"
   ]
  },
  {
   "cell_type": "code",
   "execution_count": 68,
   "id": "faa2d9d8",
   "metadata": {},
   "outputs": [],
   "source": [
    "def Wilkinson(n):\n",
    "    return poly_from_roots(list(range(1,n+1)))"
   ]
  },
  {
   "cell_type": "code",
   "execution_count": 87,
   "id": "9d85b2a7",
   "metadata": {},
   "outputs": [
    {
     "name": "stdout",
     "output_type": "stream",
     "text": [
      "1*x^10 - 55*x^9 + 1320*x^8 - 18150*x^7 + 157773*x^6 - 902055*x^5 + 3416930*x^4 - 8409500*x^3 + 12753576*x^2 - 10628640*x^1 + 3628800*x^0\n"
     ]
    },
    {
     "data": {
      "image/png": "[encoded data removed]",
      "text/plain": [
       "<Figure size 432x288 with 1 Axes>"
      ]
     },
     "metadata": {
      "needs_background": "light"
     },
     "output_type": "display_data"
    }
   ],
   "source": [
    "p = Wilkinson(10)\n",
    "print(p_to_str(p))\n",
    "plot_p(p, [0.95, 10.05])"
   ]
  },
  {
   "cell_type": "code",
   "execution_count": 70,
   "id": "9d62c7e8",
   "metadata": {},
   "outputs": [
    {
     "name": "stdout",
     "output_type": "stream",
     "text": [
      "\n",
      "Real roots of p(x) =\n",
      "1*x^10 + -55*x^9 + 1320*x^8 + -18150*x^7 + 157773*x^6 + -902055*x^5 + 3416930*x^4 + -8409500*x^3 + 12753576*x^2 + -10628640*x^1 + 3628800\n",
      "Root[0] (x 1) = \n",
      "  0.99999999999999999999999999999999999999999995515845\n",
      "Root[1] (x 1) = \n",
      "  1.9999999999999999999999999999999999999999990967581\n",
      "Root[2] (x 1) = \n",
      "  2.9999999999999999999999999999999999999999976325881\n",
      "Root[3] (x 1) = \n",
      "  4.0000000000000000000000000000000000000000194851892\n",
      "Root[4] (x 1) = \n",
      "  4.9999999999999999999999999999999999999999831240308\n",
      "Root[5] (x 1) = \n",
      "  6.0000000000000000000000000000000000000000168759692\n",
      "Root[6] (x 1) = \n",
      "  6.9999999999999999999999999999999999999999805148107\n",
      "Root[7] (x 1) = \n",
      "  8.0000000000000000000000000000000000000000023674119\n",
      "Root[8] (x 1) = \n",
      "  9.0000000000000000000000000000000000000000009032418\n",
      "Root[9] (x 1) = \n",
      "  10.000000000000000000000000000000000000000000044842\n"
     ]
    }
   ],
   "source": [
    "tolerance = mp.mpf('1.0e-37')\n",
    "mp.dps = 50\n",
    "roots_dict = mpf_find_real_roots(p, tolerance=tolerance)\n",
    "print_roots_dict(p, roots_dict)"
   ]
  },
  {
   "cell_type": "code",
   "execution_count": 71,
   "id": "95dbfb4f",
   "metadata": {},
   "outputs": [
    {
     "name": "stdout",
     "output_type": "stream",
     "text": [
      "\n",
      "check_roots: all roots are distinct and in order\n",
      "check_roots: all roots are roots within tolerance\n",
      "check_roots: number of real roots, 10, as expected by Sturm's theorem\n"
     ]
    }
   ],
   "source": [
    "check_roots(p, roots_dict, tolerance)"
   ]
  },
  {
   "cell_type": "code",
   "execution_count": 113,
   "id": "75b7206a",
   "metadata": {},
   "outputs": [
    {
     "name": "stdout",
     "output_type": "stream",
     "text": [
      "Time elapsed: 160.1713232999973\n",
      "\n",
      "Real roots of p(x) =\n",
      "1*x^50 - 1275*x^49 + 791350*x^48 - 318622500*x^47 + 93570498490*x^46 - 21366198225750*x^45 + 3949131291964600*x^44 - 607317906105487500*x^43 + 79274383168492884295*x^42 - 8916311500907225617125*x^41 + 874274440470458637491350*x^40 - 75430949131153796097540000*x^39 + 5769557497517595816762422380*x^38 - 393625378247020213038955570500*x^37 + 24074634262098477202456261501600*x^36 - 1325513314288519699308436238355000*x^35 + 65926306456751344865378122278650335*x^34 - 2970483623265905855449410614694043125*x^33 + 121537997067927371629961551678685914850*x^32 - 4524229387507572623070958774667674282500*x^31 + 153457012425237702675940309806097247177498*x^30 - 4748411888781425210165280179331840887560950*x^29 + 134153032410638239369309397211318138160939400*x^28 - 3462458978207366446890224680162408296258877500*x^27 + 81661954970720573655661780303655361431161958585*x^26 - 1759975170237895559117007667844300114185022044875*x^25 + 34652078765044198452095090589463630638929867781650*x^24 - 622954025102273770045632622121644740051085765875000*x^23 + 10217297271367563021376459886512004721472442416486880*x^22 - 152719956592931681273776991727487749957964934948706000*x^21 + 2077456572999271411780195287601622801504954917649122400*x^20 - 25674503027583263140245049650089911892130421780961760000*x^19 + 287681510456288967305472324934106343384946693054660401920*x^18 - 2915410238088374287308480243262839885616373612457690912000*x^17 + 26644926572075096083148238618984385847884240529010940198400*x^16 - 218872142848277667164714027535286926039317470428353944320000*x^15 + 1609578146670076404332423437897298592489203458499059076874240*x^14 - 10548002159482240692664043366538929906734975613031337827840000*x^13 + 61263921790865468343839418571823409266633338824655665334886400*x^12 - 313349124628526821497617106938217759752262787021919928238080000*x^11 + 1400632296755724718076996853034613831665891143377334756315365376*x^10 - 5421299830686960097788787120721257875468259479300212239525478400*x^9 + 17968291458361430782020246122299560311802074147902210076049408000*x^8 - 50293361153311185534392570196926631029364162024577328008396800000*x^7 + 116810370081193509813324333425667493275348323581096549448417280000*x^6 - 220018442610520054866603342183765018372267333550041961857024000000*x^5 + 325782615226898331344792689581720011457017982075779804037120000000*x^4 - 362662903615406490840003569437241864800516157064075018240000000000*x^3 + 283120473944135438730015746189396884754965326844332186009600000000*x^2 - 136839250493597505643457826872702521913187810543371550720000000000*x^1 + 30414093201713378043612608166064768844377641568960512000000000000*x^0\n",
      "Root[0] (x 1) = \n",
      "  1.0000000000000000000000000000000000000000000000000000000000000000000000000000000000000000000000000000402947703371973895097556504822488365588026863409209293651035575590991583556965320936363999894064553\n",
      "Root[1] (x 1) = \n",
      "  2.0000000000000000000000000000000000000000000000000000000000000000000000000000000000000000000000000045439404770019658232722188473608447254358431640949798274827218186113168311037716661477256275543294831\n",
      "Root[2] (x 1) = \n",
      "  2.999999999999999999999999999999999999999999999999999999999999999999999999999999999999999999999999981378997220274129106558208515841130156911149386779593293168306865898030385524916061068849235513933748\n",
      "Root[3] (x 1) = \n",
      "  4.000000000000000000000000000000000000000000000000000000000000000000000000000000000000000000000000460076327130436182401232290746946132508897009226904246791052707186169163487313811193867311128772152827\n",
      "Root[4] (x 1) = \n",
      "  4.9999999999999999999999999999999999999999999999999999999999999999999999999999999999999999999999876896013549279750352737144161552479970127513988736770328735169077170001909718334362150159946025220062986\n",
      "Root[5] (x 1) = \n",
      "  5.9999999999999999999999999999999999999999999999999999999999999999999999999999999999999999999998712218948759604608739457916667159913400586657258142104727850882960472237592487506852092336689139322209865\n",
      "Root[6] (x 1) = \n",
      "  7.0000000000000000000000000000000000000000000000000000000000000000000000000000000000000000000015797318827086210581357356974419724103050094887479494690259653628764083228215559375208446976157198282496322\n",
      "Root[7] (x 1) = \n",
      "  8.0000000000000000000000000000000000000000000000000000000000000000000000000000000000000000000048411064418301255401376212240851369128447075765828268625313088622291967164673566512008135534628561845827641\n",
      "Root[8] (x 1) = \n",
      "  9.0000000000000000000000000000000000000000000000000000000000000000000000000000000000000000000465049423662177448425776500999161945093512628980191382325904949480844965011483176460361422976992862427934528\n",
      "Root[9] (x 1) = \n",
      "  9.999999999999999999999999999999999999999999999999999999999999999999999999999999999999999999908720938235121098778735689843461396064698650399807285422969689265841089842022552972966568618110751244801959\n",
      "Root[10] (x 1) = \n",
      "  11.000000000000000000000000000000000000000000000000000000000000000000000000000000000000000000026940696604279767882744964877678726418220572877182148061195418483184076847323073642869558708935447609116478\n",
      "Root[11] (x 1) = \n",
      "  11.999999999999999999999999999999999999999999999999999999999999999999999999999999999999999999927107737237209726998661312756572345808042011871286210436443310389666473417288044596339739758518110288356741\n",
      "Root[12] (x 1) = \n",
      "  12.999999999999999999999999999999999999999999999999999999999999999999999999999999999999999998109786298362265681767218967808755737296573557800333077349636723125043982483406332487114971981853421887907775\n",
      "Root[13] (x 1) = \n",
      "  13.999999999999999999999999999999999999999999999999999999999999999999999999999999999999999986678794337876601260727736181047930335429151431550131088057094567238205461941600315497661998207589560472843032\n",
      "Root[14] (x 1) = \n",
      "  14.999999999999999999999999999999999999999999999999999999999999999999999999999999999999999951426508129137485806216186775954431251377164958845774828957374997177960075803524525093866740172095369036212439\n",
      "Root[15] (x 1) = \n",
      "  15.999999999999999999999999999999999999999999999999999999999999999999999999999999999999999938708071182351146627356466534448141189101680369749588992785718868463938162660498924851751922832233091486481418\n",
      "Root[16] (x 1) = \n",
      "  16.999999999999999999999999999999999999999999999999999999999999999999999999999999999999999726880450535592613711056717043530571306216351641614562236574399931675690152116519596037237679886203871689316477\n",
      "Root[17] (x 1) = \n",
      "  18.000000000000000000000000000000000000000000000000000000000000000000000000000000000000000497839547286136543640585506182635227183307896967276791341370414162695308417361237765749999111584256956381177369\n",
      "Root[18] (x 1) = \n",
      "  18.999999999999999999999999999999999999999999999999999999999999999999999999999999999999999758694418820035445290475594047891786564642958271911238900649433989908993345523034179171607486368483178822866204\n",
      "Root[19] (x 1) = \n",
      "  20.000000000000000000000000000000000000000000000000000000000000000000000000000000000000000570423723398043832876276995503573918184579687453720533042732961269743702212345674062583380905988650937817558596\n",
      "Root[20] (x 1) = \n",
      "  20.999999999999999999999999999999999999999999999999999999999999999999999999999999999999995908294377234338930187804936427823247730025509843423303955809142878298889714696543459648807292125871279886910652\n",
      "Root[21] (x 1) = \n",
      "  21.999999999999999999999999999999999999999999999999999999999999999999999999999999999999999228022282949760702833487432206766188337771134739563318564979035522548553423102128082194136419047477907074805535\n",
      "Root[22] (x 1) = \n",
      "  22.999999999999999999999999999999999999999999999999999999999999999999999999999999999999999499956806132645260305099666379468525450351597923336874468326665396151283008633505107542372823427693767988358993\n",
      "Root[23] (x 1) = \n",
      "  24.000000000000000000000000000000000000000000000000000000000000000000000000000000000000004452605873295172899997480515942539952126744414248249217625779716369768672255609659998294762499444634625794202476\n",
      "Root[24] (x 1) = \n",
      "  25.000000000000000000000000000000000000000000000000000000000000000000000000000000000000003134873170618815671960638594929225992006393712808521733339613788501025559451016248476121044745996446531786074018\n",
      "Root[25] (x 1) = \n",
      "  25.999999999999999999999999999999999999999999999999999999999999999999999999999999999999996865126829381184328039361405070774007993606287191478266660386211498974440548983751523878955254003553468213925982\n",
      "Root[26] (x 1) = \n",
      "  26.999999999999999999999999999999999999999999999999999999999999999999999999999999999999995547394126704827100002519484057460047873255585751750782374220283630231327744390340001705237500555365374205797524\n",
      "Root[27] (x 1) = \n",
      "  28.000000000000000000000000000000000000000000000000000000000000000000000000000000000000000500043193867354739694900333620531474549648402076663125531673334603848716991366494892457627176572306232011641007\n",
      "Root[28] (x 1) = \n",
      "  29.000000000000000000000000000000000000000000000000000000000000000000000000000000000000000771977717050239297166512567793233811662228865260436681435020964477451446576897871917805863580952522092925194465\n",
      "Root[29] (x 1) = \n",
      "  30.000000000000000000000000000000000000000000000000000000000000000000000000000000000000004091705622765661069812195063572176752269974490156576696044190857121701110285303456540351192707874128720113089348\n",
      "Root[30] (x 1) = \n",
      "  30.999999999999999999999999999999999999999999999999999999999999999999999999999999999999999429576276601956167123723004496426081815420312546279466957267038730256297787654325937416619094011349062182441404\n",
      "Root[31] (x 1) = \n",
      "  32.000000000000000000000000000000000000000000000000000000000000000000000000000000000000000241305581179964554709524405952108213435357041728088761099350566010091006654476965820828392513631516821177133796\n",
      "Root[32] (x 1) = \n",
      "  32.99999999999999999999999999999999999999999999999999999999999999999999999999999999999999950216045271386345635941449381736477281669210303272320865862958583730469158263876223425000088841574304361882263\n",
      "Root[33] (x 1) = \n",
      "  34.000000000000000000000000000000000000000000000000000000000000000000000000000000000000000273119549464407386288943282956469428693783648358385437763425600068324309847883480403962762320113796128310683521\n",
      "Root[34] (x 1) = \n",
      "  35.000000000000000000000000000000000000000000000000000000000000000000000000000000000000000061291928817648853372643533465551858810898319630250411007214281131536061837339501075148248077167766908513518581\n",
      "Root[35] (x 1) = \n",
      "  36.00000000000000000000000000000000000000000000000000000000000000000000000000000000000000004857349187086251419378381322404556874862283504115422517104262500282203992419647547490613325982790463096378756\n",
      "Root[36] (x 1) = \n",
      "  37.000000000000000000000000000000000000000000000000000000000000000000000000000000000000000013321205662123398739272263818952069664570848568449868911942905432761794538058399684502338001792410439527156967\n",
      "Root[37] (x 1) = \n",
      "  38.000000000000000000000000000000000000000000000000000000000000000000000000000000000000000001890213701637734318232781032191244262703426442199666922650363276874956017516593667512885028018146578112092224\n",
      "Root[38] (x 1) = \n",
      "  39.000000000000000000000000000000000000000000000000000000000000000000000000000000000000000000072892262762790273001338687243427654191957988128713789563556689610333526582711955403660260241481889711643258\n",
      "Root[39] (x 1) = \n",
      "  39.999999999999999999999999999999999999999999999999999999999999999999999999999999999999999999973059303395720232117255035122321273581779427122817851938804581516815923152676926357130441291064552390883522\n",
      "Root[40] (x 1) = \n",
      "  41.000000000000000000000000000000000000000000000000000000000000000000000000000000000000000000091279061764878901221264310156538603935301349600192714577030310734158910157977447027033431381889248755198041\n",
      "Root[41] (x 1) = \n",
      "  41.999999999999999999999999999999999999999999999999999999999999999999999999999999999999999999953495057633782255157422349900083805490648737101980861767409505051915503498851682353963857702300713757206548\n",
      "Root[42] (x 1) = \n",
      "  42.999999999999999999999999999999999999999999999999999999999999999999999999999999999999999999995158893558169874459862378775914863087155292423417173137468691137770803283532643348799186446537143815417236\n",
      "Root[43] (x 1) = \n",
      "  43.999999999999999999999999999999999999999999999999999999999999999999999999999999999999999999998420268117291378941864264302558027589694990511252050530974034637123591677178444062479155302384280171750368\n",
      "Root[44] (x 1) = \n",
      "  45.000000000000000000000000000000000000000000000000000000000000000000000000000000000000000000000128778105124039539126054208333284008659941334274185789527214911703952776240751249314790766331086067779014\n",
      "Root[45] (x 1) = \n",
      "  46.000000000000000000000000000000000000000000000000000000000000000000000000000000000000000000000012310398645072024964726285583844752002987248601126322967126483092282999809028166563784984005397477993701\n",
      "Root[46] (x 1) = \n",
      "  46.999999999999999999999999999999999999999999999999999999999999999999999999999999999999999999999999539923672869563817598767709253053867491102990773095753208947292813830836512686188806132688871227847173\n",
      "Root[47] (x 1) = \n",
      "  48.000000000000000000000000000000000000000000000000000000000000000000000000000000000000000000000000018621002779725870893441791484158869843088850613220406706831693134101969614475083938931150764486066252\n",
      "Root[48] (x 1) = \n",
      "  48.999999999999999999999999999999999999999999999999999999999999999999999999999999999999999999999999995456059522998034176727781152639155274564156835905020172517278181388683168896228333852274372445670517\n",
      "Root[49] (x 1) = \n",
      "  49.999999999999999999999999999999999999999999999999999999999999999999999999999999999999999999999999999959705229662802610490244349517751163441197313659079070634896442440900841644303467906363600010593545\n"
     ]
    }
   ],
   "source": [
    "tolerance = mp.mpf('1.0e-37')\n",
    "mp.dps = 200\n",
    "p = Wilkinson(50)\n",
    "start = time.perf_counter()\n",
    "roots_dict = mpf_find_real_roots(p, tolerance=tolerance, bracketing=bisection)\n",
    "end = time.perf_counter()\n",
    "print(f'Time elapsed: {end - start}')\n",
    "print_roots_dict(p, roots_dict)"
   ]
  },
  {
   "cell_type": "code",
   "execution_count": 111,
   "id": "90ccdf21",
   "metadata": {},
   "outputs": [
    {
     "name": "stdout",
     "output_type": "stream",
     "text": [
      "Time elapsed: 10.878564099999494\n",
      "\n",
      "Real roots of p(x) =\n",
      "1*x^50 - 1275*x^49 + 791350*x^48 - 318622500*x^47 + 93570498490*x^46 - 21366198225750*x^45 + 3949131291964600*x^44 - 607317906105487500*x^43 + 79274383168492884295*x^42 - 8916311500907225617125*x^41 + 874274440470458637491350*x^40 - 75430949131153796097540000*x^39 + 5769557497517595816762422380*x^38 - 393625378247020213038955570500*x^37 + 24074634262098477202456261501600*x^36 - 1325513314288519699308436238355000*x^35 + 65926306456751344865378122278650335*x^34 - 2970483623265905855449410614694043125*x^33 + 121537997067927371629961551678685914850*x^32 - 4524229387507572623070958774667674282500*x^31 + 153457012425237702675940309806097247177498*x^30 - 4748411888781425210165280179331840887560950*x^29 + 134153032410638239369309397211318138160939400*x^28 - 3462458978207366446890224680162408296258877500*x^27 + 81661954970720573655661780303655361431161958585*x^26 - 1759975170237895559117007667844300114185022044875*x^25 + 34652078765044198452095090589463630638929867781650*x^24 - 622954025102273770045632622121644740051085765875000*x^23 + 10217297271367563021376459886512004721472442416486880*x^22 - 152719956592931681273776991727487749957964934948706000*x^21 + 2077456572999271411780195287601622801504954917649122400*x^20 - 25674503027583263140245049650089911892130421780961760000*x^19 + 287681510456288967305472324934106343384946693054660401920*x^18 - 2915410238088374287308480243262839885616373612457690912000*x^17 + 26644926572075096083148238618984385847884240529010940198400*x^16 - 218872142848277667164714027535286926039317470428353944320000*x^15 + 1609578146670076404332423437897298592489203458499059076874240*x^14 - 10548002159482240692664043366538929906734975613031337827840000*x^13 + 61263921790865468343839418571823409266633338824655665334886400*x^12 - 313349124628526821497617106938217759752262787021919928238080000*x^11 + 1400632296755724718076996853034613831665891143377334756315365376*x^10 - 5421299830686960097788787120721257875468259479300212239525478400*x^9 + 17968291458361430782020246122299560311802074147902210076049408000*x^8 - 50293361153311185534392570196926631029364162024577328008396800000*x^7 + 116810370081193509813324333425667493275348323581096549448417280000*x^6 - 220018442610520054866603342183765018372267333550041961857024000000*x^5 + 325782615226898331344792689581720011457017982075779804037120000000*x^4 - 362662903615406490840003569437241864800516157064075018240000000000*x^3 + 283120473944135438730015746189396884754965326844332186009600000000*x^2 - 136839250493597505643457826872702521913187810543371550720000000000*x^1 + 30414093201713378043612608166064768844377641568960512000000000000*x^0\n",
      "Root[0] (x 1) = \n",
      "  0.99999999999999999999999999999999999999999999999999999999999999999999999999999999999999999999999999999999999999999999999999999999999999999999999999999999995715840615741786443399776147681372435380765213\n",
      "Root[1] (x 1) = \n",
      "  1.9999999999999999999999999999999999999999999999999999999999999999999999999999999999999999999999999999999999999999999999999999996754083334041647528813790938218001743093283197453328118582994951290224822\n",
      "Root[2] (x 1) = \n",
      "  2.9999999999999999999999999999999999999999999999999999999999999999999999999999999999999999999999999999999999999999999999999999999999999999999999999999999999999999999999999994153671533534410672638653391\n",
      "Root[3] (x 1) = \n",
      "  3.9999999999999999999999999999999999999999999999999999999999999999999999999999999999999999999999999999999991931626469939419453420123555738218204178403255786584323582493974355795108717181610128397879189\n",
      "Root[4] (x 1) = \n",
      "  4.9999999999999999999999999999999999999999999999999999999999999999999999999999999999999999999999999999999999999999999999999987157253035249143684240346358247302667183000440421144891290718495587852486989\n",
      "Root[5] (x 1) = \n",
      "  5.9999999999999999999999999999999999999999999999999999999999999999999999999999999999999999999999999999999999999999999999999999999999999999999890603445564761012974602159161943529679501779622544199143389\n",
      "Root[6] (x 1) = \n",
      "  6.9999999999999999999999999999999999999999999999999999999999999999999999999999999999999999999999999999999999999999999999999999999999999999999999999999999999998053927006150621117282973982563415265589354\n",
      "Root[7] (x 1) = \n",
      "  7.9999999999999999999999999999999999999999999999999999999999999999999999999999999999999999999999999999999999999999999999999999999999999999999999999999999999999999999999999999961839550773091696037474259\n",
      "Root[8] (x 1) = \n",
      "  8.9999999999999999999999999999999999999999999999999999999999999999999999999999999999999999999999943718921259435150477013488469022075187688376610679888036406960127595797287585883295638651205819049720486\n",
      "Root[9] (x 1) = \n",
      "  9.9999999999999999999999999999999999999999999999999999999999999999999999999999999999999999999999999999999859065877824704044234553454898709986510683336017273639816623971582863241868573561697424377733341\n",
      "Root[10] (x 1) = \n",
      "  10.999999999999999999999999999999999999999999999999999999999999999999999999999999999999999999999999999999999999999981031150881458944149260552571984233758699646994784779449595063114719606769480482980899\n",
      "Root[11] (x 1) = \n",
      "  11.999999999999999999999999999999999999999999999999999999999999999999999999999999999999999999999999999999999999999999999999988900449419116408651870802968028570116243572205783678770127159401424864246877\n",
      "Root[12] (x 1) = \n",
      "  12.999999999999999999999999999999999999999999999999999999999999999999999999999999999999999999999999999999999999999999999999999999999997764051749455458192991053022081159102551893774104234430530675602359\n",
      "Root[13] (x 1) = \n",
      "  13.999999999999999999999999999999999999999999999999999999999999999999999999999999999999999999999999999999999999999999999999999999999999999999999881660615646176070116248333517357745291077360029177380831\n",
      "Root[14] (x 1) = \n",
      "  14.999999999999999999999999999999999999999999999999999999999999999999999999999999999999999999999999999999999999999999999999999999999999999999999999999999998813327881313746629845204979675886823434436176\n",
      "Root[15] (x 1) = \n",
      "  15.999999999999999999999999999999999999999999999999999999999999999999999999999999999999999999999999999999999999999999999999999999999999999999999999999999999999999999998505292749676876940026463232807423\n",
      "Root[16] (x 1) = \n",
      "  16.999999999999999999999999999999999999999999999999999999999999999999999999999999999999999986024266080187225703872317396843050963484890454317425438721744726651439305741282460007956948229382729609518204\n",
      "Root[17] (x 1) = \n",
      "  17.999999999999999999999999999999999999999999999999999999999999999999999999999999999999999999999999143640902920110322123754917520921316031106731094998391217203853280814862859227203280872133166337927989\n",
      "Root[18] (x 1) = \n",
      "  18.999999999999999999999999999999999999999999999999999999999999999999999999999999999999999999999999999999994053249103779309493230581744141686397493574289272532886196034657241999502045448347619462985951\n",
      "Root[19] (x 1) = \n",
      "  19.999999999999999999999999999999999999999999999999999999999999999999999999999999999999999999999999999999999999999997830857336919275174315205417633822491327259334065516854831926874746554045789782445929\n",
      "Root[20] (x 1) = \n",
      "  20.999999999999999999999999999999999999999999999999999999999999999999999999999999999999999999999999999999999999999999999999999987867533350182776304438188322195357822667893809031159656995150417235656084\n",
      "Root[21] (x 1) = \n",
      "  21.999999999999999999999999999999999999999999999999999999999999999999999999999999999999999999999999999999999999999999999999999999999999999999880671214934955823401911977599667671162343324360685025964444\n",
      "Root[22] (x 1) = \n",
      "  22.999999999999999999999999999999999999999999999999999999999999999999999999999999999999999999999999999999999999999999999999999999999999999999999999999999999999974297185685066334293609479248479398967766\n",
      "Root[23] (x 1) = \n",
      "  23.999999999999999999999999999999999999999999999999999999999999999999999999999999999999999999996518132545159893029322514352964829650103521863344852895646509424090150805478156996569253697447336581485492\n",
      "Root[24] (x 1) = \n",
      "  24.9999999999999999999999999999999999999999999999999999999999999999999999999999999999999999999999999999999999999999999999999970793012146719245457878712997124157247956314751080844663736387756029825359\n",
      "Root[25] (x 1) = \n",
      "  26.000000000000000000000000000000000000000000000000000000000000000000000000000000000000000000000000000000000000000000000000002920698785328075454212128700287584275204368535048666054982897472369913992534\n",
      "Root[26] (x 1) = \n",
      "  27.00000000000000000000000000000000000000000000000000000000000000000000000000000000000000000000348186745484010697067748564703517034989647813665514710435349057590984919442994278330821483900309945712151\n",
      "Root[27] (x 1) = \n",
      "  28.000000000000000000000000000000000000000000000000000000000000000000000000000000000000000000000000000000000000000000000000000000000000000000000000000000000000025702814341487768385958094302524911604252\n",
      "Root[28] (x 1) = \n",
      "  29.000000000000000000000000000000000000000000000000000000000000000000000000000000000000000000000000000000000000000000000000000000000000000000119328785065044176598088022594996299870026458376961433333793\n",
      "Root[29] (x 1) = \n",
      "  30.000000000000000000000000000000000000000000000000000000000000000000000000000000000000000000000000000000000000000000000000000012132466649817223695561811677804642177331708102178070890965681985706811031\n",
      "Root[30] (x 1) = \n",
      "  31.00000000000000000000000000000000000000000000000000000000000000000000000000000000000000000000000000000000000000000216914266308072482568479458236617750867274066593448240615935489031017099334215509524\n",
      "Root[31] (x 1) = \n",
      "  32.000000000000000000000000000000000000000000000000000000000000000000000000000000000000000000000000000000005946750896220690506769418255858313602506425710727467113803964277009561578773406038772623348041\n",
      "Root[32] (x 1) = \n",
      "  33.000000000000000000000000000000000000000000000000000000000000000000000000000000000000000000000000856359097079889677876245082479078683968893268905001608782796146719186558833768324510278835884191493014\n",
      "Root[33] (x 1) = \n",
      "  34.000000000000000000000000000000000000000000000000000000000000000000000000000000000000000013975733919812774296127682603156949036515109545682574561278255273348560694258991432944243573960220224684042711\n",
      "Root[34] (x 1) = \n",
      "  34.999999999999999999999999999999999999999999999999999999999999999999999999999999999999999999999999999999999999999999999999999999999999999999999999999999999999999999998666662390902111663775528363599118\n",
      "Root[35] (x 1) = \n",
      "  36.000000000000000000000000000000000000000000000000000000000000000000000000000000000000000000000000000000000000000000000000000000000000000000000000000000001186672118687496198518496849477352321491301427\n",
      "Root[36] (x 1) = \n",
      "  37.000000000000000000000000000000000000000000000000000000000000000000000000000000000000000000000000000000000000000000000000000000000000000000000118339384353823929883755321026534761567029718520111126601\n",
      "Root[37] (x 1) = \n",
      "  38.000000000000000000000000000000000000000000000000000000000000000000000000000000000000000000000000000000000000000000000000000000000002235948250544541807008946977918845178951031876624420441645622815597\n",
      "Root[38] (x 1) = \n",
      "  39.000000000000000000000000000000000000000000000000000000000000000000000000000000000000000000000000000000000000000000000000011099550580883591348129197031971429883756428014217209210130491878226180526852\n",
      "Root[39] (x 1) = \n",
      "  40.000000000000000000000000000000000000000000000000000000000000000000000000000000000000000000000000000000000000000018968849118541055850739447428015766241300353005215217744130764497003028746002157000806\n",
      "Root[40] (x 1) = \n",
      "  41.000000000000000000000000000000000000000000000000000000000000000000000000000000000000000000000000000000014093412217529595576544654510129001348931666398272636018337604107027323182919952508276497614465\n",
      "Root[41] (x 1) = \n",
      "  42.000000000000000000000000000000000000000000000000000000000000000000000000000000000000000000000005628107874056484952298651153097792481231162338932011196359303987240420406260712736500199989615852128117\n",
      "Root[42] (x 1) = \n",
      "  42.999999999999999999999999999999999999999999999999999999999999999999999999999999999999999999999999999999999999999999999999999999999999999999999999999999999999999999999755003325791769526149366429774761\n",
      "Root[43] (x 1) = \n",
      "  44.000000000000000000000000000000000000000000000000000000000000000000000000000000000000000000000000000000000000000000000000000000000000000000000000000000000000194607299508305908928986531123785633796775\n",
      "Root[44] (x 1) = \n",
      "  45.000000000000000000000000000000000000000000000000000000000000000000000000000000000000000000000000000000000000000000000000000000000000000000010939655443523898702539784113350893868246076693851340204225\n",
      "Root[45] (x 1) = \n",
      "  46.000000000000000000000000000000000000000000000000000000000000000000000000000000000000000000000000000000000000000000000000001284274696475085631575965364175269733281699957608729534513913426864328439096\n",
      "Root[46] (x 1) = \n",
      "  47.000000000000000000000000000000000000000000000000000000000000000000000000000000000000000000000000000000000806837353006058054657987644426178179582159674421341567641750602229335851752846310426133373331\n",
      "Root[47] (x 1) = \n",
      "  48.000000000000000000000000000000000000000000000000000000000000000000000000000000000000000000000000000000000000000000000000000000000000000000000000000000000000000000000000082510673751349538463060221551\n",
      "Root[48] (x 1) = \n",
      "  49.000000000000000000000000000000000000000000000000000000000000000000000000000000000000000000000000000000000000000000000000000000324591666595835247118620906178199825690671698645076583774756495693718206\n",
      "Root[49] (x 1) = \n",
      "  50.000000000000000000000000000000000000000000000000000000000000000000000000000000000000000000000000000000000000000000000000000000000000000000000000000000000042841593842582135324970368248715257922268221\n"
     ]
    }
   ],
   "source": [
    "tolerance = mp.mpf('1.0e-37')\n",
    "mp.dps = 200\n",
    "p = Wilkinson(50)\n",
    "start = time.perf_counter()\n",
    "roots_dict = mpf_find_real_roots(p, tolerance=tolerance, bracketing=newton)\n",
    "end = time.perf_counter()\n",
    "print(f'Time elapsed: {end - start}')\n",
    "print_roots_dict(p, roots_dict)"
   ]
  },
  {
   "cell_type": "code",
   "execution_count": 110,
   "id": "9cd52df0",
   "metadata": {},
   "outputs": [
    {
     "name": "stdout",
     "output_type": "stream",
     "text": [
      "Time elapsed: 12.047008300003654\n",
      "\n",
      "Real roots of p(x) =\n",
      "1*x^50 - 1275*x^49 + 791350*x^48 - 318622500*x^47 + 93570498490*x^46 - 21366198225750*x^45 + 3949131291964600*x^44 - 607317906105487500*x^43 + 79274383168492884295*x^42 - 8916311500907225617125*x^41 + 874274440470458637491350*x^40 - 75430949131153796097540000*x^39 + 5769557497517595816762422380*x^38 - 393625378247020213038955570500*x^37 + 24074634262098477202456261501600*x^36 - 1325513314288519699308436238355000*x^35 + 65926306456751344865378122278650335*x^34 - 2970483623265905855449410614694043125*x^33 + 121537997067927371629961551678685914850*x^32 - 4524229387507572623070958774667674282500*x^31 + 153457012425237702675940309806097247177498*x^30 - 4748411888781425210165280179331840887560950*x^29 + 134153032410638239369309397211318138160939400*x^28 - 3462458978207366446890224680162408296258877500*x^27 + 81661954970720573655661780303655361431161958585*x^26 - 1759975170237895559117007667844300114185022044875*x^25 + 34652078765044198452095090589463630638929867781650*x^24 - 622954025102273770045632622121644740051085765875000*x^23 + 10217297271367563021376459886512004721472442416486880*x^22 - 152719956592931681273776991727487749957964934948706000*x^21 + 2077456572999271411780195287601622801504954917649122400*x^20 - 25674503027583263140245049650089911892130421780961760000*x^19 + 287681510456288967305472324934106343384946693054660401920*x^18 - 2915410238088374287308480243262839885616373612457690912000*x^17 + 26644926572075096083148238618984385847884240529010940198400*x^16 - 218872142848277667164714027535286926039317470428353944320000*x^15 + 1609578146670076404332423437897298592489203458499059076874240*x^14 - 10548002159482240692664043366538929906734975613031337827840000*x^13 + 61263921790865468343839418571823409266633338824655665334886400*x^12 - 313349124628526821497617106938217759752262787021919928238080000*x^11 + 1400632296755724718076996853034613831665891143377334756315365376*x^10 - 5421299830686960097788787120721257875468259479300212239525478400*x^9 + 17968291458361430782020246122299560311802074147902210076049408000*x^8 - 50293361153311185534392570196926631029364162024577328008396800000*x^7 + 116810370081193509813324333425667493275348323581096549448417280000*x^6 - 220018442610520054866603342183765018372267333550041961857024000000*x^5 + 325782615226898331344792689581720011457017982075779804037120000000*x^4 - 362662903615406490840003569437241864800516157064075018240000000000*x^3 + 283120473944135438730015746189396884754965326844332186009600000000*x^2 - 136839250493597505643457826872702521913187810543371550720000000000*x^1 + 30414093201713378043612608166064768844377641568960512000000000000*x^0\n",
      "Root[0] (x 1) = \n",
      "  0.99999999999999999999999999999999999999999999999999999999999999999999999999999999999999999999999999999999999999999999999999999999999999999999999999999999995715840615741786443399776147681372435380765234\n",
      "Root[1] (x 1) = \n",
      "  1.9999999999999999999999999999999999999999999999999999999999999999999999999999999999999999999999999999999999999999999999999999996754083334041647528813790938218001743093283197453328118582994951290226677\n",
      "Root[2] (x 1) = \n",
      "  2.99999999999999999999999999999999999999999999999999999999999999999999999999999999999999999999999999999999999999999999999999999999999999999999999999999999999999999999999999941536715335344106726390363\n",
      "Root[3] (x 1) = \n",
      "  3.9999999999999999999999999999999999999999999999999999999999999999999999999999999999999999999999999999999991931626469939419453420123555738218204178403255786584323582493974355795108717181610128650086813\n",
      "Root[4] (x 1) = \n",
      "  4.999999999999999999999999999999999999999999999999999999999999999999999999999999999999999999999999999999999999999999999999998715725303524914368424034635824730266718300044042114489129071849561562973009\n",
      "Root[5] (x 1) = \n",
      "  5.9999999999999999999999999999999999999999999999999999999999999999999999999999999999999999999999999999999999999999999999999999999999999999999890603445564761012974602159161943529679501779625198607946089\n",
      "Root[6] (x 1) = \n",
      "  6.9999999999999999999999999999999999999999999999999999999999999999999999999999999999999999999999999999999999999999999999999999999999999999999999999999999999998053927006150621117282973982513490857567198\n",
      "Root[7] (x 1) = \n",
      "  7.9999999999999999999999999999999999999999999999999999999999999999999999999999999999999999999999999999999999999999999999999999999999999999999999999999999999999999999999999999961839550762488403092427218\n",
      "Root[8] (x 1) = \n",
      "  8.9999999999999999999999999999999999999999999999999999999999999999999999999999999999999999999999943718921259435150477013488469022075187688376610679888036406960127595797287585883295638651435442604765515\n",
      "Root[9] (x 1) = \n",
      "  9.999999999999999999999999999999999999999999999999999999999999999999999999999999999999999999999999999999985906587782470404423455345489870998651068333601727363981662397158286324186857781599983198738439\n",
      "Root[10] (x 1) = \n",
      "  10.999999999999999999999999999999999999999999999999999999999999999999999999999999999999999999999999999999999999999981031150881458944149260552571984233758699646994784779449595063114717005036029873286189\n",
      "Root[11] (x 1) = \n",
      "  11.999999999999999999999999999999999999999999999999999999999999999999999999999999999999999999999999999999999999999999999999988900449419116408651870802968028570116243572205783678770517737939399477813962\n",
      "Root[12] (x 1) = \n",
      "  12.999999999999999999999999999999999999999999999999999999999999999999999999999999999999999999999999999999999999999999999999999999999997764051749455458192991053022081159102551893775480944553802173708465\n",
      "Root[13] (x 1) = \n",
      "  13.999999999999999999999999999999999999999999999999999999999999999999999999999999999999999999999999999999999999999999999999999999999999999999999881660615646176070116248333517357701987233077637530515523\n",
      "Root[14] (x 1) = \n",
      "  14.999999999999999999999999999999999999999999999999999999999999999999999999999999999999999999999999999999999999999999999999999999999999999999999999999999998813327881313746629845374107311118063686474159\n",
      "Root[15] (x 1) = \n",
      "  15.999999999999999999999999999999999999999999999999999999999999999999999999999999999999999999999999999999999999999999999999999999999999999999999999999999999999999999998505292743611451836685614450444025\n",
      "Root[16] (x 1) = \n",
      "  16.999999999999999999999999999999999999999999999999999999999999999999999999999999999999999986024266080187225703872317396843050963484890454317425438721744726651439305741282459994107924742765137855422388\n",
      "Root[17] (x 1) = \n",
      "  17.999999999999999999999999999999999999999999999999999999999999999999999999999999999999999999999999143640902920110322123754917520921316031106731094998391217203853280814862859148700000229401825352526734\n",
      "Root[18] (x 1) = \n",
      "  18.999999999999999999999999999999999999999999999999999999999999999999999999999999999999999999999999999999994053249103779309493230581744141686397493574289272532886196034657240402111968790857617747109055\n",
      "Root[19] (x 1) = \n",
      "  19.999999999999999999999999999999999999999999999999999999999999999999999999999999999999999999999999999999999999999997830857336919275174315205417633822491327259334065516854830815281980344557992970298026\n",
      "Root[20] (x 1) = \n",
      "  20.999999999999999999999999999999999999999999999999999999999999999999999999999999999999999999999999999999999999999999999999999987867533350182776304438188322195357822667893638202507562976051501430133571\n",
      "Root[21] (x 1) = \n",
      "  21.999999999999999999999999999999999999999999999999999999999999999999999999999999999999999999999999999999999999999999999999999999999999999999880671214934955823401911977599602599294937771200194735669119\n",
      "Root[22] (x 1) = \n",
      "  22.999999999999999999999999999999999999999999999999999999999999999999999999999999999999999999999999999999999999999999999999999999999999999999999999999999999999974297185686401515024048787815707041819254\n",
      "Root[23] (x 1) = \n",
      "  23.999999999999999999999999999999999999999999999999999999999999999999999999999999999999999999996518132545159893029322514352964829650103521863344852895646509424090150805477306435828412647353804014992849\n",
      "Root[24] (x 1) = \n",
      "  24.999999999999999999999999999999999999999999999999999999999999999999999999999999999999999999999999999999999999999999999999997079301214671924545787871299712415724795631471277829525405819908057952704857\n",
      "Root[25] (x 1) = \n",
      "  26.000000000000000000000000000000000000000000000000000000000000000000000000000000000000000000000000000000000000000000000000002920698785328075454212128700287584275204368517186608363137109946289406994474\n",
      "Root[26] (x 1) = \n",
      "  27.000000000000000000000000000000000000000000000000000000000000000000000000000000000000000000003481867454840106970677485647035170349896478136655147104353490575909849194593722712196534255827858710193307\n",
      "Root[27] (x 1) = \n",
      "  28.000000000000000000000000000000000000000000000000000000000000000000000000000000000000000000000000000000000000000000000000000000000000000000000000000000000000025702814286161863213339565783004976365575\n",
      "Root[28] (x 1) = \n",
      "  29.00000000000000000000000000000000000000000000000000000000000000000000000000000000000000000000000000000000000000000000000000000000000000000011932878506504417659808802278348646964817778687748632216115\n",
      "Root[29] (x 1) = \n",
      "  30.000000000000000000000000000000000000000000000000000000000000000000000000000000000000000000000000000000000000000000000000000012132466649817223695561811677804642177331956783278147275409174732532252391\n",
      "Root[30] (x 1) = \n",
      "  31.0000000000000000000000000000000000000000000000000000000000000000000000000000000000000000000000000000000000000000021691426630807248256847945823661775086727406659344828518501801711847560062485437092\n",
      "Root[31] (x 1) = \n",
      "  32.000000000000000000000000000000000000000000000000000000000000000000000000000000000000000000000000000000005946750896220690506769418255858313602506425710727467113803960946078154012930806574326167533017\n",
      "Root[32] (x 1) = \n",
      "  33.000000000000000000000000000000000000000000000000000000000000000000000000000000000000000000000000856359097079889677876245082479078683968893268905001608782796146719183977594221546381180313147213089446\n",
      "Root[33] (x 1) = \n",
      "  34.000000000000000000000000000000000000000000000000000000000000000000000000000000000000000013975733919812774296127682603156949036515109545682574561278255273348560694253573058169630381084085307505680658\n",
      "Root[34] (x 1) = \n",
      "  34.999999999999999999999999999999999999999999999999999999999999999999999999999999999999999999999999999999999999999999999999999999999999999999999999999999999999999999994428652080189634158086406045365125\n",
      "Root[35] (x 1) = \n",
      "  36.000000000000000000000000000000000000000000000000000000000000000000000000000000000000000000000000000000000000000000000000000000000000000000000000000000001186672118680043223940530029377788198018954434\n",
      "Root[36] (x 1) = \n",
      "  37.000000000000000000000000000000000000000000000000000000000000000000000000000000000000000000000000000000000000000000000000000000000000000000000118339384353823929883753071639818173646456273117299683382\n",
      "Root[37] (x 1) = \n",
      "  38.000000000000000000000000000000000000000000000000000000000000000000000000000000000000000000000000000000000000000000000000000000000002235948250544541807008946977918845348287684076652406123922417630402\n",
      "Root[38] (x 1) = \n",
      "  39.000000000000000000000000000000000000000000000000000000000000000000000000000000000000000000000000000000000000000000000000011099550580883591348129197031971429883756424897335095157753725678219063379181\n",
      "Root[39] (x 1) = \n",
      "  40.000000000000000000000000000000000000000000000000000000000000000000000000000000000000000000000000000000000000000018968849118541055850739447428015766241300353005215220225002815476241711617906692318637\n",
      "Root[40] (x 1) = \n",
      "  41.000000000000000000000000000000000000000000000000000000000000000000000000000000000000000000000000000000014093412217529595576544654510129001348931666398272636018337602483997662052318180405757937822236\n",
      "Root[41] (x 1) = \n",
      "  42.000000000000000000000000000000000000000000000000000000000000000000000000000000000000000000000005628107874056484952298651153097792481231162338932011196359303987240419833375823645895143782681829038202\n",
      "Root[42] (x 1) = \n",
      "  43.000000000000000000000000000000000000000000000000000000000000000000000000000000000000000000000000000000000000000000000000000000000000000000000000000000000000000000000018276996683194145134799461875534\n",
      "Root[43] (x 1) = \n",
      "  44.000000000000000000000000000000000000000000000000000000000000000000000000000000000000000000000000000000000000000000000000000000000000000000000000000000000000194607299328757053589551489818709703995211\n",
      "Root[44] (x 1) = \n",
      "  45.000000000000000000000000000000000000000000000000000000000000000000000000000000000000000000000000000000000000000000000000000000000000000000010939655443523898702539784080218170969865626065424422296119\n",
      "Root[45] (x 1) = \n",
      "  46.000000000000000000000000000000000000000000000000000000000000000000000000000000000000000000000000000000000000000000000000001284274696475085631575965364175269733281699955563843207677941315428707333437\n",
      "Root[46] (x 1) = \n",
      "  47.000000000000000000000000000000000000000000000000000000000000000000000000000000000000000000000000000000000806837353006058054657987644426178179582159674421341567641750603305704088219381526768931080247\n",
      "Root[47] (x 1) = \n",
      "  47.999999999999999999999999999999999999999999999999999999999999999999999999999999999999999999999999999999999999999999999999999999999999999999999999999999999999999999999999952282051243339225470400805483\n",
      "Root[48] (x 1) = \n",
      "  49.000000000000000000000000000000000000000000000000000000000000000000000000000000000000000000000000000000000000000000000000000000324591666595835247118620906178199825690671693525937334782797077724496121\n",
      "Root[49] (x 1) = \n",
      "  50.000000000000000000000000000000000000000000000000000000000000000000000000000000000000000000000000000000000000000000000000000000000000000000000000000000000042841593842582135832342978705317642142069723\n"
     ]
    }
   ],
   "source": [
    "tolerance = mp.mpf('1.0e-37')\n",
    "mp.dps = 200\n",
    "p = Wilkinson(50)\n",
    "start = time.perf_counter()\n",
    "roots_dict = mpf_find_real_roots(p, tolerance=tolerance, bracketing=hibrid)\n",
    "end = time.perf_counter()\n",
    "print(f'Time elapsed: {end - start}')\n",
    "print_roots_dict(p, roots_dict)"
   ]
  },
  {
   "cell_type": "code",
   "execution_count": 97,
   "id": "119de8d3",
   "metadata": {},
   "outputs": [
    {
     "name": "stdout",
     "output_type": "stream",
     "text": [
      "\n",
      "check_roots: all roots are distinct and in order\n",
      "check_roots: all roots are roots within tolerance\n",
      "check_roots: number of real roots, 50, as expected by Sturm's theorem\n"
     ]
    }
   ],
   "source": [
    "check_roots(p, roots_dict, tolerance)"
   ]
  },
  {
   "cell_type": "markdown",
   "id": "3054dd34",
   "metadata": {},
   "source": [
    "##  Mignotte polynomials"
   ]
  },
  {
   "cell_type": "code",
   "execution_count": 74,
   "id": "ca342d5e",
   "metadata": {},
   "outputs": [],
   "source": [
    "def Mignotte(n, tau):\n",
    "    x = Symbol('x')\n",
    "    return [int(coef) for coef in Poly((x**n - ((2**(tau//2) - 1)*x - 1)**2)).all_coeffs()]"
   ]
  },
  {
   "cell_type": "code",
   "execution_count": 88,
   "id": "b19b87fc",
   "metadata": {},
   "outputs": [
    {
     "name": "stdout",
     "output_type": "stream",
     "text": [
      "1*x^7 - 9*x^2 + 6*x^1 - 1*x^0\n"
     ]
    },
    {
     "data": {
      "image/png": "[encoded data removed]",
      "text/plain": [
       "<Figure size 432x288 with 1 Axes>"
      ]
     },
     "metadata": {
      "needs_background": "light"
     },
     "output_type": "display_data"
    }
   ],
   "source": [
    "p = Mignotte(7, 4)\n",
    "print(p_to_str(p))\n",
    "plot_p(p, (-1, 1.5))"
   ]
  },
  {
   "cell_type": "code",
   "execution_count": 76,
   "id": "05fd5a99",
   "metadata": {},
   "outputs": [
    {
     "name": "stdout",
     "output_type": "stream",
     "text": [
      "\n",
      "Real roots of p(x) =\n",
      "1*x^7 + 0*x^6 + 0*x^5 + 0*x^4 + 0*x^3 + -9*x^2 + 6*x^1 + -1\n",
      "Root[0] (x 1) = \n",
      "  0.326690454897132029623508914833692361555326442240339469182800424884368581226271436400020349577477674074543756432831287384033203125\n",
      "Root[1] (x 1) = \n",
      "  0.34105602675329680119577817102715021555346126759455449273237473010833870826689204437383204319447665213122511343390809182804681352815836018563670733317114590807740943971822565981850853116338926336645451\n",
      "Root[2] (x 1) = \n",
      "  1.390743647321061451053363441530781275884396417208327878426361780166178255686404377719782472777598769653195631690323352813720703125\n"
     ]
    }
   ],
   "source": [
    "tolerance = mp.mpf('1.0e-37')\n",
    "mp.dps = 200\n",
    "roots_dict = mpf_find_real_roots(p, tolerance=tolerance)\n",
    "print_roots_dict(p, roots_dict)"
   ]
  },
  {
   "cell_type": "code",
   "execution_count": 77,
   "id": "153c5b92",
   "metadata": {},
   "outputs": [
    {
     "name": "stdout",
     "output_type": "stream",
     "text": [
      "\n",
      "check_roots: all roots are distinct and in order\n",
      "check_roots: all roots are roots within tolerance\n",
      "check_roots: number of real roots, 3, as expected by Sturm's theorem\n"
     ]
    }
   ],
   "source": [
    "check_roots(p, roots_dict, tolerance)"
   ]
  },
  {
   "cell_type": "code",
   "execution_count": 109,
   "id": "36da110e",
   "metadata": {},
   "outputs": [
    {
     "name": "stdout",
     "output_type": "stream",
     "text": [
      "Time elapsed: 372.3692063999988\n",
      "\n",
      "Real roots of p(x) =\n",
      "1*x^513 - 16129*x^2 + 254*x^1 - 1*x^0\n",
      "Root[0] (x 1) = \n",
      "  0.007874015748031496062992125984251968503937007874015748031496062992125984251968503937007874015748031496062992125984251968503937007874015748031496062992125984251968503937007874015748031496062992125984251968503937007874015748031496062992125984251968503937007874015748031496062992125984251968503937007874015748031496062992125984251968503937007874015748031496062992125984251968503937007874015748031496062992125984251968503937007874015748031496062992125984251968503937007874015748031496062992125984251968503937007874015748031496062992125984251968485292889406511429285447724222228392024104189585194694680181892021393552271333062542142159688999522569271044515160041009802275162597377129412543852956934870290286297974422131733299758238994611222213117738707833357694993353879687170348676165803126879910228099830464766520619910665957452237768673452774958019274182661611947829301706689207945239855212286300513866131903823856298862750898049736331460484503077489027375089663918516768359709387312399074325023232152802033944980821706129646108824051911059844896157006954548745465915300087789994792643396293355530611279074425491723575457610937941196560153819126230627616941801549853808348382245101467107686657034731751070137981795649838653284812430445384296521170952311414507760026420482166624842295753648235988569890097274530985378158638516590479048079623745839880557595110023949924445834945009527704780146459973454089926561078109173002512074501891786944278441210020045787031369792010239659034229209038360800636773783552527358708323622772225919171739496703975931802774097946212751532054378168345090879230913756777487813446772224120708311965384917832212007939244562018738625339277672798007119965967213175317208734529910404931638303348784121140226651764862872277318755113\n",
      "Root[1] (x 1) = \n",
      "  0.007874015748031496062992125984251968503937007874015748031496062992125984251968503937007874015748031496062992125984251968503937007874015748031496062992125984251968503937007874015748031496062992125984251968503937007874015748031496062992125984251968503937007874015748031496062992125984251968503937007874015748031496062992125984251968503937007874015748031496062992125984251968503937007874015748031496062992125984251968503937007874015748031496062992125984251968503937007874015748031496062992125984251968503937007874015748031496062992125984251968522581126341520066777544401762023576479832818288821053351314170970732431980635441394865714326748508926791947610824210958701661845276638618618952210035191113961682205962585742282448273257068380903771134229796103650179022394151808892643449818448841624026779774185283264975443081460026799730735263555099057728757313401380178154950261814729062634160535745195549125994080428112205074256975966011700035578489048495224593414273087826182058938288217255858495956032996249153463404587716059927641210470781870996197251123311096407682209198578767270793320126595111795707003088896410907334764859671909588014662940345686834991114930206429095031659745195840503667905182287815117140723560571542720386395177237201475784406892144529772338357068134152376976256829942594936025330635855406466568316120656761019043685418540624010822824002617926969961686866077282783236027820732651741416408725106086715480817926341303396456187708965796150972828173740842204592856020734137507995178190011803094205306611081227568005598656974695864697110684855619963186202612078137531378663483189933957247469509225049163477111913167245832470055859996698176169509598001574747204492007728051705498366547622914438677801678873452955910753316987824040129328483\n",
      "Root[2] (x 1) = \n",
      "  1.019109573344593700908255302552757870556045908375083625371836328257926984925505100064808037505954392506905473845800847536960095850214308204331601382846956923963791959491728443837666786668295882608985182384805432290386794241649997048694316124942134326965116528016012323154460161128871708195591117154331840299614000206891256312785332586074945640903315283301174047340971687463631756076375555598762838814737281354922062200369139794290012271262131598988100953982137173769317933985561827519174413903449112281451058488182996996588869261149526873477857621034264052295717602953898850549497475171166741883011999365845646267211366497274231635895618989786131813174618106469283289978147909912730900489280657613566982009058231278239609900903408694917645325687124362717991383661501578562120106826052509750553799300172848912734385356766697717840694924583647321790048220157767368227089839411717058510505467969016277197988489394019201047372469682138100759499028301087565218021509417641913518347860225555368154342068465298146546526922346333136108746646604654909206076990015675033679386565304868521418516126754402068071184263637793044764920664546376070670430477207721480034229979068065457460638907778241096854111249121625729345481592421402192958211678562613815056164520006881095042525528092707966824420302803411765531817746090011075862893187885019519328104770870682843864231777984550434104780924470342811382149739730595073123421614959336830429412660450018317040711877938869991157301842332337060131098942216865163593019245881045587776173103403445127478931072767602090102503430791003362635127236421459874441977126137491622002265774642974809336805375929742291833437735273162754687293599044962401005777821069128392829247029675292849463309393241542419164165307861860164820155\n"
     ]
    }
   ],
   "source": [
    "n = 513\n",
    "tau = 14\n",
    "p = Mignotte(n, tau)\n",
    "tolerance = mp.mpf('1.0e-1500')\n",
    "mp.dps = 1750\n",
    "start = time.perf_counter()\n",
    "roots_dict = mpf_find_real_roots(p, tolerance=tolerance, bracketing=bisection)\n",
    "end = time.perf_counter()\n",
    "print(f'Time elapsed: {end - start}')\n",
    "print_roots_dict(p, roots_dict)"
   ]
  },
  {
   "cell_type": "code",
   "execution_count": 106,
   "id": "79475bbc",
   "metadata": {},
   "outputs": [
    {
     "name": "stdout",
     "output_type": "stream",
     "text": [
      "Time elapsed: 186.06359570000495\n",
      "\n",
      "Real roots of p(x) =\n",
      "1*x^513 - 16129*x^2 + 254*x^1 - 1*x^0\n",
      "Root[0] (x 1) = \n",
      "  0.007874015748031496062992125984251968503937007874015748031496062992125984251968503937007874015748031496062992125984251968503937007874015748031496062992125984251968503937007874015748031496062992125984251968503937007874015748031496062992125984251968503937007874015748031496062992125984251968503937007874015748031496062992125984251968503937007874015748031496062992125984251968503937007874015748031496062992125984251968503937007874015748031496062992125984251968503937007874015748031496062992125984251968503937007874015748031496062992125984251968485292889406511429285447724222228392024104189585194694680181892021393552271333062542142159688999522569271044515160041009802275162597377129412543852956934870290286297974422131733299758238994611222213117738707833357694993353879687170348676165803126879910228099830464766520619910665957452237768673452774958019274182661611947829301706689207945239855212286300513866131903823856298862750898049736331460484503077489027375089663919748431647930349456019320023821119808161655982072366432121834078972625439393042058697201991993952169052689394160775041346905903278458663654417745796941429295121259432993951455484394936675408276686357361791271046756533261672739004753325568085189647401321283260780586922299194101135326657313139691754513710572237662157101980473810353241053581849617183089028142233307200067514265681750005927859158799872718013627317276267209238892958762742888102396802692400066562346790159843947232070415741935788777342895608706783958910557758961422646458202303633774191090229659210663958550431641009288703533676771123553301144482710308358081735215122112494599670467518047728732775147891869613064997010050802630636263464704346418612887338848048161799608236705700084079680113346785480286356841628064455262159158\n",
      "Root[1] (x 1) = \n",
      "  0.007874015748031496062992125984251968503937007874015748031496062992125984251968503937007874015748031496062992125984251968503937007874015748031496062992125984251968503937007874015748031496062992125984251968503937007874015748031496062992125984251968503937007874015748031496062992125984251968503937007874015748031496062992125984251968503937007874015748031496062992125984251968503937007874015748031496062992125984251968503937007874015748031496062992125984251968503937007874015748031496062992125984251968503937007874015748031496062992125984251968522581126341520066777544401762023576479832818288821053351314170970732431980635441394865714326748508926791947610824210958701661845276638618618952210035191113961682205962585742282448273257068380903771134229796103650179022394151808892643449818448841624026779774185283264975443081460026799730735263555099057728757313401380178154950261814729062634160535745195549125994080428112205074256975966011700035578489048495224593414273088125584100101146606972805960430848695775351891943381599374228913153358812575461878310672023754079327010302731823476949803724153735350911851951893547443661283000724396413012422013731389013059571924581863472932667420735283547880004635759481865356204457143162624413149836071741416649270138202224870980190920665431927108803300077375983607045551713510959058301584553589241557966912109975500899085043607224516308298480037705547008395070333951986444688620713414960408755423790593491757026344924954604235689521408949511528348454163865323458149109106274613489605739385597550805206638579337947920148393664470140784699454493177265274342414588755402447946710844583583279140894997901429870669113104354081525729477913938960364927443158184178767281019201754842774640059467793979291266362666604604227538796\n",
      "Root[2] (x 1) = \n",
      "  1.019109573344593700908255302552757870556045908375083625371836328257926984925505100064808037505954392506905473845800847536960095850214308204331601382846956923963791959491728443837666786668295882608985182384805432290386794241649997048694316124942134326965116528016012323154460161128871708195591117154331840299614000206891256312785332586074945640903315283301174047340971687463631756076375555598762838814737281354922062200369139794290012271262131598988100953982137173769317933985561827519174413903449112281451058488182996996588869261149526873477857621034264052295717602953898850549497475171166741883011999365845646267211366497274231635895618989786131813174618106469283289978147909912730900489280657613566982009058231278239609900903408694917645325687124362717991383661501578562120106826052509750553799300172848912734385356766697717840694924583647321790048220157767368227089839411717058510505467969016277197988489394019201047372469682138100759499028301087565218021509417641913518347860225555368154342068465298146546526922346333136108746646604654909206076990015675033679386565304868521418516126754402068071184263637793044764920664546376070670430477207721480034229979068065457460638907778241096854111249121625729345481592421402192958211678562613815056164520006881095042525528092707966824420302803411765531817746090011075862893187885019519328104770870682843864231777984550434104780924470342811382149739730595073123421614959336830429412660450018317040711877938869991157301842332337060131098942216865163593019245881045647424314076775021499829091450625082035942657301383402082083643805257394326319741214670071688436339596981486083837759236853093223248989760785601799207606585977764317479477899798244494174474289586371648059519777965501131144545887210054688967061\n"
     ]
    }
   ],
   "source": [
    "n = 513\n",
    "tau = 14\n",
    "p = Mignotte(n, tau)\n",
    "tolerance = mp.mpf('1.0e-1500')\n",
    "mp.dps = 1750\n",
    "start = time.perf_counter()\n",
    "roots_dict = mpf_find_real_roots(p, tolerance=tolerance, bracketing=hibrid)\n",
    "end = time.perf_counter()\n",
    "print(f'Time elapsed: {end - start}')\n",
    "print_roots_dict(p, roots_dict)"
   ]
  },
  {
   "cell_type": "code",
   "execution_count": 107,
   "id": "9c973eb9",
   "metadata": {},
   "outputs": [
    {
     "name": "stdout",
     "output_type": "stream",
     "text": [
      "\n",
      "check_roots: all roots are distinct and in order\n",
      "check_roots: all roots are roots within tolerance\n",
      "check_roots: number of real roots, 3, as expected by Sturm's theorem\n"
     ]
    }
   ],
   "source": [
    "check_roots(p, roots_dict, tolerance)"
   ]
  },
  {
   "cell_type": "markdown",
   "id": "05e6a9a1",
   "metadata": {},
   "source": [
    "## Chebyshev polynomials of first kind"
   ]
  },
  {
   "cell_type": "code",
   "execution_count": 44,
   "id": "b6d86b4d",
   "metadata": {},
   "outputs": [],
   "source": [
    "def memoize(f):\n",
    "    memo = {}\n",
    "    def helper(x):\n",
    "        if x not in memo:            \n",
    "            memo[x] = f(x)\n",
    "        return memo[x]\n",
    "    return helper\n",
    "\n",
    "@memoize\n",
    "def Chebyshev(n):\n",
    "    x = Symbol('x')\n",
    "    if n == 0:\n",
    "        return 1\n",
    "    elif n == 1:\n",
    "        return x\n",
    "    else:\n",
    "        return (2*x*Chebyshev(n-1) - Chebyshev(n-2)).expand()"
   ]
  },
  {
   "cell_type": "code",
   "execution_count": 47,
   "id": "ba0d6625",
   "metadata": {},
   "outputs": [
    {
     "data": {
      "image/png": "[encoded data removed]",
      "text/plain": [
       "<Figure size 432x288 with 1 Axes>"
      ]
     },
     "metadata": {
      "needs_background": "light"
     },
     "output_type": "display_data"
    },
    {
     "data": {
      "text/plain": [
       "OrderedDict([(mpf('-0.9969173337331279761977734087420444201589954782921085059669228481078271995794608815549780810410927632107119302813462675971591988186695278145983810404256073261879123048601059053908102214336395263671875'),\n",
       "              1),\n",
       "             (mpf('-0.97236992039767660183364583411879764400309393375185438330717353746653803522801178081517949638780600532623937185148348404456222489541131849297572535189505834534814377036123592130285838666487381253709341437'),\n",
       "              1),\n",
       "             (mpf('-0.92387953251128675612818318939678828682267634462764362957013443002733115545794155340872404325101775942259693472547288321611354010084971639143280365427246582283127244565998473352007002232715148845865311653'),\n",
       "              1),\n",
       "             (mpf('-0.85264016435409222151938345813041213581914902666624008535183427954715072862345037109638619418892751754136879262522413213287893777759009644989706359249234020817908169818013217524410300334594160520732920063'),\n",
       "              1),\n",
       "             (mpf('-0.76040596560003093817459436484490199988858552684984827079817440626939470687932892146712143752434609843954604243045780463524940799672686118089761903056335329595441572205991167625205597804819463588103619236'),\n",
       "              1),\n",
       "             (mpf('-0.64944804833018365572632077089376287927578558711226130544777613069914953387074490195821280009152479274527624196007875150815972037830413991754827088933639586491091858285390748121763949001618959453987626092'),\n",
       "              1),\n",
       "             (mpf('-0.52249856471594886498789788017829382341586152456361387288205661293628905825245579573370519417915095753694506644366078236375789237532348258017844698224248227547660900683657726126099136145173245478254809559'),\n",
       "              1),\n",
       "             (mpf('-0.38268343236508977172845998403039886676130984131490658143347633780378588360899890987784892171779212342879161701934451395116708095694928156024489012861448174569820642557272437766177228337839666599064247733'),\n",
       "              1),\n",
       "             (mpf('-0.23344536385590541176774443020287084878498329939389429161750393608150996118149817829282383296817929737243561986707523030240155154523455156044677128583961505490667857900129754394875098261993899535616940121'),\n",
       "              1),\n",
       "             (mpf('-0.078459095727844945032960245993459698682110523195556832160365158546985281905393917879506584354427694591178317624846329011981607309219552772292395263580309527359684201810312997531993235638046619704684243389'),\n",
       "              1),\n",
       "             (mpf('0.078459095727844945032960245993459698682110523195556832160365158546985281905393917879506584354427694591178317624846329011981607309219552772292395263580309527359684201810312997531993235638046619704684243389'),\n",
       "              1),\n",
       "             (mpf('0.23344536385590541176774443020287084878498329939389429161750393608150996118149817829282383296817929737243561986707523030240155154523455156044677128583961505490667857900129754394875098261993899535616940121'),\n",
       "              1),\n",
       "             (mpf('0.38268343236508977172845998403039886676130984131490658143347633780378588360899890987784892171779212342879161701934451395116708095694928156024489012861448174569820642557272437766177228337839666599064247733'),\n",
       "              1),\n",
       "             (mpf('0.52249856471594886498789788017829382341586152456361387288205661293628905825245579573370519417915095753694506644366078236375789237532348258017844698224248227547660900683657726126099136145173245478254809559'),\n",
       "              1),\n",
       "             (mpf('0.64944804833018365572632077089376287927578558711226130544777613069914953387074490195821280009152479274527624196007875150815972037830413991754827088933639586491091858285390748121763949001618959453987626092'),\n",
       "              1),\n",
       "             (mpf('0.76040596560003093817459436484490199988858552684984827079817440626939470687932892146712143752434609843954604243045780463524940799672686118089761903056335329595441572205991167625205597804819463588103619236'),\n",
       "              1),\n",
       "             (mpf('0.85264016435409222151938345813041213581914902666624008535183427954715072862345037109638619418892751754136879262522413213287893777759009644989706359249234020817908169818013217524410300334594160520732920063'),\n",
       "              1),\n",
       "             (mpf('0.92387953251128675612818318939678828682267634462764362957013443002733115545794155340872404325101775942259693472547288321611354010084971639143280365427246582283127244565998473352007002232715148845865311653'),\n",
       "              1),\n",
       "             (mpf('0.97236992039767660183364583411879764400309393375185438330717353746653803522801178081517949638780600532623937185148348404456222489541131849297572535189505834534814377036123592130285838666487381253709341437'),\n",
       "              1),\n",
       "             (mpf('0.9969173337331279761977734087420444201589954782921085059669228481078271995794608815549780810410927632107119302813462675971591988186695278145983810404256073261879123048601059053908102214336395263671875'),\n",
       "              1)])"
      ]
     },
     "execution_count": 47,
     "metadata": {},
     "output_type": "execute_result"
    }
   ],
   "source": [
    "p = [int(coef) for coef in Poly(Chebyshev(20)).all_coeffs()]\n",
    "plot_p(p, (-1.01, 1.01))\n",
    "tolerance = mp.mpf('1.0e-37')\n",
    "mp.dps = 200\n",
    "roots_dict = mpf_find_real_roots(p, tolerance=tolerance)\n",
    "roots_dict"
   ]
  },
  {
   "cell_type": "code",
   "execution_count": 48,
   "id": "cc75e06a",
   "metadata": {},
   "outputs": [
    {
     "name": "stdout",
     "output_type": "stream",
     "text": [
      "\n",
      "check_roots: all roots are distinct and in order\n",
      "check_roots: all roots are roots within tolerance\n",
      "check_roots: number of real roots, 20, as expected by Sturm's theorem\n"
     ]
    }
   ],
   "source": [
    "check_roots(p, roots_dict, tolerance)"
   ]
  },
  {
   "cell_type": "code",
   "execution_count": null,
   "id": "d783a501",
   "metadata": {},
   "outputs": [],
   "source": []
  }
 ],
 "metadata": {
  "kernelspec": {
   "display_name": "Python 3 (ipykernel)",
   "language": "python",
   "name": "python3"
  },
  "language_info": {
   "codemirror_mode": {
    "name": "ipython",
    "version": 3
   },
   "file_extension": ".py",
   "mimetype": "text/x-python",
   "name": "python",
   "nbconvert_exporter": "python",
   "pygments_lexer": "ipython3",
   "version": "3.8.3"
  },
  "toc": {
   "base_numbering": 1,
   "nav_menu": {},
   "number_sections": true,
   "sideBar": true,
   "skip_h1_title": false,
   "title_cell": "Table of Contents",
   "title_sidebar": "Contents",
   "toc_cell": false,
   "toc_position": {
    "height": "calc(100% - 180px)",
    "left": "10px",
    "top": "150px",
    "width": "256px"
   },
   "toc_section_display": true,
   "toc_window_display": true
  }
 },
 "nbformat": 4,
 "nbformat_minor": 5
}
