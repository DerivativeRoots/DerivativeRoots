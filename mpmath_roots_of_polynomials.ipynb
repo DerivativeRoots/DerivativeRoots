{
 "cells": [
  {
   "cell_type": "markdown",
   "metadata": {},
   "source": [
    "# Introduction\n",
    "- This notebook presents Python code for the algorithm described in https://www.researchgate.net/publication/320864673_A_simple_algorithm_to_find_all_real_roots_of_a_polynomial. Please cite this paper if you use this code or part of it.\n",
    "- The code finds all real roots of a polynomial, using mpmath por arbitrary precision arithmetics.\n",
    "- A companion notebook presents Python code for the same algorithm, using standard floating point arithmetics.\n",
    "- You may also read the *Fundamentals* notebook in this repository.\n",
    "- This notebook contains code and tests using some notorious polynomials"
   ]
  },
  {
   "cell_type": "markdown",
   "metadata": {},
   "source": [
    "# Code\n",
    "Notes:\n",
    "- We use mpmath to get arbitrary precision numbers.\n",
    "- Sympy polynomials and some associated functions are used for the sake of clarity."
   ]
  },
  {
   "cell_type": "markdown",
   "metadata": {},
   "source": [
    "## Solver"
   ]
  },
  {
   "cell_type": "code",
   "execution_count": 41,
   "metadata": {},
   "outputs": [
    {
     "name": "stdout",
     "output_type": "stream",
     "text": [
      "IPython console for SymPy 1.9 (Python 3.8.3-64-bit) (ground types: gmpy)\n",
      "\n",
      "These commands were executed:\n",
      ">>> from __future__ import division\n",
      ">>> from sympy import *\n",
      ">>> x, y, z, t = symbols('x y z t')\n",
      ">>> k, m, n = symbols('k m n', integer=True)\n",
      ">>> f, g, h = symbols('f g h', cls=Function)\n",
      ">>> init_printing()\n",
      "\n",
      "Documentation can be found at https://docs.sympy.org/1.9/\n",
      "\n"
     ]
    }
   ],
   "source": [
    "import mpmath\n",
    "from mpmath import mp, mpf\n",
    "from sympy import init_session\n",
    "    # We use sympy just to facilitate the construction of examples and to pretty print polynomials\n",
    "init_session()"
   ]
  },
  {
   "cell_type": "code",
   "execution_count": 42,
   "metadata": {},
   "outputs": [],
   "source": [
    "def mp_roots(p, tolerance, bracketing):\n",
    "    \"\"\"\n",
    "    Returns a list of all real roots of (sympy) polynomial p.\n",
    "    \n",
    "    Parameters\n",
    "    ----------\n",
    "    p : sympy polynomial\n",
    "    tolerance : mpmath mpf number\n",
    "        A number x is considered a root of p if abs(p(x)) < tolerance\n",
    "    bracketing : function\n",
    "        A bracketing method for root-finding function such as bisection, newton, brent or hibrid\n",
    "    ----------\n",
    "    \n",
    "    \"\"\"\n",
    "    \n",
    "    global verbose_main_loop\n",
    "    \n",
    "    todo = [] # to do stack\n",
    "    \n",
    "    while degree(p) > 1: # push derivatives\n",
    "        todo.append(p)\n",
    "        p = diff(p)\n",
    "        \n",
    "    # p is a first degree polynomial\n",
    "    cfs = Poly(p).all_coeffs()\n",
    "    roots = [-mpf(cfs[1]) / mpf(cfs[0])]\n",
    "    \n",
    "    if verbose_main_loop:\n",
    "        print(f'\\nSolving {p}')\n",
    "    \n",
    "    pdiff = p\n",
    "    func_pdiff = lambdify(x, pdiff, 'mpmath')\n",
    "    \n",
    "    while len(todo) > 0: # pop derivatives\n",
    "        derivative_roots = roots\n",
    "        p = todo.pop()\n",
    "        if verbose_main_loop:\n",
    "            print(f'\\nSolving {p}')\n",
    "        p_as_function = lambdify(x, p, 'mpmath')\n",
    "        roots = real_roots_from_derivative_roots(p, p_as_function, func_pdiff, \n",
    "                                                 derivative_roots, tolerance, bracketing)\n",
    "        func_pdiff = p_as_function\n",
    "    \n",
    "    return roots"
   ]
  },
  {
   "cell_type": "code",
   "execution_count": 43,
   "metadata": {},
   "outputs": [],
   "source": [
    "def real_roots_from_derivative_roots(p, p_as_function, func_pdiff, derivative_roots, tolerance, bracketing):\n",
    "    \"\"\"\n",
    "    This function finds the real roots of polynomial p, using the roots of the derivative of p\n",
    "    \n",
    "    Parameters\n",
    "    ----------\n",
    "    p : sympy polynomial\n",
    "    p_as_function : function\n",
    "        Calculates p(x)\n",
    "    func_pdiff : function\n",
    "        Calculates p'(x), where p' is the derivative of p. Used by bracketings like newton or hibrid\n",
    "    derivative_roots : list\n",
    "        List of all roots of p'. Must be in ascending order\n",
    "    tolerance : mpmath mpf number\n",
    "        A number x is considered a root of p if abs(p(x)) < tolerance\n",
    "    bracketing : function\n",
    "        A bracketing root-finding function such as bisection    \n",
    "    ----------\n",
    "    \"\"\"\n",
    "    \n",
    "    \n",
    "    n_derivative_roots = len(derivative_roots)\n",
    "    \n",
    "    roots = []\n",
    "    \n",
    "    #print(f'rrfdr: derivative_roots = {derivative_roots}, {type(derivative_roots)}----\\n')\n",
    "    if n_derivative_roots == 0:\n",
    "        # I took 0, but any point should work\n",
    "        left_extremity = mpf(0)\n",
    "        right_extremity = mpf(0)\n",
    "    else:\n",
    "        left_extremity = derivative_roots[0]\n",
    "        right_extremity = derivative_roots[-1]\n",
    "    #print(f'left_extremity = {left_extremity}, {type(left_extremity)}')\n",
    "    #print(f'right_extremity = {right_extremity}, {type(right_extremity)}')\n",
    "    \n",
    "    right_limit_sign = sign(LC(p)) # LC: Leading Coefficient\n",
    "    \n",
    "    if degree(p) % 2 == 0:\n",
    "        left_limit_sign = sign(LC(p))\n",
    "    else:\n",
    "        left_limit_sign = -sign(LC(p)) \n",
    "    \n",
    "    roots = roots + external_root(p, p_as_function, func_pdiff, left_extremity, left_limit_sign, mpf(-1), tolerance, bracketing)\n",
    "    #print(f'After left external root, roots = {roots}')\n",
    "    \n",
    "    for i in range(n_derivative_roots - 1): \n",
    "\n",
    "        roots = roots + internal_root(p, p_as_function, func_pdiff, derivative_roots[i], derivative_roots[i+1], tolerance, bracketing)\n",
    "        #print(f'After internal root, roots = {roots}')\n",
    "        \n",
    "    roots = roots + external_root(p, p_as_function, func_pdiff, right_extremity, right_limit_sign, mpf(1), tolerance, bracketing)\n",
    "    #print(f'After right external root, roots = {roots}')\n",
    "    \n",
    "    return roots"
   ]
  },
  {
   "cell_type": "code",
   "execution_count": 44,
   "metadata": {},
   "outputs": [],
   "source": [
    "def external_root(p, p_as_function, func_pdiff, extremity, limit_sign, initial_step, tolerance, bracketing):\n",
    "    \"\"\"\n",
    "    Look for a root in intervals where one of its limits is -infinity or infinity\n",
    "    \n",
    "    Parameters\n",
    "    ----------\n",
    "    p : sympy polynomial\n",
    "    p_as_function : function\n",
    "        Calculates p(x)\n",
    "    func_pdiff : function\n",
    "        Calculates p'(x), where p' is the derivative of p. Used by bracketings like newton or hibrid\n",
    "    extremity : number\n",
    "        Interval is either (-infinity, extremity] or (extremity, infinity), depending on initial_step\n",
    "    limit_sign : number sign\n",
    "        Sign of polynomial at -infinity or at infinity, depending on initial_step\n",
    "    initial_step :\n",
    "        number\n",
    "        initial_step must be a nonzero value; normally, initial_step == mpf(1). \n",
    "        If initial_step < 0, the function will start by looking for a bracketing\n",
    "        interval testing values from extremity towards -infinity.\n",
    "        If initial_step > 0, the function will start by looking for a bracketing\n",
    "        interval testing values from extremity towards infinity.\n",
    "    tolerance : mpmath mpf number\n",
    "        A number x is considered a root of p if abs(p(x)) < tolerance\n",
    "    bracketing : function\n",
    "        A bracketing root-finding function such as bisection \n",
    "    ----------\n",
    "    \"\"\"\n",
    "    global verbose_bracketing\n",
    "    \n",
    "    #print(f'external_root: extremity = {extremity}')\n",
    "    value_at_extremity = p_as_function(extremity)\n",
    "    \n",
    "    if abs(value_at_extremity) <= tolerance:\n",
    "        if initial_step < 0:\n",
    "            root_found = [extremity]\n",
    "        else:\n",
    "            root_found = []\n",
    "    else:\n",
    "    \n",
    "        sign_at_extremity = sign(value_at_extremity)\n",
    "\n",
    "        if limit_sign == sign_at_extremity:\n",
    "            root_found = []\n",
    "        else:\n",
    "\n",
    "            if initial_step > 0:\n",
    "                a = extremity\n",
    "                b = point_with_sign_inversion(p_as_function, extremity, sign_at_extremity, initial_step)\n",
    "            else:\n",
    "                a = point_with_sign_inversion(p_as_function, extremity, sign_at_extremity, initial_step)\n",
    "                b = extremity\n",
    "            #print(f'left_external_root: calling findroot for {p}')\n",
    "            #print(f'a = {a}, left_extremity = {left_extremity}')\n",
    "            #root_found = [findroot(p_as_function, [a, b], bracketing='anderson', tol=tolerance,\n",
    "            #                      maxsteps=MAXSTEPS)]\n",
    "        #    root_found = [bisection(p, p_as_function, a, b, tolerance)]\n",
    "            if verbose_bracketing:\n",
    "                print(f'external_root: calling bracketing for p = {p}')\n",
    "            root_found = [bracketing(a, b, tolerance, p_as_function, func_pdiff)]\n",
    "        \n",
    "    #print(f'{p}: {root_found} added by external_root')\n",
    "    return root_found"
   ]
  },
  {
   "cell_type": "code",
   "execution_count": 45,
   "metadata": {},
   "outputs": [],
   "source": [
    "def point_with_sign_inversion(p_as_function, extremity, sign_at_extremity, initial_step):\n",
    "    \"\"\"\n",
    "    Finds a bracketing interval starting from an interval with one of its limits equal to infinity or -infinity\n",
    "    \n",
    "    Parameters\n",
    "    ----------\n",
    "    p_as_function : function\n",
    "        Calculates p(x)\n",
    "    extremity : number\n",
    "        Interval is either (-infinity, extremity] or (extremity, infinity), \n",
    "        and extremity is either the smallest or the greatest root of derivative, depending on initial_step.  \n",
    "    sign_at_extremity : number sign\n",
    "        Sign of p(extremity)\n",
    "    initial_step :\n",
    "        number\n",
    "        initial_step must be a nonzero value; normally, initial_step equals mpf(1) or mpf(-1). \n",
    "        If initial_step < 0, the function will start by looking for a bracketing\n",
    "        interval testing values from extremity towards -infinity.\n",
    "        If initial_step > 0, the function will start by looking for a bracketing\n",
    "        interval testing values from extremity towards infinity.    \n",
    "    ----------\n",
    "    \"\"\"\n",
    "\n",
    "    #print(f'Looking for {p} sign inversion from x = {extremity} with initial step = {initial_step}')\n",
    "    step = initial_step\n",
    "    x = extremity + step\n",
    "    p_x = p_as_function(x)\n",
    "    sign_at_x = sign(p_x)\n",
    "    \n",
    "    while sign_at_x == sign_at_extremity:\n",
    "        step = 2*step # Double step length\n",
    "        x = x + step\n",
    "        p_x = p_as_function(x)\n",
    "        #print(f'x = {x}, p_x = {p_x}, step = {step}')\n",
    "        sign_at_x = sign(p_x)\n",
    "        \n",
    "    return x"
   ]
  },
  {
   "cell_type": "code",
   "execution_count": 46,
   "metadata": {},
   "outputs": [],
   "source": [
    "def internal_root(p, p_as_function, func_pdiff, a, b, tolerance, bracketing):\n",
    "    \"\"\"\n",
    "    Looks for a root in intervals where both limits are finite numbers\n",
    "    \n",
    "    Parameters\n",
    "    ----------\n",
    "    p : sympy polynomial\n",
    "    p_as_function : function\n",
    "        Calculates p(x)\n",
    "    func_pdiff : function\n",
    "        Calculates p'(x), where p' is the derivative of p. Used by bracketings like newton or hibrid \n",
    "    a : number\n",
    "        Left limit of interval\n",
    "    b : number\n",
    "        Right limit of interval\n",
    "    tolerance : mpmath mpf number\n",
    "        A number x is considered a root of p if abs(p(x)) < tolerance\n",
    "    bracketing : function\n",
    "        A bracketing root-finding function such as bisection         \n",
    "    ----------\n",
    "    \"\"\"\n",
    "    global verbose_bracketing\n",
    "    #print(f'Approximating root of {p}, {a} <= root <= {b}')\n",
    "    p_a = p_as_function(a)\n",
    "    #print(f'internal_root: p_a = {p_a}')\n",
    "    if abs(p_a) <= tolerance:\n",
    "        root_found = []\n",
    "    else:\n",
    "        p_b = p_as_function(b)\n",
    "        if abs(p_b) < tolerance:\n",
    "            root_found = [b]\n",
    "        else:\n",
    "            sign_at_a = sign(p_a)\n",
    "            sign_at_b = sign(p_b)\n",
    "            if sign_at_a == sign_at_b:\n",
    "                root_found = []\n",
    "            else:\n",
    "                if verbose_bracketing:\n",
    "                    print(f'internal_root: calling bracketing for p = {p}')\n",
    "                root_found = [bracketing(a, b, tolerance, p_as_function, func_pdiff)]\n",
    "    #print(f'{p}: {root_found} added by internal_root')\n",
    "    return root_found"
   ]
  },
  {
   "cell_type": "code",
   "execution_count": 47,
   "metadata": {},
   "outputs": [],
   "source": [
    "def bisection(a, b, tolerance, p_as_function, func_pdiff):\n",
    "\n",
    "    global verbose_bracketing\n",
    "    if verbose_bracketing:\n",
    "        print('bisection: starting')\n",
    "\n",
    "    p_a = p_as_function(a)\n",
    "    p_b = p_as_function(b)\n",
    "    m = (a + b) / 2\n",
    "    p_m = p_as_function(m)\n",
    "    progress = True\n",
    "    \n",
    "    iter = 0\n",
    "    while abs(p_m) > tolerance and progress:\n",
    "        iter += 1\n",
    "        old_a, old_b = a, b\n",
    "        if p_a * p_m <= 0:\n",
    "            b = m\n",
    "            p_b = p_m\n",
    "        else:\n",
    "            if p_b * p_m <= 0:\n",
    "                a = m\n",
    "                p_a = p_m\n",
    "        m = (a + b) / 2\n",
    "        p_m = p_as_function(m)\n",
    "        if old_a == a and old_b == b:\n",
    "            progress = False\n",
    "            raise ValueError(f'bissection: no progress after {iter} iterations, with \\na = {a} \\nb = {b}')\n",
    "    if verbose_bracketing:\n",
    "        print(f'bisection: finishing after {iter} iterations')\n",
    "    return m"
   ]
  },
  {
   "cell_type": "code",
   "execution_count": 48,
   "metadata": {},
   "outputs": [
    {
     "name": "stdout",
     "output_type": "stream",
     "text": [
      "p = x**3 - 5.4142135623730950488016887242096980785696718753769*x**2 + 8.6568542494923801952067548968387923142786875015078*x - 4.2426406871192851464050661726290942357090156261308\n",
      "bisection: starting\n",
      "bisection: finishing after 97 iterations\n",
      "1.4142135623730950488016887242105194110828816440373 2.0000000000000000000000000000023230791587984681689\n"
     ]
    }
   ],
   "source": [
    "# Testing bisection\n",
    "global verbose_bracketing\n",
    "verbose_bracketing = True\n",
    "mp.dps = 50\n",
    "\n",
    "p = ((x-1)*(x-mpmath.sqrt(2))*(x-3)).expand()\n",
    "print(f'p = {p}')\n",
    "pdiff = p.diff()\n",
    "\n",
    "p_as_function = lambdify(x, p, 'mpmath')\n",
    "func_pdiff = lambdify(x, pdiff, 'mpmath')\n",
    "r = bisection(mpf(1.1), mpf(2.0), mpf('1.0e-30'), p_as_function, func_pdiff)\n",
    "print(r, r*r)"
   ]
  },
  {
   "cell_type": "code",
   "execution_count": 49,
   "metadata": {},
   "outputs": [],
   "source": [
    "def mpmath_bracketing ( a, b, tol, f, func_pdiff):\n",
    "    global verbose_bracketing\n",
    "    if verbose_bracketing:\n",
    "        print(f'mpmath_bracketing: calling mpmath.findroot')\n",
    "    return findroot(f, (a + b)/mpf(2), bracketing='anewton', tol = tol, maxsteps = 10000)"
   ]
  },
  {
   "cell_type": "code",
   "execution_count": 50,
   "metadata": {},
   "outputs": [],
   "source": [
    "def hibrid( a, b, tolerance, f, fdiff):\n",
    "    \"\"\"\n",
    "    bracketing that mixes Newton-Raphson and Bisection methods.\n",
    "    Adapted from https://doi.org/10.12988/ams.2017.710302   \n",
    "    \"\"\"\n",
    "    \n",
    "    global verbose_bracketing\n",
    "    if verbose_bracketing:\n",
    "        print('hibrid: starting')\n",
    "        \n",
    "    iter = 0\n",
    "    f_a = f(a)\n",
    "    f_b = f(b)\n",
    "    if f_a * f_b > 0:\n",
    "        raise ValueError(f'f(a) and f(b) must have opposite signs')\n",
    "    n_bisec = 0\n",
    "    n_newton = 0\n",
    "    m = (a + b)/2\n",
    "    f_m = f(m)\n",
    "    \n",
    "    while abs(f_m) > tolerance:\n",
    "        old_a, old_b = a, b\n",
    "        # print(f'a = {a}\\nb = {b}\\nm={m}')\n",
    "        iter += 1\n",
    "        f_m = f(m)\n",
    "        fdiff_m = fdiff(m)\n",
    "        next_x_newton = m - f_m / fdiff_m\n",
    "        \n",
    "        if (a < next_x_newton < b): # and (iter % 10 != 0):\n",
    "            # Take newton guess\n",
    "            m = next_x_newton\n",
    "            n_newton += 1\n",
    "        else:\n",
    "            # Take bisection guess\n",
    "            m = (a + b)/2\n",
    "            n_bisec += 1           \n",
    "        f_m = f(m)\n",
    "        if f_a * f_m <= 0:\n",
    "            b = m\n",
    "            f_b = f_m\n",
    "        if f_b * f_m <= 0:\n",
    "            a = m\n",
    "            f_a = f_m\n",
    "        if a == old_a and b == old_b:\n",
    "            raise ValueError(f'hibrid: no progress after {iter} iterations, '\n",
    "                             f'with \\na = {a}\\nb = {b}\\nm={m} \\nb - a = {b - a}'\n",
    "                             f'\\nold_a = {old_a}\\nold_b = {old_b}')\n",
    "            break\n",
    "    if verbose_bracketing:\n",
    "        print(f'hibrid: finishing after {iter} iterations,'\n",
    "              f' n_newton = {n_newton}, n_bisec = {n_bisec}')\n",
    "        print(f'root found: {m}')\n",
    "        print(f'abs(f_m) = {abs(f_m)}')\n",
    "    return m\n",
    "        \n",
    "    "
   ]
  },
  {
   "cell_type": "code",
   "execution_count": 51,
   "metadata": {},
   "outputs": [
    {
     "name": "stdout",
     "output_type": "stream",
     "text": [
      "hibrid: starting\n",
      "hibrid: finishing after 754 iterations, n_newton = 754, n_bisec = 0\n",
      "root found: 1.9999999999999999999999999999999999999999999999999999999999999999999999999999999999999999999999999999999999999999999999999999999999999670846202267260327688953076598305821051946334314907387112831806606846709292209445683779038220939872779048522608194639990470129216316055014958996759133774986055555109050150975758956979711853546257918946317720004739693256076676179858297713253555535711937811650228859289403387241692575302855561777746546510799775608283177814496999903122548595380218728641219330661638082169727932310663536450808421716762866895938262561102136493911354048721255072149213831913788466424450348699231651378265413411452484337770065610844066576176191482748192424677193358720318595073509150897618460160115293561508584313711459921568777660872974119649769214509772821403901432805416826517401802317\n",
      "abs(f_m) = 3.5661254011050258711356265950876017301403502004908494153696553090359320359527643419966187523498064300744585331199103854718033870258154645564705054241700967343200766549825230945949270658932435451880425066620769099392795630088303462016700071485185423972241818298135908916520102322912493897967619416227951756843316586914546578506096154080021339755278303274528401903414117128165817069423172025954407436596525184681386123770133449269756538973527510138182878480570230487485401331821383757444072225237917486237626583034028486411448314300337540892518334868748659840981953994669045945636776917949665674330273451021962139790541907529413372906036207152195515215392981662374738747048288763410255671071439286266374906790594122733624945515268249175578723403462280437084256367538179031698391328344018408388264571482e-401\n"
     ]
    },
    {
     "data": {
      "text/plain": [
       "mpf('1.9999999999999999999999999999999999999999999999999999999999999999999999999999999999999999999999999999999999999999999999999999999999999670846202267260327688953076598305821051946334314907387112831806606846709292209445683779038220939872779048522608194639990470129216316055014958996759133774986055555109050150975758956979711853546257918946317720004739693256076676179858297713253555535711937811650228859289403387241692575302855561777746546510799775608283177814496999903122548595380218728641219330661638082169727932310663536450808421716762866895938262561102136493911354048721255072149213831913788466424450348699231651378265413411452484337770065610844066576176191482748192424677193358720318595073509150897618460160115293561508584313711459921568777660872974119649769214509772821403901432805416826517401802316524')"
      ]
     },
     "execution_count": 51,
     "metadata": {},
     "output_type": "execute_result"
    }
   ],
   "source": [
    "# Testing hibrid\n",
    "global verbose_bracketing\n",
    "verbose_bracketing = True\n",
    "mp.dps = 800\n",
    "p = ((x-1) * (x-2)**3 * (x-3)).expand()\n",
    "func_p = lambdify(x, p, 'mpmath')\n",
    "pdiff = p.diff()\n",
    "func_pdiff = lambdify(x, pdiff, 'mpmath')\n",
    "\n",
    "hibrid(mpf(1.1), mpf(2.5), mpf('1.0e-400'), func_p, func_pdiff)"
   ]
  },
  {
   "cell_type": "code",
   "execution_count": 52,
   "metadata": {},
   "outputs": [],
   "source": [
    "def newton(a, b, tolerance, f, fdiff, maxiter=2000):\n",
    "    #convergence not guaranteed\n",
    "    global verbose_bracketing\n",
    "    if verbose_bracketing:\n",
    "        print('newton: starting...')\n",
    "    iter = 0\n",
    "    x_newton = (a + b)/2\n",
    "    while abs(f(x_newton)) > tolerance:\n",
    "        iter += 1\n",
    "        if iter >= maxiter:\n",
    "            raise ValueError(f'newton: no convergence after {iter} iterations')\n",
    "            break\n",
    "        x_newton = x_newton - f(x_newton)/fdiff(x_newton)\n",
    "    if verbose_bracketing:\n",
    "        print(f'newton: ending after {iter} iterations')\n",
    "    return x_newton"
   ]
  },
  {
   "cell_type": "code",
   "execution_count": 53,
   "metadata": {},
   "outputs": [
    {
     "name": "stdout",
     "output_type": "stream",
     "text": [
      "newton: starting...\n",
      "newton: ending after 641 iterations\n"
     ]
    },
    {
     "data": {
      "text/plain": [
       "mpf('1.999999999999999999999999999999070178837574413081405488838695075936682761847908997431829948302292545630439443648508400074310605348403823460870628612376570645520764285846367419122821432737759539914682231871420409786025237040626176847714168548309674189741702200054805557388104477194061875392956617865055185104410403356379906823698950307142042509546778330287406081000433097313091590453620171433018616108354')"
      ]
     },
     "execution_count": 53,
     "metadata": {},
     "output_type": "execute_result"
    }
   ],
   "source": [
    "# Testing newton\n",
    "global verbose_bracketing\n",
    "mp.dps = 400\n",
    "p = ((x-1) * (x-2)**10 * (x-3)).expand()\n",
    "func_p = lambdify(x, p, 'mpmath')\n",
    "pdiff = p.diff()\n",
    "func_pdiff = lambdify(x, pdiff, 'mpmath')\n",
    "verbose_bracketing = True\n",
    "newton(mpf(1.1), mpf(2.5), mpf(1.0e-300), func_p, func_pdiff)"
   ]
  },
  {
   "cell_type": "markdown",
   "metadata": {},
   "source": [
    "## Checking roots"
   ]
  },
  {
   "cell_type": "code",
   "execution_count": 54,
   "metadata": {},
   "outputs": [],
   "source": [
    "def sign_at_minus_inf(p):\n",
    "    #print(f'sign_at_minus_inf: p = {p}')\n",
    "    if degree(p) % 2 == 0:\n",
    "        s = sign(LC(p, x))\n",
    "    else:\n",
    "        s = sign(-LC(p, x))\n",
    "    #print(f's = {s}')\n",
    "    return s\n",
    "    \n",
    "def sign_at_plus_inf(p):\n",
    "    #print(f'sign_at_plus_inf: p = {p}')\n",
    "    s = sign(LC(p, x))\n",
    "    #print(f's = {s}')\n",
    "    return s"
   ]
  },
  {
   "cell_type": "code",
   "execution_count": 55,
   "metadata": {},
   "outputs": [],
   "source": [
    "def Sturm(p):\n",
    "    \"\"\"\n",
    "    Returns total number of distinct real roots of p, based on Sturm's theorem\n",
    "    https://en.wikipedia.org/wiki/Sturm%27s_theorem\n",
    "    \"\"\"\n",
    "    minus_inf_sign_inversions = 0\n",
    "    plus_inf_sign_inversions = 0\n",
    "    \n",
    "    last_p = p.diff()\n",
    "\n",
    "    if sign_at_minus_inf(p) != sign_at_minus_inf(last_p):\n",
    "        minus_inf_sign_inversions += 1\n",
    "    if sign_at_plus_inf(p) != sign_at_plus_inf(last_p):\n",
    "        plus_inf_sign_inversions += 1\n",
    "        \n",
    "    last_sign_at_minus_inf = sign_at_minus_inf(last_p)\n",
    "    last_sign_at_plus_inf = sign_at_plus_inf(last_p)\n",
    "\n",
    "    while degree(last_p) > 0:\n",
    "        next_p = -rem(p, last_p)\n",
    "        #print(f'p = {p}, last_p = {last_p}, next_p = {next_p}')\n",
    "        if sign_at_minus_inf(next_p) != last_sign_at_minus_inf:\n",
    "            minus_inf_sign_inversions += 1\n",
    "        if sign_at_plus_inf(next_p) != last_sign_at_plus_inf:\n",
    "            plus_inf_sign_inversions += 1\n",
    "        p = last_p\n",
    "        last_p = next_p\n",
    "        last_sign_at_minus_inf = sign_at_minus_inf(last_p)\n",
    "        last_sign_at_plus_inf = sign_at_plus_inf(last_p)        \n",
    "        \n",
    "    return minus_inf_sign_inversions - plus_inf_sign_inversions"
   ]
  },
  {
   "cell_type": "code",
   "execution_count": 56,
   "metadata": {},
   "outputs": [],
   "source": [
    "def check_roots(p, roots, tolerance):\n",
    "    \n",
    "    # Are all elements of roots distinct and in ascending order?\n",
    "    for i in range(len(roots) - 1):\n",
    "        if roots[i] >= roots[i + 1]:\n",
    "            raise ValueError(f'roots[{i}] is >= roots[{i + 1}]')\n",
    "    print(f'\\ncheck_roots: all roots are distinct and in order')\n",
    "    # For all r in roots, abs(p(r)) <= tolerance?\n",
    "    p_as_function = lambdify(x, p, 'mpmath')\n",
    "    for r in roots:\n",
    "        abs_p_r = abs(p_as_function(r))\n",
    "        if abs_p_r > tolerance:\n",
    "            raise ValueError(f'abs(p({r})) = {abs_p_r} > {tolerance}')\n",
    "    print(f'check_roots: all roots are roots within tolerance')\n",
    "    # Number of elements of roots equals Sturm(p)?\n",
    "    n_roots_Sturm = Sturm(p)\n",
    "    if len(roots) != n_roots_Sturm:\n",
    "        raise ValueError(f\"We have {len(roots)} real roots; \"\n",
    "                         f\"{n_roots_Sturm} real roots were expected by Sturm's theorem.\")\n",
    "    print(f\"check_roots: number of real roots, {n_roots_Sturm},\"\n",
    "          \" as expected by Sturm's theorem\")"
   ]
  },
  {
   "cell_type": "markdown",
   "metadata": {},
   "source": [
    "## Plotting polynomials and printing roots"
   ]
  },
  {
   "cell_type": "code",
   "execution_count": 62,
   "metadata": {},
   "outputs": [],
   "source": [
    "%matplotlib inline\n",
    "\n",
    "def plot_p(p, xlim):\n",
    "    \"\"\"\n",
    "    Plots a polynomial\n",
    "    \"\"\"\n",
    "    v = np.linspace(xlim[0], xlim[1], 200)\n",
    "    #print(f'v = {v}')\n",
    "    func_p = lambdify(x, p, 'numpy')\n",
    "    \n",
    "    ax = plt.gca()\n",
    "    y_p = func_p(v)\n",
    "    plt.gcf().text(0.02, -0.1, '$' + latex(p) + '$', fontsize=11)\n",
    "    \n",
    "\n",
    "    ax.plot(v, y_p, 'b')\n",
    "\n",
    "    ax.spines['left'].set_position('zero')\n",
    "    ax.spines['right'].set_color('none')\n",
    "    ax.spines['bottom'].set_position('zero')\n",
    "    ax.spines['top'].set_color('none')\n",
    "    \n",
    "    plt.show()"
   ]
  },
  {
   "cell_type": "code",
   "execution_count": 59,
   "metadata": {},
   "outputs": [],
   "source": [
    "def print_roots(p, roots):\n",
    "    print(f'\\nReal roots of p(x) =\\n{p}')\n",
    "    for i, r in enumerate(roots):\n",
    "        print(f'Root[{i}] = \\n{r}')"
   ]
  },
  {
   "cell_type": "markdown",
   "metadata": {},
   "source": [
    "# Tests\n",
    "For the construction of tests, sympy is a fundamental tool."
   ]
  },
  {
   "cell_type": "markdown",
   "metadata": {},
   "source": [
    "## Polynomials with known roots"
   ]
  },
  {
   "cell_type": "code",
   "execution_count": 60,
   "metadata": {},
   "outputs": [],
   "source": [
    "def poly_from_roots(poly_roots, constant=Rational(1)):\n",
    "    \"\"\"\n",
    "    Constructs a polynomial from a list of is roots. \n",
    "    If a complex number is included in list, its conjugate will be included too.\n",
    "    \"\"\"\n",
    "    x = Symbol('x')\n",
    "    W = constant\n",
    "    for r in poly_roots:\n",
    "        if isinstance(r, complex):\n",
    "            a = Rational(r.real)\n",
    "            b = Rational(r.imag)\n",
    "            W = W * (a**2 - 2*a*x + b**2 + x**2)\n",
    "        else:\n",
    "            W = W * (x - Rational(r))\n",
    "    return W.expand()"
   ]
  },
  {
   "cell_type": "markdown",
   "metadata": {},
   "source": [
    "### Polynomial with real and complex roots"
   ]
  },
  {
   "cell_type": "code",
   "execution_count": 63,
   "metadata": {},
   "outputs": [
    {
     "data": {
      "image/png": "[encoded data removed]",
      "text/plain": [
       "<Figure size 432x288 with 1 Axes>"
      ]
     },
     "metadata": {
      "needs_background": "light"
     },
     "output_type": "display_data"
    }
   ],
   "source": [
    "p = poly_from_roots([3, 2, -5, 4 + 2j, 15])\n",
    "plot_p(p, [-5.1, 15.1])"
   ]
  },
  {
   "cell_type": "code",
   "execution_count": 64,
   "metadata": {},
   "outputs": [
    {
     "name": "stdout",
     "output_type": "stream",
     "text": [
      "\n",
      "Real roots of p(x) =\n",
      "x**6 - 23*x**5 + 121*x**4 + 167*x**3 - 3350*x**2 + 9900*x - 9000\n",
      "Root[0] = \n",
      "-5.000000000000000000000000501595455822748\n",
      "Root[1] = \n",
      "1.999999999999999999999999999999995688763\n",
      "Root[2] = \n",
      "3.000000000000000000000000000000023369982\n",
      "Root[3] = \n",
      "15.00000000000000000000000000000000021189\n"
     ]
    }
   ],
   "source": [
    "global verbose_bracketing, verbose_main_loop\n",
    "mp.dps = 40 # number of digits\n",
    "tolerance = mp.mpf('1.0e-15')\n",
    "bracketing = hibrid\n",
    "verbose_bracketing = False\n",
    "verbose_main_loop = False\n",
    "roots = mp_roots(p, tolerance, bracketing)\n",
    "\n",
    "# try to uncomment one or more of these lines\n",
    "# roots[2] = roots[0]\n",
    "# roots[2] = 2.4\n",
    "# roots = roots[:-1]\n",
    "\n",
    "print_roots(p, roots)"
   ]
  },
  {
   "cell_type": "code",
   "execution_count": 65,
   "metadata": {},
   "outputs": [
    {
     "name": "stdout",
     "output_type": "stream",
     "text": [
      "\n",
      "check_roots: all roots are distinct and in order\n",
      "check_roots: all roots are roots within tolerance\n",
      "check_roots: number of real roots, 4, as expected by Sturm's theorem\n"
     ]
    }
   ],
   "source": [
    "check_roots(p, roots, tolerance)"
   ]
  },
  {
   "cell_type": "markdown",
   "metadata": {},
   "source": [
    "### A polynomial with roots with multiplicity"
   ]
  },
  {
   "cell_type": "code",
   "execution_count": 69,
   "metadata": {},
   "outputs": [
    {
     "data": {
      "image/png": "[encoded data removed]",
      "text/plain": [
       "<Figure size 432x288 with 1 Axes>"
      ]
     },
     "metadata": {
      "needs_background": "light"
     },
     "output_type": "display_data"
    }
   ],
   "source": [
    "p = poly_from_roots([1] + [2]*3 + [4, 5]*5 + [6]*2 + [7, 8])\n",
    "plot_p(p, [0.9, 8.1])"
   ]
  },
  {
   "cell_type": "code",
   "execution_count": 66,
   "metadata": {},
   "outputs": [
    {
     "name": "stdout",
     "output_type": "stream",
     "text": [
      "\n",
      "Real roots of p(x) =\n",
      "x**18 - 79*x**17 + 2919*x**16 - 67007*x**15 + 1070489*x**14 - 12633813*x**13 + 114097765*x**12 - 805804477*x**11 + 4508665146*x**10 - 20121250256*x**9 + 71733544256*x**8 - 203613831696*x**7 + 456245326624*x**6 - 795086764672*x**5 + 1052328652800*x**4 - 1018907648000*x**3 + 678179840000*x**2 - 276172800000*x + 51609600000\n",
      "Root[0] = \n",
      "0.9999999999999999999999999999996766890358\n",
      "Root[1] = \n",
      "1.999999999999999999999999999998512898563\n",
      "Root[2] = \n",
      "4.000000000000000000000000000001539657522\n",
      "Root[3] = \n",
      "5.000000000000000000000000000069256759081\n",
      "Root[4] = \n",
      "6.000000000000000000000000056398167613971\n",
      "Root[5] = \n",
      "7.000000000000000000000002749774652321272\n",
      "Root[6] = \n",
      "8.000000000000000000000000000000000878629\n",
      "\n",
      "check_roots: all roots are distinct and in order\n",
      "check_roots: all roots are roots within tolerance\n",
      "check_roots: number of real roots, 7, as expected by Sturm's theorem\n"
     ]
    }
   ],
   "source": [
    "N_DIGITS = 40\n",
    "mp.dps = N_DIGITS\n",
    "tolerance = mp.mpf('1.0e-15')\n",
    "bracketing = newton\n",
    "global verbose_bracketing, verbose_main_loop\n",
    "verbose_bracketing = False\n",
    "verbose_main_loop = False\n",
    "roots = mp_roots(p, tolerance, bracketing)\n",
    "print_roots(p, roots)\n",
    "check_roots(p, roots, tolerance)"
   ]
  },
  {
   "cell_type": "code",
   "execution_count": 33,
   "metadata": {},
   "outputs": [
    {
     "name": "stdout",
     "output_type": "stream",
     "text": [
      "\n",
      "numpy version: 1.21.2\n",
      "[8.00000235+0.j         6.99994307+0.j         6.00781171+0.04459148j\n",
      " 6.00781171-0.04459148j 5.37230549+0.27596291j 5.37230549-0.27596291j\n",
      " 4.95068068+0.46307242j 4.95068068-0.46307242j 4.41988124+0.37777607j\n",
      " 4.41988124-0.37777607j 3.97434411+0.3095069j  3.97434411-0.3095069j\n",
      " 3.77500415+0.12105877j 3.77500415-0.12105877j 2.00083618+0.00146186j\n",
      " 2.00083618-0.00146186j 1.99832748+0.j         1.        +0.j        ]\n",
      "\n",
      "mpmath version: 1.2.1\n"
     ]
    },
    {
     "ename": "NoConvergence",
     "evalue": "Didn't converge in maxsteps=5000 steps.",
     "output_type": "error",
     "traceback": [
      "\u001b[1;31m---------------------------------------------------------------------------\u001b[0m",
      "\u001b[1;31mNoConvergence\u001b[0m                             Traceback (most recent call last)",
      "\u001b[1;32mC:\\conda_tmp/ipykernel_3268/655925963.py\u001b[0m in \u001b[0;36m<module>\u001b[1;34m\u001b[0m\n\u001b[0;32m      9\u001b[0m \u001b[0mprint\u001b[0m\u001b[1;33m(\u001b[0m\u001b[1;34mf'\\nmpmath version: {mpmath.__version__}'\u001b[0m\u001b[1;33m)\u001b[0m\u001b[1;33m\u001b[0m\u001b[1;33m\u001b[0m\u001b[0m\n\u001b[0;32m     10\u001b[0m \u001b[1;31m# mpmath(version: 1.2.1).polyroots does not converge\u001b[0m\u001b[1;33m\u001b[0m\u001b[1;33m\u001b[0m\u001b[1;33m\u001b[0m\u001b[0m\n\u001b[1;32m---> 11\u001b[1;33m \u001b[0mprint\u001b[0m\u001b[1;33m(\u001b[0m\u001b[0mmpmath\u001b[0m\u001b[1;33m.\u001b[0m\u001b[0mpolyroots\u001b[0m\u001b[1;33m(\u001b[0m\u001b[0mcoefs\u001b[0m\u001b[1;33m,\u001b[0m \u001b[0mmaxsteps\u001b[0m\u001b[1;33m=\u001b[0m\u001b[1;36m5000\u001b[0m\u001b[1;33m)\u001b[0m\u001b[1;33m)\u001b[0m\u001b[1;33m\u001b[0m\u001b[1;33m\u001b[0m\u001b[0m\n\u001b[0m",
      "\u001b[1;32mC:\\AnacondaInstall\\lib\\site-packages\\mpmath\\calculus\\polynomials.py\u001b[0m in \u001b[0;36mpolyroots\u001b[1;34m(ctx, coeffs, maxsteps, cleanup, extraprec, error, roots_init)\u001b[0m\n\u001b[0;32m    194\u001b[0m                 \u001b[0merr\u001b[0m\u001b[1;33m[\u001b[0m\u001b[0mi\u001b[0m\u001b[1;33m]\u001b[0m \u001b[1;33m=\u001b[0m \u001b[0mabs\u001b[0m\u001b[1;33m(\u001b[0m\u001b[0mx\u001b[0m\u001b[1;33m)\u001b[0m\u001b[1;33m\u001b[0m\u001b[1;33m\u001b[0m\u001b[0m\n\u001b[0;32m    195\u001b[0m         \u001b[1;32mif\u001b[0m \u001b[0mabs\u001b[0m\u001b[1;33m(\u001b[0m\u001b[0mmax\u001b[0m\u001b[1;33m(\u001b[0m\u001b[0merr\u001b[0m\u001b[1;33m)\u001b[0m\u001b[1;33m)\u001b[0m \u001b[1;33m>=\u001b[0m \u001b[0mtol\u001b[0m\u001b[1;33m:\u001b[0m\u001b[1;33m\u001b[0m\u001b[1;33m\u001b[0m\u001b[0m\n\u001b[1;32m--> 196\u001b[1;33m             raise ctx.NoConvergence(\"Didn't converge in maxsteps=%d steps.\" \\\n\u001b[0m\u001b[0;32m    197\u001b[0m                     % maxsteps)\n\u001b[0;32m    198\u001b[0m         \u001b[1;31m# Remove small real or imaginary parts\u001b[0m\u001b[1;33m\u001b[0m\u001b[1;33m\u001b[0m\u001b[1;33m\u001b[0m\u001b[0m\n",
      "\u001b[1;31mNoConvergence\u001b[0m: Didn't converge in maxsteps=5000 steps."
     ]
    }
   ],
   "source": [
    "# Just to show how numpy.roots and mpmath.polyroots both fail in this case. \n",
    "\n",
    "coefs = Poly(p).all_coeffs()\n",
    "\n",
    "print(f'\\nnumpy version: {np.version.version}')\n",
    "# numpy(version: 1.21.2).roots find spurious imaginary parts\n",
    "print(np.roots(coefs))\n",
    "\n",
    "print(f'\\nmpmath version: {mpmath.__version__}')\n",
    "# mpmath(version: 1.2.1).polyroots does not converge\n",
    "print(mpmath.polyroots(coefs, maxsteps=5000))"
   ]
  },
  {
   "cell_type": "markdown",
   "metadata": {},
   "source": [
    "### Wilkinson polynomials"
   ]
  },
  {
   "cell_type": "code",
   "execution_count": 34,
   "metadata": {},
   "outputs": [],
   "source": [
    "def Wilkinson(n):\n",
    "    return poly_from_roots(list(range(1,n+1)))"
   ]
  },
  {
   "cell_type": "code",
   "execution_count": 35,
   "metadata": {},
   "outputs": [
    {
     "data": {
      "image/png": "[encoded data removed]",
      "text/plain": [
       "<Figure size 432x288 with 1 Axes>"
      ]
     },
     "metadata": {
      "needs_background": "light"
     },
     "output_type": "display_data"
    }
   ],
   "source": [
    "# Check Wilkinson constructor\n",
    "p = Wilkinson(7)\n",
    "%matplotlib inline\n",
    "plot_p(p, (0.90, 7.10))"
   ]
  },
  {
   "cell_type": "code",
   "execution_count": 39,
   "metadata": {},
   "outputs": [
    {
     "name": "stdout",
     "output_type": "stream",
     "text": [
      "\n",
      "Real roots of p(x) =\n",
      "x**50 - 1275*x**49 + 791350*x**48 - 318622500*x**47 + 93570498490*x**46 - 21366198225750*x**45 + 3949131291964600*x**44 - 607317906105487500*x**43 + 79274383168492884295*x**42 - 8916311500907225617125*x**41 + 874274440470458637491350*x**40 - 75430949131153796097540000*x**39 + 5769557497517595816762422380*x**38 - 393625378247020213038955570500*x**37 + 24074634262098477202456261501600*x**36 - 1325513314288519699308436238355000*x**35 + 65926306456751344865378122278650335*x**34 - 2970483623265905855449410614694043125*x**33 + 121537997067927371629961551678685914850*x**32 - 4524229387507572623070958774667674282500*x**31 + 153457012425237702675940309806097247177498*x**30 - 4748411888781425210165280179331840887560950*x**29 + 134153032410638239369309397211318138160939400*x**28 - 3462458978207366446890224680162408296258877500*x**27 + 81661954970720573655661780303655361431161958585*x**26 - 1759975170237895559117007667844300114185022044875*x**25 + 34652078765044198452095090589463630638929867781650*x**24 - 622954025102273770045632622121644740051085765875000*x**23 + 10217297271367563021376459886512004721472442416486880*x**22 - 152719956592931681273776991727487749957964934948706000*x**21 + 2077456572999271411780195287601622801504954917649122400*x**20 - 25674503027583263140245049650089911892130421780961760000*x**19 + 287681510456288967305472324934106343384946693054660401920*x**18 - 2915410238088374287308480243262839885616373612457690912000*x**17 + 26644926572075096083148238618984385847884240529010940198400*x**16 - 218872142848277667164714027535286926039317470428353944320000*x**15 + 1609578146670076404332423437897298592489203458499059076874240*x**14 - 10548002159482240692664043366538929906734975613031337827840000*x**13 + 61263921790865468343839418571823409266633338824655665334886400*x**12 - 313349124628526821497617106938217759752262787021919928238080000*x**11 + 1400632296755724718076996853034613831665891143377334756315365376*x**10 - 5421299830686960097788787120721257875468259479300212239525478400*x**9 + 17968291458361430782020246122299560311802074147902210076049408000*x**8 - 50293361153311185534392570196926631029364162024577328008396800000*x**7 + 116810370081193509813324333425667493275348323581096549448417280000*x**6 - 220018442610520054866603342183765018372267333550041961857024000000*x**5 + 325782615226898331344792689581720011457017982075779804037120000000*x**4 - 362662903615406490840003569437241864800516157064075018240000000000*x**3 + 283120473944135438730015746189396884754965326844332186009600000000*x**2 - 136839250493597505643457826872702521913187810543371550720000000000*x + 30414093201713378043612608166064768844377641568960512000000000000\n",
      "Root[0] = \n",
      "0.999999999999999999999999999999999999999999999999999999999999999999999999999999999999999999999999999999999999999999999999999999999999999999999999999999999957158406157417864433997761476813724353807652363477090594394415736838304511978156196867893670411937077167370510712618714878577037210412774450364315\n",
      "Root[1] = \n",
      "1.99999999999999999999999999999999999999999999999999999999999999999999999999999999999999999999999999999999999999999999999999999967540833340416475288137909382180017430932831974533281185829949512902243123180177321096821024701202878736177669216055833875896941822540304226929035505517425638541274082059855\n",
      "Root[2] = \n",
      "2.99999999999999999999999999999999999999999999999999999999999999999999999999999999999998589352892589003896335067063893115033614813751307409114106209646194587480614231890808923597721771855005522404578365999672848337134606886509422413296311825046953294016503864440387990052629493154845317201322794093767\n",
      "Root[3] = \n",
      "3.99999999999999999999999999999999999999999999999999999999999999999999999999999999999999999999999999999999919316264699394194534201235557382182041784032557865843235824939743557951087171816096937134414121834525405130682054060784285030103301083647236624700542932175189317211259206429729041988065558237935\n",
      "Root[4] = \n",
      "4.99999999999999999999999999999999999999999999999999999999999999999999999999999999999999999999999999999999999999999999999999871572530352491436842403463582473026671830004404211448912907184955787185578525586185412628847318617357680855259372884952842384985910627685454181056374875104075958674682625022305\n",
      "Root[5] = \n",
      "5.99999999999999999999999999999999999999999999999999999999999999999999999999999999999999999999999999999999999999999999999999999999999999999998906034455647610129746021591619435296795017796239384337653149609041852592930913293784183069890440872312701862847620434532785586663516040995717512982788156614373\n",
      "Root[6] = \n",
      "6.99999999999999999999999999999999999999999999999999999999999999999999999999999967996098866926545593504574433618742300146421427610906977917356812637763899923337346714813902256962351887993895345173509789478219278909550394750282591486748512724727884034564404842319965750453082168869776165473537603330718\n",
      "Root[7] = \n",
      "7.99999999999999999999999999999999999999999999999999999999999999999999999999999999999999851646939060709171047933441696040342077445367549094773042509535445210229859859709855089797966429615954025218066014101799742932366322695196162958074653782094571850721850990282305811675418997046993115428692269362119\n",
      "Root[8] = \n",
      "8.99999999999999999999999999999999999999999999999999999999999999999999999999999999999999999999999437189212594351504770134884690220751876883766106798880364069601275957972875858832956327137384499869977412557378760567260737009631357619166464792478166051804020697738650719910378748758890969415673729571851\n",
      "Root[9] = \n",
      "9.99999999999999999999999999999999999999999999999999999999999999999999999999999999999999999999999999999998590658778247040442345534548987099865106833360172736398166239715828632418685738535275781441621185758484744479416822643195989551528269366624345735942988688775021739090917678731873169334253532963766\n",
      "Root[10] = \n",
      "10.9999999999999999999999999999999999999999999999999999999999999999999999999999999999999999999999999999999999999999810311508814589441492605525719842337586996469947847794495950631147198145313359882012056587139157755371946960582397670277812859996869748780021959297911932409609835674943571207277018817679\n",
      "Root[11] = \n",
      "11.9999999999999999999999999999999999999999999999999999999999999999999999999999999999999999999999999999999999999999999999999889004494191164086518708029680285701162435722057836787703918520870129939790156262311602072690835972293746592606241152810612032752266854235096586575079408536951831015534771913115\n",
      "Root[12] = \n",
      "12.999999999999999999999999999999999999999999999999999999999999999999999999999999999999999999999999999999999999999999999999999999999997764051749455458192991053022081159102551893771437906448494528673765030102993057213630398484514439740815004088312588925095318476217117611218059367497533921599788118844\n",
      "Root[13] = \n",
      "13.9999999999999999999999999999999999999999999999999999999999999999999999890911608202224612990508873323065060394614128475198025910946717167791983910564492123839676266157617656960385018664884827744221927804486228004059173345793289550866152944309273125826273336181600786570161069483673573640700857012619\n",
      "Root[14] = \n",
      "14.9999999999999999999999999999999999999999999999999999999999999999999999999999635916748247990152418971234601589806320171901214894354603737820546105036018407826694313207496488479836734813563229905016102342253923931338442116570692407091136935479042506821782990550201308746207609288510333066939482251356\n",
      "Root[15] = \n",
      "15.9999999999999999999999999999999999999999999999999999999999999999999999999999999999567746781821935960933606046370665050246960456315604206425593240481835522332815907487665511367441890675817919728079982707649507427861419296786232417575673804102871383222442192711265260810544313266647534096395218421333\n",
      "Root[16] = \n",
      "16.9999999999999999999999999999999999999999999999999999999999999999999999999999999999999999860242660801872257038723173968430509634848904543174254387217447266514393057412824561849694564283225865142637549669358097266113353797713783828045208853321042164318647919402648674033249561822272179972737595622617\n",
      "Root[17] = \n",
      "17.9999999999999999999999999999999999999999999999999999999999999999999999999999999999999999999999991436409029201103221237549175209213160311067310949983912172038532808148628591570772719719963483304567549424814743412014804546390751645549529054779498612985589466679206508009455707890177260761099726584874\n",
      "Root[18] = \n",
      "18.9999999999999999999999999999999999999999999999999999999999999999999999999999999999999999999999999999999940532491037793094932305817441416863974935742892725328861960346572429856210118890519211034528562237535962378107503229282295755375137174629589501486533898274480543129770003933872330511417580637255\n",
      "Root[19] = \n",
      "19.9999999999999999999999999999999999999999999999999999999999999999999999999999999999999999999999999999999999999999978308573369192751743152054176338224913272593340655168548339119710664113613191082155788075251691019953141800266458197357012222335632301026391719426844961299447515308450352359092075076779\n",
      "Root[20] = \n",
      "20.999999999999999999999999999999999999999999999999999999999999999999999999999999999999999999999999999999999999999999999999999987867533350182776304438188322195357822667893672101702860410417526071834162661769613126942852197659892861874541908907404162826912648957647438937802497000375438275479549588346\n",
      "Root[21] = \n",
      "21.9999999999999999999999999999999999999999999999999999999999999999999993492823136916877168531658984502809416973290465611736861862075152085799715597746388144676195630556343240441208391421775323065827008174763903023005731635475944245850878013818300118043026961297450545557215530745803110303389272055339\n",
      "Root[22] = \n",
      "22.9999999999999999999999999999999999999999999999999999999999999999999999999999996420867399013968951664205498422405890734277750075008023541617364662357339265745339286557330268794887642055837329590306679631324416529087905282206946249940314319755796044429475351320508400796944709207329800717257375222535\n",
      "Root[23] = \n",
      "23.9999999999999999999999999999999999999999999999999999999999999999999999999999999999999999999965181325451598930293225143529648296501035218633448528956465094240901508054811414450631625832453764231074346172202309671569511188293773813262310840348289002994002933010427516056494167672873557725472842369088\n",
      "Root[24] = \n",
      "24.9999999999999999999999999999999999999999999999999999999999999999999999999999999999999999999999999999999999999999999999999970793012146719245457878712997124157247956314750169544783161451550144548044892235659088016918178376369232889324664088632705859633875385335693186189823297133069909252568168201829\n",
      "Root[25] = \n",
      "26.0000000000000000000000000000000000000000000000000000000000000000000000000000000000000000000000000000000000000000000000000029206987853280754542121287002875842752043685249830455216838548449855451955107764340911983081821623630767110675335911367294140366124614664306813694587029720614580712137033185104\n",
      "Root[26] = \n",
      "27.0000000000000000000000000000000000000000000000000000000000000000000000000000000000000000000034818674548401069706774856470351703498964781366551471043534905759098491945188585549368374167546235768925653827797690328430488811706226186737689159651710997005997066989572483785467809755598727269620494122185\n",
      "Root[27] = \n",
      "28.0000000000000000000000000000000000000000000000000000000000000000000000000000003579132600986031048335794501577594109265722249924991976458382635337642660734254660713442669731205112357944162670409693320368675583470912094717793053750059685680244203955570524648679491599833929877141723139133048343509414\n",
      "Root[28] = \n",
      "29.0000000000000000000000000000000000000000000000000000000000000000000006507176863083122831468341015497190583026709534388263138137924847914200284402253611855323804369443656759558791608578224676934172991825236096976994268364524055754149121986181699881956973038702549454310991049156513619561636963948346\n",
      "Root[29] = \n",
      "30.0000000000000000000000000000000000000000000000000000000000000000000000000000000000000000000000000000000000000000000000000000121324666498172236955618116778046421773321063278982971395895824739281658373382303868730571478023401071381254580910925958371730873510423525613545839149796791980492164248871167\n",
      "Root[30] = \n",
      "31.0000000000000000000000000000000000000000000000000000000000000000000000000000000000000000000000000000000000000000021691426630807248256847945823661775086727406659344831451660880289335886386808917844211924748308980046858199733541802642987777664367698973608280573155042480478333578116658402488711505858\n",
      "Root[31] = \n",
      "32.0000000000000000000000000000000000000000000000000000000000000000000000000000000000000000000000000000000059467508962206905067694182558583136025064257107274671138039653427570143789881109480788965471437762464037621892496770717704244624862825370410498513466101725519455266339035265639601889912307109139\n",
      "Root[32] = \n",
      "33.0000000000000000000000000000000000000000000000000000000000000000000000000000000000000000000000008563590970798896778762450824790786839688932689050016087827961467191851371408429227280280036516695432450575185256587985195453609248354450470945220501387014410533320793492991753367640072804907093469342622\n",
      "Root[33] = \n",
      "34.0000000000000000000000000000000000000000000000000000000000000000000000000000000000000000139757339198127742961276826031569490365151095456825745612782552733485606942587175438150305435716774134857362450330641902733886646202286216171954791146678957835681352080597351332492156802562713783154542263558079\n",
      "Root[34] = \n",
      "35.0000000000000000000000000000000000000000000000000000000000000000000000000000000000432253218178064039066393953629334949753039543684395793574406759518164477667184092512334488632558109324182080271920017292350492572138580703213767582424326195897128616777557807288734717074673650022038156781541611413432\n",
      "Root[35] = \n",
      "36.0000000000000000000000000000000000000000000000000000000000000000000000000000364083251752009847581028765398410193679828098785105645396262179453894963981592173305686792503511520163265186436770094983897657746076068661557883429307592908863064520957493178217009449798692473505755973296242251587815233051\n",
      "Root[36] = \n",
      "37.0000000000000000000000000000000000000000000000000000000000000000000000109088391797775387009491126676934939605385871524801974089053282832208016089435507876160323733842382343039614981335115172255778072195513771995940826654206710449133847055690726874173726663818399218044796445251100561286689457429447\n",
      "Root[37] = \n",
      "38.000000000000000000000000000000000000000000000000000000000000000000000000000000000000000000000000000000000000000000000000000000000002235948250544541807008946977918840897448106228562093551505471326234969897006942786369601515485560259184995911687411074904681523782882417241280440956297389598453582852\n",
      "Root[38] = \n",
      "39.0000000000000000000000000000000000000000000000000000000000000000000000000000000000000000000000000000000000000000000000000110995505808835913481291970319714298837564277942163212296081479129870060209843737688397927309164027706253407393758847189387967247733145764903414595169876835189880236436332250848\n",
      "Root[39] = \n",
      "40.0000000000000000000000000000000000000000000000000000000000000000000000000000000000000000000000000000000000000000189688491185410558507394474280157662413003530052152205504049368852801854686640117987943412860842244628053039417602329722187140003130251219978040702088067232847074264192877585688275514936\n",
      "Root[40] = \n",
      "41.0000000000000000000000000000000000000000000000000000000000000000000000000000000000000000000000000000000140934122175295955765446545101290013489316663982726360183376028417136758131426146472421855837881424151525552058317735680401044847173063337565426405701131122497824366212349913250374713787657467357\n",
      "Root[41] = \n",
      "42.0000000000000000000000000000000000000000000000000000000000000000000000000000000000000000000000056281078740564849522986511530977924812311623389320111963593039872404202712414116704367286261550013002258744262123943273926299036864238083353520752183394819597930226134928564716507883266720677689980869645\n",
      "Root[42] = \n",
      "43.0000000000000000000000000000000000000000000000000000000000000000000000000000000000000014835306093929082895206655830395965792255463245090522695749046455478977014014029014491020203357038404597478193398589820025706763367730480383704192534621790542814927814900971769419598926439905246663456085200001471\n",
      "Root[43] = \n",
      "44.0000000000000000000000000000000000000000000000000000000000000000000000000000003200390113307345440649542556638125769985357857238909302208264318736223610007666265328518609774303764811200610465482649021052178072109044960524971740851325148727527211596543559515768003424933670512120572227497222925961069\n",
      "Root[44] = \n",
      "45.000000000000000000000000000000000000000000000000000000000000000000000000000000000000000000000000000000000000000000000000000000000000000000010939655443523898702539784083805647032049822037606156623468503909581474070690867062158169301095591276872981371523795654672144132465459573873561488447129533062\n",
      "Root[45] = \n",
      "46.0000000000000000000000000000000000000000000000000000000000000000000000000000000000000000000000000000000000000000000000000012842746964750856315759653641752697332816999559578855108709281504421281442147441381458737115268138264231914474062711504715761501408937231454581894556537033381734916395825532751\n",
      "Root[46] = \n",
      "47.0000000000000000000000000000000000000000000000000000000000000000000000000000000000000000000000000000000008068373530060580546579876444261781795821596744213415676417506025644204891282818390306286558587816547459486931794593921571496989669891635276337529945706782481068276872390031508738904483583399407\n",
      "Root[47] = \n",
      "48.0000000000000000000000000000000000000000000000000000000000000000000000000000000000000141064710741099610366493293610688496638518624869259088589379035380541251938576810919107640227822814499447759542163400032715166286539311349057758670368817495304670598349613555961200994873495389392950015975775780575\n",
      "Root[48] = \n",
      "49.0000000000000000000000000000000000000000000000000000000000000000000000000000000000000000000000000000000000000000000000000000003245916665958352471186209061781998256906716802546671881417005048709775687681982267890317897529879712126382233078394416612410305817745969577307139150738171539959487487384731\n",
      "Root[49] = \n",
      "50.0000000000000000000000000000000000000000000000000000000000000000000000000000000000000000000000000000000000000000000000000000000000000000000000000000000000428415938425821355660022385231862756461923476365229094056055842631616954880218438031321063295880629228326294892873812966551287733263103988759206\n"
     ]
    }
   ],
   "source": [
    "global verbose_main_loop, verbose_bracketing\n",
    "mp.dps = 300\n",
    "tolerance = mpf('1.0e-15')\n",
    "bracketing = hibrid\n",
    "verbose_bracketing = False\n",
    "verbose_main_loop = False\n",
    "p = Wilkinson(50)\n",
    "\n",
    "#%prun -s cumulative mp_roots(p, tolerance, bracketing)\n",
    "\n",
    "# Uncomment line above and comment lines bellow if you want time measures\n",
    "\n",
    "roots = mp_roots(p, tolerance, bracketing)\n",
    "print_roots(p, roots)"
   ]
  },
  {
   "cell_type": "code",
   "execution_count": 40,
   "metadata": {},
   "outputs": [
    {
     "name": "stdout",
     "output_type": "stream",
     "text": [
      "\n",
      "check_roots: all roots are distinct and in order\n",
      "check_roots: all roots are roots within tolerance\n",
      "check_roots: number of real roots, 50, as expected by Sturm's theorem\n"
     ]
    }
   ],
   "source": [
    "check_roots(p, roots, tolerance)"
   ]
  },
  {
   "cell_type": "markdown",
   "metadata": {},
   "source": [
    "## Mignotte polynomials"
   ]
  },
  {
   "cell_type": "code",
   "execution_count": null,
   "metadata": {},
   "outputs": [],
   "source": [
    "def Mignotte(n, tau):\n",
    "    x = Symbol('x')\n",
    "    return (x**n - ((2**(tau//2) - 1)*x - 1)**2).expand()"
   ]
  },
  {
   "cell_type": "code",
   "execution_count": null,
   "metadata": {},
   "outputs": [],
   "source": [
    "p = Mignotte(11, 14)\n",
    "\n",
    "plot_p(p, (-2, 3.0))"
   ]
  },
  {
   "cell_type": "code",
   "execution_count": null,
   "metadata": {},
   "outputs": [],
   "source": [
    "## bracketing = newton\n",
    "verbose_bracketing = False\n",
    "verbose_main_loop = False\n",
    "mp.dps = 100\n",
    "n = 11\n",
    "tau = 14\n",
    "p = Mignotte(n, tau)\n",
    "print(f'p = {p}')\n",
    "\n",
    "tolerance = mpf('1.0e-50')\n",
    "\n",
    "#%prun -s cumulative mp_roots(p, tolerance, bracketing)\n",
    "\n",
    "# Uncomment line above and comment lines bellow if you want time measures\n",
    "\n",
    "roots = mp_roots(p, tolerance, bracketing)\n",
    "print_roots(p, roots)\n",
    "check_roots(p, roots, tolerance)"
   ]
  },
  {
   "cell_type": "code",
   "execution_count": null,
   "metadata": {},
   "outputs": [],
   "source": [
    "bracketing = hibrid\n",
    "verbose_bracketing = False\n",
    "verbose_main_loop = False\n",
    "\n",
    "n = 513\n",
    "tau = 14\n",
    "p = Mignotte(n, tau)\n",
    "\n",
    "mp.dps = 1750 # number of digits in mpmath\n",
    "# try mp.dps = 1000\n",
    "tolerance = mpf('1.0e-1500')\n",
    "# try tolerance = mpf('1.0e-150')\n",
    "\n",
    "#%prun -s cumulative mp_roots(p, tolerance, bracketing)\n",
    "\n",
    "# Uncomment line above and comment lines bellow if you want time measures\n",
    "\n",
    "roots = mp_roots(p, tolerance, bracketing)\n",
    "print_roots(p, roots)\n",
    "check_roots(p, roots, tolerance)"
   ]
  },
  {
   "cell_type": "markdown",
   "metadata": {},
   "source": [
    "## Nested Mignotte polynomials"
   ]
  },
  {
   "cell_type": "code",
   "execution_count": 70,
   "metadata": {},
   "outputs": [],
   "source": [
    "def nested_Mignotte(n, tau):\n",
    "    x = symbols('x')\n",
    "    p = 1\n",
    "    for i in range(1, 5):\n",
    "        p = p * (x**(n//4) - ((2**(tau//8) - 1)*x**2 - 1)**(2*i))\n",
    "    return p.expand()"
   ]
  },
  {
   "cell_type": "code",
   "execution_count": 71,
   "metadata": {},
   "outputs": [
    {
     "data": {
      "image/png": "[encoded data removed]",
      "text/latex": [
       "$\\displaystyle x^{40} - 20 x^{38} - x^{37} + 190 x^{36} + 18 x^{35} - 1140 x^{34} - 154 x^{33} + 4845 x^{32} + 832 x^{31} - 15503 x^{30} - 3181 x^{29} + 38746 x^{28} + 9142 x^{27} - 77428 x^{26} - 20476 x^{25} + 125594 x^{24} + 36568 x^{23} - 166891 x^{22} - 52833 x^{21} + 182514 x^{20} + 62281 x^{19} - 164371 x^{18} - 60118 x^{17} + 121498 x^{16} + 47459 x^{15} - 73144 x^{14} - 30437 x^{13} + 35400 x^{12} + 15644 x^{11} - 13503 x^{10} - 6296 x^{9} + 3945 x^{8} + 1910 x^{7} - 850 x^{6} - 410 x^{5} + 131 x^{4} + 56 x^{3} - 14 x^{2} - 4 x + 1$"
      ],
      "text/plain": [
       " 40       38    37        36       35         34        33         32        3\n",
       "x   - 20⋅x   - x   + 190⋅x   + 18⋅x   - 1140⋅x   - 154⋅x   + 4845⋅x   + 832⋅x \n",
       "\n",
       "1          30         29          28         27          26          25       \n",
       "  - 15503⋅x   - 3181⋅x   + 38746⋅x   + 9142⋅x   - 77428⋅x   - 20476⋅x   + 1255\n",
       "\n",
       "    24          23           22          21           20          19          \n",
       "94⋅x   + 36568⋅x   - 166891⋅x   - 52833⋅x   + 182514⋅x   + 62281⋅x   - 164371⋅\n",
       "\n",
       " 18          17           16          15          14          13          12  \n",
       "x   - 60118⋅x   + 121498⋅x   + 47459⋅x   - 73144⋅x   - 30437⋅x   + 35400⋅x   +\n",
       "\n",
       "        11          10         9         8         7        6        5        \n",
       " 15644⋅x   - 13503⋅x   - 6296⋅x  + 3945⋅x  + 1910⋅x  - 850⋅x  - 410⋅x  + 131⋅x\n",
       "\n",
       "4       3       2          \n",
       "  + 56⋅x  - 14⋅x  - 4⋅x + 1"
      ]
     },
     "execution_count": 71,
     "metadata": {},
     "output_type": "execute_result"
    }
   ],
   "source": [
    "nested_Mignotte(4, 8)"
   ]
  },
  {
   "cell_type": "code",
   "execution_count": 72,
   "metadata": {},
   "outputs": [
    {
     "name": "stdout",
     "output_type": "stream",
     "text": [
      "\n",
      "Real roots of p(x) =\n",
      "8*x**62 - 28*x**60 + 48*x**58 + 6*x**56 - 296*x**54 + 1018*x**52 - 2204*x**50 + 3431*x**48 - 3640*x**46 + 1195*x**44 + 5782*x**42 - 18474*x**40 + 35648*x**38 - 52353*x**36 + 61082*x**34 - 55275*x**32 + 31984*x**30 + 8261*x**28 - 61790*x**26 + 119594*x**24 - 166000*x**22 + 184326*x**20 - 167900*x**18 + 125966*x**16 - 77520*x**14 + 38760*x**12 - 15504*x**10 + 4845*x**8 - 1140*x**6 + 190*x**4 - 20*x**2 + 1\n",
      "Root[0] = \n",
      "-0.85117093406701547892839654212806696054076915457816011364738004495864302623100603057655869910635266481456271777496481830096917400958841550093958508615931762807777416957545507336831085124331792814184666909177032697971852312671025185791258915789482319598333576397841200621262256847808433426178373048812162930857822426663197504356820788973154624143625167028898947452667724729258290396550762763956403464983430892162150240583979040397448408276547564245189334059002792394766563642610271436035169285686602656602634896678589928393782007728357052313137614019961384009969661559682842211832489310932223314683171619720508950170236373453109848487702481044525842335987657887180868720381940652812959991231822697055978920763334201633233469668299767508613182532882467842619249512333830890153410370498615791203197432941333372189191703900430982789073755409052600491338031350119967898037987552718555489252947634579165757982881595822811578061957586568186840866771745451437749178957032679046432413007399551761069860148759490208753566283788238894990259120031011994456816692935846793444361119232827531864125008376871655603266445686991772812607880421894742262864222383139626675987458744574866153627149035863800174227772937670732445883520834621334815904656551697781723471348085993156243625115208898169646527972562043282744187044268776136090841799408825556885200933412989231568263827354086880298327200708048411172197661638277542295008206727916890357036993915853125780585352949198364482921249641284829497271451677594535429612669139643541912568636006826072697978241900018901332943681195218849214671270689684892259946781997169602987877453633208648759230888612613708814280361547216251655457623250416675319034003022499378206754456419864115464432599788013744742592332269804636258789355777116654889144884716010947911460595928052479270604370491208842499659402261683469275220628438302195551136599470064824417003357139238198965555372172409986247632705850928979733646838438894457304945972504073720953017493656849943734519606738647111132417\n",
      "Root[1] = \n",
      "-0.78615137775742328606955858584295892952312205783772323766490197010118204762231091371191288915850813556487901224414461130587546037047119302536450028096133829149924907809861535827239006118060034628432828754941283125422216796561759468283398587404569058562211049824240388462430925139345888058672268634104245035510924102359543658173634431658488535997259274369810622894723244505834766104417710430672068788451480434992566057559627985605610204981713933593749144969861528097277540268878468018395704143930454708208790840347897559980884236725062112925111292481954963634404150876299302001797426610178524171894571093116583047567055850063519313384553816594806675924634771369041131092304883080268327611838814874505779134150540168011909434524481481395587192002713377968673348038778685251688798200719925577453270174754331378247903412246332697663064914003346129837817793968487160718009129632981848150020823307220165472254262584323361448999454818890681737985644332311515753551493633226421800292010448525598803902303887193679942333147426453100336587345742229143030178814009779709676562504356879838140864589054221944171508641703715206857287474825111953470646200859418819855960050267097174433097896149900362887402904620696764349670122265916518868842349171284620573976869371968317402938733499676778790475797901447873870577365548201372795833508834524983187729649900951288295728348704439949451089230711622356392016081470886194981768613360916281666774973329007994489872397900392644618542546699376099234662805012579205729050347361766154079003419136696890230859166832889188919463976018551853492276510385204679711521743277066804107026614293223004896099409301329063389822446070095152956155528285125279301788650612216592832734082891517806782873560564765572465762815063588746895214840862022403262578405671762487566571368669006379752184565291649148557719905876143431047962216385366574299128173564893595456753963773235803184433342350991152673981207288804957156609083583540612217752959908286567273191787295779879001150688459390585956426\n",
      "Root[2] = \n",
      "-0.74141788345168088948082067582826759928123466103866386784594701064975415129275358077001212914996553996875921990731415690770798768254780468408268532162411007181292679960908800211662812521301181101149290855217347635916318652052149104552691705536548868269640346107238071548364499061823903914685088414905548869422106109363084681692707852822653230161326047428375777474412830908740451978490342854904012139192451375415636458111042183037393849418167982507242314796767503904184805177968469070301994539438445764155947429961181055082910194478179624245223024292067068332709511185022986133333764713552364697966729664638443686835392945977979240651662616322650637001407048611173642411214968104191251405344824794570814704850753737968032049775860690954795363800553711501863926501000340323541947682450547606690985797164862162649968798144232495529991569004446898773067258534629877459515163696403511740866133750694844369850129098296506127396589071763177630261522463551492333457556362058503809102589649534266685760169692275910728896254088985242749268415094663832808105126527933572493797433850828707003185767121275708625404662885681349141378019168487969004795559842016519386547147324476366111602109317818334655288605281882377084515249515232082097245120208946261571220999136214681046903002663755819572287123786518796694291612795714667609481915022590854771140099736363325361401885334893770731268200186581170795925738878576694229852783014239752249223114433344093728082062600547560245834377108153732284201098602844952792300938805135919785100065425720582872516993606584803826991703285330662309069714223946725652808729024807533853172604755407167062957472645401185945793688635015580512528964050622411047119184168842152568125276827326141598000076054231354495883141090871890536471683916838167975142284969185113161988526701014253374290592780437723107295508287741527334067329823345145386473418835217888450789016767913785928559464725858601022378242270576151048461054243198106225713451308021462738604992994282239595804423251100067327913\n",
      "Root[3] = \n",
      "-0.70710678118654752440084436210484903928483593768847403658833986899536623923105351942519376716382078636750692311545614851246241802792536860632206074854996791570661133296375279637789997525057639103028573505477998580298513726729843100736425870932044459930477616461524215435716072541988130181399762570399484362669827316590441482031030762917619752737287514387998086491778761016876592850567718730170424942358019344998534950240751527201389515822712391153424646845931079028923155579833435650650780928449361861764425463243062474885771091671021428430300734123603857154019191145145708648273838919955262133558773637054234930583772755712846226742683775783437249287978888969514523162900836099012093871439652873714160962075132393024512861692286174469179646582380196138964204438265282053286644168588821036844556641412278256187001664231411500986816041429745102008335451841733384928258877373712037472220579649516176594655742146054610650239734255410017578984142213610522633739667552477696701105322824609790288391512161630723123115413968427654010311589807920279320042065898489525063836423391415013383931499718864747795597307181397566495314603311937859672776152277246104821969723867917057462545566059616227309570849149408747525391598213690089444003920014599521168908056178952914936619326723303538680812019052809958083078914700397166483107442568290516703265163604313141149876883399556244798301922072091947132772896218649087315494509239904177784681271567793157207184549707591484140117564544566199069757661511528221006876234439081399446388672209019760201299101001055690591349429270279778055025298113821147270801531439384875486443633803779895368695796012277482145884247940106076976226699714521239766030161610826747179622942312040294688393706504027081272962679217080846258907712505916665219691412938149451875969744665983414646580334901359021684314009505041095128769253932432522826260244759782462944233598706300038609600405308008948293410770231010193091013584429859498026961068173585590858705450155229135562027412750962362746484\n",
      "Root[4] = \n",
      "0.70710678118654752440084436210484903928483593768847403658833986899536623923105351942519376716382078636750692311545614851246241802792536860632206074854996791570661133296375279637789997525057639103028573505477998580298513726729843100736425870932044459930477616461524215435716072541988130181399762570399484362669827316590441482031030762917619752737287514387998086491778761016876592850567718730170424942358019344998534950240751527201389515822712391153424646845931079028923155579833435650650780928449361861764425463243062474885771091671021428430300734123603857154019191145145708648273838919955262133558773637054234930583772755712846226742683775783437249287978888969514523162900836099012093871439652873714160962075132393024512861692286174469179646582380196138964204438265282053286644168588821036844556641412278256187001664231411500986816041429745102008335451841733384928258877373712037472220579649516176594655742146054610650239734255410017578984142213610522633739667552477696701105322824609790288391512161630723123115413968427654010311589807920279320042065898489525063836423391415013383931499718864747795597307181397566495314603311937859672776152277246104821969723867917057462545566059616227309570849149408747525391598213690089444003920014599521168908056178952914936619326723303538680812019052809958083078914700397166483107442568290516703265163604313141149876883399556244798301922072091947132772896218649087315494509239904177784681271567793157207184549707591484140117564544566199069757661511528221006876234439081399446388672209019760201299101001055690591349429270279778055025298113821147270801531439384875486443633803779895368695796012277482145884247940106076976226699714521239766030161610826747179622942312040294688393706504027081272962679217080846258907712505916665219691412938149451875969744665983414646580334901359021684314009505041095128769253932432522826260244759782462944233598706300038609600405308008948293410770231010193091013584429859498026961068173585590858705450155229135562027412750962362746484\n",
      "Root[5] = \n",
      "0.74141788345168088948082067582826759928123466103866386784594701064975415129275358077001212914996553996875921990731415690770798768254780468408268532162411007181292679960908800211662812521301181101149290855217347635916318652052149104552691705536548868269640346107238071548364499061823903914685088414905548869422106109363084681692707852822653230161326047428375777474412830908740451978490342854904012139192451375415636458111042183037393849418167982507242314796767503904184805177968469070301994539438445764155947429961181055082910194478179624245223024292067068332709511185022986133333764713552364697966729664638443686835392945977979240651662616322650637001407048611173642411214968104191251405344824794570814704850753737968032049775860690954795363800553711501863926501000340323541947682450547606690985797164862162649968798144232495529991569004446898773067258534629877459515163696403511740866133750694844369850129098296506127396589071763177630261522463551492333457556362058503809102589649534266685760169692275910728896254088985242749268415094663832808105126527933572493797433850828707003185767121275708625404662885681349141378019168487969004795559842016519386547147324476366111602109317818334655288605281882377084515249515232082097245120208946261571220999136214681046903002663755819572287123786518796694291612795714667609481915022590854771140099736363325361401885334893770731268200186581170795925738878576694229852783014239752249223114433344093728082062600547560245834377108153732284201098602844952792300938805135919785100065425720582872516993606584803826991703285330662309069714223946725652808729024807533853172604755407167062957472645401185945793688635015580512528964050622411047119184168842152568125276827326141598000076054231354495883141090871890536471683916838167975142284969185113161988526701014253374290592780437723107295508287741527334067329823345145386473418835217888450789016767913785928559464725858601022378242270576151048461054243198106225713451308021462738604992994282239595804423251100067327913\n",
      "Root[6] = \n",
      "0.78615137775742328606955858584295892952312205783772323766490197010118204762231091371191288915850813556487901224414461130587546037047119302536450028096133829149924907809861535827239006118060034628432828754941283125422216796561759468283398587404569058562211049824240388462430925139345888058672268634104245035510924102359543658173634431658488535997259274369810622894723244505834766104417710430672068788451480434992566057559627985605610204981713933593749144969861528097277540268878468018395704143930454708208790840347897559980884236725062112925111292481954963634404150876299302001797426610178524171894571093116583047567055850063519313384553816594806675924634771369041131092304883080268327611838814874505779134150540168011909434524481481395587192002713377968673348038778685251688798200719925577453270174754331378247903412246332697663064914003346129837817793968487160718009129632981848150020823307220165472254262584323361448999454818890681737985644332311515753551493633226421800292010448525598803902303887193679942333147426453100336587345742229143030178814009779709676562504356879838140864589054221944171508641703715206857287474825111953470646200859418819855960050267097174433097896149900362887402904620696764349670122265916518868842349171284620573976869371968317402938733499676778790475797901447873870577365548201372795833508834524983187729649900951288295728348704439949451089230711622356392016081470886194981768613360916281666774973329007994489872397900392644618542546699376099234662805012579205729050347361766154079003419136696890230859166832889188919463976018551853492276510385204679711521743277066804107026614293223004896099409301329063389822446070095152956155528285125279301788650612216592832734082891517806782873560564765572465762815063588746895214840862022403262578405671762487566571368669006379752184565291649148557719905876143431047962216385366574299128173564893595456753963773235803184433342350991152673981207288804957156609083583540612217752959908286567273191787295779879001150688459390585956426\n",
      "Root[7] = \n",
      "0.85117093406701547892839654212806696054076915457816011364738004495864302623100603057655869910635266481456271777496481830096917400958841550093958508615931762807777416957545507336831085124331792814184666909177032697971852312671025185791258915789482319598333576397841200621262256847808433426178373048812162930857822426663197504356820788973154624143625167028898947452667724729258290396550762763956403464983430892162150240583979040397448408276547564245189334059002792394766563642610271436035169285686602656602634896678589928393782007728357052313137614019961384009969661559682842211832489310932223314683171619720508950170236373453109848487702481044525842335987657887180868720381940652812959991231822697055978920763334201633233469668299767508613182532882467842619249512333830890153410370498615791203197432941333372189191703900430982789073755409052600491338031350119967898037987552718555489252947634579165757982881595822811578061957586568186840866771745451437749178957032679046432413007399551761069860148759490208753566283788238894990259120031011994456816692935846793444361119232827531864125008376871655603266445686991772812607880421894742262864222383139626675987458744574866153627149035863800174227772937670732445883520834621334815904656551697781723471348085993156243625115208898169646527972562043282744187044268776136090841799408825556885200933412989231568263827354086880298327200708048411172197661638277542295008206727916890357036993915853125780585352949198364482921249641284829497271451677594535429612669139643541912568636006826072697978241900018901332943681195218849214671270689684892259946781997169602987877453633208648759230888612613708814280361547216251655457623250416675319034003022499378206754456419864115464432599788013744742592332269804636258789355777116654889144884716010947911460595928052479270604370491208842499659402261683469275220628438302195551136599470064824417003357139238198965555372172409986247632705850928979733646838438894457304945972504073720953017493656849943734519606738647111132417\n",
      "\n",
      "check_roots: all roots are distinct and in order\n",
      "check_roots: all roots are roots within tolerance\n"
     ]
    },
    {
     "name": "stdout",
     "output_type": "stream",
     "text": [
      "check_roots: number of real roots, 8, as expected by Sturm's theorem\n"
     ]
    }
   ],
   "source": [
    "bracketing = hibrid\n",
    "verbose_bracketing = False\n",
    "verbose_main_loop = False\n",
    "mp.dps = 2000\n",
    "n = 64\n",
    "tau = 14\n",
    "p = nested_Mignotte(n, tau)\n",
    "\n",
    "tolerance = mpf('1.0e-500')\n",
    "#%prun -s cumulative mp_roots(p, tolerance, bracketing)\n",
    "\n",
    "roots = mp_roots(p, tolerance, bracketing)\n",
    "print_roots(p, roots)\n",
    "check_roots(p, roots, tolerance)"
   ]
  },
  {
   "cell_type": "markdown",
   "metadata": {},
   "source": [
    "## Chebyshev polynomials of first kind"
   ]
  },
  {
   "cell_type": "code",
   "execution_count": 73,
   "metadata": {},
   "outputs": [],
   "source": [
    "def memoize(f):\n",
    "    memo = {}\n",
    "    def helper(x):\n",
    "        if x not in memo:            \n",
    "            memo[x] = f(x)\n",
    "        return memo[x]\n",
    "    return helper\n",
    "\n",
    "@memoize\n",
    "def Chebyshev(n):\n",
    "    x = symbols('x')\n",
    "    if n == 0:\n",
    "        return 1\n",
    "    elif n == 1:\n",
    "        return x\n",
    "    else:\n",
    "        return (2*x*Chebyshev(n-1) - Chebyshev(n-2)).expand()"
   ]
  },
  {
   "cell_type": "code",
   "execution_count": 74,
   "metadata": {},
   "outputs": [
    {
     "data": {
      "image/png": "[encoded data removed]",
      "text/plain": [
       "<Figure size 432x288 with 1 Axes>"
      ]
     },
     "metadata": {
      "needs_background": "light"
     },
     "output_type": "display_data"
    }
   ],
   "source": [
    "p = Chebyshev(13)\n",
    "plot_p(p, [-1.005, 1.005])"
   ]
  },
  {
   "cell_type": "code",
   "execution_count": 75,
   "metadata": {
    "scrolled": false
   },
   "outputs": [
    {
     "name": "stdout",
     "output_type": "stream",
     "text": [
      "\n",
      "Real roots of p(x) =\n",
      "18446744073709551616*x**65 - 299759591197780213760*x**63 + 2323136831782796656640*x**61 - 11428334414415370649600*x**59 + 40069426604640777011200*x**57 - 106584674768344466849792*x**55 + 223556839026824199536640*x**53 - 379385867215472594780160*x**51 + 530391426205841620992000*x**49 - 618789997240148557824000*x**47 + 608101806378727810007040*x**45 - 506751505315606508339200*x**43 + 359745762028296129740800*x**41 - 218188997679883747328000*x**39 + 113219921064981692416000*x**37 - 50269644952851871432704*x**35 + 19075534915144683356160*x**33 - 6171496590193868144640*x**31 + 1696067325319236812800*x**29 - 393937834141653401600*x**27 + 76817877657622413312*x**25 - 12470434684678963200*x**23 + 1667558126439628800*x**21 - 181256318091264000*x**19 + 15749405687808000*x**17 - 1070959586770944*x**15 + 55449091031040*x**13 - 2107713986560*x**11 + 55948006400*x**9 - 964620800*x**7 + 9646208*x**5 - 45760*x**3 + 65*x\n",
      "Root[0] = \n",
      "-0.99970801408019296428380834045678748933791139943120751779253359115490867768263750459349067145443643219534835231781398605194617409180190475610799018349237440736368460896123001419853332775066584768937189345728682947337866902654086908007554605431817712530150106376496667318313655914449397428614526344384300834588367615601561982860195276413628428299301232343040450443845484247076368659224130553766378802314580862041739171860140831440847513418320791512324402568087635255499309641804811952915095197425601966060442689276199307204217729480051014280543652778972224351791601420461481322314202107707339003150582198876536527442885669651450871431742206710429542585434583339078717430457950898115301564793469608805145325928816005361534074339519401324254755722868592293114400072975434581022088352759463071966771583823\n",
      "Root[1] = \n",
      "-0.99737314969149111899079269287439735641064435023716005764172268408118954915144373906784914103687037881973550010789668120004388063325131856752723716538739014713423669403925335476123515829579856767389170427243268750634215158988199213526065240420634465892754805448527606630337556845857665350801164684312782523510475915967193260613665375304097029669996568053082434939993468919225273978780639768936264400611632047483036213517293542608935590449587375501808956304362012303722473628163165561413873671431819527896565320843729890368824137998443426433799850993438840118323733434187563539389476838890611927463979507827333602836142925029489500774580537186590394456370367476133942840276566875681027000371719601107618435635994833559335563346923393405556830773067721797033014585092307418107133019863869420306252066065\n",
      "Root[2] = \n",
      "-0.99270887409805399280075164949252017934367563297016685577099758421383216909593341317431761785591071792879908817367634668029369971887045557346523024341175116288575652931922002744514947979671868904060384101756272609149844069889119911470116533484473049869355951070152451850669091301194981096243773607471570918807534413971977921735715034649875450540446271165286929411494819543906069226559233026202197379717610537272146173751728478840292472378365494931622517426127044233609135064487525515968929565904874481546188821444941484126871189811771152869453511355375759371708337738575307439760921858203608421985989492580017042373285041324468415250886945027258261158941905335847315138253950846839550646620210229067499787186404712681368398045233084282889295829280207192986049850291142993512435065948965360152040594575\n",
      "Root[3] = \n",
      "-0.98572608093165088542413584010300226413402485681108658637637133926003463207765443157605619965597355427317635857280185635795050085922280859747647880971473036795941494162975505841000444534197144925660629722767314819061511939893673826169823668447344389553746836108262228032239085120203079080941795324827462219703162713813139243491092383261976337196686876308184273384174850752364677341213070696905051645921062378224974503062785220243180706455305231091388397412279172990907592699257718670058418110784752930685005796791278173477569858317898529433739954359867824315231859227390741895485833291420279482017653108244222569211585755233343824617577236860828388426978347381893920680033647192694745709222288576746571758980716835944553592394411419871172067089723327744242790157989704923455146826104528312235620037565\n",
      "Root[4] = \n",
      "-0.97644107882927207448018465921880649675736256182095329530334097236271885715699034538254761994815856355915905525306138266035838402813943821795332007181252187273527448058621661958530336871400688318025848138587873685905735229592754725105016409982252425780859983750199785061853638633164397473026910418589330735695393879621505104031744594873510313671907350356229590563099012750008652413476656333618072178458594066362261946269022435111737826733248341981485306817586147093391965189756538807535145735847176771364380040638777016752572545448210833108091304094146462510141894493896151590851103899663173654548891590457681494335000625523278611382435906497114285088644383851446713875078847508686318725177166702601572910297828618923500897573105370865029778060145241610322691372665437695789282876609037727492793022545\n",
      "Root[5] = \n",
      "-0.96487555334355145835238367363434387243527010969135105984278757199635728722797061957934300017261410747823111035615741517031971796171554760781127547552086026534773403127646059984552151714879497085018211273490981408310561527122959838920501048573172674449212225682164678616930947638094060059176443793256542557437105302161135667158762059040008556495886180934893746487964997890304085821314652680909000469657528379513336953617077840705701111867911393578671689078216383766830297010201335012768765205644440889370307163498994176011411853356259043400548739351800946537698519454214116289511880621671607186065278473190341382570285884597518200507258121044915415521732741622773222733308181393422135118957035356964455257836068004141935413617289796638133415457037325651592436737258210692547208544644957048440327049274\n",
      "Root[6] = \n",
      "-0.95105651629515357211643933337938214340569863412575022244730564443015317008519350171879290209941189485075651898890166377514659472637005680915138771090258725520390689160755773267237597844507855971752278333228096222735927335638024289897946746924849388571855129605707452549276830519650648563454263491858355208552018205860531314275748974510110499905950996554745194687228048986787987474149984145460390902113511000732120418026371248124988699347994819345839816661374017819183150152680112012819023228922978433737303578652705575544915656483126399722615786856352642294648362019243117148206740566489534228297659856420019195192112918644047633332928338103238198814375296409811105541747170084895941319444907713163962690434718960411644487598829760121366456011088387400330273072347117485157420933440094009164093128514\n",
      "Root[7] = \n",
      "-0.93501624268541482343978459983783072905051746957843187069638027009183054288001194863399549470267756059786039206690399602014949986123543394544651300244282414124857465969038652777576875448012779092211431161250113595988514768025939934283306189115806297200066723014852426359288771946707929552389841116592347316928456211868071507082608474253876147346505129221289547878421452110824812795201743710508312822411504928254677599078531037667480669880898210498366274125119343498612367495265395039050315511111673495872584932744154274184140424941734082624064687442536032561699781650605677572619706131540040201725686507483295544895653800699239817129965206753164388808391834081272802576144717384379696693550910955055150751053623933310017719762811061012999166845817257523929022687451989003508245319798417526846830061576\n",
      "Root[8] = \n",
      "-0.91679219531658239802082070797067219343111525742695251991805381833191392214598502424955013359944692649809276374381538869903903267604668701642441550613997576230001442727124235670172022000625580290970311569617739830820478104741080356216603081955943823703104697226280050097970935252421776807299964252179890580228268823965806342281621007992722431939259654453302583497926591691737386256227937517235263992444489638762751315736780960443762765400724350177358962294629371689538479061201157883252243394266291938174246934956318308176352899625432712339250571356984739491556818072726165589231915675952161769378693106349580287790840820805681674581602256951422452515257391984841734246370636738142863583850390008150517297212223209349995437609948690140540095354731945010842737920292614824160501719888219552294260201433\n",
      "Root[9] = \n",
      "-0.89642693729570375935161550155440019387587324899821203586406169529695069703102248699934713945285301044739558362264659678148422221970340418725618154763789972533530646362953397560303246001826460237821143570731853612638499360494721343751221046528211055794485106680160522806204169506596495319477135860531507020378008027659824967600552490129213982987870331854726527342651893999514143135326166112844543866053573726140118103977698779778072782845597494581985675689918497910578742102009600803693809858762331399107384424445153698620259302535893945050808984238218847612974537040753978413549345748788289972536444607146386984897035862794493161595057465179404263830063007057913354359193770847155729381064727479780662537880968484055422407922898724201295477105434416581586595438802848694758959914871831418940885304807\n",
      "Root[10] = \n",
      "-0.87396803262651796303998829409042078786828943759515654696096453561626298953183410642520246118340788036581499315284523487346306274477938622276077045125283259859325540692838314541343699822448554914767603900124878735156455561689014765477468427677940363814351055480955601676264884273712244076986959301197101784986121686444092697192227920593631063346534710412075628847228427192040959027546384599377500669586150439118226263746136453632953170997598959509964451883756884277230926917835469939263679215204136038039218618843176481846121297226009085320110383083494210389445472367980501678056506367793731768401737734682572291169342660780352389960010638897990458982663712986838511005252643492286823405817909630417350062909051125762772911767616858013511644651730280253662302968203250643599238210516252313129958133131\n",
      "Root[11] = \n",
      "-0.84946793512152102963557504394600296594569327887109854988487778524146238999967927334953870808683068846227209408763660817106871413009129397834051870320729175896992060836132257646681285603383628872215498633304027498615289363314710613219552984019465053956187850896046741778784171889237037835055687578614845295551755077534088277974552612748478175992850500323118972654882901194341002279929465598578367075958223658543319042463651978252402256022676458290258048146311997030362687124719539790411342724159826938084882991791054182759206578978558504225028894172365322200506951191740301236232795540978496418436829958060895760691794778792324743600716809067307430631613885566512635756391005098344803783582413831705550225336490261418005073591368690587099193493631922008928024374960553336152738254870436838109245796627\n",
      "Root[12] = \n",
      "-0.82298386589365639457961742343938199065506769308757380640032091435633653187847482172468618049317282970668257927557011451733007394426272925395468335195279974594390808894222164495037172346996037492095073132417473052451276610112094951511766105555066122753796135851268926049522299496158499230603718950486859387729137730619082947573243183537701247070733493567579713476485668102192677404038694972857707242730315899608495611824268828487682028654592914490615847210887764706771657569747363923294320481106706838866763813872820657828543783850232033147659046259935920825457306102076287343300122189210565274368588696389580867780307496941739725514659435455191864148290127177911909117332649873378429344307576513955293730745549910066631523945922885647602509351420456065720672742200258098318415544663441203768977775336\n",
      "Root[13] = \n",
      "-0.79457767971375426869762981015047695392492500097169854182003377064011173923783500481957066797427974721758529399329685762276251942857249026467651010852634223140916632697087324817081515371267560359012022867633889829436281289996188780393036710018217069861711636754248207722534879667623600285961933631728785439165710307896470686668175024943511726687697261699872764260962762061046549836427579614207944112811654341018572100175600866738856938940583763598708733398632626930617519993734802664091976735845354755076005849219740167607806001829708050707474103322470224611721146125228297971787730581991879147190450005851774981658497587900757831554821287814701906078057464084584648473023885326370061015864499264136154817688293443788173620141568136253448815488875524869036411709906813146824138658294796160699272469373\n",
      "Root[14] = \n",
      "-0.7643157205458483019829111871324356574580523847400562788653286971408273021146758553337069317512269026505442096613261927631071394853882940736744261525744204996299715458558695002650023011029704313794701408938453790710134503501318859731467284172976534378288773030040792892998171960359616260523526673192113841938534337187794382232151625676924413978082912496979161130805242456627841690242646095345228538856819862378948393106157487186644099421268049862496263475475206710883831526642450385518711216591716575832511868576075379967911716534378971429790093972771188243822003778308481524038238506288467084486526670483371911734801936657465473538993791253491076354566115735115430526667669177880920276493094551537485810860682876900660331068982328593029006061507743194844075348298797342800066265625643782061374784713\n",
      "Root[15] = \n",
      "-0.73226866659777351242384168876105024268520038939326757444574914328880562192505050016564371935581120690745187642235040937336032275670564783384221184537202720104014389277822599169187811756140680027030138290241605843678482322336787676380146336849563318267461678011718532288209267323625716693975649922018296146280128296883275696132721075266068081551535872371868423890945708521453189438142658980754031461553660522133740661850912300934128265780935417058210625992154433632287800357236864281566537704729621335917311590413699004419263586038893291346104667506670192096752197126152029934658318232616658540475561861579614538630196644494653753232523410048676500350111025336279334599759277636522070939181588688649627886513189268450467324929214851843891194128500826135768059607839365543116047176445342316081758475717\n",
      "Root[16] = \n",
      "-0.69851136524893698804647270082484190554121222279489349241939489672517703803818931569416491603166426751126564066712147475762702639122097881082221880051084222112904877268616299757361400505943998739624315584633719334572428845914026519735723351582258203896070688124658918694712307142632360543910834772992546273816958295570206298845018209702642842383426291522052325393200863244697310470406098064592748445172717669094121463225447353168016855692378244741936508699756228401318682694993514576328208167486875669372274804477041487362108859982121077742116626729224768571206560319081556203847184662346105519465254689697516612025207335547013381688095423027185108858591200038271814462629327834686655336350723336350415477416709372095735153585232442875602246517023466747772633274236080881410272897859355118704455868519\n",
      "Root[17] = \n",
      "-0.66312265824079520237678549266676627952476410704410618818078651080889875987039844289996063772516157162449317234987593202143003012779226336510313971903004042937008956221652815412854399517360021250587455389060069312384022053120094560194794971813631908314477362678962296109597889939312422446765477942529411750283113897339210176865370678204427897244202184647087430945939298884534940032249841198760409788356641608750857170395289381917083041278168739699393944653789317084208369873977204258614745592456651367084296709776863748076420304634748101121142322011124249314744178381415179749281751491488566258739120089653592591340818112902450171556919086095338783059649173500771728115245152928042610666778204551675468947373932158742281927880553755923797008521275144793928031636358748421210731512366576559075883190678\n",
      "Root[18] = \n",
      "-0.62618519753831368341221791257552681434626876357247492130972975249398974892428256289762358131398817699587714588551078540846917084468119875481235724550239412505677143467973384384423986865787282299068254421801089327290064601271165223019884482007000981251218834007123860597287352070892945285360141696913598552543784302483815728391304837475601578502561088964205154477320671766235557144318792493601635236384770818893299438781747236740398675192387142682295537600236553158062002036705569297084480140218562426112858461801353750917407954468683519594791749144237773609879909832921047315773822123103559964145774620988290511658243956467811475179577807070699875125970819187474820793414006919748106780330228472382086302900301853713769539210952608910526688906581796351635434192198771691086166507128708600837422564718\n",
      "Root[19] = \n",
      "-0.58778525229247312916870595463907276859765243764314599107227248117580662640052553056764316383659763960288895249894636306194601040371848363870853596915567244841786526808165172123771934761874568898271289515975850413487598366716975651538174926642487891830262042688229887933301047095574706342521268403379121802672834713882246144177054906474732447873158386122810460040547030752884715915806125345698770897902455878666641574146849310411187417297950526380412530522476220526168636603101785300011281545422099685479995321859706265675529368610613082786611072252990751723835333388203829215165320179190685426951208031634010943936870337156952930512473462007200307071776706590173580152060461117277912286007922610775904985911962035942503772824046013046476253641714416500230141926061876392426521838988957374684267418247\n",
      "Root[20] = \n",
      "-0.54801250735466998122960915431403190072504242748836099770757413077098622623605779544799384133891157673136796332489714600494808685223263598528764839801274512990883715324580263716032363542136720553350506576187358078037395864266580928417484811660661086891736838950541538724544933491526932890250242234012115087371173609067472415573904117950425004766401751374513925487559245577825232692406161025928666041519686463509203253105112076414357337784217249837708159111433633839453007242906706307246838758297190283925362423892716714642760058077355424120433757700866335116786045558159765343142411732809745834418767208969033365197378948668467183055388426245955734832863348589311555103326064667933006512440666554248822113815951366642615096192966489258473916199591628595460621206752446214852062237257779823860459375333\n",
      "Root[21] = \n",
      "-0.50695985381359040966212566018620585820704469026592609847385270949098291615571257790169520749240497237687982731660478258911940347399475783680129653026853916695007603324413838878116395610599178604298517784125338272037443665120797326511692334978226408122658667306903964357975740631600476518973144166788108256319367731112956230457005250284983935766212761693175340810676922185564958733962758408620964501472545980158764859003285286353983174967313100851387986799320661930833914286806098707624158533305749286499248480285067154705200885056832094771381181587590600622201094494078747270822516256773379495041817099225469710886809585505401434049130386054080653471482970782023720038557529752422230098642965242454310581306787516238488185058516701107647461746093164310604609487291167572334705180384940289439196668366\n",
      "Root[22] = \n",
      "-0.46472317204376854565601533513310477755773586533246897695402468501668689749380794307415079845721126766883099813243192339652252575586358201536097679629248042975481321311327403369826998739399399263728893881109900331562576722365810704055352087052250166999244330069439232245104736039805756215939693246594850573764602265692700794287318414794842965563634275117270757925197845589135690295260603592614132506656698478551762115002340524035554984459138270016006611036318609989834621264468060507137834502377555599265743915694482057162024346102879097834871309677848022552557153563219857357423810288358943687463350740835657390398441600228813833208875749982114634530235527558819255316057078694817018020256811205668054528953357769328656662633008761423680392288597079919274773000651645052468940821644664081416864994607\n",
      "Root[23] = \n",
      "-0.42140110777252910665260129526288588126743214897003293845912577093151259105384887275581957664905512576310603335860903564236456961474211971891922183707899699266964624287038414112821792876878269811071708128597384752269106706278752643163524680366690179807706981268662417996381646145404743460685607220995684970244784766812085303068553696778190206601492248286079642377607327686895665905269555009062020244832886787166796872224142877519338759578600010605155273534354781449829224692002847221953968558896837599519703160443599013218761055018735017727639984086516818416458997945130118764380294575214098518348623736479930244003353243529851873775553984464100873885744792041787845089101918157408395402230613202851333428393870418653974277098591331707116674224951511499450060393393582954408498618140940629714645123751\n",
      "Root[24] = \n",
      "-0.37709484168832044547893981194382937178992829063568874375110754446869464073565706189984980343343895967594561123236908399183605583408864860563490759268292545532847600952049120465049601441414996946786352035875788435182947212771238293103305694423570155711138149050593299661754987639404578077402736937666354482188607833198592345872073216436739408942800422314298080354604483797139622535775583351062089695343367747755213945064183737574060251133236459756056029376456156424253483539699427986274155264574713619022057829757139122272214075190950177827498064106326499245327755571353194525750396989063030830883300555004867468235496996812076100598917036996420558303610549520295509405459102257485860439912715846536542803418229543580539853627576297861741925534199457428086441691643260314678218197051107053568173138781\n",
      "Root[25] = \n",
      "-0.33190785312852843692869913273980867499575207690849541646493019374990787392370686610927451742564518690400039587313154159554441856021939563681953207922289217506091356055674870733794814054716837008218926298584021755594269857661998143153809212425708622396087239393598324102908564777791526445501625689160862405980662135460267589560654432782531489762082893424032962981561767167299946109689922113125656689522216190438217283364352886645086136584168826355182223100002583712818795986278172795351639037422780053702191739942700940603575652125898832020429021567128426324395569594319474155252278048635927154127253709264626232974840043228677263378959222792914038329736117679541050756879511256807400568506973499349037955153418321537780671420041781978232334852219425189948831365390395148045471537608169480401826887173\n",
      "Root[26] = \n",
      "-0.28594567839868926206473976039326278024632921771956941336357806246765094386270176438486072539588448700459466916562953556682374268283696978247871003612539231234855844812367652554413360187888373859765495913150426146435765206371651440960651289689130760081050573866065655752217129243030405942970305807819998374535209531085802117634896433566639649995424043303718453428381764066635076597179100025128266762915092023978881760017790982453896076647236700433178859281474271922646719507989868006662378829404461802348919944835103949305321729966450916832427825428196041653115148730368064838970232064103035414089912951459251047002581851724923040652911268603217601278263098715358173957164205990015461030216893618149231720431034090919265181404512471955757189498567076861695797252135102093474456505283244216447567161961\n",
      "Root[27] = \n",
      "-0.23931566428755776714875372626021189520317302273830601335515971866183156285075327613957788552570744602291093327590779628778812260271656410524990466596269040623940824692038297723742668599923739396876615273205685022285378342347380836497684958363132229516921118219894292911543332084115269597934557948722367219261592842965082027169801317368574806369444281681109829891087006443846913984589310268530853328148881798112369030941570433702917657678527176431274971078924915232594029858483532255375797135897995549665301135484005002859492478999391396917580359855120136560690675597200459454620846750355130183238694229750452977434727740799352097086262317153855321382332245602134390248205978341677442637263918293769297946853020123059465977440506456506730102613232565585711802875482381875781902337366933346731923045132\n",
      "Root[28] = \n",
      "-0.19212671735370837601047703809606496994238204504822432717652364344736031328626909485839227990843778531241753890983536856188923857966265328156134031779302291397741773774508362927225938790792223496331530173315472108198727689611469485188476124456723773827512204134702778484747252024479421836772922919449354861372544731942500690047661353730426174938909674650598298181806552178409301151305366599741446480107540152775911651599177902857880343491691244310665402977133363508224478480741880279105306208181402596558778491920509643725012571572590530802013904233517648176344684174165499872134865652999477311920561611210857398866026867753012927751895809572325803230049706361316368223486722170391087968920007809666107458429352866451108432275873424621120538294948816852629302399102012888444250770448224213621701893645\n",
      "Root[29] = \n",
      "-0.14448904956922131631793702714313505772532474964954996495305707181774616442974618525543682142056683301628759217490521179013664006827870875089802989829222490337185709469652136237957080459129181770572392337835652581783896653987106386283709399126025342566865053479783568550712009984189436853379428308219104083466374987366936691640394146253093521764680303110103600913536356186504069034493175662320846560141108051098098309539200732308119794388246499982172756838559754962052645030146221553159653872818699874712141422305678025233470974770275722509164721844817904697911630238919485210222891037039027636857215142712681559189860486185497907204649545929152161906458370454095535203531456729159779571369687602165890804880449962602547022096129455565655015944920961106481741531482106541096063670083341177196541270878\n",
      "Root[30] = \n",
      "-0.096513920914515116255295881232426117991472112384179314321646466194575548689615001096956397630115734589610857433060612730226024641063409974600454567787599425897951169460776924465298807164102547066441027530266793129812035470874154133354895214991093213779168048234273964731219708371140806685279298164660938963263070354016492209310683656979657227276795698532910942983882801686703949662978168704878148876082388502718073241892809639662407143085387405156411568171419258539982682221890754026381563454748326591528853495510422997009969218439437449826828733611551048888839088439598230850421677288867728430429097356370829967346560321276779275095421476941060338504893711855598764238341637979401914516605431268609644529095299489003963470953546414175919228577698681804176500157699939428138844993699434833653546118204\n",
      "Root[31] = \n",
      "-0.048313379525507067270009684464981770236473695971194734455748310821250114540593849707403873144303475652462016124552408301550421016332843697296166673350730431035857002352511398827526989350738744987426127602696083004204773070733274751017511743171098680608511818160975591621971865585460970639579491759424340873573903002072425226876067783569513682023811389190161527552411133348808543403163212315240755062663032266403290740188810136681195663950252256310065819504208835821978962538101710073461586747246631216917588034127324176270048229268444563700137643486830363907701079897439390361823590511262166367774484279027005118783666285709255871585866591805169214194145468018089560266890568781719610513425663850854709982934286329333922653955976262124566871481917488842736182405931637324364904980074340662649879608341\n",
      "Root[32] = \n",
      "0.0\n",
      "Root[33] = \n",
      "0.048313379525507067270009684464981770236473695971194734455748310821250114540593849707403873144303475652462016124552408301550421016332843697296166673350730431035857002352511398827526989350738744987426127602696083004204773070733274751017511743171098680608511818160975591621971865585460970639579491759424340873573903002072425226876067783569513682023811389190161527552411133348808543403163212315240755062663032266403290740188810136681195663950252256310065819504208835821978962538101710073461586747246631216917588034127324176270048229268444563700137643486830363907701079897439390361823590511262166367774484279027005118783666285709255871585866591805169214194145468018089560266890568781719610513425663850854709982934286329333922653955976262124566871481917488842736182405931637324364904980074340662649879608341\n",
      "Root[34] = \n",
      "0.096513920914515116255295881232426117991472112384179314321646466194575548689615001096956397630115734589610857433060612730226024641063409974600454567787599425897951169460776924465298807164102547066441027530266793129812035470874154133354895214991093213779168048234273964731219708371140806685279298164660938963263070354016492209310683656979657227276795698532910942983882801686703949662978168704878148876082388502718073241892809639662407143085387405156411568171419258539982682221890754026381563454748326591528853495510422997009969218439437449826828733611551048888839088439598230850421677288867728430429097356370829967346560321276779275095421476941060338504893711855598764238341637979401914516605431268609644529095299489003963470953546414175919228577698681804176500157699939428138844993699434833653546118204\n",
      "Root[35] = \n",
      "0.14448904956922131631793702714313505772532474964954996495305707181774616442974618525543682142056683301628759217490521179013664006827870875089802989829222490337185709469652136237957080459129181770572392337835652581783896653987106386283709399126025342566865053479783568550712009984189436853379428308219104083466374987366936691640394146253093521764680303110103600913536356186504069034493175662320846560141108051098098309539200732308119794388246499982172756838559754962052645030146221553159653872818699874712141422305678025233470974770275722509164721844817904697911630238919485210222891037039027636857215142712681559189860486185497907204649545929152161906458370454095535203531456729159779571369687602165890804880449962602547022096129455565655015944920961106481741531482106541096063670083341177196541270878\n",
      "Root[36] = \n",
      "0.19212671735370837601047703809606496994238204504822432717652364344736031328626909485839227990843778531241753890983536856188923857966265328156134031779302291397741773774508362927225938790792223496331530173315472108198727689611469485188476124456723773827512204134702778484747252024479421836772922919449354861372544731942500690047661353730426174938909674650598298181806552178409301151305366599741446480107540152775911651599177902857880343491691244310665402977133363508224478480741880279105306208181402596558778491920509643725012571572590530802013904233517648176344684174165499872134865652999477311920561611210857398866026867753012927751895809572325803230049706361316368223486722170391087968920007809666107458429352866451108432275873424621120538294948816852629302399102012888444250770448224213621701893645\n",
      "Root[37] = \n",
      "0.23931566428755776714875372626021189520317302273830601335515971866183156285075327613957788552570744602291093327590779628778812260271656410524990466596269040623940824692038297723742668599923739396876615273205685022285378342347380836497684958363132229516921118219894292911543332084115269597934557948722367219261592842965082027169801317368574806369444281681109829891087006443846913984589310268530853328148881798112369030941570433702917657678527176431274971078924915232594029858483532255375797135897995549665301135484005002859492478999391396917580359855120136560690675597200459454620846750355130183238694229750452977434727740799352097086262317153855321382332245602134390248205978341677442637263918293769297946853020123059465977440506456506730102613232565585711802875482381875781902337366933346731923045132\n",
      "Root[38] = \n",
      "0.28594567839868926206473976039326278024632921771956941336357806246765094386270176438486072539588448700459466916562953556682374268283696978247871003612539231234855844812367652554413360187888373859765495913150426146435765206371651440960651289689130760081050573866065655752217129243030405942970305807819998374535209531085802117634896433566639649995424043303718453428381764066635076597179100025128266762915092023978881760017790982453896076647236700433178859281474271922646719507989868006662378829404461802348919944835103949305321729966450916832427825428196041653115148730368064838970232064103035414089912951459251047002581851724923040652911268603217601278263098715358173957164205990015461030216893618149231720431034090919265181404512471955757189498567076861695797252135102093474456505283244216447567161961\n",
      "Root[39] = \n",
      "0.33190785312852843692869913273980867499575207690849541646493019374990787392370686610927451742564518690400039587313154159554441856021939563681953207922289217506091356055674870733794814054716837008218926298584021755594269857661998143153809212425708622396087239393598324102908564777791526445501625689160862405980662135460267589560654432782531489762082893424032962981561767167299946109689922113125656689522216190438217283364352886645086136584168826355182223100002583712818795986278172795351639037422780053702191739942700940603575652125898832020429021567128426324395569594319474155252278048635927154127253709264626232974840043228677263378959222792914038329736117679541050756879511256807400568506973499349037955153418321537780671420041781978232334852219425189948831365390395148045471537608169480401826887173\n",
      "Root[40] = \n",
      "0.37709484168832044547893981194382937178992829063568874375110754446869464073565706189984980343343895967594561123236908399183605583408864860563490759268292545532847600952049120465049601441414996946786352035875788435182947212771238293103305694423570155711138149050593299661754987639404578077402736937666354482188607833198592345872073216436739408942800422314298080354604483797139622535775583351062089695343367747755213945064183737574060251133236459756056029376456156424253483539699427986274155264574713619022057829757139122272214075190950177827498064106326499245327755571353194525750396989063030830883300555004867468235496996812076100598917036996420558303610549520295509405459102257485860439912715846536542803418229543580539853627576297861741925534199457428086441691643260314678218197051107053568173138781\n",
      "Root[41] = \n",
      "0.42140110777252910665260129526288588126743214897003293845912577093151259105384887275581957664905512576310603335860903564236456961474211971891922183707899699266964624287038414112821792876878269811071708128597384752269106706278752643163524680366690179807706981268662417996381646145404743460685607220995684970244784766812085303068553696778190206601492248286079642377607327686895665905269555009062020244832886787166796872224142877519338759578600010605155273534354781449829224692002847221953968558896837599519703160443599013218761055018735017727639984086516818416458997945130118764380294575214098518348623736479930244003353243529851873775553984464100873885744792041787845089101918157408395402230613202851333428393870418653974277098591331707116674224951511499450060393393582954408498618140940629714645123751\n",
      "Root[42] = \n",
      "0.46472317204376854565601533513310477755773586533246897695402468501668689749380794307415079845721126766883099813243192339652252575586358201536097679629248042975481321311327403369826998739399399263728893881109900331562576722365810704055352087052250166999244330069439232245104736039805756215939693246594850573764602265692700794287318414794842965563634275117270757925197845589135690295260603592614132506656698478551762115002340524035554984459138270016006611036318609989834621264468060507137834502377555599265743915694482057162024346102879097834871309677848022552557153563219857357423810288358943687463350740835657390398441600228813833208875749982114634530235527558819255316057078694817018020256811205668054528953357769328656662633008761423680392288597079919274773000651645052468940821644664081416864994607\n",
      "Root[43] = \n",
      "0.50695985381359040966212566018620585820704469026592609847385270949098291615571257790169520749240497237687982731660478258911940347399475783680129653026853916695007603324413838878116395610599178604298517784125338272037443665120797326511692334978226408122658667306903964357975740631600476518973144166788108256319367731112956230457005250284983935766212761693175340810676922185564958733962758408620964501472545980158764859003285286353983174967313100851387986799320661930833914286806098707624158533305749286499248480285067154705200885056832094771381181587590600622201094494078747270822516256773379495041817099225469710886809585505401434049130386054080653471482970782023720038557529752422230098642965242454310581306787516238488185058516701107647461746093164310604609487291167572334705180384940289439196668366\n",
      "Root[44] = \n",
      "0.54801250735466998122960915431403190072504242748836099770757413077098622623605779544799384133891157673136796332489714600494808685223263598528764839801274512990883715324580263716032363542136720553350506576187358078037395864266580928417484811660661086891736838950541538724544933491526932890250242234012115087371173609067472415573904117950425004766401751374513925487559245577825232692406161025928666041519686463509203253105112076414357337784217249837708159111433633839453007242906706307246838758297190283925362423892716714642760058077355424120433757700866335116786045558159765343142411732809745834418767208969033365197378948668467183055388426245955734832863348589311555103326064667933006512440666554248822113815951366642615096192966489258473916199591628595460621206752446214852062237257779823860459375333\n",
      "Root[45] = \n",
      "0.58778525229247312916870595463907276859765243764314599107227248117580662640052553056764316383659763960288895249894636306194601040371848363870853596915567244841786526808165172123771934761874568898271289515975850413487598366716975651538174926642487891830262042688229887933301047095574706342521268403379121802672834713882246144177054906474732447873158386122810460040547030752884715915806125345698770897902455878666641574146849310411187417297950526380412530522476220526168636603101785300011281545422099685479995321859706265675529368610613082786611072252990751723835333388203829215165320179190685426951208031634010943936870337156952930512473462007200307071776706590173580152060461117277912286007922610775904985911962035942503772824046013046476253641714416500230141926061876392426521838988957374684267418247\n",
      "Root[46] = \n",
      "0.62618519753831368341221791257552681434626876357247492130972975249398974892428256289762358131398817699587714588551078540846917084468119875481235724550239412505677143467973384384423986865787282299068254421801089327290064601271165223019884482007000981251218834007123860597287352070892945285360141696913598552543784302483815728391304837475601578502561088964205154477320671766235557144318792493601635236384770818893299438781747236740398675192387142682295537600236553158062002036705569297084480140218562426112858461801353750917407954468683519594791749144237773609879909832921047315773822123103559964145774620988290511658243956467811475179577807070699875125970819187474820793414006919748106780330228472382086302900301853713769539210952608910526688906581796351635434192198771691086166507128708600837422564718\n",
      "Root[47] = \n",
      "0.66312265824079520237678549266676627952476410704410618818078651080889875987039844289996063772516157162449317234987593202143003012779226336510313971903004042937008956221652815412854399517360021250587455389060069312384022053120094560194794971813631908314477362678962296109597889939312422446765477942529411750283113897339210176865370678204427897244202184647087430945939298884534940032249841198760409788356641608750857170395289381917083041278168739699393944653789317084208369873977204258614745592456651367084296709776863748076420304634748101121142322011124249314744178381415179749281751491488566258739120089653592591340818112902450171556919086095338783059649173500771728115245152928042610666778204551675468947373932158742281927880553755923797008521275144793928031636358748421210731512366576559075883190678\n",
      "Root[48] = \n",
      "0.69851136524893698804647270082484190554121222279489349241939489672517703803818931569416491603166426751126564066712147475762702639122097881082221880051084222112904877268616299757361400505943998739624315584633719334572428845914026519735723351582258203896070688124658918694712307142632360543910834772992546273816958295570206298845018209702642842383426291522052325393200863244697310470406098064592748445172717669094121463225447353168016855692378244741936508699756228401318682694993514576328208167486875669372274804477041487362108859982121077742116626729224768571206560319081556203847184662346105519465254689697516612025207335547013381688095423027185108858591200038271814462629327834686655336350723336350415477416709372095735153585232442875602246517023466747772633274236080881410272897859355118704455868519\n",
      "Root[49] = \n",
      "0.73226866659777351242384168876105024268520038939326757444574914328880562192505050016564371935581120690745187642235040937336032275670564783384221184537202720104014389277822599169187811756140680027030138290241605843678482322336787676380146336849563318267461678011718532288209267323625716693975649922018296146280128296883275696132721075266068081551535872371868423890945708521453189438142658980754031461553660522133740661850912300934128265780935417058210625992154433632287800357236864281566537704729621335917311590413699004419263586038893291346104667506670192096752197126152029934658318232616658540475561861579614538630196644494653753232523410048676500350111025336279334599759277636522070939181588688649627886513189268450467324929214851843891194128500826135768059607839365543116047176445342316081758475717\n",
      "Root[50] = \n",
      "0.7643157205458483019829111871324356574580523847400562788653286971408273021146758553337069317512269026505442096613261927631071394853882940736744261525744204996299715458558695002650023011029704313794701408938453790710134503501318859731467284172976534378288773030040792892998171960359616260523526673192113841938534337187794382232151625676924413978082912496979161130805242456627841690242646095345228538856819862378948393106157487186644099421268049862496263475475206710883831526642450385518711216591716575832511868576075379967911716534378971429790093972771188243822003778308481524038238506288467084486526670483371911734801936657465473538993791253491076354566115735115430526667669177880920276493094551537485810860682876900660331068982328593029006061507743194844075348298797342800066265625643782061374784713\n",
      "Root[51] = \n",
      "0.79457767971375426869762981015047695392492500097169854182003377064011173923783500481957066797427974721758529399329685762276251942857249026467651010852634223140916632697087324817081515371267560359012022867633889829436281289996188780393036710018217069861711636754248207722534879667623600285961933631728785439165710307896470686668175024943511726687697261699872764260962762061046549836427579614207944112811654341018572100175600866738856938940583763598708733398632626930617519993734802664091976735845354755076005849219740167607806001829708050707474103322470224611721146125228297971787730581991879147190450005851774981658497587900757831554821287814701906078057464084584648473023885326370061015864499264136154817688293443788173620141568136253448815488875524869036411709906813146824138658294796160699272469373\n",
      "Root[52] = \n",
      "0.82298386589365639457961742343938199065506769308757380640032091435633653187847482172468618049317282970668257927557011451733007394426272925395468335195279974594390808894222164495037172346996037492095073132417473052451276610112094951511766105555066122753796135851268926049522299496158499230603718950486859387729137730619082947573243183537701247070733493567579713476485668102192677404038694972857707242730315899608495611824268828487682028654592914490615847210887764706771657569747363923294320481106706838866763813872820657828543783850232033147659046259935920825457306102076287343300122189210565274368588696389580867780307496941739725514659435455191864148290127177911909117332649873378429344307576513955293730745549910066631523945922885647602509351420456065720672742200258098318415544663441203768977775336\n",
      "Root[53] = \n",
      "0.84946793512152102963557504394600296594569327887109854988487778524146238999967927334953870808683068846227209408763660817106871413009129397834051870320729175896992060836132257646681285603383628872215498633304027498615289363314710613219552984019465053956187850896046741778784171889237037835055687578614845295551755077534088277974552612748478175992850500323118972654882901194341002279929465598578367075958223658543319042463651978252402256022676458290258048146311997030362687124719539790411342724159826938084882991791054182759206578978558504225028894172365322200506951191740301236232795540978496418436829958060895760691794778792324743600716809067307430631613885566512635756391005098344803783582413831705550225336490261418005073591368690587099193493631922008928024374960553336152738254870436838109245796627\n",
      "Root[54] = \n",
      "0.87396803262651796303998829409042078786828943759515654696096453561626298953183410642520246118340788036581499315284523487346306274477938622276077045125283259859325540692838314541343699822448554914767603900124878735156455561689014765477468427677940363814351055480955601676264884273712244076986959301197101784986121686444092697192227920593631063346534710412075628847228427192040959027546384599377500669586150439118226263746136453632953170997598959509964451883756884277230926917835469939263679215204136038039218618843176481846121297226009085320110383083494210389445472367980501678056506367793731768401737734682572291169342660780352389960010638897990458982663712986838511005252643492286823405817909630417350062909051125762772911767616858013511644651730280253662302968203250643599238210516252313129958133131\n",
      "Root[55] = \n",
      "0.89642693729570375935161550155440019387587324899821203586406169529695069703102248699934713945285301044739558362264659678148422221970340418725618154763789972533530646362953397560303246001826460237821143570731853612638499360494721343751221046528211055794485106680160522806204169506596495319477135860531507020378008027659824967600552490129213982987870331854726527342651893999514143135326166112844543866053573726140118103977698779778072782845597494581985675689918497910578742102009600803693809858762331399107384424445153698620259302535893945050808984238218847612974537040753978413549345748788289972536444607146386984897035862794493161595057465179404263830063007057913354359193770847155729381064727479780662537880968484055422407922898724201295477105434416581586595438802848694758959914871831418940885304807\n",
      "Root[56] = \n",
      "0.91679219531658239802082070797067219343111525742695251991805381833191392214598502424955013359944692649809276374381538869903903267604668701642441550613997576230001442727124235670172022000625580290970311569617739830820478104741080356216603081955943823703104697226280050097970935252421776807299964252179890580228268823965806342281621007992722431939259654453302583497926591691737386256227937517235263992444489638762751315736780960443762765400724350177358962294629371689538479061201157883252243394266291938174246934956318308176352899625432712339250571356984739491556818072726165589231915675952161769378693106349580287790840820805681674581602256951422452515257391984841734246370636738142863583850390008150517297212223209349995437609948690140540095354731945010842737920292614824160501719888219552294260201433\n",
      "Root[57] = \n",
      "0.93501624268541482343978459983783072905051746957843187069638027009183054288001194863399549470267756059786039206690399602014949986123543394544651300244282414124857465969038652777576875448012779092211431161250113595988514768025939934283306189115806297200066723014852426359288771946707929552389841116592347316928456211868071507082608474253876147346505129221289547878421452110824812795201743710508312822411504928254677599078531037667480669880898210498366274125119343498612367495265395039050315511111673495872584932744154274184140424941734082624064687442536032561699781650605677572619706131540040201725686507483295544895653800699239817129965206753164388808391834081272802576144717384379696693550910955055150751053623933310017719762811061012999166845817257523929022687451989003508245319798417526846830061576\n",
      "Root[58] = \n",
      "0.95105651629515357211643933337938214340569863412575022244730564443015317008519350171879290209941189485075651898890166377514659472637005680915138771090258725520390689160755773267237597844507855971752278333228096222735927335638024289897946746924849388571855129605707452549276830519650648563454263491858355208552018205860531314275748974510110499905950996554745194687228048986787987474149984145460390902113511000732120418026371248124988699347994819345839816661374017819183150152680112012819023228922978433737303578652705575544915656483126399722615786856352642294648362019243117148206740566489534228297659856420019195192112918644047633332928338103238198814375296409811105541747170084895941319444907713163962690434718960411644487598829760121366456011088387400330273072347117485157420933440094009164093128514\n",
      "Root[59] = \n",
      "0.96487555334355145835238367363434387243527010969135105984278757199635728722797061957934300017261410747823111035615741517031971796171554760781127547552086026534773403127646059984552151714879497085018211273490981408310561527122959838920501048573172674449212225682164678616930947638094060059176443793256542557437105302161135667158762059040008556495886180934893746487964997890304085821314652680909000469657528379513336953617077840705701111867911393578671689078216383766830297010201335012768765205644440889370307163498994176011411853356259043400548739351800946537698519454214116289511880621671607186065278473190341382570285884597518200507258121044915415521732741622773222733308181393422135118957035356964455257836068004141935413617289796638133415457037325651592436737258210692547208544644957048440327049274\n",
      "Root[60] = \n",
      "0.97644107882927207448018465921880649675736256182095329530334097236271885715699034538254761994815856355915905525306138266035838402813943821795332007181252187273527448058621661958530336871400688318025848138587873685905735229592754725105016409982252425780859983750199785061853638633164397473026910418589330735695393879621505104031744594873510313671907350356229590563099012750008652413476656333618072178458594066362261946269022435111737826733248341981485306817586147093391965189756538807535145735847176771364380040638777016752572545448210833108091304094146462510141894493896151590851103899663173654548891590457681494335000625523278611382435906497114285088644383851446713875078847508686318725177166702601572910297828618923500897573105370865029778060145241610322691372665437695789282876609037727492793022545\n",
      "Root[61] = \n",
      "0.98572608093165088542413584010300226413402485681108658637637133926003463207765443157605619965597355427317635857280185635795050085922280859747647880971473036795941494162975505841000444534197144925660629722767314819061511939893673826169823668447344389553746836108262228032239085120203079080941795324827462219703162713813139243491092383261976337196686876308184273384174850752364677341213070696905051645921062378224974503062785220243180706455305231091388397412279172990907592699257718670058418110784752930685005796791278173477569858317898529433739954359867824315231859227390741895485833291420279482017653108244222569211585755233343824617577236860828388426978347381893920680033647192694745709222288576746571758980716835944553592394411419871172067089723327744242790157989704923455146826104528312235620037565\n",
      "Root[62] = \n",
      "0.99270887409805399280075164949252017934367563297016685577099758421383216909593341317431761785591071792879908817367634668029369971887045557346523024341175116288575652931922002744514947979671868904060384101756272609149844069889119911470116533484473049869355951070152451850669091301194981096243773607471570918807534413971977921735715034649875450540446271165286929411494819543906069226559233026202197379717610537272146173751728478840292472378365494931622517426127044233609135064487525515968929565904874481546188821444941484126871189811771152869453511355375759371708337738575307439760921858203608421985989492580017042373285041324468415250886945027258261158941905335847315138253950846839550646620210229067499787186404712681368398045233084282889295829280207192986049850291142993512435065948965360152040594575\n",
      "Root[63] = \n",
      "0.99737314969149111899079269287439735641064435023716005764172268408118954915144373906784914103687037881973550010789668120004388063325131856752723716538739014713423669403925335476123515829579856767389170427243268750634215158988199213526065240420634465892754805448527606630337556845857665350801164684312782523510475915967193260613665375304097029669996568053082434939993468919225273978780639768936264400611632047483036213517293542608935590449587375501808956304362012303722473628163165561413873671431819527896565320843729890368824137998443426433799850993438840118323733434187563539389476838890611927463979507827333602836142925029489500774580537186590394456370367476133942840276566875681027000371719601107618435635994833559335563346923393405556830773067721797033014585092307418107133019863869420306252066065\n",
      "Root[64] = \n",
      "0.99970801408019296428380834045678748933791139943120751779253359115490867768263750459349067145443643219534835231781398605194617409180190475610799018349237440736368460896123001419853332775066584768937189345728682947337866902654086908007554605431817712530150106376496667318313655914449397428614526344384300834588367615601561982860195276413628428299301232343040450443845484247076368659224130553766378802314580862041739171860140831440847513418320791512324402568087635255499309641804811952915095197425601966060442689276199307204217729480051014280543652778972224351791601420461481322314202107707339003150582198876536527442885669651450871431742206710429542585434583339078717430457950898115301564793469608805145325928816005361534074339519401324254755722868592293114400072975434581022088352759463071966771583823\n",
      "\n",
      "check_roots: all roots are distinct and in order\n",
      "check_roots: all roots are roots within tolerance\n"
     ]
    },
    {
     "name": "stdout",
     "output_type": "stream",
     "text": [
      "check_roots: number of real roots, 65, as expected by Sturm's theorem\n"
     ]
    }
   ],
   "source": [
    "n = 65\n",
    "mp.dps = 800\n",
    "bracketing = hibrid\n",
    "p = Chebyshev(n)\n",
    "tolerance = mpf('1.0e-50')\n",
    "verbose_main_loop = False\n",
    "verbose_bracketing = False\n",
    "roots = mp_roots(p, tolerance, bracketing)\n",
    "print_roots(p, roots)\n",
    "check_roots(p, roots, tolerance)"
   ]
  },
  {
   "cell_type": "markdown",
   "metadata": {},
   "source": [
    "## Random coefficients"
   ]
  },
  {
   "cell_type": "code",
   "execution_count": 76,
   "metadata": {},
   "outputs": [],
   "source": [
    "def randomPoly(n, tau):\n",
    "    from random import choices\n",
    "    c = np.arange(-(2**tau), 2**tau + 1)\n",
    "    coefs = choices(c, k=n+1)\n",
    "    p = 1\n",
    "    for i in range(n+1):\n",
    "        p = p + coefs[i]*x**i\n",
    "    return p"
   ]
  },
  {
   "cell_type": "code",
   "execution_count": 77,
   "metadata": {},
   "outputs": [
    {
     "data": {
      "image/png": "[encoded data removed]",
      "text/latex": [
       "$\\displaystyle - 7 x^{4} + 4 x^{3} - 4 x + 2$"
      ],
      "text/plain": [
       "     4      3          \n",
       "- 7⋅x  + 4⋅x  - 4⋅x + 2"
      ]
     },
     "execution_count": 77,
     "metadata": {},
     "output_type": "execute_result"
    }
   ],
   "source": [
    "randomPoly(4, 3)"
   ]
  },
  {
   "cell_type": "code",
   "execution_count": 78,
   "metadata": {
    "scrolled": true
   },
   "outputs": [
    {
     "name": "stdout",
     "output_type": "stream",
     "text": [
      "\n",
      "Real roots of p(x) =\n",
      "-862460*x**64 - 703791*x**63 + 316470*x**62 + 167845*x**61 + 459366*x**60 + 573280*x**59 + 619567*x**58 + 754480*x**57 + 638105*x**56 - 814238*x**55 - 435672*x**54 - 1015323*x**53 + 429700*x**52 - 768527*x**51 + 91940*x**50 - 52335*x**49 + 884947*x**48 + 480799*x**47 - 461310*x**46 + 1008235*x**45 - 129110*x**44 + 788830*x**43 - 369229*x**42 + 136497*x**41 - 167455*x**40 - 618246*x**39 - 251729*x**38 + 964815*x**37 + 43208*x**36 - 575621*x**35 - 995705*x**34 - 236766*x**33 + 512650*x**32 + 684090*x**31 - 925281*x**30 + 899578*x**29 + 646987*x**28 + 789188*x**27 - 978490*x**26 + 296396*x**25 - 566231*x**24 + 1029259*x**23 + 827262*x**22 + 368605*x**21 - 261450*x**20 - 293435*x**19 - 802520*x**18 + 842188*x**17 - 272852*x**16 - 694499*x**15 + 158957*x**14 - 317441*x**13 + 645314*x**12 - 1023362*x**11 - 288174*x**10 - 161202*x**9 + 980559*x**8 - 104537*x**7 - 257282*x**6 + 667416*x**5 + 154421*x**4 - 866916*x**3 + 556151*x**2 - 998940*x + 23218\n",
      "Root[0] = \n",
      "-1.3119762315042437482637960307576187776209535950533177496040266194181983983381435824300416052563470272074371368348463500056116055272804330152397402089091343261061380796092002442579960547948512705085574526466009586829905827852876074524551442866932710284855351614834789375151950372722159972443243457641628761910614683724122126696851020235881035417549004586327898133550514281245154727593347145091146479183922096869681787761714521955982936926768846023183546627095222600647914425618004092976452823019774626482397461982840886763460023825213417369308919994296723527217275080654259473510587410253918151734600604317356960635832686360477565940596248307652318587547258508469544372013435480453231399868264815408826336102206402381555548705664978880040809311458331642807229991329286218525473371250115357278206109185\n",
      "Root[1] = \n",
      "-1.0448810311832698744527124605926477604341279902955222810153731832860232138385218298728909451654531388190067069329642128192234875617489359770957949843989040414427991184043687707644995607474854947024018655061553061783838582368231678443052111518613134329177372580568855751684851843310961936544180393259132890846754093690165414562907209497945212207228380335515263918266985909110172662117548800076566572426470888302398622611293148971180323513568803871989370677109642215270238878288135150136763378234451667048649194801368792420668813266532324956816165611818973154482818809301532276370789168135401964623968115766065106276257361194052255299476489731935397107151005110603625498112406963516950384441421398433791402044186446423064943608252197116109202879037344758633080638087769579968118857937038391837222869557\n",
      "Root[2] = \n",
      "-0.98436867067124157806561595617262583649083236536597385813231541293403627503183826565359125580731926829898661034172001833853648249175024908250987587595571550830296009325116809559464422796428952688470551922109569233328372731668785626982584663471214864758691141012619208916924123251746112365747148581844594781915390148483365665541521725143264632254443197162274789665036283813260344391495658131465678196568752559521184650416652352670806056415986691580429527820590727835558262306044605398930574055923656044386569055808219419177212906679072030401249735898987971305560654826603471766118734390219847886514719726053994917389238700102197400677832260781061612161489592592218158048336920559262718823201268661949176614395228091798527086862300201491769878389751066338193128705691653486443805634374870828939556773756\n",
      "Root[3] = \n",
      "0.023539873909987329257049766952226077191812971945863291756617643279500511612484011786988647405641097510452364907941357415083903917235823904761448778211177790281891307437299451445474817896866266457415048681321778348070430939913023653316045259975760027937663862272757853969633219969232186455494730502058271543323246271570864384049375442833888795457543383635361392436931063618470229890513728551650826812833741860239672538311591162252065470765811002246936703164150180888625236780632621481698306202343770168715071080864260156111789890085683415926632157982021942947101609952032528940225612228239053410440086475494488976709598693140335549202367717412478878531849899762575823931026497867530013709738251149914575236886304203144259653264265805520245939138932130484226531588953892959205410875446320702644795492251\n",
      "Root[4] = \n",
      "0.9769706463011831398529228470580191553474475147138925871935961296517651561231185153058393619769323033084395927716196958768326878331152088449672242553715862043162522354415384801394880479575288725679121621127795263722129855762499492228669187824926190907475985286250093370573075550991091886694100717755045997650825330452383524053046659620447996026838017078961667332111944069042992853960872043050446512918980304157694723719670652290484071166744272289000580035322648485313773034266212140098540088641995985475513643657809782145202183372823858633725241271032248296036454730115665534114845503905119673215686410176466815260624154941443351916458969334501261684574333195480847863492303651758402137628531336206986105727395689467554511683154450477570540453022199156108253412153858369240583768023862296406378121294\n",
      "Root[5] = \n",
      "1.1048614259755123562930399840677174075906361574085340724654959654466125719754710506906448004853838333323399002020679305292265502995101786363386350998819108511342842135322220227210487661482995091835706066467790195302940618286436600561290912056778007236705408519979814337414688385939088205992117823440551402978980167633170995004512323134941381738381077523523691195428376292215807395534462565070447621038774865568758818865479892431343578772500928527879706922405639712647397756713729529581412800246926693682173020234082830816509472187432172828131293605611254896493590520073557231142499402723893506346120217713723078630132005468381265185633558636545806357331135535739436409141827494563060202787120547008281702171920263994882302409211017143399803912065047059812929197173761748224935707198472977825431943473\n",
      "\n",
      "check_roots: all roots are distinct and in order\n",
      "check_roots: all roots are roots within tolerance\n",
      "check_roots: number of real roots, 6, as expected by Sturm's theorem\n"
     ]
    }
   ],
   "source": [
    "n = 64\n",
    "tau = 20\n",
    "mp.dps = 800\n",
    "bracketing = hibrid\n",
    "p = randomPoly(n, tau)\n",
    "tolerance = mpf('1.0e-50')\n",
    "verbose_main_loop = False\n",
    "verbose_bracketing = False\n",
    "roots = mp_roots(p, tolerance, bracketing)\n",
    "print_roots(p, roots)\n",
    "check_roots(p, roots, tolerance)"
   ]
  },
  {
   "cell_type": "markdown",
   "metadata": {},
   "source": [
    "<div class=\"cite2c-biblio\"></div>"
   ]
  },
  {
   "cell_type": "code",
   "execution_count": null,
   "metadata": {},
   "outputs": [],
   "source": []
  }
 ],
 "metadata": {
  "cite2c": {
   "citations": {
    "336701/I4VDBIQD": {
     "DOI": "10.1145/2930889.2930937",
     "ISBN": "978-1-4503-4380-0",
     "URL": "https://doi.org/10.1145/2930889.2930937",
     "abstract": "Very recent work introduces an asymptotically fast subdivision algorithm, denoted ANewDsc, for isolating the real roots of a univariate real polynomial. The method combines Descartes? Rule of Signs to test intervals for the existence of roots, Newton iteration to speed up convergence against clusters of roots, and approximate computation to decrease the required precision. It achieves record bounds on the worst-case complexity for the considered problem, matching the complexity of Pan's method for computing all complex roots and improving upon the complexity of other subdivision methods by several magnitudes. In the article at hand, we report on an implementation of ANewDsc on top of the RS root isolator. RS is a highly efficient realization of the classical Descartes method and currently serves as the default real root solver in Maple. We describe crucial design changes within ANewDsc and RS that led to a high-performance implementation without harming the theoretical complexity of the underlying algorithm. With an excerpt of our extensive collection of benchmarks, available online at http://anewdsc.mpi-inf.mpg.de/, we illustrate that the theoretical gain in performance of ANewDsc over other subdivision methods also transfers into practice. These experiments also show that our new implementation outperforms both RS and mature competitors by magnitudes for notoriously hard instances with clustered roots. For all other instances, we avoid almost any overhead by integrating additional optimizations and heuristics.",
     "accessed": {
      "day": 8,
      "month": 2,
      "year": 2020
     },
     "author": [
      {
       "family": "Kobel",
       "given": "Alexander"
      },
      {
       "family": "Rouillier",
       "given": "Fabrice"
      },
      {
       "family": "Sagraloff",
       "given": "Michael"
      }
     ],
     "collection-title": "ISSAC '16",
     "container-title": "Proceedings of the ACM on International Symposium on Symbolic and Algebraic Computation",
     "event-place": "Waterloo, ON, Canada",
     "id": "336701/I4VDBIQD",
     "issued": {
      "day": 20,
      "month": 7,
      "year": 2016
     },
     "page": "303–310",
     "page-first": "303",
     "publisher": "Association for Computing Machinery",
     "publisher-place": "Waterloo, ON, Canada",
     "title": "Computing Real Roots of Real Polynomials ... and now For Real!",
     "type": "paper-conference"
    },
    "336701/KP26TM8C": {
     "URL": "https://en.wikipedia.org/w/index.php?title=Mean_value_theorem&oldid=925870016",
     "abstract": "In mathematics, the mean value theorem states, roughly, that for a given planar arc between two endpoints, there is at least one point at which the tangent to the arc is parallel to the secant through its endpoints.\nThis theorem is used to prove statements about a function on an interval starting from local hypotheses about derivatives at points of the interval.\nMore precisely, if \n  \n    \n      \n        f\n      \n    \n    {\\displaystyle f}\n   is a continuous function on the closed interval \n  \n    \n      \n        [\n        a\n        ,\n        b\n        ]\n      \n    \n    {\\displaystyle [a,b]}\n  , and differentiable on the open interval \n  \n    \n      \n        (\n        a\n        ,\n        b\n        )\n      \n    \n    {\\displaystyle (a,b)}\n  , then there exists a point \n  \n    \n      \n        c\n      \n    \n    {\\displaystyle c}\n   in \n  \n    \n      \n        (\n        a\n        ,\n        b\n        )\n      \n    \n    {\\displaystyle (a,b)}\n   such that:\n\n  \n    \n      \n        \n          f\n          ′\n        \n        (\n        c\n        )\n        =\n        \n          \n            \n              f\n              (\n              b\n              )\n              −\n              f\n              (\n              a\n              )\n            \n            \n              b\n              −\n              a\n            \n          \n        \n        .\n      \n    \n    {\\displaystyle f'(c)={\\frac {f(b)-f(a)}{b-a}}.}\n  It is one of the most important results in real analysis.",
     "accessed": {
      "day": 10,
      "month": 2,
      "year": 2020
     },
     "container-title": "Wikipedia",
     "id": "336701/KP26TM8C",
     "issued": {
      "day": 12,
      "month": 11,
      "year": 2019
     },
     "language": "en",
     "note": "Page Version ID: 925870016",
     "title": "Mean value theorem",
     "type": "entry-encyclopedia"
    },
    "336701/MIW42KL9": {
     "URL": "https://www.imsc.res.in/~vikram/pap/pan-history%20and%20progress.pdf",
     "accessed": {
      "day": 9,
      "month": 2,
      "year": 2020
     },
     "id": "336701/MIW42KL9",
     "title": "Pan - 1997 - Solving a Polynomial Equation Some History and Re.pdf",
     "type": "article"
    },
    "336701/XFQXXT7W": {
     "URL": "http://w3.impa.br/~eric/tesis.pdf",
     "accessed": {
      "day": 8,
      "month": 2,
      "year": 2020
     },
     "id": "336701/XFQXXT7W",
     "title": "Biagioli - Methods for bounding and isolating the real roots .pdf",
     "type": "article"
    },
    "336701/XGYD5TB9": {
     "URL": "https://en.wikipedia.org/w/index.php?title=Root-finding_algorithm&oldid=934432137",
     "abstract": "In mathematics and computing, a root-finding algorithm is an algorithm for finding zeroes, also called \"roots\", of continuous functions.   A zero of a function f, from the real numbers to real numbers or from the complex numbers to the complex numbers, is a number x such that f(x) = 0. As, generally, the zeroes of a function cannot be computed exactly nor expressed in closed form, root-finding algorithms provide approximations to zeroes, expressed either as floating point numbers or as small isolating intervals,  or disks for complex roots (an interval or disk output being equivalent to an approximate output together with an error bound).\nSolving an equation f(x) = g(x) is the same as finding the roots of the function h(x) = f(x) – g(x). Thus root-finding algorithms allow solving any equation defined by continuous functions. However, most root-finding algorithms do not guarantee that they will find all the roots; in particular, if such an algorithm does not find any root, that does not mean that no root exists. \nMost numerical root-finding methods use iteration, producing a sequence of numbers that hopefully converge towards the root as a  limit. They require one or more initial guesses of the root as starting values, then each iteration of the algorithm produces a successively more accurate approximation to the root.   Since the iteration must be stopped at some point these methods produce an approximation to the root, not an exact solution.    Many methods compute subsequent values by evaluating an auxiliary function on the preceding values. The limit is thus a fixed point of the auxiliary function, which is chosen for having the roots of the original equation as fixed points, and for converging rapidly to these fixed points.\nThe behaviour of general root-finding algorithms is studied in numerical analysis. However, for polynomials, root-finding study belongs generally to computer algebra, since algebraic properties of polynomials are fundamental for the most efficient algorithms. The efficiency of an algorithm may depend dramatically on the characteristics of the given functions. For example, many algorithms use the derivative of the input function, while others work on every continuous function. In general, numerical algorithms are not guaranteed to find all the roots of a function, so failing to find a root does not prove that there is no root. However, for polynomials, there are specific algorithms that use algebraic properties for certifying that no root is missed, and locating the roots in separate intervals (or disks for complex roots) that are small enough to ensure the convergence of numerical methods (typically Newton's method) to the unique root so located.",
     "accessed": {
      "day": 10,
      "month": 2,
      "year": 2020
     },
     "container-title": "Wikipedia",
     "id": "336701/XGYD5TB9",
     "issued": {
      "day": 6,
      "month": 1,
      "year": 2020
     },
     "language": "en",
     "note": "Page Version ID: 934432137",
     "title": "Root-finding algorithm",
     "type": "entry-encyclopedia"
    }
   }
  },
  "kernelspec": {
   "display_name": "Python 3 (ipykernel)",
   "language": "python",
   "name": "python3"
  },
  "language_info": {
   "codemirror_mode": {
    "name": "ipython",
    "version": 3
   },
   "file_extension": ".py",
   "mimetype": "text/x-python",
   "name": "python",
   "nbconvert_exporter": "python",
   "pygments_lexer": "ipython3",
   "version": "3.8.3"
  },
  "toc": {
   "base_numbering": 1,
   "nav_menu": {
    "height": "211px",
    "width": "210px"
   },
   "number_sections": true,
   "sideBar": true,
   "skip_h1_title": false,
   "title_cell": "Table of Contents",
   "title_sidebar": "Contents",
   "toc_cell": false,
   "toc_position": {
    "height": "calc(100% - 180px)",
    "left": "10px",
    "top": "150px",
    "width": "336px"
   },
   "toc_section_display": true,
   "toc_window_display": true
  }
 },
 "nbformat": 4,
 "nbformat_minor": 2
}
